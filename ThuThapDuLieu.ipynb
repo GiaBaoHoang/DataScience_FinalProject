{
 "cells": [
  {
   "cell_type": "markdown",
   "metadata": {},
   "source": [
    "# Thu thập dữ liệu"
   ]
  },
  {
   "cell_type": "markdown",
   "metadata": {},
   "source": [
    "Nhóm sẽ thu thập dữ liệu thông tin về xe hơi đã qua sử dụng trên trang web https://www.truecar.com/used-cars-for-sale/listings/"
   ]
  },
  {
   "cell_type": "code",
   "execution_count": null,
   "metadata": {},
   "outputs": [],
   "source": [
    "import requests\n",
    "from bs4 import BeautifulSoup\n",
    "import re\n",
    "from selenium import webdriver\n",
    "from selenium.webdriver.common.keys import Keys\n",
    "import time"
   ]
  },
  {
   "cell_type": "code",
   "execution_count": null,
   "metadata": {},
   "outputs": [],
   "source": [
    "# Mở Chrome và cho full màn hình\n",
    "browser = webdriver.Chrome(executable_path='C:/Users/Admin/Desktop/chromedriver')\n",
    "browser.maximize_window()"
   ]
  },
  {
   "cell_type": "code",
   "execution_count": null,
   "metadata": {},
   "outputs": [],
   "source": [
    "# Mở trang web cần thu thập thông tin\n",
    "browser.get('https://www.truecar.com/used-cars-for-sale/listings/?sort[]=best_match')"
   ]
  },
  {
   "cell_type": "code",
   "execution_count": null,
   "metadata": {
    "scrolled": true
   },
   "outputs": [],
   "source": [
    "# Cột bên trái chọn 3 hãng Honda, Ford, Huyndai, Years: 2013-2020 \n",
    "#- VD: năm 2013: lấy thông tin 100 xe Honda, 100 xe Ford, 100 xe Huyndai\n",
    "#- Tiếp tục làm vậy đến năm 2020\n",
    "#--> có tổng cộng (100*3)*8 = 2400 thông tin xe\n",
    "makes = ['Honda', 'Ford', 'Hyundai','Mercedes-Benz', 'Toyota', 'Mazda']\n",
    "start_year = 2013\n",
    "end_year = 2020\n",
    "max_cars= 500"
   ]
  },
  {
   "cell_type": "code",
   "execution_count": null,
   "metadata": {},
   "outputs": [],
   "source": [
    "#Chọn năm kết thúc\n",
    "#year_max = browser.find_elements_by_css_selector('[aria-label=\"Year Max\"] option')\n",
    "#for year_1 in year_max:\n",
    "#    if str(start_year) in year_1.text:\n",
    "#        year_1.click()\n",
    "#        break"
   ]
  },
  {
   "cell_type": "code",
   "execution_count": null,
   "metadata": {},
   "outputs": [],
   "source": [
    "# chọn năm bắt đầu\n",
    "#year_min = browser.find_elements_by_css_selector('[aria-label=\"Year Min\"] option')\n",
    "#for year in year_min:\n",
    "#    if str(start_year) in year.text:\n",
    "#        year.click()\n",
    "#        break"
   ]
  },
  {
   "cell_type": "code",
   "execution_count": null,
   "metadata": {},
   "outputs": [],
   "source": [
    "#Chọn hãng (Make)\n",
    "#make = browser.find_elements_by_css_selector('[aria-label=\"Make\"] option')\n",
    "#for i in make:\n",
    "#    if 'Honda' in i.text:\n",
    "#        i.click()\n",
    "#        break"
   ]
  },
  {
   "cell_type": "code",
   "execution_count": null,
   "metadata": {},
   "outputs": [],
   "source": [
    "#browser.quit()"
   ]
  },
  {
   "cell_type": "code",
   "execution_count": null,
   "metadata": {},
   "outputs": [],
   "source": [
    "# Ấn nút sang trang tiếp theo\n",
    "#browser.find_element_by_css_selector('[data-qa=\"Pagination-directional-next\"]').click()"
   ]
  },
  {
   "cell_type": "code",
   "execution_count": null,
   "metadata": {},
   "outputs": [],
   "source": [
    "##Test thu thập dữ liệu 1 o to\n",
    "#link = 'https://www.truecar.com/used-cars-for-sale/listing/1FTNE1EL8CDA68267/2012-ford-econoline-cargo-van/'\n",
    "##link = 'https://www.truecar.com/used-cars-for-sale/listing/2HKRM3H77DH522986/2013-honda-cr-v/?sponsoredVehiclePosition=2'\n",
    "#text = requests.get(link).text\n",
    "#cay = BeautifulSoup(text, 'html.parser')\n",
    "#Model = cay.find('div',{'class':'text-truncate heading-3 margin-right-2 margin-right-sm-3'}).string.split(' ',2)[2]\n",
    "#print(Model)\n",
    "#\n",
    "#\n",
    "#Vehicle_Overview = cay.find_all('div',{'class':\"_1l9na3c align-self-center col\"})\n",
    "#for i in Vehicle_Overview:\n",
    "#    try:\n",
    "#        if 'Style' in i.text:\n",
    "#            Body_style = i.text[5:]\n",
    "#        elif 'Mileage' in i.text:\n",
    "#            Mileage = i.text[7:]\n",
    "#        elif 'Engine' in i.text:\n",
    "#            Engine = i.text[6:]\n",
    "#        elif 'Fuel Type' in i.text:\n",
    "#            Fuel_type = i.text[9:]\n",
    "#    except:\n",
    "#        Body_style = ''\n",
    "#        Mileage = ''\n",
    "#        Engine = ''\n",
    "#        Fuel_type = ''\n",
    "#        continue\n",
    "#\n",
    "#print(Body_style)\n",
    "#\n",
    "#Year = year\n",
    "#print(Year)\n",
    "#\n",
    "#print(Mileage)\n",
    "#\n",
    "#print(Engine)\n",
    "#\n",
    "#print(Fuel_type)\n",
    "#\n",
    "#try:\n",
    "#    Number_of_owners = cay.find_all('li',{'class':\"_h9wfdq\"})[3].text\n",
    "#except:\n",
    "#    Number_of_owners =''\n",
    "#print(Number_of_owners)\n",
    "#\n",
    "#try:\n",
    "#    Price = cay.find('div',{'data-qa':\"LabelBlock-text\"}).text[1:]\n",
    "#except:\n",
    "#    Price = ''\n",
    "#print(Price)"
   ]
  },
  {
   "cell_type": "code",
   "execution_count": null,
   "metadata": {},
   "outputs": [],
   "source": [
    "web = 'http://truecar.com'\n",
    "file = open('raw_data1.csv', 'w', encoding='utf-8')\n",
    "file.write(f'make\\tmodel\\tbody style\\tyear\\tmileage\\tengine\\tfuel type\\tnumber of owners\\tprice\\n')\n",
    "for make in makes:\n",
    "    #Chọn hãng (Make)\n",
    "    make_option = browser.find_elements_by_css_selector('[aria-label=\"Make\"] option')\n",
    "    for make_1 in make_option:\n",
    "        if make in make_1.text:\n",
    "            make_1.click()\n",
    "            break\n",
    "    time.sleep(5)\n",
    "    for year in range(start_year,end_year+1):\n",
    "        dem = 0\n",
    "        #Chọn năm kết thúc\n",
    "        year_max = browser.find_elements_by_css_selector('[aria-label=\"Year Max\"] option')\n",
    "        for year_1 in year_max:\n",
    "            if str(year) in year_1.text:\n",
    "                year_1.click()\n",
    "                break\n",
    "        time.sleep(5)\n",
    "        #chọn năm bắt đầu\n",
    "        year_min = browser.find_elements_by_css_selector('[aria-label=\"Year Min\"] option')\n",
    "        for year_2 in year_min:\n",
    "            if str(year) in year_2.text:\n",
    "                year_2.click()\n",
    "                break\n",
    "        time.sleep(5)\n",
    "        \n",
    "        html_text = browser.page_source\n",
    "        tree = BeautifulSoup(html_text, 'html.parser')\n",
    "        cars = tree.find_all('div', {'data-qa': 'Listings'})\n",
    "        #lấy thông tin xe\n",
    "        for car in cars:\n",
    "            dem=dem+1\n",
    "            if(dem>max_cars):\n",
    "                break\n",
    "            url = car.find('a', {'class':'card card-1 card-shadow card-shadow-hover vehicle-card _1qd1muk'})['href']\n",
    "            car_html_text = ''\n",
    "            while car_html_text == '':\n",
    "                try:\n",
    "                    car_html_text = requests.get(web+url).text\n",
    "                    car_tree = BeautifulSoup(car_html_text, 'html.parser')\n",
    "                    break\n",
    "                except:\n",
    "                    print(\"ConnectionError\")\n",
    "                    time.sleep(5)\n",
    "                    continue\n",
    "            #Make\n",
    "            Make = make\n",
    "            \n",
    "            #Model\n",
    "            try:\n",
    "                Model = car_tree.find('div',{'class':'text-truncate heading-3 margin-right-2 margin-right-sm-3'}).string.split(' ',2)[2]\n",
    "            except:\n",
    "                Model = ''\n",
    "                \n",
    "            #Style, Mileage, Engine, Fuel Type    \n",
    "            Vehicle_Overview = car_tree.find_all('div',{'class':\"_1l9na3c align-self-center col\"})\n",
    "            for i in Vehicle_Overview:\n",
    "                try:\n",
    "                    if 'Style' in i.text:\n",
    "                        Body_style = i.text[5:]\n",
    "                    elif 'Mileage' in i.text:\n",
    "                        Mileage = i.text[7:]\n",
    "                    elif 'Engine' in i.text:\n",
    "                        Engine = i.text[6:]\n",
    "                    elif 'Fuel Type' in i.text:\n",
    "                        Fuel_type = i.text[9:]\n",
    "                except:\n",
    "                    Body_style = ''\n",
    "                    Mileage = ''\n",
    "                    Engine = ''\n",
    "                    Fuel_type = ''\n",
    "                    continue\n",
    "               \n",
    "            #Year\n",
    "            Year = year\n",
    "            \n",
    "            #Number of owners\n",
    "            try:\n",
    "                Number_of_owners = car_tree.find_all('li',{'class':\"_h9wfdq\"})[3].text\n",
    "            except:\n",
    "                Number_of_owners =''\n",
    "\n",
    "            #Price\n",
    "            try:\n",
    "                Price = car_tree.find('div',{'data-qa':\"LabelBlock-text\"}).text[1:]\n",
    "            except:\n",
    "                Price = ''\n",
    "            file.write(f'{Make}\\t{Model}\\t{Body_style}\\t{Year}\\t{Mileage}\\t{Engine}\\t{Fuel_type}\\t{Number_of_owners}\\t{Price}\\n')\n",
    "        while True:\n",
    "            if(dem>max_cars):\n",
    "                break\n",
    "            # Ấn nút sang trang tiếp theo\n",
    "            browser.find_element_by_css_selector('[data-qa=\"Pagination-directional-next\"]').click()\n",
    "            time.sleep(1)\n",
    "            \n",
    "            html_text = browser.page_source\n",
    "            tree = BeautifulSoup(html_text, 'html.parser')\n",
    "            cars = tree.find_all('div', {'data-qa': 'Listings'})\n",
    "            \n",
    "            #Thông tin xe\n",
    "            for car in cars:\n",
    "                dem=dem+1\n",
    "                if(dem>max_cars):\n",
    "                    break\n",
    "                url = car.find('a', {'class':'card card-1 card-shadow card-shadow-hover vehicle-card _1qd1muk'})['href']\n",
    "                car_html_text = ''\n",
    "                while car_html_text == '':\n",
    "                    try:\n",
    "                        car_html_text = requests.get(web+url).text\n",
    "                        car_tree = BeautifulSoup(car_html_text, 'html.parser')\n",
    "                        break\n",
    "                    except:\n",
    "                        print(\"ConnectionError\")\n",
    "                        time.sleep(5)\n",
    "                        continue\n",
    "                \n",
    "                #Make\n",
    "                Make = make\n",
    "            \n",
    "                #Model\n",
    "                try:\n",
    "                    Model = car_tree.find('div',{'class':'text-truncate heading-3 margin-right-2 margin-right-sm-3'}).string.split(' ',2)[2]\n",
    "                except:\n",
    "                    Model = ''\n",
    "                    \n",
    "                #Style, Mileage, Engine, Fuel Type    \n",
    "                Vehicle_Overview = car_tree.find_all('div',{'class':\"_1l9na3c align-self-center col\"})\n",
    "                for i in Vehicle_Overview:\n",
    "                    try:\n",
    "                        if 'Style' in i.text:\n",
    "                            Body_style = i.text[5:]\n",
    "                        elif 'Mileage' in i.text:\n",
    "                            Mileage = i.text[7:]\n",
    "                        elif 'Engine' in i.text:\n",
    "                            Engine = i.text[6:]\n",
    "                        elif 'Fuel Type' in i.text:\n",
    "                            Fuel_type = i.text[9:]\n",
    "                    except:\n",
    "                        Body_style = ''\n",
    "                        Mileage = ''\n",
    "                        Engine = ''\n",
    "                        Fuel_type = ''\n",
    "                        continue\n",
    "                 \n",
    "                #Year\n",
    "                Year = year\n",
    "                \n",
    "                #Number of owners\n",
    "                try:\n",
    "                    Number_of_owners = car_tree.find_all('li',{'class':\"_h9wfdq\"})[3].text\n",
    "                except:\n",
    "                    Number_of_owners =''\n",
    "                \n",
    "                #price\n",
    "                try:\n",
    "                    Price = car_tree.find('div',{'data-qa':\"LabelBlock-text\"}).text[1:]\n",
    "                except:\n",
    "                    Price = ''\n",
    "                file.write(f'{Make}\\t{Model}\\t{Body_style}\\t{Year}\\t{Mileage}\\t{Engine}\\t{Fuel_type}\\t{Number_of_owners}\\t{Price}\\n')\n",
    "file.close()\n",
    "browser.quit()\n",
    "print('Done!')"
   ]
  },
  {
   "cell_type": "markdown",
   "metadata": {},
   "source": [
    "# Khám phá dữ liệu"
   ]
  },
  {
   "cell_type": "code",
   "execution_count": 1,
   "metadata": {},
   "outputs": [],
   "source": [
    "import pandas as pd\n",
    "import matplotlib.pyplot as plt\n",
    "import numpy as np\n",
    "import re\n",
    "\n",
    "import warnings\n",
    "warnings.filterwarnings('ignore')\n",
    "\n",
    "%matplotlib inline"
   ]
  },
  {
   "cell_type": "code",
   "execution_count": 2,
   "metadata": {},
   "outputs": [
    {
     "data": {
      "text/html": [
       "<div>\n",
       "<style scoped>\n",
       "    .dataframe tbody tr th:only-of-type {\n",
       "        vertical-align: middle;\n",
       "    }\n",
       "\n",
       "    .dataframe tbody tr th {\n",
       "        vertical-align: top;\n",
       "    }\n",
       "\n",
       "    .dataframe thead th {\n",
       "        text-align: right;\n",
       "    }\n",
       "</style>\n",
       "<table border=\"1\" class=\"dataframe\">\n",
       "  <thead>\n",
       "    <tr style=\"text-align: right;\">\n",
       "      <th></th>\n",
       "      <th>make</th>\n",
       "      <th>model</th>\n",
       "      <th>body style</th>\n",
       "      <th>year</th>\n",
       "      <th>mileage</th>\n",
       "      <th>engine</th>\n",
       "      <th>fuel type</th>\n",
       "      <th>number of owners</th>\n",
       "      <th>price</th>\n",
       "    </tr>\n",
       "  </thead>\n",
       "  <tbody>\n",
       "    <tr>\n",
       "      <th>0</th>\n",
       "      <td>Honda</td>\n",
       "      <td>Odyssey</td>\n",
       "      <td>Touring Elite</td>\n",
       "      <td>2013</td>\n",
       "      <td>122,986</td>\n",
       "      <td>3.5L V-6 Gas</td>\n",
       "      <td>Gas</td>\n",
       "      <td>2.0</td>\n",
       "      <td>12,895</td>\n",
       "    </tr>\n",
       "    <tr>\n",
       "      <th>1</th>\n",
       "      <td>Honda</td>\n",
       "      <td>Pilot</td>\n",
       "      <td>EX FWD</td>\n",
       "      <td>2013</td>\n",
       "      <td>80,532</td>\n",
       "      <td>3.5L V-6 Gas</td>\n",
       "      <td>Gas</td>\n",
       "      <td>3.0</td>\n",
       "      <td>11,694</td>\n",
       "    </tr>\n",
       "    <tr>\n",
       "      <th>2</th>\n",
       "      <td>Honda</td>\n",
       "      <td>CR-V</td>\n",
       "      <td>LX FWD</td>\n",
       "      <td>2013</td>\n",
       "      <td>79,796</td>\n",
       "      <td>2.4L Inline-4 Gas</td>\n",
       "      <td>Gas</td>\n",
       "      <td>1.0</td>\n",
       "      <td>13,590</td>\n",
       "    </tr>\n",
       "    <tr>\n",
       "      <th>3</th>\n",
       "      <td>Honda</td>\n",
       "      <td>Civic</td>\n",
       "      <td>LX Sedan Automatic</td>\n",
       "      <td>2013</td>\n",
       "      <td>76,882</td>\n",
       "      <td>1.8L Inline-4 Gas</td>\n",
       "      <td>Gas</td>\n",
       "      <td>1.0</td>\n",
       "      <td>7,986</td>\n",
       "    </tr>\n",
       "    <tr>\n",
       "      <th>4</th>\n",
       "      <td>Honda</td>\n",
       "      <td>Civic</td>\n",
       "      <td>LX Sedan Automatic</td>\n",
       "      <td>2013</td>\n",
       "      <td>113,673</td>\n",
       "      <td>1.8L Inline-4 Gas</td>\n",
       "      <td>Gas</td>\n",
       "      <td>1.0</td>\n",
       "      <td>6,990</td>\n",
       "    </tr>\n",
       "  </tbody>\n",
       "</table>\n",
       "</div>"
      ],
      "text/plain": [
       "    make    model          body style  year  mileage             engine  \\\n",
       "0  Honda  Odyssey       Touring Elite  2013  122,986       3.5L V-6 Gas   \n",
       "1  Honda    Pilot              EX FWD  2013   80,532       3.5L V-6 Gas   \n",
       "2  Honda     CR-V              LX FWD  2013   79,796  2.4L Inline-4 Gas   \n",
       "3  Honda    Civic  LX Sedan Automatic  2013   76,882  1.8L Inline-4 Gas   \n",
       "4  Honda    Civic  LX Sedan Automatic  2013  113,673  1.8L Inline-4 Gas   \n",
       "\n",
       "  fuel type  number of owners   price  \n",
       "0       Gas               2.0  12,895  \n",
       "1       Gas               3.0  11,694  \n",
       "2       Gas               1.0  13,590  \n",
       "3       Gas               1.0   7,986  \n",
       "4       Gas               1.0   6,990  "
      ]
     },
     "execution_count": 2,
     "metadata": {},
     "output_type": "execute_result"
    }
   ],
   "source": [
    "raw_used_car_df = pd.read_csv('raw_data.csv', sep = '\\t')\n",
    "raw_used_car_df.head()"
   ]
  },
  {
   "cell_type": "markdown",
   "metadata": {},
   "source": [
    "## Dữ liệu có bao nhiêu dòng, bao nhiêu cột?"
   ]
  },
  {
   "cell_type": "code",
   "execution_count": 3,
   "metadata": {},
   "outputs": [
    {
     "data": {
      "text/plain": [
       "(4800, 9)"
      ]
     },
     "execution_count": 3,
     "metadata": {},
     "output_type": "execute_result"
    }
   ],
   "source": [
    "raw_used_car_df.shape"
   ]
  },
  {
   "cell_type": "markdown",
   "metadata": {},
   "source": [
    "## Mỗi dòng có ý nghĩa gì? Có vấn đề các dòng ý nghĩa khác nhau không?"
   ]
  },
  {
   "cell_type": "markdown",
   "metadata": {},
   "source": [
    "Mỗi dòng cho biết thông tin cơ bản về 1 chiếc xe\n",
    "\n",
    "Các dòng có ý nghĩa là giống nhau"
   ]
  },
  {
   "cell_type": "markdown",
   "metadata": {},
   "source": [
    "### Dữ liệu có các dòng bị lặp không?"
   ]
  },
  {
   "cell_type": "code",
   "execution_count": 4,
   "metadata": {},
   "outputs": [
    {
     "data": {
      "text/plain": [
       "0       False\n",
       "1       False\n",
       "2       False\n",
       "3       False\n",
       "4       False\n",
       "        ...  \n",
       "4795    False\n",
       "4796    False\n",
       "4797    False\n",
       "4798    False\n",
       "4799    False\n",
       "Length: 4800, dtype: bool"
      ]
     },
     "execution_count": 4,
     "metadata": {},
     "output_type": "execute_result"
    }
   ],
   "source": [
    "raw_used_car_df.duplicated()"
   ]
  },
  {
   "cell_type": "code",
   "execution_count": 5,
   "metadata": {},
   "outputs": [
    {
     "data": {
      "text/plain": [
       "148"
      ]
     },
     "execution_count": 5,
     "metadata": {},
     "output_type": "execute_result"
    }
   ],
   "source": [
    "# Bao nhiêu dòng bị lặp?\n",
    "num_row_dup = raw_used_car_df.duplicated().sum()\n",
    "num_row_dup"
   ]
  },
  {
   "cell_type": "code",
   "execution_count": 6,
   "metadata": {},
   "outputs": [
    {
     "data": {
      "text/html": [
       "<div>\n",
       "<style scoped>\n",
       "    .dataframe tbody tr th:only-of-type {\n",
       "        vertical-align: middle;\n",
       "    }\n",
       "\n",
       "    .dataframe tbody tr th {\n",
       "        vertical-align: top;\n",
       "    }\n",
       "\n",
       "    .dataframe thead th {\n",
       "        text-align: right;\n",
       "    }\n",
       "</style>\n",
       "<table border=\"1\" class=\"dataframe\">\n",
       "  <thead>\n",
       "    <tr style=\"text-align: right;\">\n",
       "      <th></th>\n",
       "      <th>make</th>\n",
       "      <th>model</th>\n",
       "      <th>body style</th>\n",
       "      <th>year</th>\n",
       "      <th>mileage</th>\n",
       "      <th>engine</th>\n",
       "      <th>fuel type</th>\n",
       "      <th>number of owners</th>\n",
       "      <th>price</th>\n",
       "    </tr>\n",
       "  </thead>\n",
       "  <tbody>\n",
       "    <tr>\n",
       "      <th>393</th>\n",
       "      <td>Honda</td>\n",
       "      <td>Accord</td>\n",
       "      <td>EX-L Sedan I4 CVT</td>\n",
       "      <td>2016</td>\n",
       "      <td>66,848</td>\n",
       "      <td>2.4L Inline-4 Gas</td>\n",
       "      <td>Gas</td>\n",
       "      <td>2.0</td>\n",
       "      <td>15,995</td>\n",
       "    </tr>\n",
       "    <tr>\n",
       "      <th>394</th>\n",
       "      <td>Honda</td>\n",
       "      <td>Pilot</td>\n",
       "      <td>EX-L AWD</td>\n",
       "      <td>2016</td>\n",
       "      <td>124,363</td>\n",
       "      <td>3.5L V-6 Gas</td>\n",
       "      <td>Gas</td>\n",
       "      <td>1.0</td>\n",
       "      <td>17,792</td>\n",
       "    </tr>\n",
       "    <tr>\n",
       "      <th>395</th>\n",
       "      <td>Honda</td>\n",
       "      <td>Civic</td>\n",
       "      <td>EX Sedan CVT</td>\n",
       "      <td>2016</td>\n",
       "      <td>79,118</td>\n",
       "      <td>2.0L Inline-4 Gas</td>\n",
       "      <td>Gas</td>\n",
       "      <td>2.0</td>\n",
       "      <td>13,000</td>\n",
       "    </tr>\n",
       "    <tr>\n",
       "      <th>396</th>\n",
       "      <td>Honda</td>\n",
       "      <td>Civic</td>\n",
       "      <td>LX Sedan CVT</td>\n",
       "      <td>2016</td>\n",
       "      <td>53,433</td>\n",
       "      <td>2.0L Inline-4 Gas</td>\n",
       "      <td>Gas</td>\n",
       "      <td>1.0</td>\n",
       "      <td>10,970</td>\n",
       "    </tr>\n",
       "    <tr>\n",
       "      <th>397</th>\n",
       "      <td>Honda</td>\n",
       "      <td>Accord</td>\n",
       "      <td>EX-L V6 Sedan Automatic</td>\n",
       "      <td>2016</td>\n",
       "      <td>98,855</td>\n",
       "      <td>3.5L V-6 Gas</td>\n",
       "      <td>Gas</td>\n",
       "      <td>1.0</td>\n",
       "      <td>12,995</td>\n",
       "    </tr>\n",
       "    <tr>\n",
       "      <th>...</th>\n",
       "      <td>...</td>\n",
       "      <td>...</td>\n",
       "      <td>...</td>\n",
       "      <td>...</td>\n",
       "      <td>...</td>\n",
       "      <td>...</td>\n",
       "      <td>...</td>\n",
       "      <td>...</td>\n",
       "      <td>...</td>\n",
       "    </tr>\n",
       "    <tr>\n",
       "      <th>4233</th>\n",
       "      <td>Mazda</td>\n",
       "      <td>Mazda3</td>\n",
       "      <td>i Touring 4-Door Automatic</td>\n",
       "      <td>2015</td>\n",
       "      <td>161,366</td>\n",
       "      <td>2.0L Inline-4 Gas</td>\n",
       "      <td>Gas</td>\n",
       "      <td>1.0</td>\n",
       "      <td>6,990</td>\n",
       "    </tr>\n",
       "    <tr>\n",
       "      <th>4234</th>\n",
       "      <td>Mazda</td>\n",
       "      <td>CX-5</td>\n",
       "      <td>Grand Touring AWD Automatic</td>\n",
       "      <td>2015</td>\n",
       "      <td>81,477</td>\n",
       "      <td>2.5L Inline-4 Gas</td>\n",
       "      <td>Gas</td>\n",
       "      <td>1.0</td>\n",
       "      <td>14,995</td>\n",
       "    </tr>\n",
       "    <tr>\n",
       "      <th>4288</th>\n",
       "      <td>Mazda</td>\n",
       "      <td>CX-5</td>\n",
       "      <td>Grand Touring AWD Automatic</td>\n",
       "      <td>2015</td>\n",
       "      <td>95,609</td>\n",
       "      <td>2.5L Inline-4 Gas</td>\n",
       "      <td>Gas</td>\n",
       "      <td>1.0</td>\n",
       "      <td>12,955</td>\n",
       "    </tr>\n",
       "    <tr>\n",
       "      <th>4658</th>\n",
       "      <td>Mazda</td>\n",
       "      <td>Mazda6</td>\n",
       "      <td>Touring Automatic</td>\n",
       "      <td>2019</td>\n",
       "      <td>29,144</td>\n",
       "      <td>2.5L Inline-4 Gas</td>\n",
       "      <td>Gas</td>\n",
       "      <td>1.0</td>\n",
       "      <td>19,200</td>\n",
       "    </tr>\n",
       "    <tr>\n",
       "      <th>4737</th>\n",
       "      <td>Mazda</td>\n",
       "      <td>CX-5</td>\n",
       "      <td>Touring FWD</td>\n",
       "      <td>2020</td>\n",
       "      <td>14</td>\n",
       "      <td>2.5L Inline-4 Gas</td>\n",
       "      <td>Gas</td>\n",
       "      <td>1.0</td>\n",
       "      <td>25,077</td>\n",
       "    </tr>\n",
       "  </tbody>\n",
       "</table>\n",
       "<p>148 rows × 9 columns</p>\n",
       "</div>"
      ],
      "text/plain": [
       "       make   model                   body style  year  mileage  \\\n",
       "393   Honda  Accord            EX-L Sedan I4 CVT  2016   66,848   \n",
       "394   Honda   Pilot                     EX-L AWD  2016  124,363   \n",
       "395   Honda   Civic                 EX Sedan CVT  2016   79,118   \n",
       "396   Honda   Civic                 LX Sedan CVT  2016   53,433   \n",
       "397   Honda  Accord      EX-L V6 Sedan Automatic  2016   98,855   \n",
       "...     ...     ...                          ...   ...      ...   \n",
       "4233  Mazda  Mazda3   i Touring 4-Door Automatic  2015  161,366   \n",
       "4234  Mazda    CX-5  Grand Touring AWD Automatic  2015   81,477   \n",
       "4288  Mazda    CX-5  Grand Touring AWD Automatic  2015   95,609   \n",
       "4658  Mazda  Mazda6            Touring Automatic  2019   29,144   \n",
       "4737  Mazda    CX-5                  Touring FWD  2020       14   \n",
       "\n",
       "                 engine fuel type  number of owners   price  \n",
       "393   2.4L Inline-4 Gas       Gas               2.0  15,995  \n",
       "394        3.5L V-6 Gas       Gas               1.0  17,792  \n",
       "395   2.0L Inline-4 Gas       Gas               2.0  13,000  \n",
       "396   2.0L Inline-4 Gas       Gas               1.0  10,970  \n",
       "397        3.5L V-6 Gas       Gas               1.0  12,995  \n",
       "...                 ...       ...               ...     ...  \n",
       "4233  2.0L Inline-4 Gas       Gas               1.0   6,990  \n",
       "4234  2.5L Inline-4 Gas       Gas               1.0  14,995  \n",
       "4288  2.5L Inline-4 Gas       Gas               1.0  12,955  \n",
       "4658  2.5L Inline-4 Gas       Gas               1.0  19,200  \n",
       "4737  2.5L Inline-4 Gas       Gas               1.0  25,077  \n",
       "\n",
       "[148 rows x 9 columns]"
      ]
     },
     "execution_count": 6,
     "metadata": {},
     "output_type": "execute_result"
    }
   ],
   "source": [
    "# Dòng nào bị lặp?\n",
    "duplicated_rows = raw_used_car_df[raw_used_car_df.duplicated()]\n",
    "duplicated_rows"
   ]
  },
  {
   "cell_type": "code",
   "execution_count": 7,
   "metadata": {},
   "outputs": [],
   "source": [
    "group_cars = raw_used_car_df.groupby(['make', 'model', 'body style', 'year'])"
   ]
  },
  {
   "cell_type": "code",
   "execution_count": 8,
   "metadata": {},
   "outputs": [
    {
     "data": {
      "text/html": [
       "<div>\n",
       "<style scoped>\n",
       "    .dataframe tbody tr th:only-of-type {\n",
       "        vertical-align: middle;\n",
       "    }\n",
       "\n",
       "    .dataframe tbody tr th {\n",
       "        vertical-align: top;\n",
       "    }\n",
       "\n",
       "    .dataframe thead th {\n",
       "        text-align: right;\n",
       "    }\n",
       "</style>\n",
       "<table border=\"1\" class=\"dataframe\">\n",
       "  <thead>\n",
       "    <tr style=\"text-align: right;\">\n",
       "      <th></th>\n",
       "      <th>make</th>\n",
       "      <th>model</th>\n",
       "      <th>body style</th>\n",
       "      <th>year</th>\n",
       "      <th>mileage</th>\n",
       "      <th>engine</th>\n",
       "      <th>fuel type</th>\n",
       "      <th>number of owners</th>\n",
       "      <th>price</th>\n",
       "    </tr>\n",
       "  </thead>\n",
       "  <tbody>\n",
       "    <tr>\n",
       "      <th>332</th>\n",
       "      <td>Honda</td>\n",
       "      <td>Accord</td>\n",
       "      <td>EX-L Sedan I4 CVT</td>\n",
       "      <td>2016</td>\n",
       "      <td>195,707</td>\n",
       "      <td>2.4L Inline-4 Gas</td>\n",
       "      <td>Gas</td>\n",
       "      <td>1.0</td>\n",
       "      <td>10,912</td>\n",
       "    </tr>\n",
       "    <tr>\n",
       "      <th>346</th>\n",
       "      <td>Honda</td>\n",
       "      <td>Accord</td>\n",
       "      <td>EX-L Sedan I4 CVT</td>\n",
       "      <td>2016</td>\n",
       "      <td>35,471</td>\n",
       "      <td>2.4L Inline-4 Gas</td>\n",
       "      <td>Gas</td>\n",
       "      <td>1.0</td>\n",
       "      <td>15,793</td>\n",
       "    </tr>\n",
       "    <tr>\n",
       "      <th>363</th>\n",
       "      <td>Honda</td>\n",
       "      <td>Accord</td>\n",
       "      <td>EX-L Sedan I4 CVT</td>\n",
       "      <td>2016</td>\n",
       "      <td>66,848</td>\n",
       "      <td>2.4L Inline-4 Gas</td>\n",
       "      <td>Gas</td>\n",
       "      <td>2.0</td>\n",
       "      <td>15,995</td>\n",
       "    </tr>\n",
       "    <tr>\n",
       "      <th>378</th>\n",
       "      <td>Honda</td>\n",
       "      <td>Accord</td>\n",
       "      <td>EX-L Sedan I4 CVT</td>\n",
       "      <td>2016</td>\n",
       "      <td>94,394</td>\n",
       "      <td>2.4L Inline-4 Gas</td>\n",
       "      <td>Gas</td>\n",
       "      <td>1.0</td>\n",
       "      <td>11,900</td>\n",
       "    </tr>\n",
       "    <tr>\n",
       "      <th>393</th>\n",
       "      <td>Honda</td>\n",
       "      <td>Accord</td>\n",
       "      <td>EX-L Sedan I4 CVT</td>\n",
       "      <td>2016</td>\n",
       "      <td>66,848</td>\n",
       "      <td>2.4L Inline-4 Gas</td>\n",
       "      <td>Gas</td>\n",
       "      <td>2.0</td>\n",
       "      <td>15,995</td>\n",
       "    </tr>\n",
       "  </tbody>\n",
       "</table>\n",
       "</div>"
      ],
      "text/plain": [
       "      make   model         body style  year  mileage             engine  \\\n",
       "332  Honda  Accord  EX-L Sedan I4 CVT  2016  195,707  2.4L Inline-4 Gas   \n",
       "346  Honda  Accord  EX-L Sedan I4 CVT  2016   35,471  2.4L Inline-4 Gas   \n",
       "363  Honda  Accord  EX-L Sedan I4 CVT  2016   66,848  2.4L Inline-4 Gas   \n",
       "378  Honda  Accord  EX-L Sedan I4 CVT  2016   94,394  2.4L Inline-4 Gas   \n",
       "393  Honda  Accord  EX-L Sedan I4 CVT  2016   66,848  2.4L Inline-4 Gas   \n",
       "\n",
       "    fuel type  number of owners   price  \n",
       "332       Gas               1.0  10,912  \n",
       "346       Gas               1.0  15,793  \n",
       "363       Gas               2.0  15,995  \n",
       "378       Gas               1.0  11,900  \n",
       "393       Gas               2.0  15,995  "
      ]
     },
     "execution_count": 8,
     "metadata": {},
     "output_type": "execute_result"
    }
   ],
   "source": [
    "# Kiểm tra thử dòng 393 xem có đúng là dòng 393 bị lặp không?\n",
    "# --> đúng, ta thấy dòng 393 bị lặp lại dòng 363 trong bảng dưới\n",
    "group_cars.get_group(('Honda', 'Accord', 'EX-L Sedan I4 CVT', 2016))"
   ]
  },
  {
   "cell_type": "code",
   "execution_count": 9,
   "metadata": {},
   "outputs": [],
   "source": [
    "# Bỏ đi các dòng bị lặp, gán vào dataframe mới\n",
    "used_car_df = raw_used_car_df.drop_duplicates()"
   ]
  },
  {
   "cell_type": "code",
   "execution_count": 10,
   "metadata": {},
   "outputs": [
    {
     "data": {
      "text/plain": [
       "(4652, 9)"
      ]
     },
     "execution_count": 10,
     "metadata": {},
     "output_type": "execute_result"
    }
   ],
   "source": [
    "used_car_df.shape"
   ]
  },
  {
   "cell_type": "code",
   "execution_count": 11,
   "metadata": {},
   "outputs": [
    {
     "data": {
      "text/plain": [
       "0"
      ]
     },
     "execution_count": 11,
     "metadata": {},
     "output_type": "execute_result"
    }
   ],
   "source": [
    "# Kiểm tra lại dataframe mới có còn dòng nào bị lặp không?\n",
    "num_dup = used_car_df.duplicated().sum()\n",
    "num_dup"
   ]
  },
  {
   "cell_type": "code",
   "execution_count": 12,
   "metadata": {},
   "outputs": [],
   "source": [
    "# Test\n",
    "assert num_dup == 0\n",
    "assert used_car_df.shape == (raw_used_car_df.shape[0] - num_row_dup, raw_used_car_df.shape[1])"
   ]
  },
  {
   "cell_type": "markdown",
   "metadata": {},
   "source": [
    "### Mỗi cột có ý nghĩa gì?"
   ]
  },
  {
   "cell_type": "code",
   "execution_count": 13,
   "metadata": {},
   "outputs": [
    {
     "data": {
      "text/html": [
       "<div>\n",
       "<style scoped>\n",
       "    .dataframe tbody tr th:only-of-type {\n",
       "        vertical-align: middle;\n",
       "    }\n",
       "\n",
       "    .dataframe tbody tr th {\n",
       "        vertical-align: top;\n",
       "    }\n",
       "\n",
       "    .dataframe thead th {\n",
       "        text-align: right;\n",
       "    }\n",
       "</style>\n",
       "<table border=\"1\" class=\"dataframe\">\n",
       "  <thead>\n",
       "    <tr style=\"text-align: right;\">\n",
       "      <th></th>\n",
       "      <th>make</th>\n",
       "      <th>model</th>\n",
       "      <th>body style</th>\n",
       "      <th>year</th>\n",
       "      <th>mileage</th>\n",
       "      <th>engine</th>\n",
       "      <th>fuel type</th>\n",
       "      <th>number of owners</th>\n",
       "      <th>price</th>\n",
       "    </tr>\n",
       "  </thead>\n",
       "  <tbody>\n",
       "    <tr>\n",
       "      <th>0</th>\n",
       "      <td>Honda</td>\n",
       "      <td>Odyssey</td>\n",
       "      <td>Touring Elite</td>\n",
       "      <td>2013</td>\n",
       "      <td>122,986</td>\n",
       "      <td>3.5L V-6 Gas</td>\n",
       "      <td>Gas</td>\n",
       "      <td>2.0</td>\n",
       "      <td>12,895</td>\n",
       "    </tr>\n",
       "  </tbody>\n",
       "</table>\n",
       "</div>"
      ],
      "text/plain": [
       "    make    model     body style  year  mileage        engine fuel type  \\\n",
       "0  Honda  Odyssey  Touring Elite  2013  122,986  3.5L V-6 Gas       Gas   \n",
       "\n",
       "   number of owners   price  \n",
       "0               2.0  12,895  "
      ]
     },
     "execution_count": 13,
     "metadata": {},
     "output_type": "execute_result"
    }
   ],
   "source": [
    "used_car_df.head(1)"
   ]
  },
  {
   "cell_type": "markdown",
   "metadata": {},
   "source": [
    "* <b>Cột \"make\"</b>:             tên hãng xe\n",
    "* <b>Cột \"model\"</b>:            tên dòng xe\n",
    "* <b>Cột \"body style\"</b>:       dáng xe (kết cấu thân xe)\n",
    "* <b>Cột \"year\"</b>:             năm sản xuất chiếc xe\n",
    "* <b>Cột \"mileage\"</b>:          tổng số dặm xe đã đi\n",
    "* <b>Cột \"engine\"</b>:           thông số động cơ xe\n",
    "* <b>Cột \"fuel type\"</b>:        xe đi loại nhiên liệu gì?\n",
    "* <b>Cột \"number of owners\"</b>: xe đã qua tay bao nhiêu đời chủ rồi?\n",
    "* <b>Cột \"price\"</b>:            giá thành xe hiện được bán"
   ]
  },
  {
   "cell_type": "markdown",
   "metadata": {},
   "source": [
    "### Mỗi cột hiện đang có kiểu dữ liệu gì? Có cột nào có kiểu dữ liệu chưa phù hợp để xử lý tiếp không?"
   ]
  },
  {
   "cell_type": "code",
   "execution_count": 14,
   "metadata": {},
   "outputs": [
    {
     "data": {
      "text/plain": [
       "make                 object\n",
       "model                object\n",
       "body style           object\n",
       "year                  int64\n",
       "mileage              object\n",
       "engine               object\n",
       "fuel type            object\n",
       "number of owners    float64\n",
       "price                object\n",
       "dtype: object"
      ]
     },
     "execution_count": 14,
     "metadata": {},
     "output_type": "execute_result"
    }
   ],
   "source": [
    "dtypes = used_car_df.dtypes\n",
    "dtypes"
   ]
  },
  {
   "cell_type": "markdown",
   "metadata": {},
   "source": [
    "Trong Pandas, kiểu dữ liệu \"object\" thường ám chỉ chuỗi. Tuy nhiên, \"object\" có thể ám chỉ một kiểu dữ liệu bất kỳ. \"object\" giống như con trỏ, có thể trỏ tới một đối tượng bất kỳ\n",
    "\n",
    "Để biết chính xác kiểu dữ liệu đang được lưu, tiến hành lấy giá trị từng cột để xem"
   ]
  },
  {
   "cell_type": "code",
   "execution_count": 15,
   "metadata": {},
   "outputs": [
    {
     "name": "stdout",
     "output_type": "stream",
     "text": [
      "make: <class 'str'>\n",
      "model: <class 'str'>\n",
      "body style: <class 'str'>\n",
      "mileage: <class 'str'>\n",
      "engine: <class 'str'>\n",
      "fuel type: <class 'str'>\n",
      "price: <class 'str'>\n"
     ]
    }
   ],
   "source": [
    "print('make:', type(used_car_df.loc[0, 'make']))\n",
    "print('model:', type(used_car_df.loc[0, 'model']))\n",
    "print('body style:', type(used_car_df.loc[0, 'body style']))\n",
    "print('mileage:', type(used_car_df.loc[0, 'mileage']))\n",
    "print('engine:', type(used_car_df.loc[0, 'engine']))\n",
    "print('fuel type:', type(used_car_df.loc[0, 'fuel type']))\n",
    "print('price:', type(used_car_df.loc[0, 'price']))"
   ]
  },
  {
   "cell_type": "markdown",
   "metadata": {},
   "source": [
    "#### Một vài đánh giá về giá trị cột để tiền xử lý kiểu dữ liệu của cột"
   ]
  },
  {
   "cell_type": "markdown",
   "metadata": {},
   "source": [
    "* <b>Cột \"mileage\"</b>, <b>\"price\"</b>: ta cần dữ liệu dạng số thực, mà ở đây đang ở dạng chuỗi --> tiến hành tiền xử lý để đưa từ kiểu chuỗi sang số thực"
   ]
  },
  {
   "cell_type": "markdown",
   "metadata": {},
   "source": [
    "# Tiền xử lý"
   ]
  },
  {
   "cell_type": "markdown",
   "metadata": {},
   "source": [
    "## Chuyển kiểu dữ liệu cột \"mileage\", \"price\" sang kiểu số thực"
   ]
  },
  {
   "cell_type": "code",
   "execution_count": 16,
   "metadata": {},
   "outputs": [],
   "source": [
    "# bỏ dấu phẩy\n",
    "used_car_df.loc[:, 'mileage'] = used_car_df.loc[:, 'mileage'].str.replace(',', '')\n",
    "used_car_df.loc[:, 'price'] = used_car_df.loc[:, 'price'].str.replace(',', '')"
   ]
  },
  {
   "cell_type": "code",
   "execution_count": 17,
   "metadata": {},
   "outputs": [
    {
     "data": {
      "text/html": [
       "<div>\n",
       "<style scoped>\n",
       "    .dataframe tbody tr th:only-of-type {\n",
       "        vertical-align: middle;\n",
       "    }\n",
       "\n",
       "    .dataframe tbody tr th {\n",
       "        vertical-align: top;\n",
       "    }\n",
       "\n",
       "    .dataframe thead th {\n",
       "        text-align: right;\n",
       "    }\n",
       "</style>\n",
       "<table border=\"1\" class=\"dataframe\">\n",
       "  <thead>\n",
       "    <tr style=\"text-align: right;\">\n",
       "      <th></th>\n",
       "      <th>make</th>\n",
       "      <th>model</th>\n",
       "      <th>body style</th>\n",
       "      <th>year</th>\n",
       "      <th>mileage</th>\n",
       "      <th>engine</th>\n",
       "      <th>fuel type</th>\n",
       "      <th>number of owners</th>\n",
       "      <th>price</th>\n",
       "    </tr>\n",
       "  </thead>\n",
       "  <tbody>\n",
       "    <tr>\n",
       "      <th>0</th>\n",
       "      <td>Honda</td>\n",
       "      <td>Odyssey</td>\n",
       "      <td>Touring Elite</td>\n",
       "      <td>2013</td>\n",
       "      <td>122986.0</td>\n",
       "      <td>3.5L V-6 Gas</td>\n",
       "      <td>Gas</td>\n",
       "      <td>2.0</td>\n",
       "      <td>12895.0</td>\n",
       "    </tr>\n",
       "    <tr>\n",
       "      <th>1</th>\n",
       "      <td>Honda</td>\n",
       "      <td>Pilot</td>\n",
       "      <td>EX FWD</td>\n",
       "      <td>2013</td>\n",
       "      <td>80532.0</td>\n",
       "      <td>3.5L V-6 Gas</td>\n",
       "      <td>Gas</td>\n",
       "      <td>3.0</td>\n",
       "      <td>11694.0</td>\n",
       "    </tr>\n",
       "    <tr>\n",
       "      <th>2</th>\n",
       "      <td>Honda</td>\n",
       "      <td>CR-V</td>\n",
       "      <td>LX FWD</td>\n",
       "      <td>2013</td>\n",
       "      <td>79796.0</td>\n",
       "      <td>2.4L Inline-4 Gas</td>\n",
       "      <td>Gas</td>\n",
       "      <td>1.0</td>\n",
       "      <td>13590.0</td>\n",
       "    </tr>\n",
       "    <tr>\n",
       "      <th>3</th>\n",
       "      <td>Honda</td>\n",
       "      <td>Civic</td>\n",
       "      <td>LX Sedan Automatic</td>\n",
       "      <td>2013</td>\n",
       "      <td>76882.0</td>\n",
       "      <td>1.8L Inline-4 Gas</td>\n",
       "      <td>Gas</td>\n",
       "      <td>1.0</td>\n",
       "      <td>7986.0</td>\n",
       "    </tr>\n",
       "    <tr>\n",
       "      <th>4</th>\n",
       "      <td>Honda</td>\n",
       "      <td>Civic</td>\n",
       "      <td>LX Sedan Automatic</td>\n",
       "      <td>2013</td>\n",
       "      <td>113673.0</td>\n",
       "      <td>1.8L Inline-4 Gas</td>\n",
       "      <td>Gas</td>\n",
       "      <td>1.0</td>\n",
       "      <td>6990.0</td>\n",
       "    </tr>\n",
       "    <tr>\n",
       "      <th>...</th>\n",
       "      <td>...</td>\n",
       "      <td>...</td>\n",
       "      <td>...</td>\n",
       "      <td>...</td>\n",
       "      <td>...</td>\n",
       "      <td>...</td>\n",
       "      <td>...</td>\n",
       "      <td>...</td>\n",
       "      <td>...</td>\n",
       "    </tr>\n",
       "    <tr>\n",
       "      <th>4795</th>\n",
       "      <td>Mazda</td>\n",
       "      <td>CX-5</td>\n",
       "      <td>Grand Touring FWD</td>\n",
       "      <td>2020</td>\n",
       "      <td>13964.0</td>\n",
       "      <td>2.5L Inline-4 Gas</td>\n",
       "      <td>Gas</td>\n",
       "      <td>1.0</td>\n",
       "      <td>23888.0</td>\n",
       "    </tr>\n",
       "    <tr>\n",
       "      <th>4796</th>\n",
       "      <td>Mazda</td>\n",
       "      <td>CX-5</td>\n",
       "      <td>Sport FWD</td>\n",
       "      <td>2020</td>\n",
       "      <td>3759.0</td>\n",
       "      <td>2.5L Inline-4 Gas</td>\n",
       "      <td>Gas</td>\n",
       "      <td>1.0</td>\n",
       "      <td>22498.0</td>\n",
       "    </tr>\n",
       "    <tr>\n",
       "      <th>4797</th>\n",
       "      <td>Mazda</td>\n",
       "      <td>CX-5</td>\n",
       "      <td>Sport FWD</td>\n",
       "      <td>2020</td>\n",
       "      <td>9916.0</td>\n",
       "      <td>2.5L Inline-4 Gas</td>\n",
       "      <td>Gas</td>\n",
       "      <td>1.0</td>\n",
       "      <td>21990.0</td>\n",
       "    </tr>\n",
       "    <tr>\n",
       "      <th>4798</th>\n",
       "      <td>Mazda</td>\n",
       "      <td>CX-9</td>\n",
       "      <td>Grand Touring AWD</td>\n",
       "      <td>2020</td>\n",
       "      <td>5176.0</td>\n",
       "      <td>2.5L Inline-4 Gas Turbocharged</td>\n",
       "      <td>Gas</td>\n",
       "      <td>1.0</td>\n",
       "      <td>36992.0</td>\n",
       "    </tr>\n",
       "    <tr>\n",
       "      <th>4799</th>\n",
       "      <td>Mazda</td>\n",
       "      <td>CX-5</td>\n",
       "      <td>Touring AWD</td>\n",
       "      <td>2020</td>\n",
       "      <td>4902.0</td>\n",
       "      <td>2.5L Inline-4 Gas</td>\n",
       "      <td>Gas</td>\n",
       "      <td>0.0</td>\n",
       "      <td>25737.0</td>\n",
       "    </tr>\n",
       "  </tbody>\n",
       "</table>\n",
       "<p>4652 rows × 9 columns</p>\n",
       "</div>"
      ],
      "text/plain": [
       "       make    model          body style  year   mileage  \\\n",
       "0     Honda  Odyssey       Touring Elite  2013  122986.0   \n",
       "1     Honda    Pilot              EX FWD  2013   80532.0   \n",
       "2     Honda     CR-V              LX FWD  2013   79796.0   \n",
       "3     Honda    Civic  LX Sedan Automatic  2013   76882.0   \n",
       "4     Honda    Civic  LX Sedan Automatic  2013  113673.0   \n",
       "...     ...      ...                 ...   ...       ...   \n",
       "4795  Mazda     CX-5   Grand Touring FWD  2020   13964.0   \n",
       "4796  Mazda     CX-5           Sport FWD  2020    3759.0   \n",
       "4797  Mazda     CX-5           Sport FWD  2020    9916.0   \n",
       "4798  Mazda     CX-9   Grand Touring AWD  2020    5176.0   \n",
       "4799  Mazda     CX-5         Touring AWD  2020    4902.0   \n",
       "\n",
       "                              engine fuel type  number of owners    price  \n",
       "0                       3.5L V-6 Gas       Gas               2.0  12895.0  \n",
       "1                       3.5L V-6 Gas       Gas               3.0  11694.0  \n",
       "2                  2.4L Inline-4 Gas       Gas               1.0  13590.0  \n",
       "3                  1.8L Inline-4 Gas       Gas               1.0   7986.0  \n",
       "4                  1.8L Inline-4 Gas       Gas               1.0   6990.0  \n",
       "...                              ...       ...               ...      ...  \n",
       "4795               2.5L Inline-4 Gas       Gas               1.0  23888.0  \n",
       "4796               2.5L Inline-4 Gas       Gas               1.0  22498.0  \n",
       "4797               2.5L Inline-4 Gas       Gas               1.0  21990.0  \n",
       "4798  2.5L Inline-4 Gas Turbocharged       Gas               1.0  36992.0  \n",
       "4799               2.5L Inline-4 Gas       Gas               0.0  25737.0  \n",
       "\n",
       "[4652 rows x 9 columns]"
      ]
     },
     "execution_count": 17,
     "metadata": {},
     "output_type": "execute_result"
    }
   ],
   "source": [
    "# chuyển sang kiểu float\n",
    "used_car_df['mileage'] = used_car_df['mileage'].astype(float)\n",
    "used_car_df['price'] = used_car_df['price'].astype(float)\n",
    "used_car_df"
   ]
  },
  {
   "cell_type": "markdown",
   "metadata": {},
   "source": [
    "## Giảm sự phức tạp của cột engine bằng cách chỉ lấy thông số lít(L) của động cơ"
   ]
  },
  {
   "cell_type": "code",
   "execution_count": 18,
   "metadata": {},
   "outputs": [
    {
     "data": {
      "text/html": [
       "<div>\n",
       "<style scoped>\n",
       "    .dataframe tbody tr th:only-of-type {\n",
       "        vertical-align: middle;\n",
       "    }\n",
       "\n",
       "    .dataframe tbody tr th {\n",
       "        vertical-align: top;\n",
       "    }\n",
       "\n",
       "    .dataframe thead th {\n",
       "        text-align: right;\n",
       "    }\n",
       "</style>\n",
       "<table border=\"1\" class=\"dataframe\">\n",
       "  <thead>\n",
       "    <tr style=\"text-align: right;\">\n",
       "      <th></th>\n",
       "      <th>make</th>\n",
       "      <th>model</th>\n",
       "      <th>body style</th>\n",
       "      <th>year</th>\n",
       "      <th>mileage</th>\n",
       "      <th>engine</th>\n",
       "      <th>fuel type</th>\n",
       "      <th>number of owners</th>\n",
       "      <th>price</th>\n",
       "    </tr>\n",
       "  </thead>\n",
       "  <tbody>\n",
       "    <tr>\n",
       "      <th>0</th>\n",
       "      <td>Honda</td>\n",
       "      <td>Odyssey</td>\n",
       "      <td>Touring Elite</td>\n",
       "      <td>2013</td>\n",
       "      <td>122986.0</td>\n",
       "      <td>3.5</td>\n",
       "      <td>Gas</td>\n",
       "      <td>2.0</td>\n",
       "      <td>12895.0</td>\n",
       "    </tr>\n",
       "    <tr>\n",
       "      <th>1</th>\n",
       "      <td>Honda</td>\n",
       "      <td>Pilot</td>\n",
       "      <td>EX FWD</td>\n",
       "      <td>2013</td>\n",
       "      <td>80532.0</td>\n",
       "      <td>3.5</td>\n",
       "      <td>Gas</td>\n",
       "      <td>3.0</td>\n",
       "      <td>11694.0</td>\n",
       "    </tr>\n",
       "    <tr>\n",
       "      <th>2</th>\n",
       "      <td>Honda</td>\n",
       "      <td>CR-V</td>\n",
       "      <td>LX FWD</td>\n",
       "      <td>2013</td>\n",
       "      <td>79796.0</td>\n",
       "      <td>2.4</td>\n",
       "      <td>Gas</td>\n",
       "      <td>1.0</td>\n",
       "      <td>13590.0</td>\n",
       "    </tr>\n",
       "    <tr>\n",
       "      <th>3</th>\n",
       "      <td>Honda</td>\n",
       "      <td>Civic</td>\n",
       "      <td>LX Sedan Automatic</td>\n",
       "      <td>2013</td>\n",
       "      <td>76882.0</td>\n",
       "      <td>1.8</td>\n",
       "      <td>Gas</td>\n",
       "      <td>1.0</td>\n",
       "      <td>7986.0</td>\n",
       "    </tr>\n",
       "    <tr>\n",
       "      <th>4</th>\n",
       "      <td>Honda</td>\n",
       "      <td>Civic</td>\n",
       "      <td>LX Sedan Automatic</td>\n",
       "      <td>2013</td>\n",
       "      <td>113673.0</td>\n",
       "      <td>1.8</td>\n",
       "      <td>Gas</td>\n",
       "      <td>1.0</td>\n",
       "      <td>6990.0</td>\n",
       "    </tr>\n",
       "    <tr>\n",
       "      <th>...</th>\n",
       "      <td>...</td>\n",
       "      <td>...</td>\n",
       "      <td>...</td>\n",
       "      <td>...</td>\n",
       "      <td>...</td>\n",
       "      <td>...</td>\n",
       "      <td>...</td>\n",
       "      <td>...</td>\n",
       "      <td>...</td>\n",
       "    </tr>\n",
       "    <tr>\n",
       "      <th>4795</th>\n",
       "      <td>Mazda</td>\n",
       "      <td>CX-5</td>\n",
       "      <td>Grand Touring FWD</td>\n",
       "      <td>2020</td>\n",
       "      <td>13964.0</td>\n",
       "      <td>2.5</td>\n",
       "      <td>Gas</td>\n",
       "      <td>1.0</td>\n",
       "      <td>23888.0</td>\n",
       "    </tr>\n",
       "    <tr>\n",
       "      <th>4796</th>\n",
       "      <td>Mazda</td>\n",
       "      <td>CX-5</td>\n",
       "      <td>Sport FWD</td>\n",
       "      <td>2020</td>\n",
       "      <td>3759.0</td>\n",
       "      <td>2.5</td>\n",
       "      <td>Gas</td>\n",
       "      <td>1.0</td>\n",
       "      <td>22498.0</td>\n",
       "    </tr>\n",
       "    <tr>\n",
       "      <th>4797</th>\n",
       "      <td>Mazda</td>\n",
       "      <td>CX-5</td>\n",
       "      <td>Sport FWD</td>\n",
       "      <td>2020</td>\n",
       "      <td>9916.0</td>\n",
       "      <td>2.5</td>\n",
       "      <td>Gas</td>\n",
       "      <td>1.0</td>\n",
       "      <td>21990.0</td>\n",
       "    </tr>\n",
       "    <tr>\n",
       "      <th>4798</th>\n",
       "      <td>Mazda</td>\n",
       "      <td>CX-9</td>\n",
       "      <td>Grand Touring AWD</td>\n",
       "      <td>2020</td>\n",
       "      <td>5176.0</td>\n",
       "      <td>2.5</td>\n",
       "      <td>Gas</td>\n",
       "      <td>1.0</td>\n",
       "      <td>36992.0</td>\n",
       "    </tr>\n",
       "    <tr>\n",
       "      <th>4799</th>\n",
       "      <td>Mazda</td>\n",
       "      <td>CX-5</td>\n",
       "      <td>Touring AWD</td>\n",
       "      <td>2020</td>\n",
       "      <td>4902.0</td>\n",
       "      <td>2.5</td>\n",
       "      <td>Gas</td>\n",
       "      <td>0.0</td>\n",
       "      <td>25737.0</td>\n",
       "    </tr>\n",
       "  </tbody>\n",
       "</table>\n",
       "<p>4652 rows × 9 columns</p>\n",
       "</div>"
      ],
      "text/plain": [
       "       make    model          body style  year   mileage  engine fuel type  \\\n",
       "0     Honda  Odyssey       Touring Elite  2013  122986.0     3.5       Gas   \n",
       "1     Honda    Pilot              EX FWD  2013   80532.0     3.5       Gas   \n",
       "2     Honda     CR-V              LX FWD  2013   79796.0     2.4       Gas   \n",
       "3     Honda    Civic  LX Sedan Automatic  2013   76882.0     1.8       Gas   \n",
       "4     Honda    Civic  LX Sedan Automatic  2013  113673.0     1.8       Gas   \n",
       "...     ...      ...                 ...   ...       ...     ...       ...   \n",
       "4795  Mazda     CX-5   Grand Touring FWD  2020   13964.0     2.5       Gas   \n",
       "4796  Mazda     CX-5           Sport FWD  2020    3759.0     2.5       Gas   \n",
       "4797  Mazda     CX-5           Sport FWD  2020    9916.0     2.5       Gas   \n",
       "4798  Mazda     CX-9   Grand Touring AWD  2020    5176.0     2.5       Gas   \n",
       "4799  Mazda     CX-5         Touring AWD  2020    4902.0     2.5       Gas   \n",
       "\n",
       "      number of owners    price  \n",
       "0                  2.0  12895.0  \n",
       "1                  3.0  11694.0  \n",
       "2                  1.0  13590.0  \n",
       "3                  1.0   7986.0  \n",
       "4                  1.0   6990.0  \n",
       "...                ...      ...  \n",
       "4795               1.0  23888.0  \n",
       "4796               1.0  22498.0  \n",
       "4797               1.0  21990.0  \n",
       "4798               1.0  36992.0  \n",
       "4799               0.0  25737.0  \n",
       "\n",
       "[4652 rows x 9 columns]"
      ]
     },
     "execution_count": 18,
     "metadata": {},
     "output_type": "execute_result"
    }
   ],
   "source": [
    "# lấy thông số lít và chuyển nó sang kiểu số thực\n",
    "used_car_df['engine'] = used_car_df['engine'].str.extract(r'(\\d+.\\d+L)')\n",
    "used_car_df['engine'] = used_car_df['engine'].str.replace('L', '').astype(float)\n",
    "used_car_df"
   ]
  },
  {
   "cell_type": "code",
   "execution_count": 19,
   "metadata": {},
   "outputs": [
    {
     "data": {
      "text/plain": [
       "make                 object\n",
       "model                object\n",
       "body style           object\n",
       "year                  int64\n",
       "mileage             float64\n",
       "engine              float64\n",
       "fuel type            object\n",
       "number of owners    float64\n",
       "price               float64\n",
       "dtype: object"
      ]
     },
     "execution_count": 19,
     "metadata": {},
     "output_type": "execute_result"
    }
   ],
   "source": [
    "new_dtypes = used_car_df.dtypes\n",
    "new_dtypes"
   ]
  },
  {
   "cell_type": "markdown",
   "metadata": {},
   "source": [
    "# Quay lại bước khám phá dữ liệu"
   ]
  },
  {
   "cell_type": "markdown",
   "metadata": {},
   "source": [
    "## Với mỗi cột có dữ liệu dạng số (numeric), các giá trị được phân bố như thế nào?  "
   ]
  },
  {
   "cell_type": "code",
   "execution_count": 20,
   "metadata": {},
   "outputs": [
    {
     "data": {
      "text/html": [
       "<div>\n",
       "<style scoped>\n",
       "    .dataframe tbody tr th:only-of-type {\n",
       "        vertical-align: middle;\n",
       "    }\n",
       "\n",
       "    .dataframe tbody tr th {\n",
       "        vertical-align: top;\n",
       "    }\n",
       "\n",
       "    .dataframe thead th {\n",
       "        text-align: right;\n",
       "    }\n",
       "</style>\n",
       "<table border=\"1\" class=\"dataframe\">\n",
       "  <thead>\n",
       "    <tr style=\"text-align: right;\">\n",
       "      <th></th>\n",
       "      <th>make</th>\n",
       "      <th>model</th>\n",
       "      <th>body style</th>\n",
       "      <th>year</th>\n",
       "      <th>mileage</th>\n",
       "      <th>engine</th>\n",
       "      <th>fuel type</th>\n",
       "      <th>number of owners</th>\n",
       "      <th>price</th>\n",
       "    </tr>\n",
       "  </thead>\n",
       "  <tbody>\n",
       "    <tr>\n",
       "      <th>0</th>\n",
       "      <td>Honda</td>\n",
       "      <td>Odyssey</td>\n",
       "      <td>Touring Elite</td>\n",
       "      <td>2013</td>\n",
       "      <td>122986.0</td>\n",
       "      <td>3.5</td>\n",
       "      <td>Gas</td>\n",
       "      <td>2.0</td>\n",
       "      <td>12895.0</td>\n",
       "    </tr>\n",
       "    <tr>\n",
       "      <th>1</th>\n",
       "      <td>Honda</td>\n",
       "      <td>Pilot</td>\n",
       "      <td>EX FWD</td>\n",
       "      <td>2013</td>\n",
       "      <td>80532.0</td>\n",
       "      <td>3.5</td>\n",
       "      <td>Gas</td>\n",
       "      <td>3.0</td>\n",
       "      <td>11694.0</td>\n",
       "    </tr>\n",
       "    <tr>\n",
       "      <th>2</th>\n",
       "      <td>Honda</td>\n",
       "      <td>CR-V</td>\n",
       "      <td>LX FWD</td>\n",
       "      <td>2013</td>\n",
       "      <td>79796.0</td>\n",
       "      <td>2.4</td>\n",
       "      <td>Gas</td>\n",
       "      <td>1.0</td>\n",
       "      <td>13590.0</td>\n",
       "    </tr>\n",
       "    <tr>\n",
       "      <th>3</th>\n",
       "      <td>Honda</td>\n",
       "      <td>Civic</td>\n",
       "      <td>LX Sedan Automatic</td>\n",
       "      <td>2013</td>\n",
       "      <td>76882.0</td>\n",
       "      <td>1.8</td>\n",
       "      <td>Gas</td>\n",
       "      <td>1.0</td>\n",
       "      <td>7986.0</td>\n",
       "    </tr>\n",
       "    <tr>\n",
       "      <th>4</th>\n",
       "      <td>Honda</td>\n",
       "      <td>Civic</td>\n",
       "      <td>LX Sedan Automatic</td>\n",
       "      <td>2013</td>\n",
       "      <td>113673.0</td>\n",
       "      <td>1.8</td>\n",
       "      <td>Gas</td>\n",
       "      <td>1.0</td>\n",
       "      <td>6990.0</td>\n",
       "    </tr>\n",
       "  </tbody>\n",
       "</table>\n",
       "</div>"
      ],
      "text/plain": [
       "    make    model          body style  year   mileage  engine fuel type  \\\n",
       "0  Honda  Odyssey       Touring Elite  2013  122986.0     3.5       Gas   \n",
       "1  Honda    Pilot              EX FWD  2013   80532.0     3.5       Gas   \n",
       "2  Honda     CR-V              LX FWD  2013   79796.0     2.4       Gas   \n",
       "3  Honda    Civic  LX Sedan Automatic  2013   76882.0     1.8       Gas   \n",
       "4  Honda    Civic  LX Sedan Automatic  2013  113673.0     1.8       Gas   \n",
       "\n",
       "   number of owners    price  \n",
       "0               2.0  12895.0  \n",
       "1               3.0  11694.0  \n",
       "2               1.0  13590.0  \n",
       "3               1.0   7986.0  \n",
       "4               1.0   6990.0  "
      ]
     },
     "execution_count": 20,
     "metadata": {},
     "output_type": "execute_result"
    }
   ],
   "source": [
    "used_car_df.head()"
   ]
  },
  {
   "cell_type": "code",
   "execution_count": 21,
   "metadata": {},
   "outputs": [
    {
     "data": {
      "text/html": [
       "<div>\n",
       "<style scoped>\n",
       "    .dataframe tbody tr th:only-of-type {\n",
       "        vertical-align: middle;\n",
       "    }\n",
       "\n",
       "    .dataframe tbody tr th {\n",
       "        vertical-align: top;\n",
       "    }\n",
       "\n",
       "    .dataframe thead th {\n",
       "        text-align: right;\n",
       "    }\n",
       "</style>\n",
       "<table border=\"1\" class=\"dataframe\">\n",
       "  <thead>\n",
       "    <tr style=\"text-align: right;\">\n",
       "      <th></th>\n",
       "      <th>year</th>\n",
       "      <th>mileage</th>\n",
       "      <th>engine</th>\n",
       "      <th>number of owners</th>\n",
       "      <th>price</th>\n",
       "    </tr>\n",
       "  </thead>\n",
       "  <tbody>\n",
       "    <tr>\n",
       "      <th>count</th>\n",
       "      <td>4652.000000</td>\n",
       "      <td>4652.000000</td>\n",
       "      <td>4640.000000</td>\n",
       "      <td>4646.000000</td>\n",
       "      <td>4647.000000</td>\n",
       "    </tr>\n",
       "    <tr>\n",
       "      <th>mean</th>\n",
       "      <td>2016.484523</td>\n",
       "      <td>61257.651118</td>\n",
       "      <td>2.546358</td>\n",
       "      <td>1.501507</td>\n",
       "      <td>17377.042608</td>\n",
       "    </tr>\n",
       "    <tr>\n",
       "      <th>std</th>\n",
       "      <td>2.291951</td>\n",
       "      <td>41320.204962</td>\n",
       "      <td>1.016791</td>\n",
       "      <td>0.794693</td>\n",
       "      <td>10211.005659</td>\n",
       "    </tr>\n",
       "    <tr>\n",
       "      <th>min</th>\n",
       "      <td>2013.000000</td>\n",
       "      <td>5.000000</td>\n",
       "      <td>1.000000</td>\n",
       "      <td>0.000000</td>\n",
       "      <td>2996.000000</td>\n",
       "    </tr>\n",
       "    <tr>\n",
       "      <th>25%</th>\n",
       "      <td>2014.000000</td>\n",
       "      <td>29987.000000</td>\n",
       "      <td>2.000000</td>\n",
       "      <td>1.000000</td>\n",
       "      <td>10747.500000</td>\n",
       "    </tr>\n",
       "    <tr>\n",
       "      <th>50%</th>\n",
       "      <td>2016.000000</td>\n",
       "      <td>53241.000000</td>\n",
       "      <td>2.400000</td>\n",
       "      <td>1.000000</td>\n",
       "      <td>14590.000000</td>\n",
       "    </tr>\n",
       "    <tr>\n",
       "      <th>75%</th>\n",
       "      <td>2018.000000</td>\n",
       "      <td>88154.750000</td>\n",
       "      <td>2.500000</td>\n",
       "      <td>2.000000</td>\n",
       "      <td>20899.500000</td>\n",
       "    </tr>\n",
       "    <tr>\n",
       "      <th>max</th>\n",
       "      <td>2020.000000</td>\n",
       "      <td>310215.000000</td>\n",
       "      <td>7.200000</td>\n",
       "      <td>6.000000</td>\n",
       "      <td>129982.000000</td>\n",
       "    </tr>\n",
       "  </tbody>\n",
       "</table>\n",
       "</div>"
      ],
      "text/plain": [
       "              year        mileage       engine  number of owners  \\\n",
       "count  4652.000000    4652.000000  4640.000000       4646.000000   \n",
       "mean   2016.484523   61257.651118     2.546358          1.501507   \n",
       "std       2.291951   41320.204962     1.016791          0.794693   \n",
       "min    2013.000000       5.000000     1.000000          0.000000   \n",
       "25%    2014.000000   29987.000000     2.000000          1.000000   \n",
       "50%    2016.000000   53241.000000     2.400000          1.000000   \n",
       "75%    2018.000000   88154.750000     2.500000          2.000000   \n",
       "max    2020.000000  310215.000000     7.200000          6.000000   \n",
       "\n",
       "               price  \n",
       "count    4647.000000  \n",
       "mean    17377.042608  \n",
       "std     10211.005659  \n",
       "min      2996.000000  \n",
       "25%     10747.500000  \n",
       "50%     14590.000000  \n",
       "75%     20899.500000  \n",
       "max    129982.000000  "
      ]
     },
     "execution_count": 21,
     "metadata": {},
     "output_type": "execute_result"
    }
   ],
   "source": [
    "used_car_df.describe()"
   ]
  },
  {
   "cell_type": "markdown",
   "metadata": {},
   "source": [
    "### Bảng mô tả"
   ]
  },
  {
   "cell_type": "code",
   "execution_count": 22,
   "metadata": {},
   "outputs": [
    {
     "data": {
      "text/html": [
       "<div>\n",
       "<style scoped>\n",
       "    .dataframe tbody tr th:only-of-type {\n",
       "        vertical-align: middle;\n",
       "    }\n",
       "\n",
       "    .dataframe tbody tr th {\n",
       "        vertical-align: top;\n",
       "    }\n",
       "\n",
       "    .dataframe thead th {\n",
       "        text-align: right;\n",
       "    }\n",
       "</style>\n",
       "<table border=\"1\" class=\"dataframe\">\n",
       "  <thead>\n",
       "    <tr style=\"text-align: right;\">\n",
       "      <th></th>\n",
       "      <th>year</th>\n",
       "      <th>mileage</th>\n",
       "      <th>engine</th>\n",
       "      <th>number of owners</th>\n",
       "      <th>price</th>\n",
       "    </tr>\n",
       "  </thead>\n",
       "  <tbody>\n",
       "    <tr>\n",
       "      <th>missing_ratio</th>\n",
       "      <td>0.0</td>\n",
       "      <td>0.00</td>\n",
       "      <td>0.257954</td>\n",
       "      <td>0.128977</td>\n",
       "      <td>0.107481</td>\n",
       "    </tr>\n",
       "    <tr>\n",
       "      <th>min</th>\n",
       "      <td>2013.0</td>\n",
       "      <td>5.00</td>\n",
       "      <td>1.000000</td>\n",
       "      <td>0.000000</td>\n",
       "      <td>2996.000000</td>\n",
       "    </tr>\n",
       "    <tr>\n",
       "      <th>lower_quartile</th>\n",
       "      <td>2014.0</td>\n",
       "      <td>29987.00</td>\n",
       "      <td>2.000000</td>\n",
       "      <td>1.000000</td>\n",
       "      <td>10747.500000</td>\n",
       "    </tr>\n",
       "    <tr>\n",
       "      <th>median</th>\n",
       "      <td>2016.0</td>\n",
       "      <td>53241.00</td>\n",
       "      <td>2.400000</td>\n",
       "      <td>1.000000</td>\n",
       "      <td>14590.000000</td>\n",
       "    </tr>\n",
       "    <tr>\n",
       "      <th>upper_quartile</th>\n",
       "      <td>2018.0</td>\n",
       "      <td>88154.75</td>\n",
       "      <td>2.500000</td>\n",
       "      <td>2.000000</td>\n",
       "      <td>20899.500000</td>\n",
       "    </tr>\n",
       "    <tr>\n",
       "      <th>max</th>\n",
       "      <td>2020.0</td>\n",
       "      <td>310215.00</td>\n",
       "      <td>7.200000</td>\n",
       "      <td>6.000000</td>\n",
       "      <td>129982.000000</td>\n",
       "    </tr>\n",
       "  </tbody>\n",
       "</table>\n",
       "</div>"
      ],
      "text/plain": [
       "                  year    mileage    engine  number of owners          price\n",
       "missing_ratio      0.0       0.00  0.257954          0.128977       0.107481\n",
       "min             2013.0       5.00  1.000000          0.000000    2996.000000\n",
       "lower_quartile  2014.0   29987.00  2.000000          1.000000   10747.500000\n",
       "median          2016.0   53241.00  2.400000          1.000000   14590.000000\n",
       "upper_quartile  2018.0   88154.75  2.500000          2.000000   20899.500000\n",
       "max             2020.0  310215.00  7.200000          6.000000  129982.000000"
      ]
     },
     "execution_count": 22,
     "metadata": {},
     "output_type": "execute_result"
    }
   ],
   "source": [
    "numeric_cols_df = used_car_df.select_dtypes(exclude = 'object')\n",
    "\n",
    "def missing_ratio(col):\n",
    "    return col.isna().mean() * 100\n",
    "\n",
    "def median(col):\n",
    "    return col.quantile(0.5)\n",
    "\n",
    "def lower_quartile(col):\n",
    "    return col.quantile(0.25)\n",
    "\n",
    "def upper_quartile(col):\n",
    "    return col.quantile(0.75)\n",
    "\n",
    "numeric_cols_df.agg([missing_ratio, min, lower_quartile, median, upper_quartile, max])"
   ]
  },
  {
   "cell_type": "markdown",
   "metadata": {},
   "source": [
    "Vẽ Histogram minh họa trực quan cho giá trị của từng cột"
   ]
  },
  {
   "cell_type": "markdown",
   "metadata": {},
   "source": [
    "### Biểu đồ histogram biểu thị mối liên hệ giữa: tổng số dặm và số lượng xe"
   ]
  },
  {
   "cell_type": "code",
   "execution_count": 23,
   "metadata": {},
   "outputs": [
    {
     "data": {
      "text/plain": [
       "Text(0, 0.5, 'Số xe')"
      ]
     },
     "execution_count": 23,
     "metadata": {},
     "output_type": "execute_result"
    },
    {
     "data": {
      "image/png": "[encoded data removed]",
      "text/plain": [
       "<Figure size 432x288 with 1 Axes>"
      ]
     },
     "metadata": {
      "needs_background": "light"
     },
     "output_type": "display_data"
    }
   ],
   "source": [
    "used_car_df['mileage'].plot.hist(bins = range(5, 311000, 5000), edgecolor = 'black')\n",
    "plt.xlabel('Tổng số dặm')\n",
    "plt.ylabel('Số xe')"
   ]
  },
  {
   "cell_type": "markdown",
   "metadata": {},
   "source": [
    "### Biểu đồ histogram biểu thị mối liên hệ giữa: thông số động cơ và số lượng xe"
   ]
  },
  {
   "cell_type": "code",
   "execution_count": 24,
   "metadata": {},
   "outputs": [
    {
     "data": {
      "text/plain": [
       "Text(0, 0.5, 'Số xe')"
      ]
     },
     "execution_count": 24,
     "metadata": {},
     "output_type": "execute_result"
    },
    {
     "data": {
      "image/png": "[encoded data removed]",
      "text/plain": [
       "<Figure size 432x288 with 1 Axes>"
      ]
     },
     "metadata": {
      "needs_background": "light"
     },
     "output_type": "display_data"
    }
   ],
   "source": [
    "used_car_df['engine'].plot.hist(bins = range(1, 8, 1), edgecolor = 'black')\n",
    "plt.xlabel('Động cơ')\n",
    "plt.ylabel('Số xe')"
   ]
  },
  {
   "cell_type": "markdown",
   "metadata": {},
   "source": [
    "### Biểu đồ histogram biểu thị mối liên hệ giữa: giá tiền và số lượng xe"
   ]
  },
  {
   "cell_type": "code",
   "execution_count": 25,
   "metadata": {},
   "outputs": [
    {
     "data": {
      "text/plain": [
       "Text(0, 0.5, 'Số xe')"
      ]
     },
     "execution_count": 25,
     "metadata": {},
     "output_type": "execute_result"
    },
    {
     "data": {
      "image/png": "[encoded data removed]",
      "text/plain": [
       "<Figure size 432x288 with 1 Axes>"
      ]
     },
     "metadata": {
      "needs_background": "light"
     },
     "output_type": "display_data"
    }
   ],
   "source": [
    "used_car_df['price'].plot.hist(bins = range(2990, 130000, 2000), edgecolor = 'black')\n",
    "plt.xlabel('Giá tiền')\n",
    "plt.ylabel('Số xe')"
   ]
  },
  {
   "cell_type": "markdown",
   "metadata": {},
   "source": [
    "## Với mỗi cột có kiểu dữ liệu không phải dạng số (ở đây chủ yếu ta ám chỉ dạng categorical), các giá trị được phân bố như thế nào? "
   ]
  },
  {
   "cell_type": "markdown",
   "metadata": {},
   "source": [
    "### Bảng mô tả"
   ]
  },
  {
   "cell_type": "code",
   "execution_count": 26,
   "metadata": {},
   "outputs": [
    {
     "data": {
      "text/html": [
       "<div>\n",
       "<style scoped>\n",
       "    .dataframe tbody tr th:only-of-type {\n",
       "        vertical-align: middle;\n",
       "    }\n",
       "\n",
       "    .dataframe tbody tr th {\n",
       "        vertical-align: top;\n",
       "    }\n",
       "\n",
       "    .dataframe thead th {\n",
       "        text-align: right;\n",
       "    }\n",
       "</style>\n",
       "<table border=\"1\" class=\"dataframe\">\n",
       "  <thead>\n",
       "    <tr style=\"text-align: right;\">\n",
       "      <th></th>\n",
       "      <th>make</th>\n",
       "      <th>model</th>\n",
       "      <th>body style</th>\n",
       "      <th>fuel type</th>\n",
       "    </tr>\n",
       "  </thead>\n",
       "  <tbody>\n",
       "    <tr>\n",
       "      <th>missing_ratio</th>\n",
       "      <td>0</td>\n",
       "      <td>0.107481</td>\n",
       "      <td>0</td>\n",
       "      <td>0</td>\n",
       "    </tr>\n",
       "    <tr>\n",
       "      <th>nunique</th>\n",
       "      <td>6</td>\n",
       "      <td>104</td>\n",
       "      <td>753</td>\n",
       "      <td>7</td>\n",
       "    </tr>\n",
       "    <tr>\n",
       "      <th>value_counts</th>\n",
       "      <td>{'Toyota': 798, 'Hyundai': 798, 'Mazda': 792, 'Mercedes-Benz': 788, 'Ford': 750, 'Honda': 726}</td>\n",
       "      <td>{'CX-5': 356, 'Elantra': 320, 'Corolla': 246, 'Civic': 227, 'C-Class': 225, 'Mazda3': 201, 'Camry': 188, 'Accord': 187, 'Sonata': 185, 'F-150': 163, 'CR-V': 142, 'Fusion': 124, 'Mazda6': 112, 'E-Class': 109, 'Super Duty F-250': 105, 'Tucson': 102, 'RAV4': 98, 'GLC': 97, 'Escape': 65, 'CX-9': 58, 'GLA': 57, 'Accent': 56, 'Focus': 54, 'Tacoma': 50, 'Prius': 47, 'GLE': 47, 'Santa Fe': 46, 'Odyssey': 46, 'Edge': 45, 'Pilot': 44, 'Santa Fe Sport': 43, 'Sienna': 42, 'CLA': 40, 'Transit Passenger Wagon': 38, 'Explorer': 38, 'Super Duty F-350': 37, 'HR-V': 33, 'Fiesta': 28, 'M-Class': 27, 'Veloster': 26, 'GLK': 25, 'S-Class': 25, '4Runner': 25, 'Highlander': 25, 'GL': 25, 'Fit': 23, 'CX-3': 22, 'A-Class': 18, 'Tundra': 17, 'MX-5 Miata': 17, 'GLS': 15, 'Mazda5': 15, 'Mustang': 13, 'Avalon': 13, 'Prius c': 11, 'Metris Passenger Van': 11, 'Sprinter Cargo Van': 11, 'SL': 11, 'Ridgeline': 10, 'Metris Cargo Van': 10, 'GLB': 8, 'Yaris': 7, 'Prius v': 7, 'Mazda2': 7, 'Taurus': 7, 'Genesis Coupe': 6, 'Venza': 6, 'CLS': 6, 'Transit Cargo Van': 6, 'C-Max': 6, 'Super Duty F-350 Chassis Cab': 5, 'Insight': 5, 'Mirai': 4, 'Genesis': 4, 'Sprinter Passenger Van': 4, 'Econoline Commercial Cutaway': 4, 'Passport': 4, 'Azera': 4, 'Transit Connect Van': 4, 'Expedition': 4, 'Sprinter Chassis Cabs': 3, 'B-Class': 3, 'CX-30': 3, 'C-HR': 3, 'SLK': 3, 'Yaris iA': 3, 'G-Class': 3, 'Equus': 2, 'FJ Cruiser': 2, 'Kona': 2, 'SLC': 2, 'Corolla iM': 2, 'AMG GT': 1, 'CR-Z': 1, 'Ranger': 1, 'Ioniq': 1, 'Clarity': 1, 'EcoSport': 1, 'Prius Prime': 1, 'Sprinter Crew Van': 1, ...}</td>\n",
       "      <td>{'LE CVT': 135, 'SE FWD': 118, 'LX Sedan CVT': 85, 'Touring FWD': 79, 'C 300 Sedan RWD': 73, 'SEL 2.0L IVT': 65, 'Grand Touring FWD': 61, 'SE Sedan Automatic': 58, 'XLT SuperCrew 5.5' Box 4WD': 54, 'Grand Touring AWD': 52, 'C 300 4MATIC Sedan': 48, 'Touring AWD': 48, 'SE I4 Automatic': 46, 'GLC 300 SUV RWD': 44, 'SE 2.4L': 43, 'GLS Sedan Automatic': 42, 'SE Sedan': 40, 'SEL FWD': 40, 'Touring Automatic': 40, 'Sport FWD': 38, 'C 250 Sport Sedan RWD': 34, 'i Sport 4-Door Automatic': 34, 'Sport 1.5T CVT': 33, 'SE AWD': 33, 'EX-L AWD': 32, 'Grand Touring AWD Automatic': 31, 'Limited FWD': 31, 'GLA 250 4MATIC': 31, 'CLA 250 FWD': 31, 'EX-L FWD': 31, 'L Automatic': 31, 'E 350 Sport Sedan RWD': 30, 'E 350 4MATIC Luxury Sedan': 30, 'EX Sedan CVT': 29, 'SEL 2.0L Sedan Automatic': 29, 'Touring FWD Automatic': 28, 'Sport AWD': 28, 'Two': 27, 'LE I4 Automatic': 26, 'GLC 300 RWD': 25, 'Base 2.4L FWD': 25, 'LX Sedan Automatic': 25, 'XLE AWD': 25, 'LX Sedan I4 CVT': 25, 'EX AWD': 25, 'GLA 250 FWD': 25, 'EX FWD': 24, 'i Touring Automatic': 24, 'EX-L Sedan I4 CVT': 23, 'EX-L': 23, 'C 300 4MATIC Sport Sedan': 23, 'SE Automatic': 23, 'Sport Automatic': 22, 'Grand Touring FWD Automatic': 22, 'i Touring 4-Door Automatic': 22, 'SE Hatchback': 22, 'Sport Sedan I4 CVT': 22, 'C 300 Sedan 4MATIC': 21, 'SE CVT': 21, 'Standard Roof 126\" Wheelbase': 21, 'GLE 350 SUV RWD': 21, 'SEL 2.0L Automatic': 20, 'Touring 4-Door Automatic': 19, 'GL 450 4MATIC': 19, 'i Touring 5-Door Automatic': 18, 'Four': 18, 'i Grand Touring Automatic': 18, 'LX FWD': 18, 'Titanium AWD': 18, 'L CVT': 17, 'XLE I4 Automatic': 17, 'GLK 350 RWD': 17, 'A 220 FWD': 17, 'GT Hatchback Automatic': 17, 'Value Edition 2.0L Sedan Automatic': 17, 'LE FWD': 16, 'XLE FWD': 16, 'LX AWD': 16, 'Touring AWD Automatic': 16, 'LE Automatic': 16, 'Hybrid SE FWD': 16, 'Sport Sedan CVT': 15, 'EX-L Sedan CVT': 15, 'SE 2.4L (PZEV)': 15, 'EX-L V6 Sedan Automatic': 15, 'SE 2.0L Sedan Automatic': 15, 'GLS 2.4L Automatic': 15, 'SE 2.4L FWD': 15, 'Limited AWD': 14, 'XL SuperCrew 5.5' Box 4WD': 14, 'Lariat 4WD Crew Cab 6.75' Box': 14, 'SE 4WD': 14, 'ML 350 4MATIC': 14, 'Sport 4-Door Automatic': 13, 'SE FWD Automatic': 13, '2014 SE I4 Automatic': 13, 'Sport 2.4L': 13, 'Limited 2.4L': 13, 'XLT Crew Cab 6.75' Box 4WD': 13, 'LE AWD': 12, ...}</td>\n",
       "      <td>{'Gas': 4426, 'Hybrid': 163, 'Diesel': 37, 'Plug-In Hybrid': 12, 'Electric': 8, 'Hydrogen': 4, 'CNG': 2}</td>\n",
       "    </tr>\n",
       "  </tbody>\n",
       "</table>\n",
       "</div>"
      ],
      "text/plain": [
       "                                                                                                         make  \\\n",
       "missing_ratio                                                                                               0   \n",
       "nunique                                                                                                     6   \n",
       "value_counts   {'Toyota': 798, 'Hyundai': 798, 'Mazda': 792, 'Mercedes-Benz': 788, 'Ford': 750, 'Honda': 726}   \n",
       "\n",
       "                                                                                                                                                                                                                                                                                                                                                                                                                                                                                                                                                                                                                                                                                                                                                                                                                                                                                                                                                                                                                                                                                                                                                                                                                                                                                                                                                                                                                                                                                                                                                                                                                                   model  \\\n",
       "missing_ratio                                                                                                                                                                                                                                                                                                                                                                                                                                                                                                                                                                                                                                                                                                                                                                                                                                                                                                                                                                                                                                                                                                                                                                                                                                                                                                                                                                                                                                                                                                                                                                                                                   0.107481   \n",
       "nunique                                                                                                                                                                                                                                                                                                                                                                                                                                                                                                                                                                                                                                                                                                                                                                                                                                                                                                                                                                                                                                                                                                                                                                                                                                                                                                                                                                                                                                                                                                                                                                                                                              104   \n",
       "value_counts   {'CX-5': 356, 'Elantra': 320, 'Corolla': 246, 'Civic': 227, 'C-Class': 225, 'Mazda3': 201, 'Camry': 188, 'Accord': 187, 'Sonata': 185, 'F-150': 163, 'CR-V': 142, 'Fusion': 124, 'Mazda6': 112, 'E-Class': 109, 'Super Duty F-250': 105, 'Tucson': 102, 'RAV4': 98, 'GLC': 97, 'Escape': 65, 'CX-9': 58, 'GLA': 57, 'Accent': 56, 'Focus': 54, 'Tacoma': 50, 'Prius': 47, 'GLE': 47, 'Santa Fe': 46, 'Odyssey': 46, 'Edge': 45, 'Pilot': 44, 'Santa Fe Sport': 43, 'Sienna': 42, 'CLA': 40, 'Transit Passenger Wagon': 38, 'Explorer': 38, 'Super Duty F-350': 37, 'HR-V': 33, 'Fiesta': 28, 'M-Class': 27, 'Veloster': 26, 'GLK': 25, 'S-Class': 25, '4Runner': 25, 'Highlander': 25, 'GL': 25, 'Fit': 23, 'CX-3': 22, 'A-Class': 18, 'Tundra': 17, 'MX-5 Miata': 17, 'GLS': 15, 'Mazda5': 15, 'Mustang': 13, 'Avalon': 13, 'Prius c': 11, 'Metris Passenger Van': 11, 'Sprinter Cargo Van': 11, 'SL': 11, 'Ridgeline': 10, 'Metris Cargo Van': 10, 'GLB': 8, 'Yaris': 7, 'Prius v': 7, 'Mazda2': 7, 'Taurus': 7, 'Genesis Coupe': 6, 'Venza': 6, 'CLS': 6, 'Transit Cargo Van': 6, 'C-Max': 6, 'Super Duty F-350 Chassis Cab': 5, 'Insight': 5, 'Mirai': 4, 'Genesis': 4, 'Sprinter Passenger Van': 4, 'Econoline Commercial Cutaway': 4, 'Passport': 4, 'Azera': 4, 'Transit Connect Van': 4, 'Expedition': 4, 'Sprinter Chassis Cabs': 3, 'B-Class': 3, 'CX-30': 3, 'C-HR': 3, 'SLK': 3, 'Yaris iA': 3, 'G-Class': 3, 'Equus': 2, 'FJ Cruiser': 2, 'Kona': 2, 'SLC': 2, 'Corolla iM': 2, 'AMG GT': 1, 'CR-Z': 1, 'Ranger': 1, 'Ioniq': 1, 'Clarity': 1, 'EcoSport': 1, 'Prius Prime': 1, 'Sprinter Crew Van': 1, ...}   \n",
       "\n",
       "                                                                                                                                                                                                                                                                                                                                                                                                                                                                                                                                                                                                                                                                                                                                                                                                                                                                                                                                                                                                                                                                                                                                                                                                                                                                                                                                                                                                                                                                                                                                                                                                                                                                                                                                                                                                                                                                                                                                                                                                                                                                                                                                                                                                                                                                                                                                                                                       body style  \\\n",
       "missing_ratio                                                                                                                                                                                                                                                                                                                                                                                                                                                                                                                                                                                                                                                                                                                                                                                                                                                                                                                                                                                                                                                                                                                                                                                                                                                                                                                                                                                                                                                                                                                                                                                                                                                                                                                                                                                                                                                                                                                                                                                                                                                                                                                                                                                                                                                                                                                                                                                   0   \n",
       "nunique                                                                                                                                                                                                                                                                                                                                                                                                                                                                                                                                                                                                                                                                                                                                                                                                                                                                                                                                                                                                                                                                                                                                                                                                                                                                                                                                                                                                                                                                                                                                                                                                                                                                                                                                                                                                                                                                                                                                                                                                                                                                                                                                                                                                                                                                                                                                                                                       753   \n",
       "value_counts   {'LE CVT': 135, 'SE FWD': 118, 'LX Sedan CVT': 85, 'Touring FWD': 79, 'C 300 Sedan RWD': 73, 'SEL 2.0L IVT': 65, 'Grand Touring FWD': 61, 'SE Sedan Automatic': 58, 'XLT SuperCrew 5.5' Box 4WD': 54, 'Grand Touring AWD': 52, 'C 300 4MATIC Sedan': 48, 'Touring AWD': 48, 'SE I4 Automatic': 46, 'GLC 300 SUV RWD': 44, 'SE 2.4L': 43, 'GLS Sedan Automatic': 42, 'SE Sedan': 40, 'SEL FWD': 40, 'Touring Automatic': 40, 'Sport FWD': 38, 'C 250 Sport Sedan RWD': 34, 'i Sport 4-Door Automatic': 34, 'Sport 1.5T CVT': 33, 'SE AWD': 33, 'EX-L AWD': 32, 'Grand Touring AWD Automatic': 31, 'Limited FWD': 31, 'GLA 250 4MATIC': 31, 'CLA 250 FWD': 31, 'EX-L FWD': 31, 'L Automatic': 31, 'E 350 Sport Sedan RWD': 30, 'E 350 4MATIC Luxury Sedan': 30, 'EX Sedan CVT': 29, 'SEL 2.0L Sedan Automatic': 29, 'Touring FWD Automatic': 28, 'Sport AWD': 28, 'Two': 27, 'LE I4 Automatic': 26, 'GLC 300 RWD': 25, 'Base 2.4L FWD': 25, 'LX Sedan Automatic': 25, 'XLE AWD': 25, 'LX Sedan I4 CVT': 25, 'EX AWD': 25, 'GLA 250 FWD': 25, 'EX FWD': 24, 'i Touring Automatic': 24, 'EX-L Sedan I4 CVT': 23, 'EX-L': 23, 'C 300 4MATIC Sport Sedan': 23, 'SE Automatic': 23, 'Sport Automatic': 22, 'Grand Touring FWD Automatic': 22, 'i Touring 4-Door Automatic': 22, 'SE Hatchback': 22, 'Sport Sedan I4 CVT': 22, 'C 300 Sedan 4MATIC': 21, 'SE CVT': 21, 'Standard Roof 126\" Wheelbase': 21, 'GLE 350 SUV RWD': 21, 'SEL 2.0L Automatic': 20, 'Touring 4-Door Automatic': 19, 'GL 450 4MATIC': 19, 'i Touring 5-Door Automatic': 18, 'Four': 18, 'i Grand Touring Automatic': 18, 'LX FWD': 18, 'Titanium AWD': 18, 'L CVT': 17, 'XLE I4 Automatic': 17, 'GLK 350 RWD': 17, 'A 220 FWD': 17, 'GT Hatchback Automatic': 17, 'Value Edition 2.0L Sedan Automatic': 17, 'LE FWD': 16, 'XLE FWD': 16, 'LX AWD': 16, 'Touring AWD Automatic': 16, 'LE Automatic': 16, 'Hybrid SE FWD': 16, 'Sport Sedan CVT': 15, 'EX-L Sedan CVT': 15, 'SE 2.4L (PZEV)': 15, 'EX-L V6 Sedan Automatic': 15, 'SE 2.0L Sedan Automatic': 15, 'GLS 2.4L Automatic': 15, 'SE 2.4L FWD': 15, 'Limited AWD': 14, 'XL SuperCrew 5.5' Box 4WD': 14, 'Lariat 4WD Crew Cab 6.75' Box': 14, 'SE 4WD': 14, 'ML 350 4MATIC': 14, 'Sport 4-Door Automatic': 13, 'SE FWD Automatic': 13, '2014 SE I4 Automatic': 13, 'Sport 2.4L': 13, 'Limited 2.4L': 13, 'XLT Crew Cab 6.75' Box 4WD': 13, 'LE AWD': 12, ...}   \n",
       "\n",
       "                                                                                                              fuel type  \n",
       "missing_ratio                                                                                                         0  \n",
       "nunique                                                                                                               7  \n",
       "value_counts   {'Gas': 4426, 'Hybrid': 163, 'Diesel': 37, 'Plug-In Hybrid': 12, 'Electric': 8, 'Hydrogen': 4, 'CNG': 2}  "
      ]
     },
     "execution_count": 26,
     "metadata": {},
     "output_type": "execute_result"
    }
   ],
   "source": [
    "cate_cols_df = used_car_df.select_dtypes(include = 'object')\n",
    "\n",
    "def value_counts(col):\n",
    "    return dict(col.value_counts())\n",
    "\n",
    "# tỉ lệ giá trị thiếu, số lượng giá trị duy nhất, thống kê giá trị duy nhất\n",
    "category_stat = cate_cols_df.agg([missing_ratio, pd.Series.nunique, value_counts])\n",
    "pd.set_option('display.max_colwidth', 10000)\n",
    "category_stat"
   ]
  },
  {
   "cell_type": "markdown",
   "metadata": {},
   "source": [
    "### Biểu đồ bar chart thể hiện số lượng xe của từng hãng"
   ]
  },
  {
   "cell_type": "code",
   "execution_count": 27,
   "metadata": {},
   "outputs": [
    {
     "data": {
      "text/plain": [
       "Text(0.5, 0, 'Số xe')"
      ]
     },
     "execution_count": 27,
     "metadata": {},
     "output_type": "execute_result"
    },
    {
     "data": {
      "image/png": "[encoded data removed]",
      "text/plain": [
       "<Figure size 432x288 with 1 Axes>"
      ]
     },
     "metadata": {
      "needs_background": "light"
     },
     "output_type": "display_data"
    }
   ],
   "source": [
    "used_car_df['make'].value_counts().plot.barh()\n",
    "plt.xlabel('Số xe')"
   ]
  },
  {
   "cell_type": "markdown",
   "metadata": {},
   "source": [
    "### Biểu đồ bar chart thể hiện mỗi quan hệ giữa: loại nhiên liệu và số lượng xe"
   ]
  },
  {
   "cell_type": "code",
   "execution_count": 28,
   "metadata": {},
   "outputs": [
    {
     "data": {
      "text/plain": [
       "Text(0.5, 0, 'Số xe')"
      ]
     },
     "execution_count": 28,
     "metadata": {},
     "output_type": "execute_result"
    },
    {
     "data": {
      "image/png": "[encoded data removed]",
      "text/plain": [
       "<Figure size 432x288 with 1 Axes>"
      ]
     },
     "metadata": {
      "needs_background": "light"
     },
     "output_type": "display_data"
    }
   ],
   "source": [
    "used_car_df['fuel type'].value_counts().plot.barh()\n",
    "plt.xlabel('Số xe')"
   ]
  },
  {
   "cell_type": "markdown",
   "metadata": {},
   "source": [
    "# Đặt câu hỏi"
   ]
  },
  {
   "cell_type": "markdown",
   "metadata": {},
   "source": [
    "**Câu hỏi:** làm sao để dự đoán giá trị của một chiếc xe cũ, đã qua sử dụng dựa trên các thông số của chiếc xe đó?\n",
    "\n",
    "Câu hỏi này giải quyết được 2 vấn đề trong thực tế:\n",
    "* Cho các người chủ muốn bán xe:\n",
    "    * Họ ước lượng trước được giá trị của chiếc xe mà mình muốn bán dựa trên giá thị trường hiện tại. Để khi đến bất kì nơi bán nào, họ có thể thương lượng giá cả tốt hơn\n",
    "* Cho các đại lý mua bán xe cũ:\n",
    "    * Biết được giá trị thị trường, để có thể thương lượng giá cả với người bán\n",
    "    * Nếu đã sở hữu xe cũ --> có thể đưa ra giá trị chiếc xe để bán đi"
   ]
  },
  {
   "cell_type": "markdown",
   "metadata": {},
   "source": [
    "# Tiền xử lý"
   ]
  },
  {
   "cell_type": "markdown",
   "metadata": {},
   "source": [
    "## Xóa cột \"body style\""
   ]
  },
  {
   "cell_type": "markdown",
   "metadata": {},
   "source": [
    "Ta thấy cột **\"body style\"** có quá nhiều giá trị có thể xảy ra nên có thể dẫn đến phức tạp cho mô hình dự đoán, ta phải xử lý nó bằng cách:\n",
    "* Xóa cột đó khỏi dataframe, ta không dự đoán giá trị chiếc xe trên thuộc tính **\"body style\"** nữa"
   ]
  },
  {
   "cell_type": "code",
   "execution_count": 29,
   "metadata": {},
   "outputs": [
    {
     "data": {
      "text/html": [
       "<div>\n",
       "<style scoped>\n",
       "    .dataframe tbody tr th:only-of-type {\n",
       "        vertical-align: middle;\n",
       "    }\n",
       "\n",
       "    .dataframe tbody tr th {\n",
       "        vertical-align: top;\n",
       "    }\n",
       "\n",
       "    .dataframe thead th {\n",
       "        text-align: right;\n",
       "    }\n",
       "</style>\n",
       "<table border=\"1\" class=\"dataframe\">\n",
       "  <thead>\n",
       "    <tr style=\"text-align: right;\">\n",
       "      <th></th>\n",
       "      <th>make</th>\n",
       "      <th>model</th>\n",
       "      <th>year</th>\n",
       "      <th>mileage</th>\n",
       "      <th>engine</th>\n",
       "      <th>fuel type</th>\n",
       "      <th>number of owners</th>\n",
       "      <th>price</th>\n",
       "    </tr>\n",
       "  </thead>\n",
       "  <tbody>\n",
       "    <tr>\n",
       "      <th>0</th>\n",
       "      <td>Honda</td>\n",
       "      <td>Odyssey</td>\n",
       "      <td>2013</td>\n",
       "      <td>122986.0</td>\n",
       "      <td>3.5</td>\n",
       "      <td>Gas</td>\n",
       "      <td>2.0</td>\n",
       "      <td>12895.0</td>\n",
       "    </tr>\n",
       "    <tr>\n",
       "      <th>1</th>\n",
       "      <td>Honda</td>\n",
       "      <td>Pilot</td>\n",
       "      <td>2013</td>\n",
       "      <td>80532.0</td>\n",
       "      <td>3.5</td>\n",
       "      <td>Gas</td>\n",
       "      <td>3.0</td>\n",
       "      <td>11694.0</td>\n",
       "    </tr>\n",
       "    <tr>\n",
       "      <th>2</th>\n",
       "      <td>Honda</td>\n",
       "      <td>CR-V</td>\n",
       "      <td>2013</td>\n",
       "      <td>79796.0</td>\n",
       "      <td>2.4</td>\n",
       "      <td>Gas</td>\n",
       "      <td>1.0</td>\n",
       "      <td>13590.0</td>\n",
       "    </tr>\n",
       "    <tr>\n",
       "      <th>3</th>\n",
       "      <td>Honda</td>\n",
       "      <td>Civic</td>\n",
       "      <td>2013</td>\n",
       "      <td>76882.0</td>\n",
       "      <td>1.8</td>\n",
       "      <td>Gas</td>\n",
       "      <td>1.0</td>\n",
       "      <td>7986.0</td>\n",
       "    </tr>\n",
       "    <tr>\n",
       "      <th>4</th>\n",
       "      <td>Honda</td>\n",
       "      <td>Civic</td>\n",
       "      <td>2013</td>\n",
       "      <td>113673.0</td>\n",
       "      <td>1.8</td>\n",
       "      <td>Gas</td>\n",
       "      <td>1.0</td>\n",
       "      <td>6990.0</td>\n",
       "    </tr>\n",
       "    <tr>\n",
       "      <th>...</th>\n",
       "      <td>...</td>\n",
       "      <td>...</td>\n",
       "      <td>...</td>\n",
       "      <td>...</td>\n",
       "      <td>...</td>\n",
       "      <td>...</td>\n",
       "      <td>...</td>\n",
       "      <td>...</td>\n",
       "    </tr>\n",
       "    <tr>\n",
       "      <th>4795</th>\n",
       "      <td>Mazda</td>\n",
       "      <td>CX-5</td>\n",
       "      <td>2020</td>\n",
       "      <td>13964.0</td>\n",
       "      <td>2.5</td>\n",
       "      <td>Gas</td>\n",
       "      <td>1.0</td>\n",
       "      <td>23888.0</td>\n",
       "    </tr>\n",
       "    <tr>\n",
       "      <th>4796</th>\n",
       "      <td>Mazda</td>\n",
       "      <td>CX-5</td>\n",
       "      <td>2020</td>\n",
       "      <td>3759.0</td>\n",
       "      <td>2.5</td>\n",
       "      <td>Gas</td>\n",
       "      <td>1.0</td>\n",
       "      <td>22498.0</td>\n",
       "    </tr>\n",
       "    <tr>\n",
       "      <th>4797</th>\n",
       "      <td>Mazda</td>\n",
       "      <td>CX-5</td>\n",
       "      <td>2020</td>\n",
       "      <td>9916.0</td>\n",
       "      <td>2.5</td>\n",
       "      <td>Gas</td>\n",
       "      <td>1.0</td>\n",
       "      <td>21990.0</td>\n",
       "    </tr>\n",
       "    <tr>\n",
       "      <th>4798</th>\n",
       "      <td>Mazda</td>\n",
       "      <td>CX-9</td>\n",
       "      <td>2020</td>\n",
       "      <td>5176.0</td>\n",
       "      <td>2.5</td>\n",
       "      <td>Gas</td>\n",
       "      <td>1.0</td>\n",
       "      <td>36992.0</td>\n",
       "    </tr>\n",
       "    <tr>\n",
       "      <th>4799</th>\n",
       "      <td>Mazda</td>\n",
       "      <td>CX-5</td>\n",
       "      <td>2020</td>\n",
       "      <td>4902.0</td>\n",
       "      <td>2.5</td>\n",
       "      <td>Gas</td>\n",
       "      <td>0.0</td>\n",
       "      <td>25737.0</td>\n",
       "    </tr>\n",
       "  </tbody>\n",
       "</table>\n",
       "<p>4652 rows × 8 columns</p>\n",
       "</div>"
      ],
      "text/plain": [
       "       make    model  year   mileage  engine fuel type  number of owners  \\\n",
       "0     Honda  Odyssey  2013  122986.0     3.5       Gas               2.0   \n",
       "1     Honda    Pilot  2013   80532.0     3.5       Gas               3.0   \n",
       "2     Honda     CR-V  2013   79796.0     2.4       Gas               1.0   \n",
       "3     Honda    Civic  2013   76882.0     1.8       Gas               1.0   \n",
       "4     Honda    Civic  2013  113673.0     1.8       Gas               1.0   \n",
       "...     ...      ...   ...       ...     ...       ...               ...   \n",
       "4795  Mazda     CX-5  2020   13964.0     2.5       Gas               1.0   \n",
       "4796  Mazda     CX-5  2020    3759.0     2.5       Gas               1.0   \n",
       "4797  Mazda     CX-5  2020    9916.0     2.5       Gas               1.0   \n",
       "4798  Mazda     CX-9  2020    5176.0     2.5       Gas               1.0   \n",
       "4799  Mazda     CX-5  2020    4902.0     2.5       Gas               0.0   \n",
       "\n",
       "        price  \n",
       "0     12895.0  \n",
       "1     11694.0  \n",
       "2     13590.0  \n",
       "3      7986.0  \n",
       "4      6990.0  \n",
       "...       ...  \n",
       "4795  23888.0  \n",
       "4796  22498.0  \n",
       "4797  21990.0  \n",
       "4798  36992.0  \n",
       "4799  25737.0  \n",
       "\n",
       "[4652 rows x 8 columns]"
      ]
     },
     "execution_count": 29,
     "metadata": {},
     "output_type": "execute_result"
    }
   ],
   "source": [
    "used_car_df = used_car_df.drop(columns = ['body style'], axis = 1)\n",
    "used_car_df"
   ]
  },
  {
   "cell_type": "code",
   "execution_count": 30,
   "metadata": {},
   "outputs": [
    {
     "data": {
      "text/plain": [
       "make                 object\n",
       "model                object\n",
       "year                  int64\n",
       "mileage             float64\n",
       "engine              float64\n",
       "fuel type            object\n",
       "number of owners    float64\n",
       "price               float64\n",
       "dtype: object"
      ]
     },
     "execution_count": 30,
     "metadata": {},
     "output_type": "execute_result"
    }
   ],
   "source": [
    "used_car_df.dtypes"
   ]
  },
  {
   "cell_type": "markdown",
   "metadata": {},
   "source": [
    "## Xử lý các cột có giá trị thiếu"
   ]
  },
  {
   "cell_type": "markdown",
   "metadata": {},
   "source": [
    "### Các cột dạng số"
   ]
  },
  {
   "cell_type": "markdown",
   "metadata": {},
   "source": [
    "Dựa vào bảng mô tả ở bước khám phá dữ liệu các cột dạng số bên trên, ta thấy có 3 cột có giá trị thiếu:\n",
    "* Cột **\"engine\"**\n",
    "* Cột **\"number of owners\"**\n",
    "* Cột **\"price\"**"
   ]
  },
  {
   "cell_type": "markdown",
   "metadata": {},
   "source": [
    "#### Xử lý cột \"engine\""
   ]
  },
  {
   "cell_type": "code",
   "execution_count": null,
   "metadata": {},
   "outputs": [],
   "source": [
    "# Tiến hành xử lý các giá trị thiếu cho cột \"engine\"\n",
    "# TODO"
   ]
  },
  {
   "cell_type": "markdown",
   "metadata": {},
   "source": [
    "#### Xử lý cột \"number of owners\""
   ]
  },
  {
   "cell_type": "markdown",
   "metadata": {},
   "source": [
    "Cột \"number of owners\" có giá trị min = 0 - nghĩa là xe cũ nhưng vẫn chưa có chủ sở hữu --> không phù hợp với tiêu chí thực hiện của. Chúng ta đang dự đoán giá xe mà đã qua sử dụng\n",
    "\n",
    "--> Giá trị trong cột \"number of owners\" mà bằng 0 thì ta sẽ gán cho nó = 1"
   ]
  },
  {
   "cell_type": "code",
   "execution_count": null,
   "metadata": {},
   "outputs": [],
   "source": [
    "# gán giá trị = 1 cho các giá trị đang = 0 trong cột \"number of owners\""
   ]
  },
  {
   "cell_type": "code",
   "execution_count": null,
   "metadata": {},
   "outputs": [],
   "source": [
    "# Tiến hành xử lý các giá trị thiếu cho cột \"number of owners\"\n",
    "# TODO"
   ]
  },
  {
   "cell_type": "markdown",
   "metadata": {},
   "source": [
    "#### Xử lý cột \"price\""
   ]
  },
  {
   "cell_type": "code",
   "execution_count": null,
   "metadata": {},
   "outputs": [],
   "source": [
    "# Tiến hành xử lý các giá trị thiếu cho cột \"price\"\n",
    "# TODO"
   ]
  },
  {
   "cell_type": "markdown",
   "metadata": {},
   "source": [
    "### Các cột không phải dạng số (category)"
   ]
  },
  {
   "cell_type": "markdown",
   "metadata": {},
   "source": [
    "Dựa vào bảng mô tả ở bước khám phá dữ liệu các cột dạng số bên trên, ta thấy chỉ có 1 cột có giá trị thiếu:\n",
    "* Cột **\"model\"**"
   ]
  },
  {
   "cell_type": "markdown",
   "metadata": {},
   "source": [
    "#### Xử lý cột \"model\""
   ]
  },
  {
   "cell_type": "code",
   "execution_count": null,
   "metadata": {},
   "outputs": [],
   "source": [
    "# Tiến hành xử lý các giá trị thiếu cho các cột\n",
    "# TODO"
   ]
  }
 ],
 "metadata": {
  "kernelspec": {
   "display_name": "Python 3",
   "language": "python",
   "name": "python3"
  },
  "language_info": {
   "codemirror_mode": {
    "name": "ipython",
    "version": 3
   },
   "file_extension": ".py",
   "mimetype": "text/x-python",
   "name": "python",
   "nbconvert_exporter": "python",
   "pygments_lexer": "ipython3",
   "version": "3.8.3"
  },
  "toc": {
   "base_numbering": 1,
   "nav_menu": {},
   "number_sections": true,
   "sideBar": true,
   "skip_h1_title": false,
   "title_cell": "Table of Contents",
   "title_sidebar": "Contents",
   "toc_cell": false,
   "toc_position": {
    "height": "calc(100% - 180px)",
    "left": "10px",
    "top": "150px",
    "width": "231.533px"
   },
   "toc_section_display": true,
   "toc_window_display": true
  }
 },
 "nbformat": 4,
 "nbformat_minor": 4
}
