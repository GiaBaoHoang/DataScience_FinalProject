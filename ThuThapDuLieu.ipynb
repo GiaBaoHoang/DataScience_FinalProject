{
 "cells": [
  {
   "cell_type": "code",
   "execution_count": 1,
   "metadata": {},
   "outputs": [],
   "source": [
    "import requests\n",
    "from bs4 import BeautifulSoup\n",
    "import re\n",
    "from selenium import webdriver\n",
    "from selenium.webdriver.common.keys import Keys\n",
    "import time"
   ]
  },
  {
   "cell_type": "code",
   "execution_count": 2,
   "metadata": {},
   "outputs": [],
   "source": [
    "# Mở Chrome và cho full màn hình\n",
    "browser = webdriver.Chrome(executable_path='C:/Users/Admin/Desktop/chromedriver')\n",
    "browser.maximize_window()"
   ]
  },
  {
   "cell_type": "code",
   "execution_count": 3,
   "metadata": {},
   "outputs": [],
   "source": [
    "# Mở trang web cần thu thập thông tin\n",
    "browser.get('https://www.truecar.com/used-cars-for-sale/listings/?sort[]=best_match')"
   ]
  },
  {
   "cell_type": "code",
   "execution_count": 4,
   "metadata": {
    "scrolled": true
   },
   "outputs": [],
   "source": [
    "# Cột bên trái chọn 3 hãng Honda, Ford, Huyndai, Years: 2013-2020 \n",
    "#- VD: năm 2013: lấy thông tin 100 xe Honda, 100 xe Ford, 100 xe Huyndai\n",
    "#- Tiếp tục làm vậy đến năm 2020\n",
    "#--> có tổng cộng (100*3)*8 = 2400 thông tin xe\n",
    "makes = ['Honda', 'Ford', 'Huyndai']\n",
    "start_year = 2013\n",
    "end_year = 2020"
   ]
  },
  {
   "cell_type": "code",
   "execution_count": 5,
   "metadata": {},
   "outputs": [],
   "source": [
    "#Chọn năm kết thúc\n",
    "#year_max = browser.find_elements_by_css_selector('[aria-label=\"Year Max\"] option')\n",
    "#for year_1 in year_max:\n",
    "#    if str(start_year) in year_1.text:\n",
    "#        year_1.click()\n",
    "#        break"
   ]
  },
  {
   "cell_type": "code",
   "execution_count": 6,
   "metadata": {},
   "outputs": [],
   "source": [
    "# chọn năm bắt đầu\n",
    "#year_min = browser.find_elements_by_css_selector('[aria-label=\"Year Min\"] option')\n",
    "#for year in year_min:\n",
    "#    if str(start_year) in year.text:\n",
    "#        year.click()\n",
    "#        break"
   ]
  },
  {
   "cell_type": "code",
   "execution_count": 7,
   "metadata": {},
   "outputs": [],
   "source": [
    "#Chọn hãng (Make)\n",
    "#make = browser.find_elements_by_css_selector('[aria-label=\"Make\"] option')\n",
    "#for i in make:\n",
    "#    if 'Honda' in i.text:\n",
    "#        i.click()\n",
    "#        break"
   ]
  },
  {
   "cell_type": "code",
   "execution_count": 8,
   "metadata": {},
   "outputs": [],
   "source": [
    "#browser.quit()"
   ]
  },
  {
   "cell_type": "code",
   "execution_count": 22,
   "metadata": {},
   "outputs": [
    {
     "name": "stdout",
     "output_type": "stream",
     "text": [
      "1\n",
      "2\n",
      "3\n",
      "4\n",
      "5\n",
      "6\n",
      "7\n",
      "8\n",
      "9\n",
      "10\n",
      "11\n",
      "12\n",
      "13\n",
      "14\n",
      "15\n",
      "16\n",
      "17\n",
      "18\n",
      "19\n",
      "20\n",
      "21\n",
      "22\n",
      "23\n",
      "24\n",
      "25\n",
      "26\n",
      "27\n",
      "28\n",
      "29\n",
      "30\n",
      "31\n",
      "32\n",
      "33\n"
     ]
    }
   ],
   "source": [
    "web = 'http://truecar.com'\n",
    "for make in makes:\n",
    "    #Chọn hãng (Make)\n",
    "    make_option = browser.find_elements_by_css_selector('[aria-label=\"Make\"] option')\n",
    "    for make_1 in make_option:\n",
    "        if make in make_1.text:\n",
    "            make_1.click()\n",
    "            break\n",
    "    time.sleep(1)\n",
    "    for year in range(start_year,end_year+1):\n",
    "        dem = 0\n",
    "        #Chọn năm kết thúc\n",
    "        year_max = browser.find_elements_by_css_selector('[aria-label=\"Year Max\"] option')\n",
    "        for year_1 in year_max:\n",
    "            if str(year) in year_1.text:\n",
    "                year_1.click()\n",
    "                break\n",
    "        time.sleep(1)\n",
    "        #chọn năm bắt đầu\n",
    "        year_min = browser.find_elements_by_css_selector('[aria-label=\"Year Min\"] option')\n",
    "        for year_2 in year_min:\n",
    "            if str(year) in year_2.text:\n",
    "                year_2.click()\n",
    "                break\n",
    "        time.sleep(1)\n",
    "        html_text = browser.page_source\n",
    "        tree = BeautifulSoup(html_text, 'html.parser')\n",
    "        cars = tree.find_all('div', {'data-qa': 'Listings'})\n",
    "        for car in cars:\n",
    "            url = car.find('a', {'class':'card card-1 card-shadow card-shadow-hover vehicle-card _1qd1muk'})['href']\n",
    "            car_html_text = requests.get(web+url).text\n",
    "            car_tree = BeautifulSoup(car_html_text, 'html.parser')\n",
    "            dem=dem+1\n",
    "            print(dem)\n",
    "        break\n",
    "    break"
   ]
  }
 ],
 "metadata": {
  "kernelspec": {
   "display_name": "Python 3",
   "language": "python",
   "name": "python3"
  },
  "language_info": {
   "codemirror_mode": {
    "name": "ipython",
    "version": 3
   },
   "file_extension": ".py",
   "mimetype": "text/x-python",
   "name": "python",
   "nbconvert_exporter": "python",
   "pygments_lexer": "ipython3",
   "version": "3.8.3"
  }
 },
 "nbformat": 4,
 "nbformat_minor": 4
}
