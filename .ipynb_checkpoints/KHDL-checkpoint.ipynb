{
 "cells": [
  {
   "cell_type": "markdown",
   "metadata": {
    "id": "k8o_i6mkpr07"
   },
   "source": [
    "# Khám phá dữ liệu"
   ]
  },
  {
   "cell_type": "code",
   "execution_count": 1,
   "metadata": {
    "id": "FUio5EjBpr1C"
   },
   "outputs": [],
   "source": [
    "import pandas as pd\n",
    "import matplotlib.pyplot as plt\n",
    "import numpy as np\n",
    "import re\n",
    "import seaborn as sns # seaborn là thư viện được xây trên matplotlib, giúp việc visualization đỡ khổ hơn\n",
    "from sklearn.model_selection import train_test_split\n",
    "from sklearn.preprocessing import OneHotEncoder, StandardScaler\n",
    "from sklearn.impute import SimpleImputer\n",
    "from sklearn.base import BaseEstimator, TransformerMixin\n",
    "from sklearn.pipeline import Pipeline, make_pipeline\n",
    "from sklearn.compose import ColumnTransformer, make_column_transformer\n",
    "from sklearn.neural_network import MLPRegressor\n",
    "from sklearn import set_config\n",
    "set_config(display = 'diagram') # Để trực quan hóa pipeline\n",
    "\n",
    "import warnings\n",
    "warnings.filterwarnings('ignore')\n",
    "\n",
    "%matplotlib inline"
   ]
  },
  {
   "cell_type": "code",
   "execution_count": 2,
   "metadata": {
    "colab": {
     "base_uri": "https://localhost:8080/",
     "height": 206
    },
    "id": "9wYlh-hmpr1O",
    "outputId": "3503a1b8-b978-47b2-cf78-d5eec5002797"
   },
   "outputs": [
    {
     "data": {
      "text/html": [
       "<div>\n",
       "<style scoped>\n",
       "    .dataframe tbody tr th:only-of-type {\n",
       "        vertical-align: middle;\n",
       "    }\n",
       "\n",
       "    .dataframe tbody tr th {\n",
       "        vertical-align: top;\n",
       "    }\n",
       "\n",
       "    .dataframe thead th {\n",
       "        text-align: right;\n",
       "    }\n",
       "</style>\n",
       "<table border=\"1\" class=\"dataframe\">\n",
       "  <thead>\n",
       "    <tr style=\"text-align: right;\">\n",
       "      <th></th>\n",
       "      <th>make</th>\n",
       "      <th>model</th>\n",
       "      <th>body style</th>\n",
       "      <th>year</th>\n",
       "      <th>mileage</th>\n",
       "      <th>engine</th>\n",
       "      <th>fuel type</th>\n",
       "      <th>number of owners</th>\n",
       "      <th>price</th>\n",
       "    </tr>\n",
       "  </thead>\n",
       "  <tbody>\n",
       "    <tr>\n",
       "      <th>0</th>\n",
       "      <td>Honda</td>\n",
       "      <td>Odyssey</td>\n",
       "      <td>Touring Elite</td>\n",
       "      <td>2013</td>\n",
       "      <td>122,986</td>\n",
       "      <td>3.5L V-6 Gas</td>\n",
       "      <td>Gas</td>\n",
       "      <td>2.0</td>\n",
       "      <td>12,895</td>\n",
       "    </tr>\n",
       "    <tr>\n",
       "      <th>1</th>\n",
       "      <td>Honda</td>\n",
       "      <td>Pilot</td>\n",
       "      <td>EX FWD</td>\n",
       "      <td>2013</td>\n",
       "      <td>80,532</td>\n",
       "      <td>3.5L V-6 Gas</td>\n",
       "      <td>Gas</td>\n",
       "      <td>3.0</td>\n",
       "      <td>11,694</td>\n",
       "    </tr>\n",
       "    <tr>\n",
       "      <th>2</th>\n",
       "      <td>Honda</td>\n",
       "      <td>CR-V</td>\n",
       "      <td>LX FWD</td>\n",
       "      <td>2013</td>\n",
       "      <td>79,796</td>\n",
       "      <td>2.4L Inline-4 Gas</td>\n",
       "      <td>Gas</td>\n",
       "      <td>1.0</td>\n",
       "      <td>13,590</td>\n",
       "    </tr>\n",
       "    <tr>\n",
       "      <th>3</th>\n",
       "      <td>Honda</td>\n",
       "      <td>Civic</td>\n",
       "      <td>LX Sedan Automatic</td>\n",
       "      <td>2013</td>\n",
       "      <td>76,882</td>\n",
       "      <td>1.8L Inline-4 Gas</td>\n",
       "      <td>Gas</td>\n",
       "      <td>1.0</td>\n",
       "      <td>7,986</td>\n",
       "    </tr>\n",
       "    <tr>\n",
       "      <th>4</th>\n",
       "      <td>Honda</td>\n",
       "      <td>Civic</td>\n",
       "      <td>LX Sedan Automatic</td>\n",
       "      <td>2013</td>\n",
       "      <td>113,673</td>\n",
       "      <td>1.8L Inline-4 Gas</td>\n",
       "      <td>Gas</td>\n",
       "      <td>1.0</td>\n",
       "      <td>6,990</td>\n",
       "    </tr>\n",
       "  </tbody>\n",
       "</table>\n",
       "</div>"
      ],
      "text/plain": [
       "    make    model          body style  year  mileage             engine  \\\n",
       "0  Honda  Odyssey       Touring Elite  2013  122,986       3.5L V-6 Gas   \n",
       "1  Honda    Pilot              EX FWD  2013   80,532       3.5L V-6 Gas   \n",
       "2  Honda     CR-V              LX FWD  2013   79,796  2.4L Inline-4 Gas   \n",
       "3  Honda    Civic  LX Sedan Automatic  2013   76,882  1.8L Inline-4 Gas   \n",
       "4  Honda    Civic  LX Sedan Automatic  2013  113,673  1.8L Inline-4 Gas   \n",
       "\n",
       "  fuel type  number of owners   price  \n",
       "0       Gas               2.0  12,895  \n",
       "1       Gas               3.0  11,694  \n",
       "2       Gas               1.0  13,590  \n",
       "3       Gas               1.0   7,986  \n",
       "4       Gas               1.0   6,990  "
      ]
     },
     "execution_count": 2,
     "metadata": {},
     "output_type": "execute_result"
    }
   ],
   "source": [
    "raw_used_car_df = pd.read_csv('raw_data.csv', sep = '\\t')\n",
    "raw_used_car_df.head()"
   ]
  },
  {
   "cell_type": "markdown",
   "metadata": {
    "id": "CXSCh0SEpr1Q"
   },
   "source": [
    "## Dữ liệu có bao nhiêu dòng, bao nhiêu cột?"
   ]
  },
  {
   "cell_type": "code",
   "execution_count": 3,
   "metadata": {
    "colab": {
     "base_uri": "https://localhost:8080/"
    },
    "id": "gQnCjGiupr1S",
    "outputId": "4541bb64-79e1-4570-e732-acaacb98f3e2"
   },
   "outputs": [
    {
     "data": {
      "text/plain": [
       "(4800, 9)"
      ]
     },
     "execution_count": 3,
     "metadata": {},
     "output_type": "execute_result"
    }
   ],
   "source": [
    "raw_used_car_df.shape"
   ]
  },
  {
   "cell_type": "markdown",
   "metadata": {
    "id": "cq7b2oh9pr1S"
   },
   "source": [
    "## Mỗi dòng có ý nghĩa gì? Có vấn đề các dòng ý nghĩa khác nhau không?"
   ]
  },
  {
   "cell_type": "markdown",
   "metadata": {
    "id": "Z-9UY0jPpr1U"
   },
   "source": [
    "Mỗi dòng cho biết thông tin cơ bản về 1 chiếc xe\n",
    "\n",
    "Các dòng có ý nghĩa là giống nhau"
   ]
  },
  {
   "cell_type": "markdown",
   "metadata": {
    "id": "SItyiprjpr1U"
   },
   "source": [
    "## Dữ liệu có các dòng bị lặp không?"
   ]
  },
  {
   "cell_type": "code",
   "execution_count": 4,
   "metadata": {
    "colab": {
     "base_uri": "https://localhost:8080/"
    },
    "id": "O8xVscEGpr1V",
    "outputId": "727eec95-2855-4434-f3cd-aa1a4d500a75"
   },
   "outputs": [
    {
     "data": {
      "text/plain": [
       "0       False\n",
       "1       False\n",
       "2       False\n",
       "3       False\n",
       "4       False\n",
       "        ...  \n",
       "4795    False\n",
       "4796    False\n",
       "4797    False\n",
       "4798    False\n",
       "4799    False\n",
       "Length: 4800, dtype: bool"
      ]
     },
     "execution_count": 4,
     "metadata": {},
     "output_type": "execute_result"
    }
   ],
   "source": [
    "raw_used_car_df.duplicated()"
   ]
  },
  {
   "cell_type": "code",
   "execution_count": 5,
   "metadata": {
    "colab": {
     "base_uri": "https://localhost:8080/"
    },
    "id": "oUe6JM_cpr1W",
    "outputId": "00ef561b-9ef9-4570-b975-69baebb0ac37"
   },
   "outputs": [
    {
     "data": {
      "text/plain": [
       "148"
      ]
     },
     "execution_count": 5,
     "metadata": {},
     "output_type": "execute_result"
    }
   ],
   "source": [
    "# Bao nhiêu dòng bị lặp?\n",
    "num_row_dup = raw_used_car_df.duplicated().sum()\n",
    "num_row_dup"
   ]
  },
  {
   "cell_type": "code",
   "execution_count": 6,
   "metadata": {
    "colab": {
     "base_uri": "https://localhost:8080/",
     "height": 424
    },
    "id": "2ruyYeoBpr1W",
    "outputId": "2a103b2e-2d6d-4fe0-fd06-e678b1e7a0c0"
   },
   "outputs": [
    {
     "data": {
      "text/html": [
       "<div>\n",
       "<style scoped>\n",
       "    .dataframe tbody tr th:only-of-type {\n",
       "        vertical-align: middle;\n",
       "    }\n",
       "\n",
       "    .dataframe tbody tr th {\n",
       "        vertical-align: top;\n",
       "    }\n",
       "\n",
       "    .dataframe thead th {\n",
       "        text-align: right;\n",
       "    }\n",
       "</style>\n",
       "<table border=\"1\" class=\"dataframe\">\n",
       "  <thead>\n",
       "    <tr style=\"text-align: right;\">\n",
       "      <th></th>\n",
       "      <th>make</th>\n",
       "      <th>model</th>\n",
       "      <th>body style</th>\n",
       "      <th>year</th>\n",
       "      <th>mileage</th>\n",
       "      <th>engine</th>\n",
       "      <th>fuel type</th>\n",
       "      <th>number of owners</th>\n",
       "      <th>price</th>\n",
       "    </tr>\n",
       "  </thead>\n",
       "  <tbody>\n",
       "    <tr>\n",
       "      <th>393</th>\n",
       "      <td>Honda</td>\n",
       "      <td>Accord</td>\n",
       "      <td>EX-L Sedan I4 CVT</td>\n",
       "      <td>2016</td>\n",
       "      <td>66,848</td>\n",
       "      <td>2.4L Inline-4 Gas</td>\n",
       "      <td>Gas</td>\n",
       "      <td>2.0</td>\n",
       "      <td>15,995</td>\n",
       "    </tr>\n",
       "    <tr>\n",
       "      <th>394</th>\n",
       "      <td>Honda</td>\n",
       "      <td>Pilot</td>\n",
       "      <td>EX-L AWD</td>\n",
       "      <td>2016</td>\n",
       "      <td>124,363</td>\n",
       "      <td>3.5L V-6 Gas</td>\n",
       "      <td>Gas</td>\n",
       "      <td>1.0</td>\n",
       "      <td>17,792</td>\n",
       "    </tr>\n",
       "    <tr>\n",
       "      <th>395</th>\n",
       "      <td>Honda</td>\n",
       "      <td>Civic</td>\n",
       "      <td>EX Sedan CVT</td>\n",
       "      <td>2016</td>\n",
       "      <td>79,118</td>\n",
       "      <td>2.0L Inline-4 Gas</td>\n",
       "      <td>Gas</td>\n",
       "      <td>2.0</td>\n",
       "      <td>13,000</td>\n",
       "    </tr>\n",
       "    <tr>\n",
       "      <th>396</th>\n",
       "      <td>Honda</td>\n",
       "      <td>Civic</td>\n",
       "      <td>LX Sedan CVT</td>\n",
       "      <td>2016</td>\n",
       "      <td>53,433</td>\n",
       "      <td>2.0L Inline-4 Gas</td>\n",
       "      <td>Gas</td>\n",
       "      <td>1.0</td>\n",
       "      <td>10,970</td>\n",
       "    </tr>\n",
       "    <tr>\n",
       "      <th>397</th>\n",
       "      <td>Honda</td>\n",
       "      <td>Accord</td>\n",
       "      <td>EX-L V6 Sedan Automatic</td>\n",
       "      <td>2016</td>\n",
       "      <td>98,855</td>\n",
       "      <td>3.5L V-6 Gas</td>\n",
       "      <td>Gas</td>\n",
       "      <td>1.0</td>\n",
       "      <td>12,995</td>\n",
       "    </tr>\n",
       "    <tr>\n",
       "      <th>...</th>\n",
       "      <td>...</td>\n",
       "      <td>...</td>\n",
       "      <td>...</td>\n",
       "      <td>...</td>\n",
       "      <td>...</td>\n",
       "      <td>...</td>\n",
       "      <td>...</td>\n",
       "      <td>...</td>\n",
       "      <td>...</td>\n",
       "    </tr>\n",
       "    <tr>\n",
       "      <th>4233</th>\n",
       "      <td>Mazda</td>\n",
       "      <td>Mazda3</td>\n",
       "      <td>i Touring 4-Door Automatic</td>\n",
       "      <td>2015</td>\n",
       "      <td>161,366</td>\n",
       "      <td>2.0L Inline-4 Gas</td>\n",
       "      <td>Gas</td>\n",
       "      <td>1.0</td>\n",
       "      <td>6,990</td>\n",
       "    </tr>\n",
       "    <tr>\n",
       "      <th>4234</th>\n",
       "      <td>Mazda</td>\n",
       "      <td>CX-5</td>\n",
       "      <td>Grand Touring AWD Automatic</td>\n",
       "      <td>2015</td>\n",
       "      <td>81,477</td>\n",
       "      <td>2.5L Inline-4 Gas</td>\n",
       "      <td>Gas</td>\n",
       "      <td>1.0</td>\n",
       "      <td>14,995</td>\n",
       "    </tr>\n",
       "    <tr>\n",
       "      <th>4288</th>\n",
       "      <td>Mazda</td>\n",
       "      <td>CX-5</td>\n",
       "      <td>Grand Touring AWD Automatic</td>\n",
       "      <td>2015</td>\n",
       "      <td>95,609</td>\n",
       "      <td>2.5L Inline-4 Gas</td>\n",
       "      <td>Gas</td>\n",
       "      <td>1.0</td>\n",
       "      <td>12,955</td>\n",
       "    </tr>\n",
       "    <tr>\n",
       "      <th>4658</th>\n",
       "      <td>Mazda</td>\n",
       "      <td>Mazda6</td>\n",
       "      <td>Touring Automatic</td>\n",
       "      <td>2019</td>\n",
       "      <td>29,144</td>\n",
       "      <td>2.5L Inline-4 Gas</td>\n",
       "      <td>Gas</td>\n",
       "      <td>1.0</td>\n",
       "      <td>19,200</td>\n",
       "    </tr>\n",
       "    <tr>\n",
       "      <th>4737</th>\n",
       "      <td>Mazda</td>\n",
       "      <td>CX-5</td>\n",
       "      <td>Touring FWD</td>\n",
       "      <td>2020</td>\n",
       "      <td>14</td>\n",
       "      <td>2.5L Inline-4 Gas</td>\n",
       "      <td>Gas</td>\n",
       "      <td>1.0</td>\n",
       "      <td>25,077</td>\n",
       "    </tr>\n",
       "  </tbody>\n",
       "</table>\n",
       "<p>148 rows × 9 columns</p>\n",
       "</div>"
      ],
      "text/plain": [
       "       make   model                   body style  year  mileage  \\\n",
       "393   Honda  Accord            EX-L Sedan I4 CVT  2016   66,848   \n",
       "394   Honda   Pilot                     EX-L AWD  2016  124,363   \n",
       "395   Honda   Civic                 EX Sedan CVT  2016   79,118   \n",
       "396   Honda   Civic                 LX Sedan CVT  2016   53,433   \n",
       "397   Honda  Accord      EX-L V6 Sedan Automatic  2016   98,855   \n",
       "...     ...     ...                          ...   ...      ...   \n",
       "4233  Mazda  Mazda3   i Touring 4-Door Automatic  2015  161,366   \n",
       "4234  Mazda    CX-5  Grand Touring AWD Automatic  2015   81,477   \n",
       "4288  Mazda    CX-5  Grand Touring AWD Automatic  2015   95,609   \n",
       "4658  Mazda  Mazda6            Touring Automatic  2019   29,144   \n",
       "4737  Mazda    CX-5                  Touring FWD  2020       14   \n",
       "\n",
       "                 engine fuel type  number of owners   price  \n",
       "393   2.4L Inline-4 Gas       Gas               2.0  15,995  \n",
       "394        3.5L V-6 Gas       Gas               1.0  17,792  \n",
       "395   2.0L Inline-4 Gas       Gas               2.0  13,000  \n",
       "396   2.0L Inline-4 Gas       Gas               1.0  10,970  \n",
       "397        3.5L V-6 Gas       Gas               1.0  12,995  \n",
       "...                 ...       ...               ...     ...  \n",
       "4233  2.0L Inline-4 Gas       Gas               1.0   6,990  \n",
       "4234  2.5L Inline-4 Gas       Gas               1.0  14,995  \n",
       "4288  2.5L Inline-4 Gas       Gas               1.0  12,955  \n",
       "4658  2.5L Inline-4 Gas       Gas               1.0  19,200  \n",
       "4737  2.5L Inline-4 Gas       Gas               1.0  25,077  \n",
       "\n",
       "[148 rows x 9 columns]"
      ]
     },
     "execution_count": 6,
     "metadata": {},
     "output_type": "execute_result"
    }
   ],
   "source": [
    "# Dòng nào bị lặp?\n",
    "duplicated_rows = raw_used_car_df[raw_used_car_df.duplicated()]\n",
    "duplicated_rows"
   ]
  },
  {
   "cell_type": "code",
   "execution_count": 7,
   "metadata": {
    "id": "-oJMQ1-Epr1Z"
   },
   "outputs": [],
   "source": [
    "group_cars = raw_used_car_df.groupby(['make', 'model', 'body style', 'year'])"
   ]
  },
  {
   "cell_type": "code",
   "execution_count": 8,
   "metadata": {
    "colab": {
     "base_uri": "https://localhost:8080/",
     "height": 206
    },
    "id": "XzWH5x2qpr1a",
    "outputId": "54d65cdf-7c12-4928-c77f-d51046d9c441"
   },
   "outputs": [
    {
     "data": {
      "text/html": [
       "<div>\n",
       "<style scoped>\n",
       "    .dataframe tbody tr th:only-of-type {\n",
       "        vertical-align: middle;\n",
       "    }\n",
       "\n",
       "    .dataframe tbody tr th {\n",
       "        vertical-align: top;\n",
       "    }\n",
       "\n",
       "    .dataframe thead th {\n",
       "        text-align: right;\n",
       "    }\n",
       "</style>\n",
       "<table border=\"1\" class=\"dataframe\">\n",
       "  <thead>\n",
       "    <tr style=\"text-align: right;\">\n",
       "      <th></th>\n",
       "      <th>make</th>\n",
       "      <th>model</th>\n",
       "      <th>body style</th>\n",
       "      <th>year</th>\n",
       "      <th>mileage</th>\n",
       "      <th>engine</th>\n",
       "      <th>fuel type</th>\n",
       "      <th>number of owners</th>\n",
       "      <th>price</th>\n",
       "    </tr>\n",
       "  </thead>\n",
       "  <tbody>\n",
       "    <tr>\n",
       "      <th>332</th>\n",
       "      <td>Honda</td>\n",
       "      <td>Accord</td>\n",
       "      <td>EX-L Sedan I4 CVT</td>\n",
       "      <td>2016</td>\n",
       "      <td>195,707</td>\n",
       "      <td>2.4L Inline-4 Gas</td>\n",
       "      <td>Gas</td>\n",
       "      <td>1.0</td>\n",
       "      <td>10,912</td>\n",
       "    </tr>\n",
       "    <tr>\n",
       "      <th>346</th>\n",
       "      <td>Honda</td>\n",
       "      <td>Accord</td>\n",
       "      <td>EX-L Sedan I4 CVT</td>\n",
       "      <td>2016</td>\n",
       "      <td>35,471</td>\n",
       "      <td>2.4L Inline-4 Gas</td>\n",
       "      <td>Gas</td>\n",
       "      <td>1.0</td>\n",
       "      <td>15,793</td>\n",
       "    </tr>\n",
       "    <tr>\n",
       "      <th>363</th>\n",
       "      <td>Honda</td>\n",
       "      <td>Accord</td>\n",
       "      <td>EX-L Sedan I4 CVT</td>\n",
       "      <td>2016</td>\n",
       "      <td>66,848</td>\n",
       "      <td>2.4L Inline-4 Gas</td>\n",
       "      <td>Gas</td>\n",
       "      <td>2.0</td>\n",
       "      <td>15,995</td>\n",
       "    </tr>\n",
       "    <tr>\n",
       "      <th>378</th>\n",
       "      <td>Honda</td>\n",
       "      <td>Accord</td>\n",
       "      <td>EX-L Sedan I4 CVT</td>\n",
       "      <td>2016</td>\n",
       "      <td>94,394</td>\n",
       "      <td>2.4L Inline-4 Gas</td>\n",
       "      <td>Gas</td>\n",
       "      <td>1.0</td>\n",
       "      <td>11,900</td>\n",
       "    </tr>\n",
       "    <tr>\n",
       "      <th>393</th>\n",
       "      <td>Honda</td>\n",
       "      <td>Accord</td>\n",
       "      <td>EX-L Sedan I4 CVT</td>\n",
       "      <td>2016</td>\n",
       "      <td>66,848</td>\n",
       "      <td>2.4L Inline-4 Gas</td>\n",
       "      <td>Gas</td>\n",
       "      <td>2.0</td>\n",
       "      <td>15,995</td>\n",
       "    </tr>\n",
       "  </tbody>\n",
       "</table>\n",
       "</div>"
      ],
      "text/plain": [
       "      make   model         body style  year  mileage             engine  \\\n",
       "332  Honda  Accord  EX-L Sedan I4 CVT  2016  195,707  2.4L Inline-4 Gas   \n",
       "346  Honda  Accord  EX-L Sedan I4 CVT  2016   35,471  2.4L Inline-4 Gas   \n",
       "363  Honda  Accord  EX-L Sedan I4 CVT  2016   66,848  2.4L Inline-4 Gas   \n",
       "378  Honda  Accord  EX-L Sedan I4 CVT  2016   94,394  2.4L Inline-4 Gas   \n",
       "393  Honda  Accord  EX-L Sedan I4 CVT  2016   66,848  2.4L Inline-4 Gas   \n",
       "\n",
       "    fuel type  number of owners   price  \n",
       "332       Gas               1.0  10,912  \n",
       "346       Gas               1.0  15,793  \n",
       "363       Gas               2.0  15,995  \n",
       "378       Gas               1.0  11,900  \n",
       "393       Gas               2.0  15,995  "
      ]
     },
     "execution_count": 8,
     "metadata": {},
     "output_type": "execute_result"
    }
   ],
   "source": [
    "# Kiểm tra thử dòng 393 xem có đúng là dòng 393 bị lặp không?\n",
    "# --> đúng, ta thấy dòng 393 bị lặp lại dòng 363 trong bảng dưới\n",
    "group_cars.get_group(('Honda', 'Accord', 'EX-L Sedan I4 CVT', 2016))"
   ]
  },
  {
   "cell_type": "code",
   "execution_count": 9,
   "metadata": {
    "id": "U2dgnTlppr1a"
   },
   "outputs": [],
   "source": [
    "# Bỏ đi các dòng bị lặp, gán vào dataframe mới\n",
    "used_car_df = raw_used_car_df.drop_duplicates()"
   ]
  },
  {
   "cell_type": "code",
   "execution_count": 10,
   "metadata": {
    "colab": {
     "base_uri": "https://localhost:8080/"
    },
    "id": "2XB4-xHnpr1a",
    "outputId": "006f6cd5-d0e9-4ed9-ca75-c8aaae21002f"
   },
   "outputs": [
    {
     "data": {
      "text/plain": [
       "(4652, 9)"
      ]
     },
     "execution_count": 10,
     "metadata": {},
     "output_type": "execute_result"
    }
   ],
   "source": [
    "used_car_df.shape"
   ]
  },
  {
   "cell_type": "code",
   "execution_count": 11,
   "metadata": {
    "colab": {
     "base_uri": "https://localhost:8080/"
    },
    "id": "z3WJYj08pr1b",
    "outputId": "6fc6b544-ce50-4a7b-8147-e07b8ca66e72"
   },
   "outputs": [
    {
     "data": {
      "text/plain": [
       "0"
      ]
     },
     "execution_count": 11,
     "metadata": {},
     "output_type": "execute_result"
    }
   ],
   "source": [
    "# Kiểm tra lại dataframe mới có còn dòng nào bị lặp không?\n",
    "num_dup = used_car_df.duplicated().sum()\n",
    "num_dup"
   ]
  },
  {
   "cell_type": "code",
   "execution_count": 12,
   "metadata": {
    "id": "z8vaGp4epr1c"
   },
   "outputs": [],
   "source": [
    "# Test\n",
    "assert num_dup == 0\n",
    "assert used_car_df.shape == (raw_used_car_df.shape[0] - num_row_dup, raw_used_car_df.shape[1])"
   ]
  },
  {
   "cell_type": "markdown",
   "metadata": {
    "id": "I7r5KRv0pr1c"
   },
   "source": [
    "## Mỗi cột có ý nghĩa gì?"
   ]
  },
  {
   "cell_type": "code",
   "execution_count": 13,
   "metadata": {
    "colab": {
     "base_uri": "https://localhost:8080/",
     "height": 0
    },
    "id": "Zn2Uuf3ypr1c",
    "outputId": "31ebe81c-7286-495d-982d-6294812f7eaf"
   },
   "outputs": [
    {
     "data": {
      "text/html": [
       "<div>\n",
       "<style scoped>\n",
       "    .dataframe tbody tr th:only-of-type {\n",
       "        vertical-align: middle;\n",
       "    }\n",
       "\n",
       "    .dataframe tbody tr th {\n",
       "        vertical-align: top;\n",
       "    }\n",
       "\n",
       "    .dataframe thead th {\n",
       "        text-align: right;\n",
       "    }\n",
       "</style>\n",
       "<table border=\"1\" class=\"dataframe\">\n",
       "  <thead>\n",
       "    <tr style=\"text-align: right;\">\n",
       "      <th></th>\n",
       "      <th>make</th>\n",
       "      <th>model</th>\n",
       "      <th>body style</th>\n",
       "      <th>year</th>\n",
       "      <th>mileage</th>\n",
       "      <th>engine</th>\n",
       "      <th>fuel type</th>\n",
       "      <th>number of owners</th>\n",
       "      <th>price</th>\n",
       "    </tr>\n",
       "  </thead>\n",
       "  <tbody>\n",
       "    <tr>\n",
       "      <th>0</th>\n",
       "      <td>Honda</td>\n",
       "      <td>Odyssey</td>\n",
       "      <td>Touring Elite</td>\n",
       "      <td>2013</td>\n",
       "      <td>122,986</td>\n",
       "      <td>3.5L V-6 Gas</td>\n",
       "      <td>Gas</td>\n",
       "      <td>2.0</td>\n",
       "      <td>12,895</td>\n",
       "    </tr>\n",
       "  </tbody>\n",
       "</table>\n",
       "</div>"
      ],
      "text/plain": [
       "    make    model     body style  year  mileage        engine fuel type  \\\n",
       "0  Honda  Odyssey  Touring Elite  2013  122,986  3.5L V-6 Gas       Gas   \n",
       "\n",
       "   number of owners   price  \n",
       "0               2.0  12,895  "
      ]
     },
     "execution_count": 13,
     "metadata": {},
     "output_type": "execute_result"
    }
   ],
   "source": [
    "used_car_df.head(1)"
   ]
  },
  {
   "cell_type": "markdown",
   "metadata": {
    "id": "fZAU38IZpr1d"
   },
   "source": [
    "* <b>Cột \"make\"</b>:             tên hãng xe\n",
    "* <b>Cột \"model\"</b>:            tên dòng xe\n",
    "* <b>Cột \"body style\"</b>:       dáng xe (kết cấu thân xe)\n",
    "* <b>Cột \"year\"</b>:             năm sản xuất chiếc xe\n",
    "* <b>Cột \"mileage\"</b>:          tổng số dặm xe đã đi\n",
    "* <b>Cột \"engine\"</b>:           thông số động cơ xe\n",
    "* <b>Cột \"fuel type\"</b>:        xe đi loại nhiên liệu gì?\n",
    "* <b>Cột \"number of owners\"</b>: xe đã qua tay bao nhiêu đời chủ rồi?\n",
    "* <b>Cột \"price\"</b>:            giá thành xe hiện được bán"
   ]
  },
  {
   "cell_type": "markdown",
   "metadata": {
    "id": "FDicOj7kpr1d"
   },
   "source": [
    "## Mỗi cột hiện đang có kiểu dữ liệu gì? Có cột nào có kiểu dữ liệu chưa phù hợp để xử lý tiếp không?"
   ]
  },
  {
   "cell_type": "code",
   "execution_count": 14,
   "metadata": {
    "colab": {
     "base_uri": "https://localhost:8080/"
    },
    "id": "A4yllmG5pr1e",
    "outputId": "15b6a125-5c45-4412-e567-f68a3996db7d"
   },
   "outputs": [
    {
     "data": {
      "text/plain": [
       "make                 object\n",
       "model                object\n",
       "body style           object\n",
       "year                  int64\n",
       "mileage              object\n",
       "engine               object\n",
       "fuel type            object\n",
       "number of owners    float64\n",
       "price                object\n",
       "dtype: object"
      ]
     },
     "execution_count": 14,
     "metadata": {},
     "output_type": "execute_result"
    }
   ],
   "source": [
    "dtypes = used_car_df.dtypes\n",
    "dtypes"
   ]
  },
  {
   "cell_type": "markdown",
   "metadata": {
    "id": "m9X6aIsVpr1e"
   },
   "source": [
    "Trong Pandas, kiểu dữ liệu \"object\" thường ám chỉ chuỗi. Tuy nhiên, \"object\" có thể ám chỉ một kiểu dữ liệu bất kỳ. \"object\" giống như con trỏ, có thể trỏ tới một đối tượng bất kỳ\n",
    "\n",
    "Để biết chính xác kiểu dữ liệu đang được lưu, tiến hành lấy giá trị từng cột để xem"
   ]
  },
  {
   "cell_type": "code",
   "execution_count": 15,
   "metadata": {
    "colab": {
     "base_uri": "https://localhost:8080/"
    },
    "id": "UiXokHcBpr1e",
    "outputId": "73c0ecaf-5e7e-4b72-96ab-975db2a88d86"
   },
   "outputs": [
    {
     "name": "stdout",
     "output_type": "stream",
     "text": [
      "make: <class 'str'>\n",
      "model: <class 'str'>\n",
      "body style: <class 'str'>\n",
      "mileage: <class 'str'>\n",
      "engine: <class 'str'>\n",
      "fuel type: <class 'str'>\n",
      "price: <class 'str'>\n"
     ]
    }
   ],
   "source": [
    "print('make:', type(used_car_df.loc[0, 'make']))\n",
    "print('model:', type(used_car_df.loc[0, 'model']))\n",
    "print('body style:', type(used_car_df.loc[0, 'body style']))\n",
    "print('mileage:', type(used_car_df.loc[0, 'mileage']))\n",
    "print('engine:', type(used_car_df.loc[0, 'engine']))\n",
    "print('fuel type:', type(used_car_df.loc[0, 'fuel type']))\n",
    "print('price:', type(used_car_df.loc[0, 'price']))"
   ]
  },
  {
   "cell_type": "markdown",
   "metadata": {
    "id": "G26cgUiIpr1f"
   },
   "source": [
    "#### Một vài đánh giá về giá trị cột để tiền xử lý kiểu dữ liệu của cột"
   ]
  },
  {
   "cell_type": "markdown",
   "metadata": {
    "id": "JA1dgFHVpr1f"
   },
   "source": [
    "* <b>Cột \"mileage\"</b>, <b>\"price\"</b>: ta cần dữ liệu dạng số thực, mà ở đây đang ở dạng chuỗi --> tiến hành tiền xử lý để đưa từ kiểu chuỗi sang số thực"
   ]
  },
  {
   "cell_type": "markdown",
   "metadata": {
    "id": "a2HLTS7mpr1g"
   },
   "source": [
    "# Tiền xử lý"
   ]
  },
  {
   "cell_type": "markdown",
   "metadata": {
    "id": "43T7eXxapr1g"
   },
   "source": [
    "## Chuyển kiểu dữ liệu cột \"mileage\", \"price\" sang kiểu số thực"
   ]
  },
  {
   "cell_type": "code",
   "execution_count": 16,
   "metadata": {
    "id": "SHH_Kj7Ipr1g"
   },
   "outputs": [],
   "source": [
    "# bỏ dấu phẩy\n",
    "used_car_df.loc[:, 'mileage'] = used_car_df.loc[:, 'mileage'].str.replace(',', '')\n",
    "used_car_df.loc[:, 'price'] = used_car_df.loc[:, 'price'].str.replace(',', '')"
   ]
  },
  {
   "cell_type": "code",
   "execution_count": 17,
   "metadata": {
    "colab": {
     "base_uri": "https://localhost:8080/",
     "height": 0
    },
    "id": "4jtp2j9Mpr1g",
    "outputId": "62449298-2837-4f14-c910-9603c805c47b"
   },
   "outputs": [
    {
     "data": {
      "text/html": [
       "<div>\n",
       "<style scoped>\n",
       "    .dataframe tbody tr th:only-of-type {\n",
       "        vertical-align: middle;\n",
       "    }\n",
       "\n",
       "    .dataframe tbody tr th {\n",
       "        vertical-align: top;\n",
       "    }\n",
       "\n",
       "    .dataframe thead th {\n",
       "        text-align: right;\n",
       "    }\n",
       "</style>\n",
       "<table border=\"1\" class=\"dataframe\">\n",
       "  <thead>\n",
       "    <tr style=\"text-align: right;\">\n",
       "      <th></th>\n",
       "      <th>make</th>\n",
       "      <th>model</th>\n",
       "      <th>body style</th>\n",
       "      <th>year</th>\n",
       "      <th>mileage</th>\n",
       "      <th>engine</th>\n",
       "      <th>fuel type</th>\n",
       "      <th>number of owners</th>\n",
       "      <th>price</th>\n",
       "    </tr>\n",
       "  </thead>\n",
       "  <tbody>\n",
       "    <tr>\n",
       "      <th>0</th>\n",
       "      <td>Honda</td>\n",
       "      <td>Odyssey</td>\n",
       "      <td>Touring Elite</td>\n",
       "      <td>2013</td>\n",
       "      <td>122986.0</td>\n",
       "      <td>3.5L V-6 Gas</td>\n",
       "      <td>Gas</td>\n",
       "      <td>2.0</td>\n",
       "      <td>12895.0</td>\n",
       "    </tr>\n",
       "    <tr>\n",
       "      <th>1</th>\n",
       "      <td>Honda</td>\n",
       "      <td>Pilot</td>\n",
       "      <td>EX FWD</td>\n",
       "      <td>2013</td>\n",
       "      <td>80532.0</td>\n",
       "      <td>3.5L V-6 Gas</td>\n",
       "      <td>Gas</td>\n",
       "      <td>3.0</td>\n",
       "      <td>11694.0</td>\n",
       "    </tr>\n",
       "    <tr>\n",
       "      <th>2</th>\n",
       "      <td>Honda</td>\n",
       "      <td>CR-V</td>\n",
       "      <td>LX FWD</td>\n",
       "      <td>2013</td>\n",
       "      <td>79796.0</td>\n",
       "      <td>2.4L Inline-4 Gas</td>\n",
       "      <td>Gas</td>\n",
       "      <td>1.0</td>\n",
       "      <td>13590.0</td>\n",
       "    </tr>\n",
       "    <tr>\n",
       "      <th>3</th>\n",
       "      <td>Honda</td>\n",
       "      <td>Civic</td>\n",
       "      <td>LX Sedan Automatic</td>\n",
       "      <td>2013</td>\n",
       "      <td>76882.0</td>\n",
       "      <td>1.8L Inline-4 Gas</td>\n",
       "      <td>Gas</td>\n",
       "      <td>1.0</td>\n",
       "      <td>7986.0</td>\n",
       "    </tr>\n",
       "    <tr>\n",
       "      <th>4</th>\n",
       "      <td>Honda</td>\n",
       "      <td>Civic</td>\n",
       "      <td>LX Sedan Automatic</td>\n",
       "      <td>2013</td>\n",
       "      <td>113673.0</td>\n",
       "      <td>1.8L Inline-4 Gas</td>\n",
       "      <td>Gas</td>\n",
       "      <td>1.0</td>\n",
       "      <td>6990.0</td>\n",
       "    </tr>\n",
       "    <tr>\n",
       "      <th>...</th>\n",
       "      <td>...</td>\n",
       "      <td>...</td>\n",
       "      <td>...</td>\n",
       "      <td>...</td>\n",
       "      <td>...</td>\n",
       "      <td>...</td>\n",
       "      <td>...</td>\n",
       "      <td>...</td>\n",
       "      <td>...</td>\n",
       "    </tr>\n",
       "    <tr>\n",
       "      <th>4795</th>\n",
       "      <td>Mazda</td>\n",
       "      <td>CX-5</td>\n",
       "      <td>Grand Touring FWD</td>\n",
       "      <td>2020</td>\n",
       "      <td>13964.0</td>\n",
       "      <td>2.5L Inline-4 Gas</td>\n",
       "      <td>Gas</td>\n",
       "      <td>1.0</td>\n",
       "      <td>23888.0</td>\n",
       "    </tr>\n",
       "    <tr>\n",
       "      <th>4796</th>\n",
       "      <td>Mazda</td>\n",
       "      <td>CX-5</td>\n",
       "      <td>Sport FWD</td>\n",
       "      <td>2020</td>\n",
       "      <td>3759.0</td>\n",
       "      <td>2.5L Inline-4 Gas</td>\n",
       "      <td>Gas</td>\n",
       "      <td>1.0</td>\n",
       "      <td>22498.0</td>\n",
       "    </tr>\n",
       "    <tr>\n",
       "      <th>4797</th>\n",
       "      <td>Mazda</td>\n",
       "      <td>CX-5</td>\n",
       "      <td>Sport FWD</td>\n",
       "      <td>2020</td>\n",
       "      <td>9916.0</td>\n",
       "      <td>2.5L Inline-4 Gas</td>\n",
       "      <td>Gas</td>\n",
       "      <td>1.0</td>\n",
       "      <td>21990.0</td>\n",
       "    </tr>\n",
       "    <tr>\n",
       "      <th>4798</th>\n",
       "      <td>Mazda</td>\n",
       "      <td>CX-9</td>\n",
       "      <td>Grand Touring AWD</td>\n",
       "      <td>2020</td>\n",
       "      <td>5176.0</td>\n",
       "      <td>2.5L Inline-4 Gas Turbocharged</td>\n",
       "      <td>Gas</td>\n",
       "      <td>1.0</td>\n",
       "      <td>36992.0</td>\n",
       "    </tr>\n",
       "    <tr>\n",
       "      <th>4799</th>\n",
       "      <td>Mazda</td>\n",
       "      <td>CX-5</td>\n",
       "      <td>Touring AWD</td>\n",
       "      <td>2020</td>\n",
       "      <td>4902.0</td>\n",
       "      <td>2.5L Inline-4 Gas</td>\n",
       "      <td>Gas</td>\n",
       "      <td>0.0</td>\n",
       "      <td>25737.0</td>\n",
       "    </tr>\n",
       "  </tbody>\n",
       "</table>\n",
       "<p>4652 rows × 9 columns</p>\n",
       "</div>"
      ],
      "text/plain": [
       "       make    model          body style  year   mileage  \\\n",
       "0     Honda  Odyssey       Touring Elite  2013  122986.0   \n",
       "1     Honda    Pilot              EX FWD  2013   80532.0   \n",
       "2     Honda     CR-V              LX FWD  2013   79796.0   \n",
       "3     Honda    Civic  LX Sedan Automatic  2013   76882.0   \n",
       "4     Honda    Civic  LX Sedan Automatic  2013  113673.0   \n",
       "...     ...      ...                 ...   ...       ...   \n",
       "4795  Mazda     CX-5   Grand Touring FWD  2020   13964.0   \n",
       "4796  Mazda     CX-5           Sport FWD  2020    3759.0   \n",
       "4797  Mazda     CX-5           Sport FWD  2020    9916.0   \n",
       "4798  Mazda     CX-9   Grand Touring AWD  2020    5176.0   \n",
       "4799  Mazda     CX-5         Touring AWD  2020    4902.0   \n",
       "\n",
       "                              engine fuel type  number of owners    price  \n",
       "0                       3.5L V-6 Gas       Gas               2.0  12895.0  \n",
       "1                       3.5L V-6 Gas       Gas               3.0  11694.0  \n",
       "2                  2.4L Inline-4 Gas       Gas               1.0  13590.0  \n",
       "3                  1.8L Inline-4 Gas       Gas               1.0   7986.0  \n",
       "4                  1.8L Inline-4 Gas       Gas               1.0   6990.0  \n",
       "...                              ...       ...               ...      ...  \n",
       "4795               2.5L Inline-4 Gas       Gas               1.0  23888.0  \n",
       "4796               2.5L Inline-4 Gas       Gas               1.0  22498.0  \n",
       "4797               2.5L Inline-4 Gas       Gas               1.0  21990.0  \n",
       "4798  2.5L Inline-4 Gas Turbocharged       Gas               1.0  36992.0  \n",
       "4799               2.5L Inline-4 Gas       Gas               0.0  25737.0  \n",
       "\n",
       "[4652 rows x 9 columns]"
      ]
     },
     "execution_count": 17,
     "metadata": {},
     "output_type": "execute_result"
    }
   ],
   "source": [
    "# chuyển sang kiểu float\n",
    "used_car_df['mileage'] = used_car_df['mileage'].astype(float)\n",
    "used_car_df['price'] = used_car_df['price'].astype(float)\n",
    "used_car_df"
   ]
  },
  {
   "cell_type": "markdown",
   "metadata": {
    "id": "y8yndQ-Vpr1h"
   },
   "source": [
    "# Đặt câu hỏi"
   ]
  },
  {
   "cell_type": "markdown",
   "metadata": {
    "id": "mRgnBysMpr1h"
   },
   "source": [
    "**Câu hỏi:** làm sao để dự đoán giá trị của một chiếc xe cũ, đã qua sử dụng dựa trên các thông số của chiếc xe đó?\n",
    "\n",
    "Câu hỏi này giải quyết được 2 vấn đề trong thực tế:\n",
    "* Cho các người chủ muốn bán xe:\n",
    "    * Họ ước lượng trước được giá trị của chiếc xe mà mình muốn bán dựa trên giá thị trường hiện tại. Để khi đến bất kì nơi bán nào, họ có thể thương lượng giá cả tốt hơn\n",
    "* Cho các đại lý mua bán xe cũ:\n",
    "    * Biết được giá trị thị trường, để có thể thương lượng giá cả với người bán\n",
    "    * Nếu đã sở hữu xe cũ --> có thể đưa ra giá trị chiếc xe để bán đi"
   ]
  },
  {
   "cell_type": "markdown",
   "metadata": {
    "id": "A2dsacv2pr1h"
   },
   "source": [
    "## Khám phá dữ liệu (để biết cách tách các tập)\n",
    "Để biết cách tách các tập thì ta cần khám phá thêm cột output một ít:\n",
    "- Cột này đã mang giá trị số chưa? (do ta đang làm bài toán hồi quy)\n",
    "- Cột này có giá trị thiếu không? Nếu có giá trị thiếu thì ta sẽ xử lý rồi mới tách các tập "
   ]
  },
  {
   "cell_type": "code",
   "execution_count": 18,
   "metadata": {
    "colab": {
     "base_uri": "https://localhost:8080/"
    },
    "id": "PGP3FswDpr1h",
    "outputId": "678b120d-594b-47da-9760-43ccb8ced938"
   },
   "outputs": [
    {
     "data": {
      "text/plain": [
       "dtype('float64')"
      ]
     },
     "execution_count": 18,
     "metadata": {},
     "output_type": "execute_result"
    }
   ],
   "source": [
    "used_car_df['price'].dtype"
   ]
  },
  {
   "cell_type": "code",
   "execution_count": 19,
   "metadata": {
    "colab": {
     "base_uri": "https://localhost:8080/"
    },
    "id": "NM37XvqCpr1i",
    "outputId": "7f6e423b-918a-45f9-8c0f-8e4b17678df7"
   },
   "outputs": [
    {
     "data": {
      "text/plain": [
       "5"
      ]
     },
     "execution_count": 19,
     "metadata": {},
     "output_type": "execute_result"
    }
   ],
   "source": [
    "#Cột output có giá trị thiếu không?\n",
    "used_car_df['price'].isna().sum()"
   ]
  },
  {
   "cell_type": "code",
   "execution_count": 20,
   "metadata": {
    "id": "x-eWYubnpr1i"
   },
   "outputs": [],
   "source": [
    "#Xử lý cột output bằng cách loại bỏ các dòng mà thiếu giá trị price\n",
    "used_car_df = used_car_df[used_car_df['price'].notna()]"
   ]
  },
  {
   "cell_type": "code",
   "execution_count": 21,
   "metadata": {
    "colab": {
     "base_uri": "https://localhost:8080/"
    },
    "id": "g5HdPUhRpr1i",
    "outputId": "9faca2fb-47cb-44e3-c76c-3cc1c2bbe3a4"
   },
   "outputs": [
    {
     "data": {
      "text/plain": [
       "0"
      ]
     },
     "execution_count": 21,
     "metadata": {},
     "output_type": "execute_result"
    }
   ],
   "source": [
    "# test xem cột price đã hết giá trị thiếu chưa\n",
    "used_car_df['price'].isna().sum()"
   ]
  },
  {
   "cell_type": "code",
   "execution_count": 22,
   "metadata": {
    "colab": {
     "base_uri": "https://localhost:8080/"
    },
    "id": "65asoK5-pr1x",
    "outputId": "9f5e7628-e72c-4849-bc1d-da0e62fe03a2"
   },
   "outputs": [
    {
     "data": {
      "text/plain": [
       "(4647, 9)"
      ]
     },
     "execution_count": 22,
     "metadata": {},
     "output_type": "execute_result"
    }
   ],
   "source": [
    "used_car_df.shape"
   ]
  },
  {
   "cell_type": "code",
   "execution_count": 23,
   "metadata": {
    "colab": {
     "base_uri": "https://localhost:8080/"
    },
    "id": "001vjVekpr1x",
    "outputId": "b40423ea-3995-404b-ad1f-d33f2bcbb13e"
   },
   "outputs": [
    {
     "data": {
      "text/plain": [
       "count      4647.000000\n",
       "mean      17377.042608\n",
       "std       10211.005659\n",
       "min        2996.000000\n",
       "25%       10747.500000\n",
       "50%       14590.000000\n",
       "75%       20899.500000\n",
       "max      129982.000000\n",
       "Name: price, dtype: float64"
      ]
     },
     "execution_count": 23,
     "metadata": {},
     "output_type": "execute_result"
    }
   ],
   "source": [
    "#Phân bố cột output như thế nào?\n",
    "used_car_df['price'].describe()"
   ]
  },
  {
   "cell_type": "markdown",
   "metadata": {
    "id": "rLuz0AEspr1x"
   },
   "source": [
    "## Tiền xử lý (tách các tập)"
   ]
  },
  {
   "cell_type": "code",
   "execution_count": 24,
   "metadata": {
    "id": "x4V3WUnxpr1y"
   },
   "outputs": [],
   "source": [
    "# Tách X và y\n",
    "used_car_y_sr = used_car_df[\"price\"]\n",
    "used_car_X_df = used_car_df.drop(columns = ['price'], axis=1)"
   ]
  },
  {
   "cell_type": "code",
   "execution_count": 25,
   "metadata": {
    "id": "8beCCX-7pr1y"
   },
   "outputs": [],
   "source": [
    "# Tách tập train và tập validation, tập test theo tỉ lệ 60%:20%:20%\n",
    "\n",
    "# Đầu tiên tách tập train 60% và tập temp 40%\n",
    "train_X_df, temp_X_df, train_y_sr, temp_y_sr = train_test_split(used_car_X_df, used_car_y_sr, test_size=0.4, random_state=42)\n",
    "\n",
    "#Tách tập temp thành 2 tập bằng nhau 50% (tức là 20%:20% như ban đầu)\n",
    "val_X_df, test_X_df, val_y_sr, test_y_sr = train_test_split(temp_X_df, temp_y_sr, test_size=0.5, random_state=42)"
   ]
  },
  {
   "cell_type": "markdown",
   "metadata": {
    "id": "f-XPY2QZpr1y"
   },
   "source": [
    "### Tập train"
   ]
  },
  {
   "cell_type": "code",
   "execution_count": 26,
   "metadata": {
    "colab": {
     "base_uri": "https://localhost:8080/"
    },
    "id": "itbY4rC0pr1y",
    "outputId": "fb8b975f-8000-4ebb-f813-1475af126586"
   },
   "outputs": [
    {
     "data": {
      "text/plain": [
       "(2788, 8)"
      ]
     },
     "execution_count": 26,
     "metadata": {},
     "output_type": "execute_result"
    }
   ],
   "source": [
    "train_X_df.shape"
   ]
  },
  {
   "cell_type": "code",
   "execution_count": 27,
   "metadata": {
    "colab": {
     "base_uri": "https://localhost:8080/"
    },
    "id": "1BJx_HKvpr1z",
    "outputId": "e481a88c-a787-4b0e-804b-ce9aab74d9dd"
   },
   "outputs": [
    {
     "data": {
      "text/plain": [
       "(2788,)"
      ]
     },
     "execution_count": 27,
     "metadata": {},
     "output_type": "execute_result"
    }
   ],
   "source": [
    "train_y_sr.shape"
   ]
  },
  {
   "cell_type": "markdown",
   "metadata": {
    "id": "-X59c0sLpr1z"
   },
   "source": [
    "### Tập validation"
   ]
  },
  {
   "cell_type": "code",
   "execution_count": 28,
   "metadata": {
    "colab": {
     "base_uri": "https://localhost:8080/"
    },
    "id": "9vti9ZXMpr10",
    "outputId": "571e3c6b-423a-4c48-ab0f-0cba76e9ba1c"
   },
   "outputs": [
    {
     "data": {
      "text/plain": [
       "(929, 8)"
      ]
     },
     "execution_count": 28,
     "metadata": {},
     "output_type": "execute_result"
    }
   ],
   "source": [
    "val_X_df.shape"
   ]
  },
  {
   "cell_type": "code",
   "execution_count": 29,
   "metadata": {
    "colab": {
     "base_uri": "https://localhost:8080/"
    },
    "id": "WTrMQR09pr10",
    "outputId": "dab2c233-b9c1-4297-c62e-d2ba340a1c47"
   },
   "outputs": [
    {
     "data": {
      "text/plain": [
       "(929,)"
      ]
     },
     "execution_count": 29,
     "metadata": {},
     "output_type": "execute_result"
    }
   ],
   "source": [
    "val_y_sr.shape"
   ]
  },
  {
   "cell_type": "markdown",
   "metadata": {
    "id": "efGvzXRNpr11"
   },
   "source": [
    "### Tập test"
   ]
  },
  {
   "cell_type": "code",
   "execution_count": 30,
   "metadata": {
    "colab": {
     "base_uri": "https://localhost:8080/"
    },
    "id": "xQv4CcHqpr12",
    "outputId": "f76caee6-c37a-4a5b-d3e1-51a82d19e549"
   },
   "outputs": [
    {
     "data": {
      "text/plain": [
       "(930, 8)"
      ]
     },
     "execution_count": 30,
     "metadata": {},
     "output_type": "execute_result"
    }
   ],
   "source": [
    "test_X_df.shape"
   ]
  },
  {
   "cell_type": "code",
   "execution_count": 31,
   "metadata": {
    "colab": {
     "base_uri": "https://localhost:8080/"
    },
    "id": "CVuAI0Mlpr14",
    "outputId": "cf3b7d0a-43c2-4eb9-dcf0-ef01492ca21c"
   },
   "outputs": [
    {
     "data": {
      "text/plain": [
       "(930,)"
      ]
     },
     "execution_count": 31,
     "metadata": {},
     "output_type": "execute_result"
    }
   ],
   "source": [
    "test_y_sr.shape"
   ]
  },
  {
   "cell_type": "markdown",
   "metadata": {
    "id": "Jbelbg1rpr14"
   },
   "source": [
    "# Quay lại bước khám phá dữ liệu (Tập huấn luyện)"
   ]
  },
  {
   "cell_type": "markdown",
   "metadata": {
    "id": "W9AARGyupr14"
   },
   "source": [
    "Sau khi đã tách ra các tập thì ta có thể thoải mái khám phá trên tập huấn luyện mà không lo sẽ làm kết quả trên tập validation và tập kiểm tra bị mất đi sự khách quan."
   ]
  },
  {
   "cell_type": "markdown",
   "metadata": {
    "id": "dklyL33mpr15"
   },
   "source": [
    "## Với mỗi cột có dữ liệu dạng số (numeric), các giá trị được phân bố như thế nào?  "
   ]
  },
  {
   "cell_type": "code",
   "execution_count": 32,
   "metadata": {
    "colab": {
     "base_uri": "https://localhost:8080/",
     "height": 0
    },
    "id": "Wo6aCS4xpr16",
    "outputId": "6bb526a7-a6ef-4d21-a5bd-628d38697ee1"
   },
   "outputs": [
    {
     "data": {
      "text/html": [
       "<div>\n",
       "<style scoped>\n",
       "    .dataframe tbody tr th:only-of-type {\n",
       "        vertical-align: middle;\n",
       "    }\n",
       "\n",
       "    .dataframe tbody tr th {\n",
       "        vertical-align: top;\n",
       "    }\n",
       "\n",
       "    .dataframe thead th {\n",
       "        text-align: right;\n",
       "    }\n",
       "</style>\n",
       "<table border=\"1\" class=\"dataframe\">\n",
       "  <thead>\n",
       "    <tr style=\"text-align: right;\">\n",
       "      <th></th>\n",
       "      <th>make</th>\n",
       "      <th>model</th>\n",
       "      <th>body style</th>\n",
       "      <th>year</th>\n",
       "      <th>mileage</th>\n",
       "      <th>engine</th>\n",
       "      <th>fuel type</th>\n",
       "      <th>number of owners</th>\n",
       "    </tr>\n",
       "  </thead>\n",
       "  <tbody>\n",
       "    <tr>\n",
       "      <th>3835</th>\n",
       "      <td>Toyota</td>\n",
       "      <td>Corolla</td>\n",
       "      <td>L CVT</td>\n",
       "      <td>2019</td>\n",
       "      <td>36937.0</td>\n",
       "      <td>1.8L Inline-4 Gas</td>\n",
       "      <td>Gas</td>\n",
       "      <td>2.0</td>\n",
       "    </tr>\n",
       "    <tr>\n",
       "      <th>968</th>\n",
       "      <td>Ford</td>\n",
       "      <td>Fusion</td>\n",
       "      <td>Energi Titanium FWD</td>\n",
       "      <td>2014</td>\n",
       "      <td>54054.0</td>\n",
       "      <td>2.0L Inline-4 Plug-In Hybrid</td>\n",
       "      <td>Plug-In Hybrid</td>\n",
       "      <td>2.0</td>\n",
       "    </tr>\n",
       "    <tr>\n",
       "      <th>1183</th>\n",
       "      <td>Ford</td>\n",
       "      <td>F-150</td>\n",
       "      <td>XL SuperCrew 6.5' Box RWD</td>\n",
       "      <td>2016</td>\n",
       "      <td>75062.0</td>\n",
       "      <td>2.7L V-6 Gas Turbocharged</td>\n",
       "      <td>Gas</td>\n",
       "      <td>1.0</td>\n",
       "    </tr>\n",
       "    <tr>\n",
       "      <th>384</th>\n",
       "      <td>Honda</td>\n",
       "      <td>Fit</td>\n",
       "      <td>LX CVT</td>\n",
       "      <td>2016</td>\n",
       "      <td>24070.0</td>\n",
       "      <td>1.5L Inline-4 Gas</td>\n",
       "      <td>Gas</td>\n",
       "      <td>3.0</td>\n",
       "    </tr>\n",
       "    <tr>\n",
       "      <th>2822</th>\n",
       "      <td>Mercedes-Benz</td>\n",
       "      <td>E-Class</td>\n",
       "      <td>E 300 Luxury 4MATIC Sedan</td>\n",
       "      <td>2017</td>\n",
       "      <td>54635.0</td>\n",
       "      <td>2.0L Inline-4 Gas Turbocharged</td>\n",
       "      <td>Gas</td>\n",
       "      <td>1.0</td>\n",
       "    </tr>\n",
       "  </tbody>\n",
       "</table>\n",
       "</div>"
      ],
      "text/plain": [
       "               make    model                 body style  year  mileage  \\\n",
       "3835         Toyota  Corolla                      L CVT  2019  36937.0   \n",
       "968            Ford   Fusion        Energi Titanium FWD  2014  54054.0   \n",
       "1183           Ford    F-150  XL SuperCrew 6.5' Box RWD  2016  75062.0   \n",
       "384           Honda      Fit                     LX CVT  2016  24070.0   \n",
       "2822  Mercedes-Benz  E-Class  E 300 Luxury 4MATIC Sedan  2017  54635.0   \n",
       "\n",
       "                              engine       fuel type  number of owners  \n",
       "3835               1.8L Inline-4 Gas             Gas               2.0  \n",
       "968     2.0L Inline-4 Plug-In Hybrid  Plug-In Hybrid               2.0  \n",
       "1183       2.7L V-6 Gas Turbocharged             Gas               1.0  \n",
       "384                1.5L Inline-4 Gas             Gas               3.0  \n",
       "2822  2.0L Inline-4 Gas Turbocharged             Gas               1.0  "
      ]
     },
     "execution_count": 32,
     "metadata": {},
     "output_type": "execute_result"
    }
   ],
   "source": [
    "train_X_df.head()"
   ]
  },
  {
   "cell_type": "code",
   "execution_count": 33,
   "metadata": {
    "colab": {
     "base_uri": "https://localhost:8080/"
    },
    "id": "6PtSR7qgpr16",
    "outputId": "1a378041-915d-4a93-93c3-0689d3abaca3"
   },
   "outputs": [
    {
     "data": {
      "text/plain": [
       "year                  int64\n",
       "mileage             float64\n",
       "number of owners    float64\n",
       "dtype: object"
      ]
     },
     "execution_count": 33,
     "metadata": {},
     "output_type": "execute_result"
    }
   ],
   "source": [
    "train_X_df.dtypes[train_X_df.dtypes != object]"
   ]
  },
  {
   "cell_type": "code",
   "execution_count": 34,
   "metadata": {
    "colab": {
     "base_uri": "https://localhost:8080/",
     "height": 0
    },
    "id": "8EKyLvq4pr17",
    "outputId": "6642d5e5-fe8f-4c29-e3e3-1051546345d5"
   },
   "outputs": [
    {
     "data": {
      "text/html": [
       "<div>\n",
       "<style scoped>\n",
       "    .dataframe tbody tr th:only-of-type {\n",
       "        vertical-align: middle;\n",
       "    }\n",
       "\n",
       "    .dataframe tbody tr th {\n",
       "        vertical-align: top;\n",
       "    }\n",
       "\n",
       "    .dataframe thead th {\n",
       "        text-align: right;\n",
       "    }\n",
       "</style>\n",
       "<table border=\"1\" class=\"dataframe\">\n",
       "  <thead>\n",
       "    <tr style=\"text-align: right;\">\n",
       "      <th></th>\n",
       "      <th>year</th>\n",
       "      <th>mileage</th>\n",
       "      <th>number of owners</th>\n",
       "    </tr>\n",
       "  </thead>\n",
       "  <tbody>\n",
       "    <tr>\n",
       "      <th>count</th>\n",
       "      <td>2788.000000</td>\n",
       "      <td>2788.000000</td>\n",
       "      <td>2787.000000</td>\n",
       "    </tr>\n",
       "    <tr>\n",
       "      <th>mean</th>\n",
       "      <td>2016.507532</td>\n",
       "      <td>60744.702654</td>\n",
       "      <td>1.499103</td>\n",
       "    </tr>\n",
       "    <tr>\n",
       "      <th>std</th>\n",
       "      <td>2.284002</td>\n",
       "      <td>40917.086294</td>\n",
       "      <td>0.791816</td>\n",
       "    </tr>\n",
       "    <tr>\n",
       "      <th>min</th>\n",
       "      <td>2013.000000</td>\n",
       "      <td>5.000000</td>\n",
       "      <td>0.000000</td>\n",
       "    </tr>\n",
       "    <tr>\n",
       "      <th>25%</th>\n",
       "      <td>2014.000000</td>\n",
       "      <td>29219.500000</td>\n",
       "      <td>1.000000</td>\n",
       "    </tr>\n",
       "    <tr>\n",
       "      <th>50%</th>\n",
       "      <td>2017.000000</td>\n",
       "      <td>52173.000000</td>\n",
       "      <td>1.000000</td>\n",
       "    </tr>\n",
       "    <tr>\n",
       "      <th>75%</th>\n",
       "      <td>2019.000000</td>\n",
       "      <td>88003.750000</td>\n",
       "      <td>2.000000</td>\n",
       "    </tr>\n",
       "    <tr>\n",
       "      <th>max</th>\n",
       "      <td>2020.000000</td>\n",
       "      <td>257866.000000</td>\n",
       "      <td>6.000000</td>\n",
       "    </tr>\n",
       "  </tbody>\n",
       "</table>\n",
       "</div>"
      ],
      "text/plain": [
       "              year        mileage  number of owners\n",
       "count  2788.000000    2788.000000       2787.000000\n",
       "mean   2016.507532   60744.702654          1.499103\n",
       "std       2.284002   40917.086294          0.791816\n",
       "min    2013.000000       5.000000          0.000000\n",
       "25%    2014.000000   29219.500000          1.000000\n",
       "50%    2017.000000   52173.000000          1.000000\n",
       "75%    2019.000000   88003.750000          2.000000\n",
       "max    2020.000000  257866.000000          6.000000"
      ]
     },
     "execution_count": 34,
     "metadata": {},
     "output_type": "execute_result"
    }
   ],
   "source": [
    "train_X_df.describe()"
   ]
  },
  {
   "cell_type": "markdown",
   "metadata": {
    "id": "2quRg9I_pr17"
   },
   "source": [
    "### Bảng mô tả"
   ]
  },
  {
   "cell_type": "code",
   "execution_count": 35,
   "metadata": {
    "colab": {
     "base_uri": "https://localhost:8080/",
     "height": 0
    },
    "id": "OQ59rb3gpr17",
    "outputId": "904b0f45-a642-4cba-a8aa-f024350dd045"
   },
   "outputs": [
    {
     "data": {
      "text/html": [
       "<div>\n",
       "<style scoped>\n",
       "    .dataframe tbody tr th:only-of-type {\n",
       "        vertical-align: middle;\n",
       "    }\n",
       "\n",
       "    .dataframe tbody tr th {\n",
       "        vertical-align: top;\n",
       "    }\n",
       "\n",
       "    .dataframe thead th {\n",
       "        text-align: right;\n",
       "    }\n",
       "</style>\n",
       "<table border=\"1\" class=\"dataframe\">\n",
       "  <thead>\n",
       "    <tr style=\"text-align: right;\">\n",
       "      <th></th>\n",
       "      <th>year</th>\n",
       "      <th>mileage</th>\n",
       "      <th>number of owners</th>\n",
       "    </tr>\n",
       "  </thead>\n",
       "  <tbody>\n",
       "    <tr>\n",
       "      <th>missing_ratio</th>\n",
       "      <td>0.0</td>\n",
       "      <td>0.00</td>\n",
       "      <td>0.035868</td>\n",
       "    </tr>\n",
       "    <tr>\n",
       "      <th>min</th>\n",
       "      <td>2013.0</td>\n",
       "      <td>5.00</td>\n",
       "      <td>0.000000</td>\n",
       "    </tr>\n",
       "    <tr>\n",
       "      <th>lower_quartile</th>\n",
       "      <td>2014.0</td>\n",
       "      <td>29219.50</td>\n",
       "      <td>1.000000</td>\n",
       "    </tr>\n",
       "    <tr>\n",
       "      <th>median</th>\n",
       "      <td>2017.0</td>\n",
       "      <td>52173.00</td>\n",
       "      <td>1.000000</td>\n",
       "    </tr>\n",
       "    <tr>\n",
       "      <th>upper_quartile</th>\n",
       "      <td>2019.0</td>\n",
       "      <td>88003.75</td>\n",
       "      <td>2.000000</td>\n",
       "    </tr>\n",
       "    <tr>\n",
       "      <th>max</th>\n",
       "      <td>2020.0</td>\n",
       "      <td>257866.00</td>\n",
       "      <td>6.000000</td>\n",
       "    </tr>\n",
       "  </tbody>\n",
       "</table>\n",
       "</div>"
      ],
      "text/plain": [
       "                  year    mileage  number of owners\n",
       "missing_ratio      0.0       0.00          0.035868\n",
       "min             2013.0       5.00          0.000000\n",
       "lower_quartile  2014.0   29219.50          1.000000\n",
       "median          2017.0   52173.00          1.000000\n",
       "upper_quartile  2019.0   88003.75          2.000000\n",
       "max             2020.0  257866.00          6.000000"
      ]
     },
     "execution_count": 35,
     "metadata": {},
     "output_type": "execute_result"
    }
   ],
   "source": [
    "numeric_cols_df = train_X_df.select_dtypes(exclude = 'object')\n",
    "\n",
    "def missing_ratio(col):\n",
    "    return col.isna().mean() * 100\n",
    "\n",
    "def median(col):\n",
    "    return col.quantile(0.5)\n",
    "\n",
    "def lower_quartile(col):\n",
    "    return col.quantile(0.25)\n",
    "\n",
    "def upper_quartile(col):\n",
    "    return col.quantile(0.75)\n",
    "\n",
    "numeric_cols_df.agg([missing_ratio, min, lower_quartile, median, upper_quartile, max])"
   ]
  },
  {
   "cell_type": "markdown",
   "metadata": {
    "id": "KpFv6Ikfpr18"
   },
   "source": [
    "Vẽ Histogram minh họa trực quan cho giá trị của từng cột"
   ]
  },
  {
   "cell_type": "markdown",
   "metadata": {
    "id": "ja2SZZJRpr19"
   },
   "source": [
    "### Biểu đồ histogram biểu thị mối liên hệ giữa: tổng số dặm và số lượng xe"
   ]
  },
  {
   "cell_type": "code",
   "execution_count": 36,
   "metadata": {
    "colab": {
     "base_uri": "https://localhost:8080/",
     "height": 0
    },
    "id": "M5kYaItrpr19",
    "outputId": "0eb8ee1f-304b-453c-892e-d57fba658458"
   },
   "outputs": [
    {
     "data": {
      "text/plain": [
       "Text(0, 0.5, 'Số xe')"
      ]
     },
     "execution_count": 36,
     "metadata": {},
     "output_type": "execute_result"
    },
    {
     "data": {
      "image/png": "[encoded data removed]",
      "text/plain": [
       "<Figure size 432x288 with 1 Axes>"
      ]
     },
     "metadata": {
      "needs_background": "light"
     },
     "output_type": "display_data"
    }
   ],
   "source": [
    "train_X_df['mileage'].plot.hist(bins = range(5, 260000, 5000), edgecolor = 'black')\n",
    "plt.xlabel('Tổng số dặm')\n",
    "plt.ylabel('Số xe')"
   ]
  },
  {
   "cell_type": "markdown",
   "metadata": {
    "id": "xZh2dbyTpr1-"
   },
   "source": [
    "## Với mỗi cột có kiểu dữ liệu không phải dạng số (ở đây chủ yếu ta ám chỉ dạng categorical), các giá trị được phân bố như thế nào? "
   ]
  },
  {
   "cell_type": "code",
   "execution_count": 37,
   "metadata": {
    "colab": {
     "base_uri": "https://localhost:8080/"
    },
    "id": "05fm6MR8pr1-",
    "outputId": "46a2274a-fbed-4cee-868e-e280807b5f9d"
   },
   "outputs": [
    {
     "data": {
      "text/plain": [
       "make          object\n",
       "model         object\n",
       "body style    object\n",
       "engine        object\n",
       "fuel type     object\n",
       "dtype: object"
      ]
     },
     "execution_count": 37,
     "metadata": {},
     "output_type": "execute_result"
    }
   ],
   "source": [
    "train_X_df.dtypes[train_X_df.dtypes == object]"
   ]
  },
  {
   "cell_type": "markdown",
   "metadata": {
    "id": "RS1MeyR8pr1-"
   },
   "source": [
    "### Bảng mô tả"
   ]
  },
  {
   "cell_type": "code",
   "execution_count": 38,
   "metadata": {
    "colab": {
     "base_uri": "https://localhost:8080/",
     "height": 0
    },
    "id": "NovgYRRXpr1-",
    "outputId": "63316003-a87a-4d98-d617-503166a7ebca"
   },
   "outputs": [
    {
     "data": {
      "text/html": [
       "<div>\n",
       "<style scoped>\n",
       "    .dataframe tbody tr th:only-of-type {\n",
       "        vertical-align: middle;\n",
       "    }\n",
       "\n",
       "    .dataframe tbody tr th {\n",
       "        vertical-align: top;\n",
       "    }\n",
       "\n",
       "    .dataframe thead th {\n",
       "        text-align: right;\n",
       "    }\n",
       "</style>\n",
       "<table border=\"1\" class=\"dataframe\">\n",
       "  <thead>\n",
       "    <tr style=\"text-align: right;\">\n",
       "      <th></th>\n",
       "      <th>make</th>\n",
       "      <th>model</th>\n",
       "      <th>body style</th>\n",
       "      <th>engine</th>\n",
       "      <th>fuel type</th>\n",
       "    </tr>\n",
       "  </thead>\n",
       "  <tbody>\n",
       "    <tr>\n",
       "      <th>missing_ratio</th>\n",
       "      <td>0</td>\n",
       "      <td>0</td>\n",
       "      <td>0</td>\n",
       "      <td>0</td>\n",
       "      <td>0</td>\n",
       "    </tr>\n",
       "    <tr>\n",
       "      <th>nunique</th>\n",
       "      <td>6</td>\n",
       "      <td>99</td>\n",
       "      <td>619</td>\n",
       "      <td>53</td>\n",
       "      <td>7</td>\n",
       "    </tr>\n",
       "    <tr>\n",
       "      <th>value_counts</th>\n",
       "      <td>{'Toyota': 487, 'Mazda': 479, 'Hyundai': 478, 'Mercedes-Benz': 470, 'Ford': 448, 'Honda': 426}</td>\n",
       "      <td>{'CX-5': 220, 'Elantra': 193, 'Civic': 152, 'Corolla': 145, 'Mazda3': 134, 'C-Class': 129, 'Camry': 119, 'Sonata': 110, 'F-150': 103, 'Accord': 103, 'CR-V': 73, 'Fusion': 72, 'E-Class': 68, 'Tucson': 66, 'Mazda6': 66, 'Super Duty F-250': 60, 'RAV4': 57, 'GLC': 55, 'Focus': 37, 'Prius': 33, 'Escape': 33, 'Accent': 33, 'GLA': 32, 'GLE': 31, 'Edge': 30, 'Tacoma': 28, 'CX-9': 27, 'Odyssey': 26, 'Santa Fe': 26, 'Pilot': 25, 'Sienna': 25, 'Transit Passenger Wagon': 24, 'CLA': 24, 'Santa Fe Sport': 24, 'HR-V': 22, 'Explorer': 22, 'Super Duty F-350': 19, 'M-Class': 17, 'Highlander': 16, 'Fiesta': 16, 'S-Class': 15, '4Runner': 14, 'GLK': 14, 'GL': 13, 'Veloster': 13, 'Tundra': 12, 'CX-3': 11, 'A-Class': 10, 'Fit': 9, 'GLS': 9, 'Mazda5': 8, 'Avalon': 8, 'Mustang': 8, 'SL': 8, 'Prius c': 8, 'Ridgeline': 7, 'Metris Cargo Van': 7, 'Metris Passenger Van': 7, 'Sprinter Cargo Van': 6, 'MX-5 Miata': 6, 'GLB': 6, 'Venza': 5, 'Mazda2': 5, 'C-Max': 5, 'Genesis Coupe': 5, 'Super Duty F-350 Chassis Cab': 4, 'Insight': 4, 'Yaris': 4, 'Sprinter Passenger Van': 3, 'B-Class': 3, 'Mirai': 3, 'Prius v': 3, 'Passport': 3, 'SLK': 3, 'Genesis': 3, 'G-Class': 3, 'Taurus': 3, 'Expedition': 3, 'Transit Cargo Van': 3, 'Econoline Commercial Cutaway': 2, 'Azera': 2, 'CX-30': 2, 'CLS': 2, 'Transit Connect Van': 2, 'Sprinter Chassis Cabs': 2, 'Corolla iM': 2, 'Yaris iA': 2, 'Kona': 2, 'Sprinter Crew Van': 1, 'Prius Prime': 1, 'Transit Cutaway': 1, 'CR-Z': 1, 'C-HR': 1, 'SLC': 1, 'Equus': 1, 'Clarity': 1, '86': 1, 'AMG GT': 1, 'Ranger': 1}</td>\n",
       "      <td>{'LE CVT': 75, 'SE FWD': 65, 'LX Sedan CVT': 59, 'Touring FWD': 43, 'C 300 Sedan RWD': 40, 'SEL 2.0L IVT': 39, 'Grand Touring FWD': 38, 'SE Sedan Automatic': 33, 'Grand Touring AWD': 33, 'XLT SuperCrew 5.5' Box 4WD': 33, 'SE I4 Automatic': 31, 'C 300 4MATIC Sedan': 28, 'Touring Automatic': 26, 'GLC 300 SUV RWD': 25, 'SE 2.4L': 25, 'Touring AWD': 25, 'SE AWD': 24, 'GLS Sedan Automatic': 24, 'SE Sedan': 24, 'Sport FWD': 22, 'i Sport 4-Door Automatic': 22, 'SEL FWD': 22, 'Limited FWD': 21, 'EX Sedan CVT': 20, 'E 350 4MATIC Luxury Sedan': 20, 'SEL 2.0L Sedan Automatic': 20, 'Two': 19, 'Grand Touring AWD Automatic': 18, 'Sport 1.5T CVT': 18, 'L Automatic': 17, 'i Touring 4-Door Automatic': 17, 'Sport AWD': 17, 'EX AWD': 17, 'E 350 Sport Sedan RWD': 17, 'GLA 250 4MATIC': 17, 'CLA 250 FWD': 17, 'LX Sedan I4 CVT': 16, 'EX-L AWD': 16, 'EX-L FWD': 16, 'C 250 Sport Sedan RWD': 16, 'SE Hatchback': 16, 'Touring FWD Automatic': 15, 'i Touring Automatic': 15, 'C 300 4MATIC Sport Sedan': 15, 'GLE 350 SUV RWD': 14, 'EX-L': 14, 'SEL 2.0L Automatic': 14, 'SE CVT': 14, 'LE I4 Automatic': 14, 'GLA 250 FWD': 14, 'LX Sedan Automatic': 14, 'Standard Roof 126\" Wheelbase': 14, 'Value Edition 2.0L Sedan Automatic': 14, 'SE Automatic': 14, 'GLC 300 RWD': 13, 'Touring AWD Automatic': 13, 'i Touring 5-Door Automatic': 13, 'XLE AWD': 13, 'Titanium AWD': 12, 'Grand Touring FWD Automatic': 12, 'LX FWD': 12, 'Four': 12, '2014 SE I4 Automatic': 12, 'EX-L Sedan I4 CVT': 12, 'SE 2.0L Sedan Automatic': 12, 'LE FWD': 12, 'EX FWD': 12, 'LE Automatic': 11, 'Base 2.4L FWD': 11, 'Sport Sedan CVT': 11, 'XLE FWD': 11, 'i Grand Touring Automatic': 11, 'C 300 Sedan 4MATIC': 11, 'Sport Sedan I4 CVT': 11, 'Touring 4-Door Automatic': 11, 'EX-L Sedan CVT': 10, 'L CVT': 10, 'ML 350 4MATIC': 10, 'Sport Automatic': 10, 'Hybrid SE FWD': 10, 'XLE I4 Automatic': 10, 'Sport 2.4L': 10, 'GLS 2.4L Automatic': 9, 'XL SuperCrew 5.5' Box 4WD': 9, 'Sport 4-Door Automatic': 9, 'A 220 FWD': 9, 'Hybrid Limited 2.4L': 9, 'SEL AWD': 8, 'SE 2.0L Sedan Automatic (alt)': 8, 'Limited AWD': 8, 'SE 2.4L (PZEV)': 8, 'Lariat 4WD Crew Cab 6.75' Box': 8, 'Lariat SuperCrew 5.5' Box 4WD': 8, 'LE Auto Access Seat 7-Passenger FWD': 8, 'E 350 Sedan RWD': 8, 'GLK 350 RWD': 8, 'GL 450 4MATIC': 8, 'GT Hatchback Automatic': 7, 'Limited 2.4L': 7, 'GLE 350 4MATIC SUV': 6, ...}</td>\n",
       "      <td>{'2.5L Inline-4 Gas': 490, '2.0L Inline-4 Gas': 399, '2.0L Inline-4 Gas Turbocharged': 307, '3.5L V-6 Gas': 286, '1.8L Inline-4 Gas': 275, '2.4L Inline-4 Gas': 242, '1.5L Inline-4 Gas Turbocharged': 106, '6.2L V-8 Gas': 75, '1.6L Inline-4 Gas': 59, '1.6L Inline-4 Gas Turbocharged': 46, '3.7L V-6 Gas': 41, '3.5L V-6 Gas Turbocharged': 39, '1.8L Inline-4 Hybrid': 36, '5.0L V-8 Gas': 32, '3.0L V-6 Gas Turbocharged': 29, '1.8L Inline-4 Gas Turbocharged': 27, '2.0L Inline-4 Hybrid': 26, '3.3L V-6 Gas': 22, '2.5L Inline-4 Gas Turbocharged': 22, '1.5L Inline-4 Gas': 20, '2.7L V-6 Gas Turbocharged': 18, '1.5L Inline-4 Hybrid': 18, '4.0L V-6 Gas': 17, '2.5L Inline-4 Hybrid': 15, '4.7L V-8 Gas Turbocharged': 15, '2.7L Inline-4 Gas': 14, '2.4L Inline-4 Hybrid': 12, '3.0L V-6 Diesel Turbocharged': 10, '5.7L V-8 Gas': 9, '6.7L V-8 Diesel Turbocharged': 8, '4.6L V-8 Gas Turbocharged': 8, '3.8L V-6 Gas': 6, '2.0L Inline-4 Plug-In Hybrid': 6, '5.5L V-8 Gas Turbocharged': 6, '4.0L V-8 Gas Turbocharged': 5, 'L - Electric': 5, '2.3L Inline-4 Gas Turbocharged': 4, '5.0L V-8 Gas Turbocharged': 4, '6.0L V-12 Gas Turbocharged': 3, '4.6L V-8 Gas': 3, '2.1L Inline-4 Diesel Turbocharged': 3, '5.0L V-8 Gas Twin-Turbo': 3, 'L - Hydrogen': 3, '1.0L Inline-3 Gas Turbocharged': 2, '2.0L Inline-4 Hybrid Turbocharged': 2, '5.4L V-8 Gas': 2, '1.8L Inline-4 CNG': 2, '2.0L Flat-4 Gas': 1, '5.5L V-8 Gas': 1, '2.2L Inline-4 Diesel Turbocharged': 1, '1.5L Inline-4 Plug-In Hybrid': 1, '2.0L V-4 Gas Turbocharged': 1, '1.8L Inline-4 Plug-In Hybrid': 1}</td>\n",
       "      <td>{'Gas': 2639, 'Hybrid': 109, 'Diesel': 22, 'Plug-In Hybrid': 8, 'Electric': 5, 'Hydrogen': 3, 'CNG': 2}</td>\n",
       "    </tr>\n",
       "  </tbody>\n",
       "</table>\n",
       "</div>"
      ],
      "text/plain": [
       "                                                                                                         make  \\\n",
       "missing_ratio                                                                                               0   \n",
       "nunique                                                                                                     6   \n",
       "value_counts   {'Toyota': 487, 'Mazda': 479, 'Hyundai': 478, 'Mercedes-Benz': 470, 'Ford': 448, 'Honda': 426}   \n",
       "\n",
       "                                                                                                                                                                                                                                                                                                                                                                                                                                                                                                                                                                                                                                                                                                                                                                                                                                                                                                                                                                                                                                                                                                                                                                                                                                                                                                                                                                                                                                                                                                                                                                                               model  \\\n",
       "missing_ratio                                                                                                                                                                                                                                                                                                                                                                                                                                                                                                                                                                                                                                                                                                                                                                                                                                                                                                                                                                                                                                                                                                                                                                                                                                                                                                                                                                                                                                                                                                                                                                                      0   \n",
       "nunique                                                                                                                                                                                                                                                                                                                                                                                                                                                                                                                                                                                                                                                                                                                                                                                                                                                                                                                                                                                                                                                                                                                                                                                                                                                                                                                                                                                                                                                                                                                                                                                           99   \n",
       "value_counts   {'CX-5': 220, 'Elantra': 193, 'Civic': 152, 'Corolla': 145, 'Mazda3': 134, 'C-Class': 129, 'Camry': 119, 'Sonata': 110, 'F-150': 103, 'Accord': 103, 'CR-V': 73, 'Fusion': 72, 'E-Class': 68, 'Tucson': 66, 'Mazda6': 66, 'Super Duty F-250': 60, 'RAV4': 57, 'GLC': 55, 'Focus': 37, 'Prius': 33, 'Escape': 33, 'Accent': 33, 'GLA': 32, 'GLE': 31, 'Edge': 30, 'Tacoma': 28, 'CX-9': 27, 'Odyssey': 26, 'Santa Fe': 26, 'Pilot': 25, 'Sienna': 25, 'Transit Passenger Wagon': 24, 'CLA': 24, 'Santa Fe Sport': 24, 'HR-V': 22, 'Explorer': 22, 'Super Duty F-350': 19, 'M-Class': 17, 'Highlander': 16, 'Fiesta': 16, 'S-Class': 15, '4Runner': 14, 'GLK': 14, 'GL': 13, 'Veloster': 13, 'Tundra': 12, 'CX-3': 11, 'A-Class': 10, 'Fit': 9, 'GLS': 9, 'Mazda5': 8, 'Avalon': 8, 'Mustang': 8, 'SL': 8, 'Prius c': 8, 'Ridgeline': 7, 'Metris Cargo Van': 7, 'Metris Passenger Van': 7, 'Sprinter Cargo Van': 6, 'MX-5 Miata': 6, 'GLB': 6, 'Venza': 5, 'Mazda2': 5, 'C-Max': 5, 'Genesis Coupe': 5, 'Super Duty F-350 Chassis Cab': 4, 'Insight': 4, 'Yaris': 4, 'Sprinter Passenger Van': 3, 'B-Class': 3, 'Mirai': 3, 'Prius v': 3, 'Passport': 3, 'SLK': 3, 'Genesis': 3, 'G-Class': 3, 'Taurus': 3, 'Expedition': 3, 'Transit Cargo Van': 3, 'Econoline Commercial Cutaway': 2, 'Azera': 2, 'CX-30': 2, 'CLS': 2, 'Transit Connect Van': 2, 'Sprinter Chassis Cabs': 2, 'Corolla iM': 2, 'Yaris iA': 2, 'Kona': 2, 'Sprinter Crew Van': 1, 'Prius Prime': 1, 'Transit Cutaway': 1, 'CR-Z': 1, 'C-HR': 1, 'SLC': 1, 'Equus': 1, 'Clarity': 1, '86': 1, 'AMG GT': 1, 'Ranger': 1}   \n",
       "\n",
       "                                                                                                                                                                                                                                                                                                                                                                                                                                                                                                                                                                                                                                                                                                                                                                                                                                                                                                                                                                                                                                                                                                                                                                                                                                                                                                                                                                                                                                                                                                                                                                                                                                                                                                                                                                                                                                                                                                                                                                                                                                                                                                                                                                                                                                                                                                                                                                                                                             body style  \\\n",
       "missing_ratio                                                                                                                                                                                                                                                                                                                                                                                                                                                                                                                                                                                                                                                                                                                                                                                                                                                                                                                                                                                                                                                                                                                                                                                                                                                                                                                                                                                                                                                                                                                                                                                                                                                                                                                                                                                                                                                                                                                                                                                                                                                                                                                                                                                                                                                                                                                                                                                                                         0   \n",
       "nunique                                                                                                                                                                                                                                                                                                                                                                                                                                                                                                                                                                                                                                                                                                                                                                                                                                                                                                                                                                                                                                                                                                                                                                                                                                                                                                                                                                                                                                                                                                                                                                                                                                                                                                                                                                                                                                                                                                                                                                                                                                                                                                                                                                                                                                                                                                                                                                                                                             619   \n",
       "value_counts   {'LE CVT': 75, 'SE FWD': 65, 'LX Sedan CVT': 59, 'Touring FWD': 43, 'C 300 Sedan RWD': 40, 'SEL 2.0L IVT': 39, 'Grand Touring FWD': 38, 'SE Sedan Automatic': 33, 'Grand Touring AWD': 33, 'XLT SuperCrew 5.5' Box 4WD': 33, 'SE I4 Automatic': 31, 'C 300 4MATIC Sedan': 28, 'Touring Automatic': 26, 'GLC 300 SUV RWD': 25, 'SE 2.4L': 25, 'Touring AWD': 25, 'SE AWD': 24, 'GLS Sedan Automatic': 24, 'SE Sedan': 24, 'Sport FWD': 22, 'i Sport 4-Door Automatic': 22, 'SEL FWD': 22, 'Limited FWD': 21, 'EX Sedan CVT': 20, 'E 350 4MATIC Luxury Sedan': 20, 'SEL 2.0L Sedan Automatic': 20, 'Two': 19, 'Grand Touring AWD Automatic': 18, 'Sport 1.5T CVT': 18, 'L Automatic': 17, 'i Touring 4-Door Automatic': 17, 'Sport AWD': 17, 'EX AWD': 17, 'E 350 Sport Sedan RWD': 17, 'GLA 250 4MATIC': 17, 'CLA 250 FWD': 17, 'LX Sedan I4 CVT': 16, 'EX-L AWD': 16, 'EX-L FWD': 16, 'C 250 Sport Sedan RWD': 16, 'SE Hatchback': 16, 'Touring FWD Automatic': 15, 'i Touring Automatic': 15, 'C 300 4MATIC Sport Sedan': 15, 'GLE 350 SUV RWD': 14, 'EX-L': 14, 'SEL 2.0L Automatic': 14, 'SE CVT': 14, 'LE I4 Automatic': 14, 'GLA 250 FWD': 14, 'LX Sedan Automatic': 14, 'Standard Roof 126\" Wheelbase': 14, 'Value Edition 2.0L Sedan Automatic': 14, 'SE Automatic': 14, 'GLC 300 RWD': 13, 'Touring AWD Automatic': 13, 'i Touring 5-Door Automatic': 13, 'XLE AWD': 13, 'Titanium AWD': 12, 'Grand Touring FWD Automatic': 12, 'LX FWD': 12, 'Four': 12, '2014 SE I4 Automatic': 12, 'EX-L Sedan I4 CVT': 12, 'SE 2.0L Sedan Automatic': 12, 'LE FWD': 12, 'EX FWD': 12, 'LE Automatic': 11, 'Base 2.4L FWD': 11, 'Sport Sedan CVT': 11, 'XLE FWD': 11, 'i Grand Touring Automatic': 11, 'C 300 Sedan 4MATIC': 11, 'Sport Sedan I4 CVT': 11, 'Touring 4-Door Automatic': 11, 'EX-L Sedan CVT': 10, 'L CVT': 10, 'ML 350 4MATIC': 10, 'Sport Automatic': 10, 'Hybrid SE FWD': 10, 'XLE I4 Automatic': 10, 'Sport 2.4L': 10, 'GLS 2.4L Automatic': 9, 'XL SuperCrew 5.5' Box 4WD': 9, 'Sport 4-Door Automatic': 9, 'A 220 FWD': 9, 'Hybrid Limited 2.4L': 9, 'SEL AWD': 8, 'SE 2.0L Sedan Automatic (alt)': 8, 'Limited AWD': 8, 'SE 2.4L (PZEV)': 8, 'Lariat 4WD Crew Cab 6.75' Box': 8, 'Lariat SuperCrew 5.5' Box 4WD': 8, 'LE Auto Access Seat 7-Passenger FWD': 8, 'E 350 Sedan RWD': 8, 'GLK 350 RWD': 8, 'GL 450 4MATIC': 8, 'GT Hatchback Automatic': 7, 'Limited 2.4L': 7, 'GLE 350 4MATIC SUV': 6, ...}   \n",
       "\n",
       "                                                                                                                                                                                                                                                                                                                                                                                                                                                                                                                                                                                                                                                                                                                                                                                                                                                                                                                                                                                                                                                                                                                                                                                                                                                                                                                                                                                                                                                                                                                                                                                                         engine  \\\n",
       "missing_ratio                                                                                                                                                                                                                                                                                                                                                                                                                                                                                                                                                                                                                                                                                                                                                                                                                                                                                                                                                                                                                                                                                                                                                                                                                                                                                                                                                                                                                                                                                                                                                                                                 0   \n",
       "nunique                                                                                                                                                                                                                                                                                                                                                                                                                                                                                                                                                                                                                                                                                                                                                                                                                                                                                                                                                                                                                                                                                                                                                                                                                                                                                                                                                                                                                                                                                                                                                                                                      53   \n",
       "value_counts   {'2.5L Inline-4 Gas': 490, '2.0L Inline-4 Gas': 399, '2.0L Inline-4 Gas Turbocharged': 307, '3.5L V-6 Gas': 286, '1.8L Inline-4 Gas': 275, '2.4L Inline-4 Gas': 242, '1.5L Inline-4 Gas Turbocharged': 106, '6.2L V-8 Gas': 75, '1.6L Inline-4 Gas': 59, '1.6L Inline-4 Gas Turbocharged': 46, '3.7L V-6 Gas': 41, '3.5L V-6 Gas Turbocharged': 39, '1.8L Inline-4 Hybrid': 36, '5.0L V-8 Gas': 32, '3.0L V-6 Gas Turbocharged': 29, '1.8L Inline-4 Gas Turbocharged': 27, '2.0L Inline-4 Hybrid': 26, '3.3L V-6 Gas': 22, '2.5L Inline-4 Gas Turbocharged': 22, '1.5L Inline-4 Gas': 20, '2.7L V-6 Gas Turbocharged': 18, '1.5L Inline-4 Hybrid': 18, '4.0L V-6 Gas': 17, '2.5L Inline-4 Hybrid': 15, '4.7L V-8 Gas Turbocharged': 15, '2.7L Inline-4 Gas': 14, '2.4L Inline-4 Hybrid': 12, '3.0L V-6 Diesel Turbocharged': 10, '5.7L V-8 Gas': 9, '6.7L V-8 Diesel Turbocharged': 8, '4.6L V-8 Gas Turbocharged': 8, '3.8L V-6 Gas': 6, '2.0L Inline-4 Plug-In Hybrid': 6, '5.5L V-8 Gas Turbocharged': 6, '4.0L V-8 Gas Turbocharged': 5, 'L - Electric': 5, '2.3L Inline-4 Gas Turbocharged': 4, '5.0L V-8 Gas Turbocharged': 4, '6.0L V-12 Gas Turbocharged': 3, '4.6L V-8 Gas': 3, '2.1L Inline-4 Diesel Turbocharged': 3, '5.0L V-8 Gas Twin-Turbo': 3, 'L - Hydrogen': 3, '1.0L Inline-3 Gas Turbocharged': 2, '2.0L Inline-4 Hybrid Turbocharged': 2, '5.4L V-8 Gas': 2, '1.8L Inline-4 CNG': 2, '2.0L Flat-4 Gas': 1, '5.5L V-8 Gas': 1, '2.2L Inline-4 Diesel Turbocharged': 1, '1.5L Inline-4 Plug-In Hybrid': 1, '2.0L V-4 Gas Turbocharged': 1, '1.8L Inline-4 Plug-In Hybrid': 1}   \n",
       "\n",
       "                                                                                                             fuel type  \n",
       "missing_ratio                                                                                                        0  \n",
       "nunique                                                                                                              7  \n",
       "value_counts   {'Gas': 2639, 'Hybrid': 109, 'Diesel': 22, 'Plug-In Hybrid': 8, 'Electric': 5, 'Hydrogen': 3, 'CNG': 2}  "
      ]
     },
     "execution_count": 38,
     "metadata": {},
     "output_type": "execute_result"
    }
   ],
   "source": [
    "cate_cols_df = train_X_df.select_dtypes(include = 'object')\n",
    "\n",
    "def value_counts(col):\n",
    "    return dict(col.value_counts())\n",
    "\n",
    "# tỉ lệ giá trị thiếu, số lượng giá trị duy nhất, thống kê giá trị duy nhất\n",
    "category_stat = cate_cols_df.agg([missing_ratio, pd.Series.nunique, value_counts])\n",
    "pd.set_option('display.max_colwidth', 10000)\n",
    "category_stat"
   ]
  },
  {
   "cell_type": "markdown",
   "metadata": {
    "id": "_W2BbFy0pr1_"
   },
   "source": [
    "### Biểu đồ bar chart thể hiện số lượng xe của từng hãng"
   ]
  },
  {
   "cell_type": "code",
   "execution_count": 39,
   "metadata": {
    "colab": {
     "base_uri": "https://localhost:8080/",
     "height": 0
    },
    "id": "zCXMIxfQpr1_",
    "outputId": "cf2701e5-7a37-4621-ee84-4d698aee531b"
   },
   "outputs": [
    {
     "data": {
      "text/plain": [
       "Text(0.5, 0, 'Số xe')"
      ]
     },
     "execution_count": 39,
     "metadata": {},
     "output_type": "execute_result"
    },
    {
     "data": {
      "image/png": "[encoded data removed]",
      "text/plain": [
       "<Figure size 432x288 with 1 Axes>"
      ]
     },
     "metadata": {
      "needs_background": "light"
     },
     "output_type": "display_data"
    }
   ],
   "source": [
    "train_X_df['make'].value_counts().plot.barh()\n",
    "plt.xlabel('Số xe')"
   ]
  },
  {
   "cell_type": "markdown",
   "metadata": {
    "id": "60PQ_6fCpr1_"
   },
   "source": [
    "### Biểu đồ bar chart thể hiện mỗi quan hệ giữa: loại nhiên liệu và số lượng xe"
   ]
  },
  {
   "cell_type": "code",
   "execution_count": 40,
   "metadata": {
    "colab": {
     "base_uri": "https://localhost:8080/",
     "height": 0
    },
    "id": "PCNawH46pr2A",
    "outputId": "64d301ee-c115-4278-ec82-802bfb8b001d"
   },
   "outputs": [
    {
     "data": {
      "text/plain": [
       "Text(0.5, 0, 'Số xe')"
      ]
     },
     "execution_count": 40,
     "metadata": {},
     "output_type": "execute_result"
    },
    {
     "data": {
      "image/png": "[encoded data removed]",
      "text/plain": [
       "<Figure size 432x288 with 1 Axes>"
      ]
     },
     "metadata": {
      "needs_background": "light"
     },
     "output_type": "display_data"
    }
   ],
   "source": [
    "train_X_df['fuel type'].value_counts().plot.barh()\n",
    "plt.xlabel('Số xe')"
   ]
  },
  {
   "cell_type": "markdown",
   "metadata": {
    "id": "DZk6mu1Dpr2A"
   },
   "source": [
    "# Tiền xử lý (Tập huấn luyện)"
   ]
  },
  {
   "cell_type": "markdown",
   "metadata": {
    "id": "BwtAOIIRpr2A"
   },
   "source": [
    "Ta sẽ thêm và xóa một số cột như sau:"
   ]
  },
  {
   "cell_type": "markdown",
   "metadata": {
    "id": "tjUFo1Zmpr2A"
   },
   "source": [
    "- Xóa cột \"body style\" vì cột này có quá nhiều giá trị khác nhau, nếu chuyển sang dạng số bằng phương pháp one-hot thì sẽ làm tăng số lượng cột lên rất nhiều\n",
    "- Với cột \"engine\": giảm sự phức tạp của cột engine bằng cách chỉ lấy thông số lít(L) của động cơ, rồi chuyển nó sang dạng số\n",
    "- Với cột \"fuel type\": giữ nguyên n_top_fuel_types có số lượng nhiều nhất (mặc định: n_top_fuel_types = 3) thì giữ nguyên giá trị, còn lại chuyển thành 'Others'\n",
    "- Với cột \"model\": ta sẽ giữ lại n_top_models có chiếm số lượng nhiều nhất (mặc định: n_top_models = 10), còn lại chuyển thành 'Others'"
   ]
  },
  {
   "cell_type": "code",
   "execution_count": 41,
   "metadata": {
    "id": "oB_7IknWpr2B"
   },
   "outputs": [],
   "source": [
    "class ColAdderDropper(BaseEstimator, TransformerMixin):\n",
    "    def __init__(self, n_top_fuels = 1, n_top_models = 10):\n",
    "        self.n_top_fuels = n_top_fuels\n",
    "        self.n_top_models = n_top_models\n",
    "    def fit(self, X_df, y=None):\n",
    "        self.fuel_counts_ = X_df['fuel type'].value_counts()\n",
    "        fuel = list(self.fuel_counts_.index)\n",
    "        self.top_fuels_ = fuel[:max(1, min(self.n_top_fuels, len(fuel)))]\n",
    "        \n",
    "        self.model_counts_ = X_df['model'].value_counts()\n",
    "        model = list(self.model_counts_.index)\n",
    "        self.top_models_ = model[:max(1, min(self.n_top_models, len(model)))]\n",
    "        \n",
    "        return self\n",
    "    def transform(self, X_df, y=None):\n",
    "        new_df = X_df.copy(deep = True)\n",
    "        \n",
    "        # xóa cột \"body style\"\n",
    "        new_df = new_df.drop(columns = ['body style'], axis = 1)\n",
    "        \n",
    "        # chuyển cột \"engine\" sang dạng số\n",
    "        new_df['engine'] = new_df['engine'].str.extract(r'(\\d+.\\d+L)')\n",
    "        new_df['engine'] = new_df['engine'].str.replace('L', '').astype(float)\n",
    "        \n",
    "        # chuyển đổi giá trị cột \"fuel type\"\n",
    "        fuel_col = new_df['fuel type']\n",
    "        fuel_col[~fuel_col.isin(self.top_fuels_)] = 'Others'\n",
    "        \n",
    "        # chuyển đổi giá trị cột \"model\"\n",
    "        model_col = new_df['model']\n",
    "        model_col[~model_col.isin(self.top_models_)] = 'Others'\n",
    "        \n",
    "        return new_df"
   ]
  },
  {
   "cell_type": "code",
   "execution_count": 42,
   "metadata": {},
   "outputs": [
    {
     "name": "stdout",
     "output_type": "stream",
     "text": [
      "['Gas']\n",
      "\n",
      "['CX-5', 'Elantra', 'Civic', 'Corolla', 'Mazda3', 'C-Class', 'Camry', 'Sonata', 'F-150', 'Accord']\n"
     ]
    }
   ],
   "source": [
    "col_adderdropper = ColAdderDropper(n_top_fuels = 1, n_top_models = 10)\n",
    "col_adderdropper.fit(train_X_df)\n",
    "print(col_adderdropper.top_fuels_)\n",
    "print()\n",
    "print(col_adderdropper.top_models_)"
   ]
  },
  {
   "cell_type": "code",
   "execution_count": 43,
   "metadata": {},
   "outputs": [
    {
     "data": {
      "text/html": [
       "<div>\n",
       "<style scoped>\n",
       "    .dataframe tbody tr th:only-of-type {\n",
       "        vertical-align: middle;\n",
       "    }\n",
       "\n",
       "    .dataframe tbody tr th {\n",
       "        vertical-align: top;\n",
       "    }\n",
       "\n",
       "    .dataframe thead th {\n",
       "        text-align: right;\n",
       "    }\n",
       "</style>\n",
       "<table border=\"1\" class=\"dataframe\">\n",
       "  <thead>\n",
       "    <tr style=\"text-align: right;\">\n",
       "      <th></th>\n",
       "      <th>make</th>\n",
       "      <th>model</th>\n",
       "      <th>year</th>\n",
       "      <th>mileage</th>\n",
       "      <th>engine</th>\n",
       "      <th>fuel type</th>\n",
       "      <th>number of owners</th>\n",
       "    </tr>\n",
       "  </thead>\n",
       "  <tbody>\n",
       "    <tr>\n",
       "      <th>3835</th>\n",
       "      <td>Toyota</td>\n",
       "      <td>Corolla</td>\n",
       "      <td>2019</td>\n",
       "      <td>36937.0</td>\n",
       "      <td>1.8</td>\n",
       "      <td>Gas</td>\n",
       "      <td>2.0</td>\n",
       "    </tr>\n",
       "    <tr>\n",
       "      <th>968</th>\n",
       "      <td>Ford</td>\n",
       "      <td>Others</td>\n",
       "      <td>2014</td>\n",
       "      <td>54054.0</td>\n",
       "      <td>2.0</td>\n",
       "      <td>Others</td>\n",
       "      <td>2.0</td>\n",
       "    </tr>\n",
       "    <tr>\n",
       "      <th>1183</th>\n",
       "      <td>Ford</td>\n",
       "      <td>F-150</td>\n",
       "      <td>2016</td>\n",
       "      <td>75062.0</td>\n",
       "      <td>2.7</td>\n",
       "      <td>Gas</td>\n",
       "      <td>1.0</td>\n",
       "    </tr>\n",
       "    <tr>\n",
       "      <th>384</th>\n",
       "      <td>Honda</td>\n",
       "      <td>Others</td>\n",
       "      <td>2016</td>\n",
       "      <td>24070.0</td>\n",
       "      <td>1.5</td>\n",
       "      <td>Gas</td>\n",
       "      <td>3.0</td>\n",
       "    </tr>\n",
       "    <tr>\n",
       "      <th>2822</th>\n",
       "      <td>Mercedes-Benz</td>\n",
       "      <td>Others</td>\n",
       "      <td>2017</td>\n",
       "      <td>54635.0</td>\n",
       "      <td>2.0</td>\n",
       "      <td>Gas</td>\n",
       "      <td>1.0</td>\n",
       "    </tr>\n",
       "  </tbody>\n",
       "</table>\n",
       "</div>"
      ],
      "text/plain": [
       "               make    model  year  mileage  engine fuel type  \\\n",
       "3835         Toyota  Corolla  2019  36937.0     1.8       Gas   \n",
       "968            Ford   Others  2014  54054.0     2.0    Others   \n",
       "1183           Ford    F-150  2016  75062.0     2.7       Gas   \n",
       "384           Honda   Others  2016  24070.0     1.5       Gas   \n",
       "2822  Mercedes-Benz   Others  2017  54635.0     2.0       Gas   \n",
       "\n",
       "      number of owners  \n",
       "3835               2.0  \n",
       "968                2.0  \n",
       "1183               1.0  \n",
       "384                3.0  \n",
       "2822               1.0  "
      ]
     },
     "execution_count": 43,
     "metadata": {},
     "output_type": "execute_result"
    }
   ],
   "source": [
    "fewer_cols_train_X_df = col_adderdropper.transform(train_X_df)\n",
    "fewer_cols_train_X_df.head()"
   ]
  },
  {
   "cell_type": "markdown",
   "metadata": {
    "id": "YxuJK_2jpr2B"
   },
   "source": [
    "Đến đây, các cột dạng số (numerical) gồm: \"year\", \"mileage\", \"engine\", \"number of owners\"; các cột không phải dạng số (categorical) và không có thứ tự gồm: \"make\", \"model\", \"fuel type\". Các bước tiền xử lý tiếp theo như sau:\n",
    "- Với các cột dạng số, ta sẽ điền giá trị thiếu bằng giá trị median của cột. **Tất cả** các cột dạng số trong tập huấn luyện, ta đều cần tính median, vì ta không biết được cột nào sẽ bị thiếu giá trị khi dự đoán với các véc-tơ input mới.\n",
    "    - Lưu ý với cột \"number of owners\", xử lý 1 bước trước khi xử lý giá trị thiếu, đó là: nếu giá trị trong cột \"number of owners\" = 0 thì ta chuyển nó = 1. Vì tiêu chí của ta là các xe đã qua sử dụng, mà đã qua sử dụng thì phải có >= 1 người chủ\n",
    "- Với các cột không phải dạng số và không có thứ tự:\n",
    "    - Ta sẽ điền giá trị thiếu bằng giá trị mode (giá trị xuất hiện nhiều nhất) của cột. **Tất cả** các cột không có dạng số và không có thứ tự, ta đều cần tính mode, vì ta không biết được cột nào sẽ bị thiếu giá trị khi dự đoán với các véc-tơ input mới.\n",
    "    - Sau đó, ta sẽ chuyển sang dạng số bằng phương pháp mã hóa one-hot"
   ]
  },
  {
   "cell_type": "code",
   "execution_count": 44,
   "metadata": {
    "id": "XjvBT4Pvpr2C"
   },
   "outputs": [],
   "source": [
    "class Sparse2DenseTransformer(BaseEstimator, TransformerMixin):\n",
    "    def fit(self, X, Y=None):\n",
    "        return self\n",
    "    def transform(self, X):\n",
    "        return X.todense()"
   ]
  },
  {
   "cell_type": "code",
   "execution_count": 45,
   "metadata": {
    "id": "0-oTiOfMvfr-"
   },
   "outputs": [],
   "source": [
    "class FixOwnerVal(BaseEstimator, TransformerMixin):\n",
    "    def fit(self, X, Y=None):\n",
    "        return self\n",
    "    def transform(self, X):\n",
    "        new_X = X.copy(deep = True)\n",
    "        new_X.loc[(new_X['number of owners'] == 0.0), 'number of owners'] = 1.0\n",
    "        return new_X"
   ]
  },
  {
   "cell_type": "code",
   "execution_count": 46,
   "metadata": {
    "colab": {
     "base_uri": "https://localhost:8080/"
    },
    "id": "PuKLlL1epr2D",
    "outputId": "05417c8b-bc9d-493b-ef81-52930743c030"
   },
   "outputs": [
    {
     "data": {
      "text/plain": [
       "(2788, 23)"
      ]
     },
     "execution_count": 46,
     "metadata": {},
     "output_type": "execute_result"
    }
   ],
   "source": [
    "nume_cols = ['year', 'mileage', 'engine', 'number of owners']\n",
    "unorder_cate_cols = ['make', 'model', 'fuel type']\n",
    "\n",
    "nume_transformer = Pipeline([\n",
    "    ('impute1', SimpleImputer(missing_values = np.nan, strategy='median')),\n",
    "    ('scale1', StandardScaler())\n",
    "])\n",
    "\n",
    "unorder_cate_transformer = Pipeline([\n",
    "    ('impute2', SimpleImputer(missing_values = np.nan, strategy='most_frequent')),\n",
    "    ('ohe', OneHotEncoder()),\n",
    "    ('todense', Sparse2DenseTransformer()),\n",
    "    ('scale2', StandardScaler())\n",
    "])\n",
    "\n",
    "preprocessor = ColumnTransformer(transformers = [\n",
    "    ('nume', nume_transformer, nume_cols),\n",
    "    ('unorder_cate', unorder_cate_transformer, unorder_cate_cols),\n",
    "])\n",
    "\n",
    "preprocess_pipeline = Pipeline([\n",
    "    ('add_drop', ColAdderDropper()),\n",
    "    ('fix_owner', FixOwnerVal()),\n",
    "    ('preprocess', preprocessor)\n",
    "])\n",
    "\n",
    "preprocessed_train_X = preprocess_pipeline.fit_transform(train_X_df)\n",
    "preprocessed_train_X.shape"
   ]
  },
  {
   "cell_type": "code",
   "execution_count": 47,
   "metadata": {
    "colab": {
     "base_uri": "https://localhost:8080/"
    },
    "id": "oR-pprompr2D",
    "outputId": "a011de06-2f19-48a9-bf06-def5a4cc1f3c"
   },
   "outputs": [
    {
     "data": {
      "text/html": [
       "<style>div.sk-top-container {color: black;background-color: white;}div.sk-toggleable {background-color: white;}label.sk-toggleable__label {cursor: pointer;display: block;width: 100%;margin-bottom: 0;padding: 0.2em 0.3em;box-sizing: border-box;text-align: center;}div.sk-toggleable__content {max-height: 0;max-width: 0;overflow: hidden;text-align: left;background-color: #f0f8ff;}div.sk-toggleable__content pre {margin: 0.2em;color: black;border-radius: 0.25em;background-color: #f0f8ff;}input.sk-toggleable__control:checked~div.sk-toggleable__content {max-height: 200px;max-width: 100%;overflow: auto;}div.sk-estimator input.sk-toggleable__control:checked~label.sk-toggleable__label {background-color: #d4ebff;}div.sk-label input.sk-toggleable__control:checked~label.sk-toggleable__label {background-color: #d4ebff;}input.sk-hidden--visually {border: 0;clip: rect(1px 1px 1px 1px);clip: rect(1px, 1px, 1px, 1px);height: 1px;margin: -1px;overflow: hidden;padding: 0;position: absolute;width: 1px;}div.sk-estimator {font-family: monospace;background-color: #f0f8ff;margin: 0.25em 0.25em;border: 1px dotted black;border-radius: 0.25em;box-sizing: border-box;}div.sk-estimator:hover {background-color: #d4ebff;}div.sk-parallel-item::after {content: \"\";width: 100%;border-bottom: 1px solid gray;flex-grow: 1;}div.sk-label:hover label.sk-toggleable__label {background-color: #d4ebff;}div.sk-serial::before {content: \"\";position: absolute;border-left: 1px solid gray;box-sizing: border-box;top: 2em;bottom: 0;left: 50%;}div.sk-serial {display: flex;flex-direction: column;align-items: center;background-color: white;}div.sk-item {z-index: 1;}div.sk-parallel {display: flex;align-items: stretch;justify-content: center;background-color: white;}div.sk-parallel-item {display: flex;flex-direction: column;position: relative;background-color: white;}div.sk-parallel-item:first-child::after {align-self: flex-end;width: 50%;}div.sk-parallel-item:last-child::after {align-self: flex-start;width: 50%;}div.sk-parallel-item:only-child::after {width: 0;}div.sk-dashed-wrapped {border: 1px dashed gray;margin: 0.2em;box-sizing: border-box;padding-bottom: 0.1em;background-color: white;position: relative;}div.sk-label label {font-family: monospace;font-weight: bold;background-color: white;display: inline-block;line-height: 1.2em;}div.sk-label-container {position: relative;z-index: 2;text-align: center;}div.sk-container {display: inline-block;position: relative;}</style><div class=\"sk-top-container\"><div class=\"sk-container\"><div class=\"sk-item sk-dashed-wrapped\"><div class=\"sk-label-container\"><div class=\"sk-label sk-toggleable\"><input class=\"sk-toggleable__control sk-hidden--visually\" id=\"2411f286-a10e-406b-ab09-0ff69f2b2878\" type=\"checkbox\" ><label class=\"sk-toggleable__label\" for=\"2411f286-a10e-406b-ab09-0ff69f2b2878\">Pipeline</label><div class=\"sk-toggleable__content\"><pre>Pipeline(steps=[('add_drop', ColAdderDropper()), ('fix_owner', FixOwnerVal()),\n",
       "                ('preprocess',\n",
       "                 ColumnTransformer(transformers=[('nume',\n",
       "                                                  Pipeline(steps=[('impute1',\n",
       "                                                                   SimpleImputer(strategy='median')),\n",
       "                                                                  ('scale1',\n",
       "                                                                   StandardScaler())]),\n",
       "                                                  ['year', 'mileage', 'engine',\n",
       "                                                   'number of owners']),\n",
       "                                                 ('unorder_cate',\n",
       "                                                  Pipeline(steps=[('impute2',\n",
       "                                                                   SimpleImputer(strategy='most_frequent')),\n",
       "                                                                  ('ohe',\n",
       "                                                                   OneHotEncoder()),\n",
       "                                                                  ('todense',\n",
       "                                                                   Sparse2DenseTransformer()),\n",
       "                                                                  ('scale2',\n",
       "                                                                   StandardScaler())]),\n",
       "                                                  ['make', 'model',\n",
       "                                                   'fuel type'])]))])</pre></div></div></div><div class=\"sk-serial\"><div class=\"sk-item\"><div class=\"sk-estimator sk-toggleable\"><input class=\"sk-toggleable__control sk-hidden--visually\" id=\"b9640950-c59c-415d-9fc7-d7b8c85ec7a5\" type=\"checkbox\" ><label class=\"sk-toggleable__label\" for=\"b9640950-c59c-415d-9fc7-d7b8c85ec7a5\">ColAdderDropper</label><div class=\"sk-toggleable__content\"><pre>ColAdderDropper()</pre></div></div></div><div class=\"sk-item\"><div class=\"sk-estimator sk-toggleable\"><input class=\"sk-toggleable__control sk-hidden--visually\" id=\"476154bc-942a-415f-a66c-9ca2eab41eb8\" type=\"checkbox\" ><label class=\"sk-toggleable__label\" for=\"476154bc-942a-415f-a66c-9ca2eab41eb8\">FixOwnerVal</label><div class=\"sk-toggleable__content\"><pre>FixOwnerVal()</pre></div></div></div><div class=\"sk-item sk-dashed-wrapped\"><div class=\"sk-label-container\"><div class=\"sk-label sk-toggleable\"><input class=\"sk-toggleable__control sk-hidden--visually\" id=\"bccfd435-6ad7-4145-924d-a4de5ca13db4\" type=\"checkbox\" ><label class=\"sk-toggleable__label\" for=\"bccfd435-6ad7-4145-924d-a4de5ca13db4\">preprocess: ColumnTransformer</label><div class=\"sk-toggleable__content\"><pre>ColumnTransformer(transformers=[('nume',\n",
       "                                 Pipeline(steps=[('impute1',\n",
       "                                                  SimpleImputer(strategy='median')),\n",
       "                                                 ('scale1', StandardScaler())]),\n",
       "                                 ['year', 'mileage', 'engine',\n",
       "                                  'number of owners']),\n",
       "                                ('unorder_cate',\n",
       "                                 Pipeline(steps=[('impute2',\n",
       "                                                  SimpleImputer(strategy='most_frequent')),\n",
       "                                                 ('ohe', OneHotEncoder()),\n",
       "                                                 ('todense',\n",
       "                                                  Sparse2DenseTransformer()),\n",
       "                                                 ('scale2', StandardScaler())]),\n",
       "                                 ['make', 'model', 'fuel type'])])</pre></div></div></div><div class=\"sk-parallel\"><div class=\"sk-parallel-item\"><div class=\"sk-item\"><div class=\"sk-label-container\"><div class=\"sk-label sk-toggleable\"><input class=\"sk-toggleable__control sk-hidden--visually\" id=\"3e12812d-291f-4c49-975d-7cd962c8b514\" type=\"checkbox\" ><label class=\"sk-toggleable__label\" for=\"3e12812d-291f-4c49-975d-7cd962c8b514\">nume</label><div class=\"sk-toggleable__content\"><pre>['year', 'mileage', 'engine', 'number of owners']</pre></div></div></div><div class=\"sk-serial\"><div class=\"sk-item\"><div class=\"sk-serial\"><div class=\"sk-item\"><div class=\"sk-estimator sk-toggleable\"><input class=\"sk-toggleable__control sk-hidden--visually\" id=\"4096c9fa-c719-4e89-97b5-8e500bbced92\" type=\"checkbox\" ><label class=\"sk-toggleable__label\" for=\"4096c9fa-c719-4e89-97b5-8e500bbced92\">SimpleImputer</label><div class=\"sk-toggleable__content\"><pre>SimpleImputer(strategy='median')</pre></div></div></div><div class=\"sk-item\"><div class=\"sk-estimator sk-toggleable\"><input class=\"sk-toggleable__control sk-hidden--visually\" id=\"cfabb67c-9e7d-4de3-ada4-00b8fdca27ef\" type=\"checkbox\" ><label class=\"sk-toggleable__label\" for=\"cfabb67c-9e7d-4de3-ada4-00b8fdca27ef\">StandardScaler</label><div class=\"sk-toggleable__content\"><pre>StandardScaler()</pre></div></div></div></div></div></div></div></div><div class=\"sk-parallel-item\"><div class=\"sk-item\"><div class=\"sk-label-container\"><div class=\"sk-label sk-toggleable\"><input class=\"sk-toggleable__control sk-hidden--visually\" id=\"2cdeb4ef-9d06-4a7c-9630-4a04957b4917\" type=\"checkbox\" ><label class=\"sk-toggleable__label\" for=\"2cdeb4ef-9d06-4a7c-9630-4a04957b4917\">unorder_cate</label><div class=\"sk-toggleable__content\"><pre>['make', 'model', 'fuel type']</pre></div></div></div><div class=\"sk-serial\"><div class=\"sk-item\"><div class=\"sk-serial\"><div class=\"sk-item\"><div class=\"sk-estimator sk-toggleable\"><input class=\"sk-toggleable__control sk-hidden--visually\" id=\"0c99301a-d4f0-407f-8da7-7fcbfab4c9e7\" type=\"checkbox\" ><label class=\"sk-toggleable__label\" for=\"0c99301a-d4f0-407f-8da7-7fcbfab4c9e7\">SimpleImputer</label><div class=\"sk-toggleable__content\"><pre>SimpleImputer(strategy='most_frequent')</pre></div></div></div><div class=\"sk-item\"><div class=\"sk-estimator sk-toggleable\"><input class=\"sk-toggleable__control sk-hidden--visually\" id=\"5909be15-9e31-4d4b-b7c6-f908ef43bac1\" type=\"checkbox\" ><label class=\"sk-toggleable__label\" for=\"5909be15-9e31-4d4b-b7c6-f908ef43bac1\">OneHotEncoder</label><div class=\"sk-toggleable__content\"><pre>OneHotEncoder()</pre></div></div></div><div class=\"sk-item\"><div class=\"sk-estimator sk-toggleable\"><input class=\"sk-toggleable__control sk-hidden--visually\" id=\"15a1a616-885e-4fe1-b8ac-cd8a6ddfe792\" type=\"checkbox\" ><label class=\"sk-toggleable__label\" for=\"15a1a616-885e-4fe1-b8ac-cd8a6ddfe792\">Sparse2DenseTransformer</label><div class=\"sk-toggleable__content\"><pre>Sparse2DenseTransformer()</pre></div></div></div><div class=\"sk-item\"><div class=\"sk-estimator sk-toggleable\"><input class=\"sk-toggleable__control sk-hidden--visually\" id=\"da8f114f-3b40-4246-b9df-3b54ec8be112\" type=\"checkbox\" ><label class=\"sk-toggleable__label\" for=\"da8f114f-3b40-4246-b9df-3b54ec8be112\">StandardScaler</label><div class=\"sk-toggleable__content\"><pre>StandardScaler()</pre></div></div></div></div></div></div></div></div></div></div></div></div></div></div>"
      ],
      "text/plain": [
       "Pipeline(steps=[('add_drop', ColAdderDropper()), ('fix_owner', FixOwnerVal()),\n",
       "                ('preprocess',\n",
       "                 ColumnTransformer(transformers=[('nume',\n",
       "                                                  Pipeline(steps=[('impute1',\n",
       "                                                                   SimpleImputer(strategy='median')),\n",
       "                                                                  ('scale1',\n",
       "                                                                   StandardScaler())]),\n",
       "                                                  ['year', 'mileage', 'engine',\n",
       "                                                   'number of owners']),\n",
       "                                                 ('unorder_cate',\n",
       "                                                  Pipeline(steps=[('impute2',\n",
       "                                                                   SimpleImputer(strategy='most_frequent')),\n",
       "                                                                  ('ohe',\n",
       "                                                                   OneHotEncoder()),\n",
       "                                                                  ('todense',\n",
       "                                                                   Sparse2DenseTransformer()),\n",
       "                                                                  ('scale2',\n",
       "                                                                   StandardScaler())]),\n",
       "                                                  ['make', 'model',\n",
       "                                                   'fuel type'])]))])"
      ]
     },
     "execution_count": 47,
     "metadata": {},
     "output_type": "execute_result"
    }
   ],
   "source": [
    "preprocess_pipeline"
   ]
  },
  {
   "cell_type": "markdown",
   "metadata": {
    "id": "FqFEkJGRpr2E"
   },
   "source": [
    "# Tiền xử lý tập validation"
   ]
  },
  {
   "cell_type": "markdown",
   "metadata": {
    "id": "pqzOIqE5pr2E"
   },
   "source": [
    "Một khi đã có `preprocess_pipeline` với các giá trị (`n_top_fuels_`, `n_top_models_`, median, mode, ...) đã được tính từ tập huấn luyện, ta có thể dễ dàng dùng phương thức `transform` để tiền xử lý cho các véc-tơ input mới trong tập validation và tập kiểm tra. Dưới đây, ta sẽ làm như vậy để tiền xử lý cho `val_X_df` và lưu kết quả vào `preprocessed_val_X`."
   ]
  },
  {
   "cell_type": "code",
   "execution_count": 48,
   "metadata": {
    "id": "l4foSoCHpr2E"
   },
   "outputs": [
    {
     "data": {
      "text/plain": [
       "array([[-1.53597149, -0.18146537, -0.73782749, ..., -0.20267074,\n",
       "         0.23761477, -0.23761477],\n",
       "       [ 1.52937462, -0.62783821, -0.03889334, ..., -0.20267074,\n",
       "         0.23761477, -0.23761477],\n",
       "       [ 1.52937462, -1.24996378, -0.53813202, ..., -0.20267074,\n",
       "         0.23761477, -0.23761477],\n",
       "       ...,\n",
       "       [-1.09806491,  0.77016602,  0.959584  , ..., -0.20267074,\n",
       "         0.23761477, -0.23761477],\n",
       "       [ 0.65356145, -0.71544569, -0.03889334, ..., -0.20267074,\n",
       "         0.23761477, -0.23761477],\n",
       "       [ 1.09146803, -1.09298408, -0.53813202, ..., -0.20267074,\n",
       "         0.23761477, -0.23761477]])"
      ]
     },
     "execution_count": 48,
     "metadata": {},
     "output_type": "execute_result"
    }
   ],
   "source": [
    "preprocessed_val_X = preprocess_pipeline.transform(val_X_df)\n",
    "preprocessed_val_X"
   ]
  },
  {
   "cell_type": "markdown",
   "metadata": {
    "id": "FZkIDJ6Spr2E"
   },
   "source": [
    "# Tiền xử lý  + mô hình hóa"
   ]
  },
  {
   "cell_type": "code",
   "execution_count": 49,
   "metadata": {},
   "outputs": [],
   "source": [
    "# Tính độ đo r^2 trên tập huấn luyện\n",
    "def compute_mse(y, preds):\n",
    "    return ((y - preds) ** 2).mean()\n",
    "def compute_rr(y, preds, baseline_preds):\n",
    "    return 1 - compute_mse(y, preds) / compute_mse(y, baseline_preds)\n",
    "baseline_preds = train_y_sr.mean()\n",
    "#compute_rr(test_y_sr, full_pipeline.predict(test_X_df), baseline_preds) "
   ]
  },
  {
   "cell_type": "markdown",
   "metadata": {
    "id": "iXLQWYywpr2F"
   },
   "source": [
    "## Tìm mô hình tốt nhất"
   ]
  },
  {
   "cell_type": "code",
   "execution_count": 50,
   "metadata": {
    "id": "inlLEe7Ypr2F"
   },
   "outputs": [],
   "source": [
    "# Tạo full pipeline\n",
    "nume_cols = ['year', 'mileage', 'engine', 'number of owners']\n",
    "unorder_cate_cols = ['make', 'model', 'fuel type']\n",
    "\n",
    "\n",
    "neural_net = MLPRegressor(hidden_layer_sizes=(20),\n",
    "                           activation='relu', \n",
    "                           solver='adam', \n",
    "                           random_state=0, \n",
    "                           max_iter=2500)\n",
    "full_pipeline = Pipeline([\n",
    "    ('preprocessing', preprocess_pipeline),\n",
    "    ('neural_net', neural_net),\n",
    "])\n",
    "\n",
    "# Thử nghiệm với các giá trị khác nhau của các siêu tham số\n",
    "# và chọn ra các giá trị tốt nhất\n",
    "train_errs = []\n",
    "val_errs = []\n",
    "alphas = [0.1, 1, 10, 100, 1000]\n",
    "#[0.0001, 0.001, 0.1, 0.5]# \n",
    "#n_top_fuels_s = [1,2]\n",
    "n_top_models_s = [16,18,20]\n",
    "\n",
    "best_val_err = float('inf')\n",
    "best_alpha = None\n",
    "#best_n_top_fuels = None\n",
    "best_n_top_models = None\n",
    "\n",
    "for alpha in alphas:\n",
    "    #for n_top_fuels in n_top_fuels_s:\n",
    "        for n_top_models in n_top_models_s:\n",
    "            full_pipeline.set_params(preprocessing__add_drop__n_top_models=n_top_models,\n",
    "                                     neural_net__alpha=alpha)\n",
    "\n",
    "            full_pipeline.fit(train_X_df, train_y_sr)\n",
    "            train_error = (1 - full_pipeline.score(train_X_df, train_y_sr)) * 100\n",
    "            train_errs.append(train_error)\n",
    "\n",
    "            #full_pipeline.predict(val_X_df)\n",
    "            #val_error = (1 - full_pipeline.score(val_X_df, val_y_sr)) * 100\n",
    "            val_error = (1 - compute_rr(val_y_sr, full_pipeline.predict(val_X_df), baseline_preds))*100\n",
    "            val_errs.append(val_error)\n",
    "\n",
    "            if (val_error < best_val_err):\n",
    "                best_val_err = val_error\n",
    "                best_alpha = alpha\n",
    "                #best_n_top_fuels = n_top_fuels\n",
    "                best_n_top_models = n_top_models"
   ]
  },
  {
   "cell_type": "code",
   "execution_count": 51,
   "metadata": {
    "id": "KnrhOgXrpr2F"
   },
   "outputs": [
    {
     "data": {
      "text/html": [
       "<style>div.sk-top-container {color: black;background-color: white;}div.sk-toggleable {background-color: white;}label.sk-toggleable__label {cursor: pointer;display: block;width: 100%;margin-bottom: 0;padding: 0.2em 0.3em;box-sizing: border-box;text-align: center;}div.sk-toggleable__content {max-height: 0;max-width: 0;overflow: hidden;text-align: left;background-color: #f0f8ff;}div.sk-toggleable__content pre {margin: 0.2em;color: black;border-radius: 0.25em;background-color: #f0f8ff;}input.sk-toggleable__control:checked~div.sk-toggleable__content {max-height: 200px;max-width: 100%;overflow: auto;}div.sk-estimator input.sk-toggleable__control:checked~label.sk-toggleable__label {background-color: #d4ebff;}div.sk-label input.sk-toggleable__control:checked~label.sk-toggleable__label {background-color: #d4ebff;}input.sk-hidden--visually {border: 0;clip: rect(1px 1px 1px 1px);clip: rect(1px, 1px, 1px, 1px);height: 1px;margin: -1px;overflow: hidden;padding: 0;position: absolute;width: 1px;}div.sk-estimator {font-family: monospace;background-color: #f0f8ff;margin: 0.25em 0.25em;border: 1px dotted black;border-radius: 0.25em;box-sizing: border-box;}div.sk-estimator:hover {background-color: #d4ebff;}div.sk-parallel-item::after {content: \"\";width: 100%;border-bottom: 1px solid gray;flex-grow: 1;}div.sk-label:hover label.sk-toggleable__label {background-color: #d4ebff;}div.sk-serial::before {content: \"\";position: absolute;border-left: 1px solid gray;box-sizing: border-box;top: 2em;bottom: 0;left: 50%;}div.sk-serial {display: flex;flex-direction: column;align-items: center;background-color: white;}div.sk-item {z-index: 1;}div.sk-parallel {display: flex;align-items: stretch;justify-content: center;background-color: white;}div.sk-parallel-item {display: flex;flex-direction: column;position: relative;background-color: white;}div.sk-parallel-item:first-child::after {align-self: flex-end;width: 50%;}div.sk-parallel-item:last-child::after {align-self: flex-start;width: 50%;}div.sk-parallel-item:only-child::after {width: 0;}div.sk-dashed-wrapped {border: 1px dashed gray;margin: 0.2em;box-sizing: border-box;padding-bottom: 0.1em;background-color: white;position: relative;}div.sk-label label {font-family: monospace;font-weight: bold;background-color: white;display: inline-block;line-height: 1.2em;}div.sk-label-container {position: relative;z-index: 2;text-align: center;}div.sk-container {display: inline-block;position: relative;}</style><div class=\"sk-top-container\"><div class=\"sk-container\"><div class=\"sk-item sk-dashed-wrapped\"><div class=\"sk-label-container\"><div class=\"sk-label sk-toggleable\"><input class=\"sk-toggleable__control sk-hidden--visually\" id=\"b0de2051-8c96-43cb-9198-5173a0876be5\" type=\"checkbox\" ><label class=\"sk-toggleable__label\" for=\"b0de2051-8c96-43cb-9198-5173a0876be5\">Pipeline</label><div class=\"sk-toggleable__content\"><pre>Pipeline(steps=[('preprocessing',\n",
       "                 Pipeline(steps=[('add_drop', ColAdderDropper(n_top_models=20)),\n",
       "                                 ('fix_owner', FixOwnerVal()),\n",
       "                                 ('preprocess',\n",
       "                                  ColumnTransformer(transformers=[('nume',\n",
       "                                                                   Pipeline(steps=[('impute1',\n",
       "                                                                                    SimpleImputer(strategy='median')),\n",
       "                                                                                   ('scale1',\n",
       "                                                                                    StandardScaler())]),\n",
       "                                                                   ['year',\n",
       "                                                                    'mileage',\n",
       "                                                                    'engine',\n",
       "                                                                    'number of '\n",
       "                                                                    'owners']),\n",
       "                                                                  ('unorder_cate',\n",
       "                                                                   Pipeline(steps=[('impute2',\n",
       "                                                                                    SimpleImputer(strategy='most_frequent')),\n",
       "                                                                                   ('ohe',\n",
       "                                                                                    OneHotEncoder()),\n",
       "                                                                                   ('todense',\n",
       "                                                                                    Sparse2DenseTransformer()),\n",
       "                                                                                   ('scale2',\n",
       "                                                                                    StandardScaler())]),\n",
       "                                                                   ['make',\n",
       "                                                                    'model',\n",
       "                                                                    'fuel '\n",
       "                                                                    'type'])]))])),\n",
       "                ('neural_net',\n",
       "                 MLPRegressor(alpha=1000, hidden_layer_sizes=20, max_iter=2500,\n",
       "                              random_state=0))])</pre></div></div></div><div class=\"sk-serial\"><div class=\"sk-item\"><div class=\"sk-label-container\"><div class=\"sk-label sk-toggleable\"><input class=\"sk-toggleable__control sk-hidden--visually\" id=\"d6dc31c6-5255-4206-beb9-038ca553a7f7\" type=\"checkbox\" ><label class=\"sk-toggleable__label\" for=\"d6dc31c6-5255-4206-beb9-038ca553a7f7\">preprocessing: Pipeline</label><div class=\"sk-toggleable__content\"><pre>Pipeline(steps=[('add_drop', ColAdderDropper(n_top_models=20)),\n",
       "                ('fix_owner', FixOwnerVal()),\n",
       "                ('preprocess',\n",
       "                 ColumnTransformer(transformers=[('nume',\n",
       "                                                  Pipeline(steps=[('impute1',\n",
       "                                                                   SimpleImputer(strategy='median')),\n",
       "                                                                  ('scale1',\n",
       "                                                                   StandardScaler())]),\n",
       "                                                  ['year', 'mileage', 'engine',\n",
       "                                                   'number of owners']),\n",
       "                                                 ('unorder_cate',\n",
       "                                                  Pipeline(steps=[('impute2',\n",
       "                                                                   SimpleImputer(strategy='most_frequent')),\n",
       "                                                                  ('ohe',\n",
       "                                                                   OneHotEncoder()),\n",
       "                                                                  ('todense',\n",
       "                                                                   Sparse2DenseTransformer()),\n",
       "                                                                  ('scale2',\n",
       "                                                                   StandardScaler())]),\n",
       "                                                  ['make', 'model',\n",
       "                                                   'fuel type'])]))])</pre></div></div></div><div class=\"sk-serial\"><div class=\"sk-item\"><div class=\"sk-estimator sk-toggleable\"><input class=\"sk-toggleable__control sk-hidden--visually\" id=\"022bd63e-7391-4717-979f-9cbf1a94e916\" type=\"checkbox\" ><label class=\"sk-toggleable__label\" for=\"022bd63e-7391-4717-979f-9cbf1a94e916\">ColAdderDropper</label><div class=\"sk-toggleable__content\"><pre>ColAdderDropper(n_top_models=20)</pre></div></div></div><div class=\"sk-item\"><div class=\"sk-estimator sk-toggleable\"><input class=\"sk-toggleable__control sk-hidden--visually\" id=\"ae5c722a-424b-4d87-a1f0-285bf4ff9108\" type=\"checkbox\" ><label class=\"sk-toggleable__label\" for=\"ae5c722a-424b-4d87-a1f0-285bf4ff9108\">FixOwnerVal</label><div class=\"sk-toggleable__content\"><pre>FixOwnerVal()</pre></div></div></div><div class=\"sk-item sk-dashed-wrapped\"><div class=\"sk-label-container\"><div class=\"sk-label sk-toggleable\"><input class=\"sk-toggleable__control sk-hidden--visually\" id=\"c7905860-f40f-477f-b3d8-33c02045c015\" type=\"checkbox\" ><label class=\"sk-toggleable__label\" for=\"c7905860-f40f-477f-b3d8-33c02045c015\">preprocess: ColumnTransformer</label><div class=\"sk-toggleable__content\"><pre>ColumnTransformer(transformers=[('nume',\n",
       "                                 Pipeline(steps=[('impute1',\n",
       "                                                  SimpleImputer(strategy='median')),\n",
       "                                                 ('scale1', StandardScaler())]),\n",
       "                                 ['year', 'mileage', 'engine',\n",
       "                                  'number of owners']),\n",
       "                                ('unorder_cate',\n",
       "                                 Pipeline(steps=[('impute2',\n",
       "                                                  SimpleImputer(strategy='most_frequent')),\n",
       "                                                 ('ohe', OneHotEncoder()),\n",
       "                                                 ('todense',\n",
       "                                                  Sparse2DenseTransformer()),\n",
       "                                                 ('scale2', StandardScaler())]),\n",
       "                                 ['make', 'model', 'fuel type'])])</pre></div></div></div><div class=\"sk-parallel\"><div class=\"sk-parallel-item\"><div class=\"sk-item\"><div class=\"sk-label-container\"><div class=\"sk-label sk-toggleable\"><input class=\"sk-toggleable__control sk-hidden--visually\" id=\"a1fe9930-c4c9-474c-af88-dfacf91e0f4f\" type=\"checkbox\" ><label class=\"sk-toggleable__label\" for=\"a1fe9930-c4c9-474c-af88-dfacf91e0f4f\">nume</label><div class=\"sk-toggleable__content\"><pre>['year', 'mileage', 'engine', 'number of owners']</pre></div></div></div><div class=\"sk-serial\"><div class=\"sk-item\"><div class=\"sk-serial\"><div class=\"sk-item\"><div class=\"sk-estimator sk-toggleable\"><input class=\"sk-toggleable__control sk-hidden--visually\" id=\"4ceeec07-41e5-4e80-89b1-31cee64059f1\" type=\"checkbox\" ><label class=\"sk-toggleable__label\" for=\"4ceeec07-41e5-4e80-89b1-31cee64059f1\">SimpleImputer</label><div class=\"sk-toggleable__content\"><pre>SimpleImputer(strategy='median')</pre></div></div></div><div class=\"sk-item\"><div class=\"sk-estimator sk-toggleable\"><input class=\"sk-toggleable__control sk-hidden--visually\" id=\"3c448250-f98d-483d-a977-eaaabb253e40\" type=\"checkbox\" ><label class=\"sk-toggleable__label\" for=\"3c448250-f98d-483d-a977-eaaabb253e40\">StandardScaler</label><div class=\"sk-toggleable__content\"><pre>StandardScaler()</pre></div></div></div></div></div></div></div></div><div class=\"sk-parallel-item\"><div class=\"sk-item\"><div class=\"sk-label-container\"><div class=\"sk-label sk-toggleable\"><input class=\"sk-toggleable__control sk-hidden--visually\" id=\"7b7e0640-c6cc-436e-98f7-b6211f38e08c\" type=\"checkbox\" ><label class=\"sk-toggleable__label\" for=\"7b7e0640-c6cc-436e-98f7-b6211f38e08c\">unorder_cate</label><div class=\"sk-toggleable__content\"><pre>['make', 'model', 'fuel type']</pre></div></div></div><div class=\"sk-serial\"><div class=\"sk-item\"><div class=\"sk-serial\"><div class=\"sk-item\"><div class=\"sk-estimator sk-toggleable\"><input class=\"sk-toggleable__control sk-hidden--visually\" id=\"0fbd311f-5e95-4e22-8f3e-665273d7709a\" type=\"checkbox\" ><label class=\"sk-toggleable__label\" for=\"0fbd311f-5e95-4e22-8f3e-665273d7709a\">SimpleImputer</label><div class=\"sk-toggleable__content\"><pre>SimpleImputer(strategy='most_frequent')</pre></div></div></div><div class=\"sk-item\"><div class=\"sk-estimator sk-toggleable\"><input class=\"sk-toggleable__control sk-hidden--visually\" id=\"15ae9171-6ceb-4235-9972-abc10ffc4916\" type=\"checkbox\" ><label class=\"sk-toggleable__label\" for=\"15ae9171-6ceb-4235-9972-abc10ffc4916\">OneHotEncoder</label><div class=\"sk-toggleable__content\"><pre>OneHotEncoder()</pre></div></div></div><div class=\"sk-item\"><div class=\"sk-estimator sk-toggleable\"><input class=\"sk-toggleable__control sk-hidden--visually\" id=\"7e87de23-48d0-4f37-a7a5-ee7007257bd3\" type=\"checkbox\" ><label class=\"sk-toggleable__label\" for=\"7e87de23-48d0-4f37-a7a5-ee7007257bd3\">Sparse2DenseTransformer</label><div class=\"sk-toggleable__content\"><pre>Sparse2DenseTransformer()</pre></div></div></div><div class=\"sk-item\"><div class=\"sk-estimator sk-toggleable\"><input class=\"sk-toggleable__control sk-hidden--visually\" id=\"23655fb7-ae0e-4975-95d2-3df7a5963a54\" type=\"checkbox\" ><label class=\"sk-toggleable__label\" for=\"23655fb7-ae0e-4975-95d2-3df7a5963a54\">StandardScaler</label><div class=\"sk-toggleable__content\"><pre>StandardScaler()</pre></div></div></div></div></div></div></div></div></div></div></div></div><div class=\"sk-item\"><div class=\"sk-estimator sk-toggleable\"><input class=\"sk-toggleable__control sk-hidden--visually\" id=\"dbaf821c-8625-4c68-863c-7c5061169f0d\" type=\"checkbox\" ><label class=\"sk-toggleable__label\" for=\"dbaf821c-8625-4c68-863c-7c5061169f0d\">MLPRegressor</label><div class=\"sk-toggleable__content\"><pre>MLPRegressor(alpha=1000, hidden_layer_sizes=20, max_iter=2500, random_state=0)</pre></div></div></div></div></div></div></div>"
      ],
      "text/plain": [
       "Pipeline(steps=[('preprocessing',\n",
       "                 Pipeline(steps=[('add_drop', ColAdderDropper(n_top_models=20)),\n",
       "                                 ('fix_owner', FixOwnerVal()),\n",
       "                                 ('preprocess',\n",
       "                                  ColumnTransformer(transformers=[('nume',\n",
       "                                                                   Pipeline(steps=[('impute1',\n",
       "                                                                                    SimpleImputer(strategy='median')),\n",
       "                                                                                   ('scale1',\n",
       "                                                                                    StandardScaler())]),\n",
       "                                                                   ['year',\n",
       "                                                                    'mileage',\n",
       "                                                                    'engine',\n",
       "                                                                    'number of '\n",
       "                                                                    'owners']),\n",
       "                                                                  ('unorder_cate',\n",
       "                                                                   Pipeline(steps=[('impute2',\n",
       "                                                                                    SimpleImputer(strategy='most_frequent')),\n",
       "                                                                                   ('ohe',\n",
       "                                                                                    OneHotEncoder()),\n",
       "                                                                                   ('todense',\n",
       "                                                                                    Sparse2DenseTransformer()),\n",
       "                                                                                   ('scale2',\n",
       "                                                                                    StandardScaler())]),\n",
       "                                                                   ['make',\n",
       "                                                                    'model',\n",
       "                                                                    'fuel '\n",
       "                                                                    'type'])]))])),\n",
       "                ('neural_net',\n",
       "                 MLPRegressor(alpha=1000, hidden_layer_sizes=20, max_iter=2500,\n",
       "                              random_state=0))])"
      ]
     },
     "execution_count": 51,
     "metadata": {},
     "output_type": "execute_result"
    }
   ],
   "source": [
    "full_pipeline"
   ]
  },
  {
   "cell_type": "code",
   "execution_count": 52,
   "metadata": {
    "id": "9hYN0Z3zpr2F"
   },
   "outputs": [
    {
     "name": "stdout",
     "output_type": "stream",
     "text": [
      "17.318830936230324\n",
      "100\n",
      "18\n"
     ]
    }
   ],
   "source": [
    "print(best_val_err)\n",
    "print(best_alpha)\n",
    "#print(best_n_top_fuels)\n",
    "print(best_n_top_models)"
   ]
  },
  {
   "cell_type": "code",
   "execution_count": 53,
   "metadata": {},
   "outputs": [
    {
     "data": {
      "image/png": "[encoded data removed]",
      "text/plain": [
       "<Figure size 720x360 with 2 Axes>"
      ]
     },
     "metadata": {
      "needs_background": "light"
     },
     "output_type": "display_data"
    }
   ],
   "source": [
    "# Trực quan hóa kết quả\n",
    "train_errs_df = pd.DataFrame(data=np.array(train_errs).reshape(len(alphas), -1),\n",
    "                             index=alphas, columns=n_top_models_s)\n",
    "val_errs_df = pd.DataFrame(data=np.array(val_errs).reshape(len(alphas), -1), \n",
    "                           index=alphas, columns=n_top_models_s)\n",
    "min_err = min(min(train_errs), min(val_errs))\n",
    "max_err = max(max(train_errs), max(val_errs))\n",
    "plt.figure(figsize=(10, 5))\n",
    "plt.subplot(1, 2, 1)\n",
    "sns.heatmap(train_errs_df, vmin=min_err, vmax=max_err, square=True, annot=True, \n",
    "            cbar=False, fmt='.1f', cmap='Reds')\n",
    "plt.title('train errors'); plt.xlabel('n_top_models_s'); plt.ylabel('alpha')\n",
    "plt.subplot(1, 2, 2)\n",
    "sns.heatmap(val_errs_df, vmin=min_err, vmax=max_err, square=True, annot=True, \n",
    "            cbar=False, fmt='.1f', cmap='Reds')\n",
    "plt.title('validation errors'); plt.xlabel('n_top_models_s'); plt.ylabel('alpha');"
   ]
  },
  {
   "cell_type": "markdown",
   "metadata": {
    "id": "FekIoix3pr2F"
   },
   "source": [
    "## Tạo mô hình tốt nhất dựa trên các tham số tìm được"
   ]
  },
  {
   "cell_type": "code",
   "execution_count": 54,
   "metadata": {
    "id": "82Qbdophpr2G"
   },
   "outputs": [
    {
     "data": {
      "text/html": [
       "<style>div.sk-top-container {color: black;background-color: white;}div.sk-toggleable {background-color: white;}label.sk-toggleable__label {cursor: pointer;display: block;width: 100%;margin-bottom: 0;padding: 0.2em 0.3em;box-sizing: border-box;text-align: center;}div.sk-toggleable__content {max-height: 0;max-width: 0;overflow: hidden;text-align: left;background-color: #f0f8ff;}div.sk-toggleable__content pre {margin: 0.2em;color: black;border-radius: 0.25em;background-color: #f0f8ff;}input.sk-toggleable__control:checked~div.sk-toggleable__content {max-height: 200px;max-width: 100%;overflow: auto;}div.sk-estimator input.sk-toggleable__control:checked~label.sk-toggleable__label {background-color: #d4ebff;}div.sk-label input.sk-toggleable__control:checked~label.sk-toggleable__label {background-color: #d4ebff;}input.sk-hidden--visually {border: 0;clip: rect(1px 1px 1px 1px);clip: rect(1px, 1px, 1px, 1px);height: 1px;margin: -1px;overflow: hidden;padding: 0;position: absolute;width: 1px;}div.sk-estimator {font-family: monospace;background-color: #f0f8ff;margin: 0.25em 0.25em;border: 1px dotted black;border-radius: 0.25em;box-sizing: border-box;}div.sk-estimator:hover {background-color: #d4ebff;}div.sk-parallel-item::after {content: \"\";width: 100%;border-bottom: 1px solid gray;flex-grow: 1;}div.sk-label:hover label.sk-toggleable__label {background-color: #d4ebff;}div.sk-serial::before {content: \"\";position: absolute;border-left: 1px solid gray;box-sizing: border-box;top: 2em;bottom: 0;left: 50%;}div.sk-serial {display: flex;flex-direction: column;align-items: center;background-color: white;}div.sk-item {z-index: 1;}div.sk-parallel {display: flex;align-items: stretch;justify-content: center;background-color: white;}div.sk-parallel-item {display: flex;flex-direction: column;position: relative;background-color: white;}div.sk-parallel-item:first-child::after {align-self: flex-end;width: 50%;}div.sk-parallel-item:last-child::after {align-self: flex-start;width: 50%;}div.sk-parallel-item:only-child::after {width: 0;}div.sk-dashed-wrapped {border: 1px dashed gray;margin: 0.2em;box-sizing: border-box;padding-bottom: 0.1em;background-color: white;position: relative;}div.sk-label label {font-family: monospace;font-weight: bold;background-color: white;display: inline-block;line-height: 1.2em;}div.sk-label-container {position: relative;z-index: 2;text-align: center;}div.sk-container {display: inline-block;position: relative;}</style><div class=\"sk-top-container\"><div class=\"sk-container\"><div class=\"sk-item sk-dashed-wrapped\"><div class=\"sk-label-container\"><div class=\"sk-label sk-toggleable\"><input class=\"sk-toggleable__control sk-hidden--visually\" id=\"df98652b-9a26-44b9-86d5-4e25ad7145b5\" type=\"checkbox\" ><label class=\"sk-toggleable__label\" for=\"df98652b-9a26-44b9-86d5-4e25ad7145b5\">Pipeline</label><div class=\"sk-toggleable__content\"><pre>Pipeline(steps=[('preprocessing',\n",
       "                 Pipeline(steps=[('add_drop', ColAdderDropper(n_top_models=18)),\n",
       "                                 ('fix_owner', FixOwnerVal()),\n",
       "                                 ('preprocess',\n",
       "                                  ColumnTransformer(transformers=[('nume',\n",
       "                                                                   Pipeline(steps=[('impute1',\n",
       "                                                                                    SimpleImputer(strategy='median')),\n",
       "                                                                                   ('scale1',\n",
       "                                                                                    StandardScaler())]),\n",
       "                                                                   ['year',\n",
       "                                                                    'mileage',\n",
       "                                                                    'engine',\n",
       "                                                                    'number of '\n",
       "                                                                    'owners']),\n",
       "                                                                  ('unorder_cate',\n",
       "                                                                   Pipeline(steps=[('impute2',\n",
       "                                                                                    SimpleImputer(strategy='most_frequent')),\n",
       "                                                                                   ('ohe',\n",
       "                                                                                    OneHotEncoder()),\n",
       "                                                                                   ('todense',\n",
       "                                                                                    Sparse2DenseTransformer()),\n",
       "                                                                                   ('scale2',\n",
       "                                                                                    StandardScaler())]),\n",
       "                                                                   ['make',\n",
       "                                                                    'model',\n",
       "                                                                    'fuel '\n",
       "                                                                    'type'])]))])),\n",
       "                ('neural_net',\n",
       "                 MLPRegressor(alpha=100, hidden_layer_sizes=20, max_iter=2500,\n",
       "                              random_state=0))])</pre></div></div></div><div class=\"sk-serial\"><div class=\"sk-item\"><div class=\"sk-label-container\"><div class=\"sk-label sk-toggleable\"><input class=\"sk-toggleable__control sk-hidden--visually\" id=\"1273bf0e-80d5-49b5-a8fd-6b246cc233b3\" type=\"checkbox\" ><label class=\"sk-toggleable__label\" for=\"1273bf0e-80d5-49b5-a8fd-6b246cc233b3\">preprocessing: Pipeline</label><div class=\"sk-toggleable__content\"><pre>Pipeline(steps=[('add_drop', ColAdderDropper(n_top_models=18)),\n",
       "                ('fix_owner', FixOwnerVal()),\n",
       "                ('preprocess',\n",
       "                 ColumnTransformer(transformers=[('nume',\n",
       "                                                  Pipeline(steps=[('impute1',\n",
       "                                                                   SimpleImputer(strategy='median')),\n",
       "                                                                  ('scale1',\n",
       "                                                                   StandardScaler())]),\n",
       "                                                  ['year', 'mileage', 'engine',\n",
       "                                                   'number of owners']),\n",
       "                                                 ('unorder_cate',\n",
       "                                                  Pipeline(steps=[('impute2',\n",
       "                                                                   SimpleImputer(strategy='most_frequent')),\n",
       "                                                                  ('ohe',\n",
       "                                                                   OneHotEncoder()),\n",
       "                                                                  ('todense',\n",
       "                                                                   Sparse2DenseTransformer()),\n",
       "                                                                  ('scale2',\n",
       "                                                                   StandardScaler())]),\n",
       "                                                  ['make', 'model',\n",
       "                                                   'fuel type'])]))])</pre></div></div></div><div class=\"sk-serial\"><div class=\"sk-item\"><div class=\"sk-estimator sk-toggleable\"><input class=\"sk-toggleable__control sk-hidden--visually\" id=\"27ac400f-8d47-4439-a02c-863b168656f6\" type=\"checkbox\" ><label class=\"sk-toggleable__label\" for=\"27ac400f-8d47-4439-a02c-863b168656f6\">ColAdderDropper</label><div class=\"sk-toggleable__content\"><pre>ColAdderDropper(n_top_models=18)</pre></div></div></div><div class=\"sk-item\"><div class=\"sk-estimator sk-toggleable\"><input class=\"sk-toggleable__control sk-hidden--visually\" id=\"63de8d49-0371-4968-a686-56dea344fe60\" type=\"checkbox\" ><label class=\"sk-toggleable__label\" for=\"63de8d49-0371-4968-a686-56dea344fe60\">FixOwnerVal</label><div class=\"sk-toggleable__content\"><pre>FixOwnerVal()</pre></div></div></div><div class=\"sk-item sk-dashed-wrapped\"><div class=\"sk-label-container\"><div class=\"sk-label sk-toggleable\"><input class=\"sk-toggleable__control sk-hidden--visually\" id=\"446c2d0c-a0ab-47a4-ba00-a95eb61be8b4\" type=\"checkbox\" ><label class=\"sk-toggleable__label\" for=\"446c2d0c-a0ab-47a4-ba00-a95eb61be8b4\">preprocess: ColumnTransformer</label><div class=\"sk-toggleable__content\"><pre>ColumnTransformer(transformers=[('nume',\n",
       "                                 Pipeline(steps=[('impute1',\n",
       "                                                  SimpleImputer(strategy='median')),\n",
       "                                                 ('scale1', StandardScaler())]),\n",
       "                                 ['year', 'mileage', 'engine',\n",
       "                                  'number of owners']),\n",
       "                                ('unorder_cate',\n",
       "                                 Pipeline(steps=[('impute2',\n",
       "                                                  SimpleImputer(strategy='most_frequent')),\n",
       "                                                 ('ohe', OneHotEncoder()),\n",
       "                                                 ('todense',\n",
       "                                                  Sparse2DenseTransformer()),\n",
       "                                                 ('scale2', StandardScaler())]),\n",
       "                                 ['make', 'model', 'fuel type'])])</pre></div></div></div><div class=\"sk-parallel\"><div class=\"sk-parallel-item\"><div class=\"sk-item\"><div class=\"sk-label-container\"><div class=\"sk-label sk-toggleable\"><input class=\"sk-toggleable__control sk-hidden--visually\" id=\"8e370acd-8bb6-4b86-9093-3b1b7948c456\" type=\"checkbox\" ><label class=\"sk-toggleable__label\" for=\"8e370acd-8bb6-4b86-9093-3b1b7948c456\">nume</label><div class=\"sk-toggleable__content\"><pre>['year', 'mileage', 'engine', 'number of owners']</pre></div></div></div><div class=\"sk-serial\"><div class=\"sk-item\"><div class=\"sk-serial\"><div class=\"sk-item\"><div class=\"sk-estimator sk-toggleable\"><input class=\"sk-toggleable__control sk-hidden--visually\" id=\"62460ba0-16f2-4f66-9f55-da359b919afb\" type=\"checkbox\" ><label class=\"sk-toggleable__label\" for=\"62460ba0-16f2-4f66-9f55-da359b919afb\">SimpleImputer</label><div class=\"sk-toggleable__content\"><pre>SimpleImputer(strategy='median')</pre></div></div></div><div class=\"sk-item\"><div class=\"sk-estimator sk-toggleable\"><input class=\"sk-toggleable__control sk-hidden--visually\" id=\"4a86b616-77d1-4c44-b58a-4c157f20c1d1\" type=\"checkbox\" ><label class=\"sk-toggleable__label\" for=\"4a86b616-77d1-4c44-b58a-4c157f20c1d1\">StandardScaler</label><div class=\"sk-toggleable__content\"><pre>StandardScaler()</pre></div></div></div></div></div></div></div></div><div class=\"sk-parallel-item\"><div class=\"sk-item\"><div class=\"sk-label-container\"><div class=\"sk-label sk-toggleable\"><input class=\"sk-toggleable__control sk-hidden--visually\" id=\"aa213ece-d225-43e3-aac0-eda151c32b46\" type=\"checkbox\" ><label class=\"sk-toggleable__label\" for=\"aa213ece-d225-43e3-aac0-eda151c32b46\">unorder_cate</label><div class=\"sk-toggleable__content\"><pre>['make', 'model', 'fuel type']</pre></div></div></div><div class=\"sk-serial\"><div class=\"sk-item\"><div class=\"sk-serial\"><div class=\"sk-item\"><div class=\"sk-estimator sk-toggleable\"><input class=\"sk-toggleable__control sk-hidden--visually\" id=\"75a05171-c0f0-4390-9c36-c72fec6b92f8\" type=\"checkbox\" ><label class=\"sk-toggleable__label\" for=\"75a05171-c0f0-4390-9c36-c72fec6b92f8\">SimpleImputer</label><div class=\"sk-toggleable__content\"><pre>SimpleImputer(strategy='most_frequent')</pre></div></div></div><div class=\"sk-item\"><div class=\"sk-estimator sk-toggleable\"><input class=\"sk-toggleable__control sk-hidden--visually\" id=\"0c4e0f82-5792-4167-957e-2d5e7542348e\" type=\"checkbox\" ><label class=\"sk-toggleable__label\" for=\"0c4e0f82-5792-4167-957e-2d5e7542348e\">OneHotEncoder</label><div class=\"sk-toggleable__content\"><pre>OneHotEncoder()</pre></div></div></div><div class=\"sk-item\"><div class=\"sk-estimator sk-toggleable\"><input class=\"sk-toggleable__control sk-hidden--visually\" id=\"7dea1617-88a0-40b3-8aed-fecb2eb7d551\" type=\"checkbox\" ><label class=\"sk-toggleable__label\" for=\"7dea1617-88a0-40b3-8aed-fecb2eb7d551\">Sparse2DenseTransformer</label><div class=\"sk-toggleable__content\"><pre>Sparse2DenseTransformer()</pre></div></div></div><div class=\"sk-item\"><div class=\"sk-estimator sk-toggleable\"><input class=\"sk-toggleable__control sk-hidden--visually\" id=\"e93d77b3-b956-450e-a67c-a5d1a245bc00\" type=\"checkbox\" ><label class=\"sk-toggleable__label\" for=\"e93d77b3-b956-450e-a67c-a5d1a245bc00\">StandardScaler</label><div class=\"sk-toggleable__content\"><pre>StandardScaler()</pre></div></div></div></div></div></div></div></div></div></div></div></div><div class=\"sk-item\"><div class=\"sk-estimator sk-toggleable\"><input class=\"sk-toggleable__control sk-hidden--visually\" id=\"52b17417-467b-4513-a32b-6161003a1b2a\" type=\"checkbox\" ><label class=\"sk-toggleable__label\" for=\"52b17417-467b-4513-a32b-6161003a1b2a\">MLPRegressor</label><div class=\"sk-toggleable__content\"><pre>MLPRegressor(alpha=100, hidden_layer_sizes=20, max_iter=2500, random_state=0)</pre></div></div></div></div></div></div></div>"
      ],
      "text/plain": [
       "Pipeline(steps=[('preprocessing',\n",
       "                 Pipeline(steps=[('add_drop', ColAdderDropper(n_top_models=18)),\n",
       "                                 ('fix_owner', FixOwnerVal()),\n",
       "                                 ('preprocess',\n",
       "                                  ColumnTransformer(transformers=[('nume',\n",
       "                                                                   Pipeline(steps=[('impute1',\n",
       "                                                                                    SimpleImputer(strategy='median')),\n",
       "                                                                                   ('scale1',\n",
       "                                                                                    StandardScaler())]),\n",
       "                                                                   ['year',\n",
       "                                                                    'mileage',\n",
       "                                                                    'engine',\n",
       "                                                                    'number of '\n",
       "                                                                    'owners']),\n",
       "                                                                  ('unorder_cate',\n",
       "                                                                   Pipeline(steps=[('impute2',\n",
       "                                                                                    SimpleImputer(strategy='most_frequent')),\n",
       "                                                                                   ('ohe',\n",
       "                                                                                    OneHotEncoder()),\n",
       "                                                                                   ('todense',\n",
       "                                                                                    Sparse2DenseTransformer()),\n",
       "                                                                                   ('scale2',\n",
       "                                                                                    StandardScaler())]),\n",
       "                                                                   ['make',\n",
       "                                                                    'model',\n",
       "                                                                    'fuel '\n",
       "                                                                    'type'])]))])),\n",
       "                ('neural_net',\n",
       "                 MLPRegressor(alpha=100, hidden_layer_sizes=20, max_iter=2500,\n",
       "                              random_state=0))])"
      ]
     },
     "execution_count": 54,
     "metadata": {},
     "output_type": "execute_result"
    }
   ],
   "source": [
    "full_pipeline.set_params(preprocessing__add_drop__n_top_models=best_n_top_models,\n",
    "                         neural_net__alpha=best_alpha)\n",
    "full_pipeline.fit(train_X_df, train_y_sr)"
   ]
  },
  {
   "cell_type": "markdown",
   "metadata": {
    "id": "JpY5fEfZpr2G"
   },
   "source": [
    "## Đánh giá mô hình tốt nhất vừa tìm được"
   ]
  },
  {
   "cell_type": "code",
   "execution_count": 55,
   "metadata": {
    "id": "pK09O5qNpr2G"
   },
   "outputs": [
    {
     "data": {
      "text/plain": [
       "array([11375.89996704,  7771.64439052, 24231.71034156, 10342.09563723,\n",
       "       20204.69861031,  8138.74616988, 15405.93801229, 25171.33811655,\n",
       "       21879.83904055,  3736.27023453,  7641.57782397, 30271.83945208,\n",
       "        6960.77896559,  7331.7321193 , 29978.69750554, 14159.18638205,\n",
       "        9540.96217801, 20343.8881947 , 21627.33487174, 30074.79135952,\n",
       "        5910.72258656,  8125.43656352, 13074.76987423, 15754.75674135,\n",
       "        7654.57366958, 10506.51832455, 29437.34780572, 18030.96755673,\n",
       "       16378.36979844, 25057.38014018, 33960.55575498, 49057.58036851,\n",
       "        2637.53832481,  6895.65897579, 14033.51948916,  7255.24534202,\n",
       "       35052.59985817, 15016.64747079, 39068.45994016, 13141.09346339,\n",
       "        8026.13932788, 34410.75415211, 16595.23048402,  8705.83983934,\n",
       "       23820.29622375, 23322.12466968, 20249.92095213,  6728.65667333,\n",
       "        9274.81987818, 13252.41698089, 22958.77182099, 10229.68901348,\n",
       "        9549.88446912, 10358.32926994, 10354.55314811,  9073.02740616,\n",
       "       12521.02228727, 33988.48166126, 11305.06351912, 20503.63627674,\n",
       "       11021.55454689, 12152.94733365,  9799.45600139, 10705.50739937,\n",
       "        8525.17244536,  6681.17951688,  6220.55413819, 37737.84420926,\n",
       "       19588.54662192, 14722.04980891,  7860.85007479, 14091.77674975,\n",
       "       20059.53653362, 48931.764084  , 15505.84653046,  9825.85432755,\n",
       "        6926.91433456, 13249.90989495, 10673.02289422, 29535.10564639,\n",
       "       13674.84614994,  7299.53425836, 25801.57846846, 32914.19407958,\n",
       "       24135.29582306, 19444.42013976, 32724.20103475,  7586.84595637,\n",
       "        8468.75383626,  9014.15968945, 13686.8487694 , 37016.18111827,\n",
       "       15095.29849483, 10114.21493946, 21699.25837688, 17531.83100157,\n",
       "       12567.80463958, 10363.24177351, 17815.44392633, 36775.75209107,\n",
       "       44325.75625692,  8550.26607222, 25033.61085618, 17278.24007015,\n",
       "       27758.45514752, 14049.13931128, 24910.02708523,  8766.04478082,\n",
       "       20006.3486418 , 49407.77405568, 21100.73463905, 14010.6264417 ,\n",
       "        9476.96439839,  4912.91826841, 18906.82509053, 24853.41764695,\n",
       "       14345.10482417, 28372.05010523, 14241.66347683, 15352.44422135,\n",
       "       18707.00439246, 10408.03030203,  5777.16354399, 23814.32809014,\n",
       "       39902.43733462, 23592.4777201 ,  9961.77082911, 13158.64742582,\n",
       "       10299.45449768,  9254.92702106, 12341.71282562, 12760.27288592,\n",
       "       12792.08879184,  6162.66872463, 11062.27044402, 10691.91591937,\n",
       "       25462.65553411, 17573.31953133,  5420.62751688,  4454.71358421,\n",
       "       18616.65915475, 20157.58619345, 14039.87282754, 11764.12392304,\n",
       "       38118.46778957, 41155.72061332,  6596.61010308,  6805.13453852,\n",
       "       10818.64800125, 13235.98353699, 11405.59227966,  7844.94799848,\n",
       "       42357.06238567, 24460.44120934, 11249.2639365 ,  5676.8012115 ,\n",
       "        8511.42704435, 34449.4803166 , 24459.3984696 , 26841.43259737,\n",
       "       22814.01233194,  6335.42660139, 12489.90093978, 18199.32346891,\n",
       "        9283.44305133, 23903.72939344,  3931.43876355, 11307.36927223,\n",
       "        8167.93896626, 17837.80540286, 19568.4108374 , 26843.48634774,\n",
       "       11026.24171176, 48996.63339136, 16961.74588809, 33083.69280338,\n",
       "       22280.19740137, 18742.85630317, 16396.45044782, 12209.6530235 ,\n",
       "       15751.60676635, 20711.99750902, 19680.23660889, 15073.3763933 ,\n",
       "       13057.96330224,  9653.21481807, 17789.75150358, 22956.75165899,\n",
       "       17081.23646935,  5882.83936932, 36414.11851616, 12345.32804872,\n",
       "       16556.81666668, 13304.09948928, 15826.81699802, 21001.78269242,\n",
       "       34887.03122567, 36834.72389638, 28172.5519517 ,  2786.07241694,\n",
       "        8268.24121653, 28162.15874187,  7491.30990665, 15086.68617987,\n",
       "       40583.21051739, 21888.62905181,  8841.77346211, 12196.84410834,\n",
       "       11328.16557682,  8377.08832007, 13539.5432178 , 17526.54795294,\n",
       "       12946.32791985, 14100.73117635,  8318.46791123, 13832.29721597,\n",
       "       13220.38621661, 18954.67317601, 30801.61856482,  7949.75961804,\n",
       "       51514.93275955, 15055.83231979,  9747.94930728, 21014.43036904,\n",
       "        5465.91600799,  8533.07581362, 12321.87689149, 14944.15163743,\n",
       "       16953.49162851, 22675.77918442, 47595.92928965, 35301.79058997,\n",
       "       16051.41389253,  8987.06292042, 33640.21403007, 15360.8495483 ,\n",
       "        7610.6378462 , 12284.29345021, 23423.19906485, 33982.97240279,\n",
       "       40299.87682596, 36391.82014665, 11415.56772384,  9966.1251905 ,\n",
       "       10137.48951732, 11841.58281178, 22231.14664668, 10370.22271791,\n",
       "       25198.59461146, 15997.3509993 , 14896.85613104, 10833.25633909,\n",
       "       23657.10787642, 20333.05937621,  7108.72308608, 17410.50310192,\n",
       "       36001.88592472, 33917.79867529, 18562.09629435, 11247.16763021,\n",
       "        7335.06985619, 14411.67094869,  7307.09035126, 15284.04375584,\n",
       "       12140.38442281, 21548.53175088, 22133.3942556 , 21143.44046172,\n",
       "       15936.66576703, 20829.07519673, 13751.60810279, 12681.08622712,\n",
       "       24223.35410032, 17198.06201672,  6348.07115481,  7006.46283108,\n",
       "       21167.46259717, 23756.43421976, 15544.82524906, 18995.33643346,\n",
       "       22703.27592267, 35225.01529371, 33478.46858206,  9499.17672645,\n",
       "       15411.8014234 , 48343.5151247 , 38843.42462001, 31289.85546095,\n",
       "       17513.34274007, 20424.58885792, 10819.22555994,  9458.90144802,\n",
       "        8296.46714795,  8939.62560535, 18892.24913338, 10900.2794822 ,\n",
       "       16931.11785534,  6548.86251285,  5044.01982721,  7743.52768055,\n",
       "       16031.82047766, 13990.56667759,  7163.02376767, 20607.88893122,\n",
       "        8545.5008556 , 14613.47492627,  7271.8506455 , 12970.32907134,\n",
       "       11005.04599805, 48956.30379097, 14620.43771913, 14737.65465648,\n",
       "       12610.37111847, 38671.23339473, 19274.9253722 ,  5530.15770982,\n",
       "       13778.56160738,  7492.34121608, 14258.6419278 , 12215.61667135,\n",
       "       47604.50481743, 25765.91449278, 13226.33716239, 12255.89080829,\n",
       "       19782.29871811,  8080.38748198, 10404.24277202, 10861.34950436,\n",
       "       34894.48946541,  8657.87045481, 12922.85129847, 18586.88963738,\n",
       "        8364.7022049 , 28485.97697563, 10777.5724813 , 20306.43472127,\n",
       "       18233.30056404, 19333.8757318 , 15033.16364724,  7897.85854247,\n",
       "       26304.37526823, 38267.95397712, 16861.03634272, 13266.53331721,\n",
       "       17860.59191904, 36498.50000605, 15816.8320171 , 25191.32621282,\n",
       "       10599.07437415, 17085.00634571, 15246.18506956, 17417.0729306 ,\n",
       "       25295.22105076, 21945.99510545, 11288.84587671,  4091.49248862,\n",
       "       18085.03071491, 38939.81090106, 21393.75148664,  9040.84302992,\n",
       "       14564.44945711, 38426.32786533, 13330.0733743 , 10603.37911505,\n",
       "        9354.51178971, 35436.95770423, 13966.44035769, 21499.19300368,\n",
       "       16932.65020891, 13572.29079695, 20292.50012177,  7050.06931364,\n",
       "       19340.25359063, 11059.99448167, 12977.55652579, 34192.65189595,\n",
       "       10640.38481443, 21688.38466923, 10689.48927159,  9446.20586983,\n",
       "       17163.15496069, 14521.29912268, 35825.81133922, 17297.78778556,\n",
       "       24130.44685655,  7653.33129231, 11825.91818469,  6614.16373539,\n",
       "       30132.46381322, 20249.82321006,  9680.95000465, 25995.54829821,\n",
       "        8593.51011172, 16174.26133608, 13743.10316428, 21548.15091261,\n",
       "        5838.07459834, 15951.74816555, 10552.82942525, 15562.24773422,\n",
       "       25366.4219361 , 22367.919556  , 12065.04357132,  7727.76748867,\n",
       "       11156.94686096,  8019.84110733, 14348.09206274,  9550.12724807,\n",
       "       15241.92050699,  7884.16801416, 35252.17545202,  8875.3883402 ,\n",
       "        9927.95567591, 11720.01406097,  4938.28612735, 17355.15745568,\n",
       "        6836.49038051, 47615.97315658, 12388.91041386, 10312.96899876,\n",
       "        9509.29349159, 12231.72001338, 17143.01458667, 11569.05305807,\n",
       "       10826.14518167,  4833.7988438 , 10321.73568628, 14722.77678214,\n",
       "        9434.23600704, 42931.79619355,  7989.89198394, 13147.88165645,\n",
       "        9332.30289948, 15099.30129781, 18921.28051847, 19495.72884215,\n",
       "       27178.48961962, 31103.62152085, 17604.43575842,  6723.74490196,\n",
       "       11738.56694161, 14865.41467908, 13512.39266085, 22466.76223087,\n",
       "       27795.38691788, 18120.91305888, 14464.93192539, 18312.44551882,\n",
       "        8419.90043187, 10051.55285106, 14443.90981825, 27085.87355992,\n",
       "       13384.70229902, 19378.58044323, 30660.8285512 , 12103.42899176,\n",
       "       16896.212965  , 22832.03434754, 14087.53886899, 17941.02117989,\n",
       "        9288.09004168, 16284.71952113, 10196.48292557, 26572.13243743,\n",
       "       14035.18876623,  6094.46611979,  9160.82574498, 38888.36485955,\n",
       "       41904.39190909, 13435.41950671,  6635.70370905, 19409.71175946,\n",
       "       16086.67248447, 15434.14842689,  7246.26245833, 19272.90728408,\n",
       "        9556.59247454,  3671.25074965, 16914.53543359,  9620.63438681,\n",
       "       34341.62828349, 30073.93203957, 25382.93504116,  9517.36498175,\n",
       "        8806.01973578,  8385.20739669, 10814.61333352, 14316.96571719,\n",
       "       10144.09296903,  7438.45439588, 11918.05726966, 31453.72297538,\n",
       "       24520.46627044, 19705.18323189, 34110.42340022, 13305.93451888,\n",
       "       25380.21975253, 26463.27583528,  8782.57175399,  5645.87088466,\n",
       "       27146.57940376,  6240.92905246, 23879.18532465, 22536.7651177 ,\n",
       "        6133.02484662, 37184.67711001, 15630.43722572,  7254.26075976,\n",
       "        7784.08744313, 14917.73413579, 42528.67502284,  8683.68912748,\n",
       "        9037.945812  ,  3876.74025403,  8976.53502843,  7649.10654711,\n",
       "        8382.00208376, 34493.73427978,  8657.57094348, 10774.31317594,\n",
       "       10283.97271354, 39882.6868887 , 10480.2671601 , 17934.20434821,\n",
       "        6540.67468258, 13596.22045201, 14679.66501217, 14665.08864494,\n",
       "       41720.14813324, 14831.00301963, 22590.26401223, 17176.93334363,\n",
       "       17220.35405411,  7134.31956904,  5483.37667206, 14003.73309246,\n",
       "       25730.9706243 ,  9468.62875793, 24146.65660972,  8484.76222829,\n",
       "       23022.81978609, 12210.22584917, 20314.0494327 , 20091.83126258,\n",
       "       21190.09483507,  8255.00122038, 10405.48149544, 18702.93114272,\n",
       "       18225.69000956,  7927.14077414,  7117.90034148, 19771.90639994,\n",
       "       10783.99483911, 12400.35498716,  4190.38368824, 10855.44237519,\n",
       "       23697.49809967,  8230.85328194, 26401.12633483,  9146.53134082,\n",
       "        6248.19166029, 11941.81888406, 14602.25066851, 24716.6907208 ,\n",
       "       23742.18684445,  3061.20535935,  8577.31756167, 10047.03361532,\n",
       "       15548.09843175, 26996.55597748, 13486.86166566, 43611.64637436,\n",
       "       12488.47227026, 12082.13807275, 25966.53998884, 13397.22234999,\n",
       "       10914.89980364, 12932.59494355, 10552.50277195,  5325.14325354,\n",
       "       13101.7089086 , 16281.32703311, 33850.61721466,  5767.52920737,\n",
       "       23273.06852378,  3958.61608728, 14403.26409733,  9084.70387431,\n",
       "        6630.1881286 , 39909.47176155, 34234.90233819, 20434.00125484,\n",
       "       20575.71098695,  6722.18788452, 14628.6520875 , 10912.50949293,\n",
       "       10074.52241139,  5374.9882463 , 20175.23021803, 13381.82857342,\n",
       "       11889.77459914, 41994.31138781,  5638.2748695 ,  8912.03544891,\n",
       "       14486.36368623, 11333.26854284,  6733.53036444, 14605.64061044,\n",
       "       14850.74549687, 36664.00597947, 21571.71158727,  6080.88796241,\n",
       "       35217.34124214, 11466.02304444, 30260.68748647, 14634.82722306,\n",
       "       14904.17297614, 27866.93598547,  9584.99537412,  6077.01166302,\n",
       "       12651.78539378,  8495.88387084, 36143.01680647, 12176.36248149,\n",
       "       10714.84684863, 16895.14940846, 31398.16058144,  8033.51626018,\n",
       "        6185.72404417,  8698.60845336, 22007.54212691, 11375.4727488 ,\n",
       "       20351.58481023, 10288.04176819, 36346.95949995, 10101.58249604,\n",
       "       47734.8200082 , 12191.04342605, 29546.68282568, 10338.60372569,\n",
       "       15737.8422733 , 29891.77379287,  2394.75286381, 22256.3371379 ,\n",
       "        7441.38594596,  8998.47355978,  5951.49115369, 13866.15100434,\n",
       "       22106.11395218,  8271.30273101,  7308.71801265, 10703.68314943,\n",
       "       36988.44723379, 10947.63552781, 18869.18311619, 18706.3060745 ,\n",
       "       22325.84145163, 16046.56785417, 13411.60581592, 20227.56295529,\n",
       "       33194.21601393, 19343.64487126, 35755.30222932, 18844.73866864,\n",
       "       18424.05946222,  3388.51820936, 15586.8445268 , 29063.76861227,\n",
       "       37275.74095026,  7523.94511897, 20263.48779951, 14626.20125619,\n",
       "        9412.52024011, 17076.61149165, 14578.89916358, 13638.50206231,\n",
       "        9849.67111355, 10696.49061321,  8502.39036509, 19395.3750457 ,\n",
       "       19997.82249   ,  8883.76611731, 25955.75538691,  7570.25777473,\n",
       "        7726.1557077 , 26137.58292966, 15780.20965963, 38886.15345179,\n",
       "       12740.69951322, 17089.6471642 ,  9359.74837865, 40611.84270882,\n",
       "       16235.46058931, 23717.45412192,  7689.27870156, 34052.11140836,\n",
       "       15514.67004474,  7969.13673791, 27504.07038923, 30783.00964255,\n",
       "        8487.41468713,  8672.28041007, 10323.46711642,  5121.08095462,\n",
       "       16749.32766352,  5886.63790318, 24677.52308117,  2835.7522159 ,\n",
       "        9943.82823573, 19606.6080775 , 24641.68990753, 20273.54320214,\n",
       "        7972.65943419, 12764.42055673, 22663.80851805, 18632.92983231,\n",
       "        9931.68116502,  8971.39096954, 10817.96309309,  7968.4274868 ,\n",
       "       14258.73834585, 20647.85523173, 10825.61130438, 29429.56403414,\n",
       "       21589.90261873, 21607.32664155, 26941.42822779, 19230.21732816,\n",
       "       16545.53280734, 12660.45661551,  8170.80534898, 19804.65800904,\n",
       "       15481.30589703, 13178.34802666,  8476.86430297, 19216.8145518 ,\n",
       "        9136.72066054, 20707.67039717, 15271.75204976, 14516.97059508,\n",
       "       22782.30771024,  7812.32147568, 19783.67930591, 10638.98754299,\n",
       "       12958.46840557, 16854.98910321, 11530.55831039,  6568.89608722,\n",
       "       23466.21406231, 26532.88018768, 11009.29002521, 25274.40400929,\n",
       "       18597.34463618, 14815.51090049, 17879.64746275,  7509.47439824,\n",
       "       26614.71680093,  8587.80818709, 37426.43810356,  8926.42072382,\n",
       "       25568.46137133, 35659.77793966,  6581.09684231, 19439.32590552,\n",
       "       13563.59850436, 33896.01812229, 24248.81087508, 11463.77676456,\n",
       "       35721.91030852, 11897.37570145, 32097.36274289,  7644.31463596,\n",
       "       18482.31428978, 13457.85683451, 13169.89996584, 14777.00128229,\n",
       "       26438.07026761, 17367.90777731,  4814.68921686,  7947.49959677,\n",
       "       24224.05483878, 13000.97860668, 11302.4486339 , 16391.67346327,\n",
       "        8296.37598481,  9520.73330145,  5820.43541198, 25789.52503192,\n",
       "        4432.70353218, 18757.99037779, 16652.13947833, 23746.26883408,\n",
       "        3108.32481189, 31104.64481401, 11316.28763348, 16986.53419257,\n",
       "       27407.76129217, 31158.07636672, 31235.85736414, 20058.36883874,\n",
       "       31118.94818419, 13887.45187052, 18484.42687648, 11665.97248793,\n",
       "       32301.19611864, 15178.42143271, 25471.63748793, 21325.18534399,\n",
       "       10898.01243746, 16513.20205701, 34510.57344189, 13468.19024589,\n",
       "        7519.24557069,  8428.72745442, 19503.8575864 , 20301.24421018,\n",
       "        9099.78745345, 24912.53011413, 11351.24336658, 24613.24012106,\n",
       "        5943.61551316, 24527.30438582,  8517.3024342 ,  6450.46114659,\n",
       "       12723.76240742,  6812.27155179, 18010.66368412, 15164.83343474,\n",
       "       13633.82652822, 19143.64567651, 25247.5836183 , 28060.93465439,\n",
       "       12280.63735746, 14906.90881889, 30082.93286327, 16305.98843604,\n",
       "        6166.31166664,  9301.24516408, 14964.16384707, 22881.40917625,\n",
       "       12876.2463233 , 21802.34556404, 10111.35365651, 11784.25212576,\n",
       "       38811.33812047,  6322.10798928, 23574.04154061, 29508.13908049,\n",
       "       29890.75924457,  9228.46979644, 30957.14485561, 24826.88870492,\n",
       "       19070.48783266, 24741.6016435 , 25377.68795399, 13133.61401406,\n",
       "       38536.06628047, 18795.6014072 , 10802.13921376, 12309.25942256,\n",
       "       14468.81238658, 22840.35792105,  7968.47711054,  6895.26304336,\n",
       "       14265.40105326,  7980.21620787, 17024.54104204,  7766.53188784,\n",
       "        7402.3910159 , 26951.05043413, 27507.14149901, 14939.16589662,\n",
       "       13504.19741718, 16972.78349625,  7899.37372798, 10310.59595686,\n",
       "       39622.84508458, 16174.09764388,  8878.14765429, 10377.01842999,\n",
       "       24902.57096838, 17154.53292502, 11845.75337916, 29667.63289077,\n",
       "       14394.6549187 , 17226.81402878, 16072.0882727 ,  8033.86457341,\n",
       "       13067.88304874, 19082.59169286, 14340.18869652, 34532.49963728,\n",
       "        7585.44377779, 29679.79323661, 10724.18962529, 10381.27838919,\n",
       "       16458.55190633,  7314.75333405, 23797.1193124 ,  7844.01905317,\n",
       "        9674.75769444,  8241.06904542,  8019.77172382,  9709.64151921,\n",
       "        5601.90588599, 13800.33960022, 16483.87449708, 38318.31761421,\n",
       "       17709.96392991,  7147.46438338, 12030.24451213, 12829.47088   ,\n",
       "       10979.12117189, 25231.0116694 , 25548.01042457,  9944.5943666 ,\n",
       "       11210.04324802,  9687.83568347, 18565.79908645,  9497.81124475,\n",
       "       16239.44379753,  6369.18143689, 24582.70179165, 27135.03924853,\n",
       "       35569.51638093, 18215.66405256, 23412.94150606, 13785.67877922,\n",
       "       21653.17451497, 20072.25148014])"
      ]
     },
     "execution_count": 55,
     "metadata": {},
     "output_type": "execute_result"
    }
   ],
   "source": [
    "full_pipeline.predict(test_X_df)\n",
    "#test_error = (1 - full_pipeline.score(test_X_df, test_y_sr)) * 100\n",
    "#test_error"
   ]
  },
  {
   "cell_type": "code",
   "execution_count": 56,
   "metadata": {},
   "outputs": [
    {
     "data": {
      "text/plain": [
       "83.2123292565762"
      ]
     },
     "execution_count": 56,
     "metadata": {},
     "output_type": "execute_result"
    }
   ],
   "source": [
    "# Tính độ đo r^2 trên tập huấn luyện\n",
    "(compute_rr(test_y_sr, full_pipeline.predict(test_X_df), baseline_preds))*100"
   ]
  },
  {
   "cell_type": "markdown",
   "metadata": {},
   "source": [
    "## Thử nghiệm mô hình LinearRegression"
   ]
  },
  {
   "cell_type": "code",
   "execution_count": 57,
   "metadata": {},
   "outputs": [],
   "source": [
    "from sklearn.linear_model import LinearRegression"
   ]
  },
  {
   "cell_type": "code",
   "execution_count": 58,
   "metadata": {},
   "outputs": [
    {
     "data": {
      "text/plain": [
       "72.77849908265416"
      ]
     },
     "execution_count": 58,
     "metadata": {},
     "output_type": "execute_result"
    }
   ],
   "source": [
    "# Tạo full pipeline\n",
    "nume_cols = ['year', 'mileage', 'engine', 'number of owners']\n",
    "unorder_cate_cols = ['make', 'model', 'fuel type']\n",
    "linear_reg_model = LinearRegression()\n",
    "full_pipeline_1 = Pipeline([\n",
    "    ('preprocessing', preprocess_pipeline),\n",
    "    ('linear_reg_model', linear_reg_model),\n",
    "])\n",
    "full_pipeline_1.fit(train_X_df,train_y_sr)\n",
    "full_pipeline_1.score(train_X_df, train_y_sr)*100"
   ]
  },
  {
   "cell_type": "code",
   "execution_count": 59,
   "metadata": {},
   "outputs": [
    {
     "data": {
      "text/plain": [
       "76.60331232702184"
      ]
     },
     "execution_count": 59,
     "metadata": {},
     "output_type": "execute_result"
    }
   ],
   "source": [
    "(compute_rr(val_y_sr, full_pipeline_1.predict(val_X_df), baseline_preds))*100"
   ]
  },
  {
   "cell_type": "code",
   "execution_count": 60,
   "metadata": {},
   "outputs": [
    {
     "data": {
      "text/plain": [
       "78.51089206755742"
      ]
     },
     "execution_count": 60,
     "metadata": {},
     "output_type": "execute_result"
    }
   ],
   "source": [
    "(compute_rr(test_y_sr, full_pipeline_1.predict(test_X_df), baseline_preds))*100"
   ]
  },
  {
   "cell_type": "code",
   "execution_count": 61,
   "metadata": {},
   "outputs": [
    {
     "name": "stdout",
     "output_type": "stream",
     "text": [
      "17557.689956039547\n",
      "[ 3.24775009e+03 -2.70148317e+03  5.02073188e+03 -2.16387517e+02\n",
      "  4.55910295e+16  4.46660152e+16  4.67899306e+16  4.68287091e+16\n",
      "  4.64770022e+16  4.71362744e+16  3.22465405e+15  3.59125626e+15\n",
      "  2.72984959e+15  4.60894178e+15  3.45573268e+15  3.88138630e+15\n",
      "  3.79598908e+15  2.63712843e+15  4.33950015e+15  3.22465405e+15\n",
      "  2.71158675e+15  2.37735223e+15  3.65674967e+15  2.59901269e+15\n",
      "  7.90338497e+15  2.41930515e+15  3.32808187e+15  2.48079101e+15\n",
      "  2.59901269e+15  8.92134199e+16  8.92134199e+16]\n"
     ]
    }
   ],
   "source": [
    "print(full_pipeline_1['linear_reg_model'].intercept_)\n",
    "print(full_pipeline_1['linear_reg_model'].coef_ )"
   ]
  }
 ],
 "metadata": {
  "accelerator": "GPU",
  "colab": {
   "collapsed_sections": [
    "I7r5KRv0pr1c",
    "FDicOj7kpr1d",
    "G26cgUiIpr1f",
    "43T7eXxapr1g",
    "A2dsacv2pr1h",
    "rLuz0AEspr1x",
    "f-XPY2QZpr1y",
    "-X59c0sLpr1z",
    "efGvzXRNpr11",
    "dklyL33mpr15",
    "2quRg9I_pr17",
    "ja2SZZJRpr19",
    "xZh2dbyTpr1-",
    "RS1MeyR8pr1-",
    "_W2BbFy0pr1_",
    "60PQ_6fCpr1_",
    "JpY5fEfZpr2G"
   ],
   "name": "KHDL.ipynb",
   "provenance": [],
   "toc_visible": true
  },
  "kernelspec": {
   "display_name": "Python 3",
   "language": "python",
   "name": "python3"
  },
  "language_info": {
   "codemirror_mode": {
    "name": "ipython",
    "version": 3
   },
   "file_extension": ".py",
   "mimetype": "text/x-python",
   "name": "python",
   "nbconvert_exporter": "python",
   "pygments_lexer": "ipython3",
   "version": "3.8.3"
  },
  "toc": {
   "base_numbering": 1,
   "nav_menu": {},
   "number_sections": true,
   "sideBar": true,
   "skip_h1_title": false,
   "title_cell": "Table of Contents",
   "title_sidebar": "Contents",
   "toc_cell": false,
   "toc_position": {
    "height": "calc(100% - 180px)",
    "left": "10px",
    "top": "150px",
    "width": "214.533px"
   },
   "toc_section_display": true,
   "toc_window_display": true
  }
 },
 "nbformat": 4,
 "nbformat_minor": 1
}
