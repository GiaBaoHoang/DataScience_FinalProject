{
 "cells": [
  {
   "cell_type": "markdown",
   "metadata": {
    "id": "k8o_i6mkpr07"
   },
   "source": [
    "# Khám phá dữ liệu"
   ]
  },
  {
   "cell_type": "code",
   "execution_count": 1,
   "metadata": {
    "id": "FUio5EjBpr1C"
   },
   "outputs": [],
   "source": [
    "import pandas as pd\n",
    "import matplotlib.pyplot as plt\n",
    "import numpy as np\n",
    "import re\n",
    "import seaborn as sns # seaborn là thư viện được xây trên matplotlib, giúp việc visualization đỡ khổ hơn\n",
    "from sklearn.model_selection import train_test_split\n",
    "from sklearn.preprocessing import OneHotEncoder, StandardScaler\n",
    "from sklearn.impute import SimpleImputer\n",
    "from sklearn.base import BaseEstimator, TransformerMixin\n",
    "from sklearn.pipeline import Pipeline, make_pipeline\n",
    "from sklearn.compose import ColumnTransformer, make_column_transformer\n",
    "from sklearn.neural_network import MLPRegressor\n",
    "from sklearn import set_config\n",
    "set_config(display = 'diagram') # Để trực quan hóa pipeline\n",
    "\n",
    "import warnings\n",
    "warnings.filterwarnings('ignore')\n",
    "\n",
    "%matplotlib inline"
   ]
  },
  {
   "cell_type": "code",
   "execution_count": 2,
   "metadata": {
    "colab": {
     "base_uri": "https://localhost:8080/",
     "height": 206
    },
    "id": "9wYlh-hmpr1O",
    "outputId": "3503a1b8-b978-47b2-cf78-d5eec5002797"
   },
   "outputs": [
    {
     "data": {
      "text/html": [
       "<div>\n",
       "<style scoped>\n",
       "    .dataframe tbody tr th:only-of-type {\n",
       "        vertical-align: middle;\n",
       "    }\n",
       "\n",
       "    .dataframe tbody tr th {\n",
       "        vertical-align: top;\n",
       "    }\n",
       "\n",
       "    .dataframe thead th {\n",
       "        text-align: right;\n",
       "    }\n",
       "</style>\n",
       "<table border=\"1\" class=\"dataframe\">\n",
       "  <thead>\n",
       "    <tr style=\"text-align: right;\">\n",
       "      <th></th>\n",
       "      <th>make</th>\n",
       "      <th>model</th>\n",
       "      <th>body style</th>\n",
       "      <th>year</th>\n",
       "      <th>mileage</th>\n",
       "      <th>engine</th>\n",
       "      <th>fuel type</th>\n",
       "      <th>number of owners</th>\n",
       "      <th>price</th>\n",
       "    </tr>\n",
       "  </thead>\n",
       "  <tbody>\n",
       "    <tr>\n",
       "      <th>0</th>\n",
       "      <td>Honda</td>\n",
       "      <td>Odyssey</td>\n",
       "      <td>Touring Elite</td>\n",
       "      <td>2013</td>\n",
       "      <td>122,986</td>\n",
       "      <td>3.5L V-6 Gas</td>\n",
       "      <td>Gas</td>\n",
       "      <td>2.0</td>\n",
       "      <td>12,895</td>\n",
       "    </tr>\n",
       "    <tr>\n",
       "      <th>1</th>\n",
       "      <td>Honda</td>\n",
       "      <td>Pilot</td>\n",
       "      <td>EX FWD</td>\n",
       "      <td>2013</td>\n",
       "      <td>80,532</td>\n",
       "      <td>3.5L V-6 Gas</td>\n",
       "      <td>Gas</td>\n",
       "      <td>3.0</td>\n",
       "      <td>11,694</td>\n",
       "    </tr>\n",
       "    <tr>\n",
       "      <th>2</th>\n",
       "      <td>Honda</td>\n",
       "      <td>CR-V</td>\n",
       "      <td>LX FWD</td>\n",
       "      <td>2013</td>\n",
       "      <td>79,796</td>\n",
       "      <td>2.4L Inline-4 Gas</td>\n",
       "      <td>Gas</td>\n",
       "      <td>1.0</td>\n",
       "      <td>13,590</td>\n",
       "    </tr>\n",
       "    <tr>\n",
       "      <th>3</th>\n",
       "      <td>Honda</td>\n",
       "      <td>Civic</td>\n",
       "      <td>LX Sedan Automatic</td>\n",
       "      <td>2013</td>\n",
       "      <td>76,882</td>\n",
       "      <td>1.8L Inline-4 Gas</td>\n",
       "      <td>Gas</td>\n",
       "      <td>1.0</td>\n",
       "      <td>7,986</td>\n",
       "    </tr>\n",
       "    <tr>\n",
       "      <th>4</th>\n",
       "      <td>Honda</td>\n",
       "      <td>Civic</td>\n",
       "      <td>LX Sedan Automatic</td>\n",
       "      <td>2013</td>\n",
       "      <td>113,673</td>\n",
       "      <td>1.8L Inline-4 Gas</td>\n",
       "      <td>Gas</td>\n",
       "      <td>1.0</td>\n",
       "      <td>6,990</td>\n",
       "    </tr>\n",
       "  </tbody>\n",
       "</table>\n",
       "</div>"
      ],
      "text/plain": [
       "    make    model          body style  year  mileage             engine  \\\n",
       "0  Honda  Odyssey       Touring Elite  2013  122,986       3.5L V-6 Gas   \n",
       "1  Honda    Pilot              EX FWD  2013   80,532       3.5L V-6 Gas   \n",
       "2  Honda     CR-V              LX FWD  2013   79,796  2.4L Inline-4 Gas   \n",
       "3  Honda    Civic  LX Sedan Automatic  2013   76,882  1.8L Inline-4 Gas   \n",
       "4  Honda    Civic  LX Sedan Automatic  2013  113,673  1.8L Inline-4 Gas   \n",
       "\n",
       "  fuel type  number of owners   price  \n",
       "0       Gas               2.0  12,895  \n",
       "1       Gas               3.0  11,694  \n",
       "2       Gas               1.0  13,590  \n",
       "3       Gas               1.0   7,986  \n",
       "4       Gas               1.0   6,990  "
      ]
     },
     "execution_count": 2,
     "metadata": {},
     "output_type": "execute_result"
    }
   ],
   "source": [
    "raw_used_car_df = pd.read_csv('raw_data.csv', sep = '\\t')\n",
    "raw_used_car_df.head()"
   ]
  },
  {
   "cell_type": "markdown",
   "metadata": {
    "id": "CXSCh0SEpr1Q"
   },
   "source": [
    "## Dữ liệu có bao nhiêu dòng, bao nhiêu cột?"
   ]
  },
  {
   "cell_type": "code",
   "execution_count": 3,
   "metadata": {
    "colab": {
     "base_uri": "https://localhost:8080/"
    },
    "id": "gQnCjGiupr1S",
    "outputId": "4541bb64-79e1-4570-e732-acaacb98f3e2"
   },
   "outputs": [
    {
     "data": {
      "text/plain": [
       "(4800, 9)"
      ]
     },
     "execution_count": 3,
     "metadata": {},
     "output_type": "execute_result"
    }
   ],
   "source": [
    "raw_used_car_df.shape"
   ]
  },
  {
   "cell_type": "markdown",
   "metadata": {
    "id": "cq7b2oh9pr1S"
   },
   "source": [
    "## Mỗi dòng có ý nghĩa gì? Có vấn đề các dòng ý nghĩa khác nhau không?"
   ]
  },
  {
   "cell_type": "markdown",
   "metadata": {
    "id": "Z-9UY0jPpr1U"
   },
   "source": [
    "Mỗi dòng cho biết thông tin cơ bản về 1 chiếc xe\n",
    "\n",
    "Các dòng có ý nghĩa là giống nhau"
   ]
  },
  {
   "cell_type": "markdown",
   "metadata": {
    "id": "SItyiprjpr1U"
   },
   "source": [
    "## Dữ liệu có các dòng bị lặp không?"
   ]
  },
  {
   "cell_type": "code",
   "execution_count": 4,
   "metadata": {
    "colab": {
     "base_uri": "https://localhost:8080/"
    },
    "id": "O8xVscEGpr1V",
    "outputId": "727eec95-2855-4434-f3cd-aa1a4d500a75"
   },
   "outputs": [
    {
     "data": {
      "text/plain": [
       "0       False\n",
       "1       False\n",
       "2       False\n",
       "3       False\n",
       "4       False\n",
       "        ...  \n",
       "4795    False\n",
       "4796    False\n",
       "4797    False\n",
       "4798    False\n",
       "4799    False\n",
       "Length: 4800, dtype: bool"
      ]
     },
     "execution_count": 4,
     "metadata": {},
     "output_type": "execute_result"
    }
   ],
   "source": [
    "raw_used_car_df.duplicated()"
   ]
  },
  {
   "cell_type": "code",
   "execution_count": 5,
   "metadata": {
    "colab": {
     "base_uri": "https://localhost:8080/"
    },
    "id": "oUe6JM_cpr1W",
    "outputId": "00ef561b-9ef9-4570-b975-69baebb0ac37"
   },
   "outputs": [
    {
     "data": {
      "text/plain": [
       "148"
      ]
     },
     "execution_count": 5,
     "metadata": {},
     "output_type": "execute_result"
    }
   ],
   "source": [
    "# Bao nhiêu dòng bị lặp?\n",
    "num_row_dup = raw_used_car_df.duplicated().sum()\n",
    "num_row_dup"
   ]
  },
  {
   "cell_type": "code",
   "execution_count": 6,
   "metadata": {
    "colab": {
     "base_uri": "https://localhost:8080/",
     "height": 424
    },
    "id": "2ruyYeoBpr1W",
    "outputId": "2a103b2e-2d6d-4fe0-fd06-e678b1e7a0c0"
   },
   "outputs": [
    {
     "data": {
      "text/html": [
       "<div>\n",
       "<style scoped>\n",
       "    .dataframe tbody tr th:only-of-type {\n",
       "        vertical-align: middle;\n",
       "    }\n",
       "\n",
       "    .dataframe tbody tr th {\n",
       "        vertical-align: top;\n",
       "    }\n",
       "\n",
       "    .dataframe thead th {\n",
       "        text-align: right;\n",
       "    }\n",
       "</style>\n",
       "<table border=\"1\" class=\"dataframe\">\n",
       "  <thead>\n",
       "    <tr style=\"text-align: right;\">\n",
       "      <th></th>\n",
       "      <th>make</th>\n",
       "      <th>model</th>\n",
       "      <th>body style</th>\n",
       "      <th>year</th>\n",
       "      <th>mileage</th>\n",
       "      <th>engine</th>\n",
       "      <th>fuel type</th>\n",
       "      <th>number of owners</th>\n",
       "      <th>price</th>\n",
       "    </tr>\n",
       "  </thead>\n",
       "  <tbody>\n",
       "    <tr>\n",
       "      <th>393</th>\n",
       "      <td>Honda</td>\n",
       "      <td>Accord</td>\n",
       "      <td>EX-L Sedan I4 CVT</td>\n",
       "      <td>2016</td>\n",
       "      <td>66,848</td>\n",
       "      <td>2.4L Inline-4 Gas</td>\n",
       "      <td>Gas</td>\n",
       "      <td>2.0</td>\n",
       "      <td>15,995</td>\n",
       "    </tr>\n",
       "    <tr>\n",
       "      <th>394</th>\n",
       "      <td>Honda</td>\n",
       "      <td>Pilot</td>\n",
       "      <td>EX-L AWD</td>\n",
       "      <td>2016</td>\n",
       "      <td>124,363</td>\n",
       "      <td>3.5L V-6 Gas</td>\n",
       "      <td>Gas</td>\n",
       "      <td>1.0</td>\n",
       "      <td>17,792</td>\n",
       "    </tr>\n",
       "    <tr>\n",
       "      <th>395</th>\n",
       "      <td>Honda</td>\n",
       "      <td>Civic</td>\n",
       "      <td>EX Sedan CVT</td>\n",
       "      <td>2016</td>\n",
       "      <td>79,118</td>\n",
       "      <td>2.0L Inline-4 Gas</td>\n",
       "      <td>Gas</td>\n",
       "      <td>2.0</td>\n",
       "      <td>13,000</td>\n",
       "    </tr>\n",
       "    <tr>\n",
       "      <th>396</th>\n",
       "      <td>Honda</td>\n",
       "      <td>Civic</td>\n",
       "      <td>LX Sedan CVT</td>\n",
       "      <td>2016</td>\n",
       "      <td>53,433</td>\n",
       "      <td>2.0L Inline-4 Gas</td>\n",
       "      <td>Gas</td>\n",
       "      <td>1.0</td>\n",
       "      <td>10,970</td>\n",
       "    </tr>\n",
       "    <tr>\n",
       "      <th>397</th>\n",
       "      <td>Honda</td>\n",
       "      <td>Accord</td>\n",
       "      <td>EX-L V6 Sedan Automatic</td>\n",
       "      <td>2016</td>\n",
       "      <td>98,855</td>\n",
       "      <td>3.5L V-6 Gas</td>\n",
       "      <td>Gas</td>\n",
       "      <td>1.0</td>\n",
       "      <td>12,995</td>\n",
       "    </tr>\n",
       "    <tr>\n",
       "      <th>...</th>\n",
       "      <td>...</td>\n",
       "      <td>...</td>\n",
       "      <td>...</td>\n",
       "      <td>...</td>\n",
       "      <td>...</td>\n",
       "      <td>...</td>\n",
       "      <td>...</td>\n",
       "      <td>...</td>\n",
       "      <td>...</td>\n",
       "    </tr>\n",
       "    <tr>\n",
       "      <th>4233</th>\n",
       "      <td>Mazda</td>\n",
       "      <td>Mazda3</td>\n",
       "      <td>i Touring 4-Door Automatic</td>\n",
       "      <td>2015</td>\n",
       "      <td>161,366</td>\n",
       "      <td>2.0L Inline-4 Gas</td>\n",
       "      <td>Gas</td>\n",
       "      <td>1.0</td>\n",
       "      <td>6,990</td>\n",
       "    </tr>\n",
       "    <tr>\n",
       "      <th>4234</th>\n",
       "      <td>Mazda</td>\n",
       "      <td>CX-5</td>\n",
       "      <td>Grand Touring AWD Automatic</td>\n",
       "      <td>2015</td>\n",
       "      <td>81,477</td>\n",
       "      <td>2.5L Inline-4 Gas</td>\n",
       "      <td>Gas</td>\n",
       "      <td>1.0</td>\n",
       "      <td>14,995</td>\n",
       "    </tr>\n",
       "    <tr>\n",
       "      <th>4288</th>\n",
       "      <td>Mazda</td>\n",
       "      <td>CX-5</td>\n",
       "      <td>Grand Touring AWD Automatic</td>\n",
       "      <td>2015</td>\n",
       "      <td>95,609</td>\n",
       "      <td>2.5L Inline-4 Gas</td>\n",
       "      <td>Gas</td>\n",
       "      <td>1.0</td>\n",
       "      <td>12,955</td>\n",
       "    </tr>\n",
       "    <tr>\n",
       "      <th>4658</th>\n",
       "      <td>Mazda</td>\n",
       "      <td>Mazda6</td>\n",
       "      <td>Touring Automatic</td>\n",
       "      <td>2019</td>\n",
       "      <td>29,144</td>\n",
       "      <td>2.5L Inline-4 Gas</td>\n",
       "      <td>Gas</td>\n",
       "      <td>1.0</td>\n",
       "      <td>19,200</td>\n",
       "    </tr>\n",
       "    <tr>\n",
       "      <th>4737</th>\n",
       "      <td>Mazda</td>\n",
       "      <td>CX-5</td>\n",
       "      <td>Touring FWD</td>\n",
       "      <td>2020</td>\n",
       "      <td>14</td>\n",
       "      <td>2.5L Inline-4 Gas</td>\n",
       "      <td>Gas</td>\n",
       "      <td>1.0</td>\n",
       "      <td>25,077</td>\n",
       "    </tr>\n",
       "  </tbody>\n",
       "</table>\n",
       "<p>148 rows × 9 columns</p>\n",
       "</div>"
      ],
      "text/plain": [
       "       make   model                   body style  year  mileage  \\\n",
       "393   Honda  Accord            EX-L Sedan I4 CVT  2016   66,848   \n",
       "394   Honda   Pilot                     EX-L AWD  2016  124,363   \n",
       "395   Honda   Civic                 EX Sedan CVT  2016   79,118   \n",
       "396   Honda   Civic                 LX Sedan CVT  2016   53,433   \n",
       "397   Honda  Accord      EX-L V6 Sedan Automatic  2016   98,855   \n",
       "...     ...     ...                          ...   ...      ...   \n",
       "4233  Mazda  Mazda3   i Touring 4-Door Automatic  2015  161,366   \n",
       "4234  Mazda    CX-5  Grand Touring AWD Automatic  2015   81,477   \n",
       "4288  Mazda    CX-5  Grand Touring AWD Automatic  2015   95,609   \n",
       "4658  Mazda  Mazda6            Touring Automatic  2019   29,144   \n",
       "4737  Mazda    CX-5                  Touring FWD  2020       14   \n",
       "\n",
       "                 engine fuel type  number of owners   price  \n",
       "393   2.4L Inline-4 Gas       Gas               2.0  15,995  \n",
       "394        3.5L V-6 Gas       Gas               1.0  17,792  \n",
       "395   2.0L Inline-4 Gas       Gas               2.0  13,000  \n",
       "396   2.0L Inline-4 Gas       Gas               1.0  10,970  \n",
       "397        3.5L V-6 Gas       Gas               1.0  12,995  \n",
       "...                 ...       ...               ...     ...  \n",
       "4233  2.0L Inline-4 Gas       Gas               1.0   6,990  \n",
       "4234  2.5L Inline-4 Gas       Gas               1.0  14,995  \n",
       "4288  2.5L Inline-4 Gas       Gas               1.0  12,955  \n",
       "4658  2.5L Inline-4 Gas       Gas               1.0  19,200  \n",
       "4737  2.5L Inline-4 Gas       Gas               1.0  25,077  \n",
       "\n",
       "[148 rows x 9 columns]"
      ]
     },
     "execution_count": 6,
     "metadata": {},
     "output_type": "execute_result"
    }
   ],
   "source": [
    "# Dòng nào bị lặp?\n",
    "duplicated_rows = raw_used_car_df[raw_used_car_df.duplicated()]\n",
    "duplicated_rows"
   ]
  },
  {
   "cell_type": "code",
   "execution_count": 7,
   "metadata": {
    "id": "-oJMQ1-Epr1Z"
   },
   "outputs": [],
   "source": [
    "group_cars = raw_used_car_df.groupby(['make', 'model', 'body style', 'year'])"
   ]
  },
  {
   "cell_type": "code",
   "execution_count": 8,
   "metadata": {
    "colab": {
     "base_uri": "https://localhost:8080/",
     "height": 206
    },
    "id": "XzWH5x2qpr1a",
    "outputId": "54d65cdf-7c12-4928-c77f-d51046d9c441"
   },
   "outputs": [
    {
     "data": {
      "text/html": [
       "<div>\n",
       "<style scoped>\n",
       "    .dataframe tbody tr th:only-of-type {\n",
       "        vertical-align: middle;\n",
       "    }\n",
       "\n",
       "    .dataframe tbody tr th {\n",
       "        vertical-align: top;\n",
       "    }\n",
       "\n",
       "    .dataframe thead th {\n",
       "        text-align: right;\n",
       "    }\n",
       "</style>\n",
       "<table border=\"1\" class=\"dataframe\">\n",
       "  <thead>\n",
       "    <tr style=\"text-align: right;\">\n",
       "      <th></th>\n",
       "      <th>make</th>\n",
       "      <th>model</th>\n",
       "      <th>body style</th>\n",
       "      <th>year</th>\n",
       "      <th>mileage</th>\n",
       "      <th>engine</th>\n",
       "      <th>fuel type</th>\n",
       "      <th>number of owners</th>\n",
       "      <th>price</th>\n",
       "    </tr>\n",
       "  </thead>\n",
       "  <tbody>\n",
       "    <tr>\n",
       "      <th>332</th>\n",
       "      <td>Honda</td>\n",
       "      <td>Accord</td>\n",
       "      <td>EX-L Sedan I4 CVT</td>\n",
       "      <td>2016</td>\n",
       "      <td>195,707</td>\n",
       "      <td>2.4L Inline-4 Gas</td>\n",
       "      <td>Gas</td>\n",
       "      <td>1.0</td>\n",
       "      <td>10,912</td>\n",
       "    </tr>\n",
       "    <tr>\n",
       "      <th>346</th>\n",
       "      <td>Honda</td>\n",
       "      <td>Accord</td>\n",
       "      <td>EX-L Sedan I4 CVT</td>\n",
       "      <td>2016</td>\n",
       "      <td>35,471</td>\n",
       "      <td>2.4L Inline-4 Gas</td>\n",
       "      <td>Gas</td>\n",
       "      <td>1.0</td>\n",
       "      <td>15,793</td>\n",
       "    </tr>\n",
       "    <tr>\n",
       "      <th>363</th>\n",
       "      <td>Honda</td>\n",
       "      <td>Accord</td>\n",
       "      <td>EX-L Sedan I4 CVT</td>\n",
       "      <td>2016</td>\n",
       "      <td>66,848</td>\n",
       "      <td>2.4L Inline-4 Gas</td>\n",
       "      <td>Gas</td>\n",
       "      <td>2.0</td>\n",
       "      <td>15,995</td>\n",
       "    </tr>\n",
       "    <tr>\n",
       "      <th>378</th>\n",
       "      <td>Honda</td>\n",
       "      <td>Accord</td>\n",
       "      <td>EX-L Sedan I4 CVT</td>\n",
       "      <td>2016</td>\n",
       "      <td>94,394</td>\n",
       "      <td>2.4L Inline-4 Gas</td>\n",
       "      <td>Gas</td>\n",
       "      <td>1.0</td>\n",
       "      <td>11,900</td>\n",
       "    </tr>\n",
       "    <tr>\n",
       "      <th>393</th>\n",
       "      <td>Honda</td>\n",
       "      <td>Accord</td>\n",
       "      <td>EX-L Sedan I4 CVT</td>\n",
       "      <td>2016</td>\n",
       "      <td>66,848</td>\n",
       "      <td>2.4L Inline-4 Gas</td>\n",
       "      <td>Gas</td>\n",
       "      <td>2.0</td>\n",
       "      <td>15,995</td>\n",
       "    </tr>\n",
       "  </tbody>\n",
       "</table>\n",
       "</div>"
      ],
      "text/plain": [
       "      make   model         body style  year  mileage             engine  \\\n",
       "332  Honda  Accord  EX-L Sedan I4 CVT  2016  195,707  2.4L Inline-4 Gas   \n",
       "346  Honda  Accord  EX-L Sedan I4 CVT  2016   35,471  2.4L Inline-4 Gas   \n",
       "363  Honda  Accord  EX-L Sedan I4 CVT  2016   66,848  2.4L Inline-4 Gas   \n",
       "378  Honda  Accord  EX-L Sedan I4 CVT  2016   94,394  2.4L Inline-4 Gas   \n",
       "393  Honda  Accord  EX-L Sedan I4 CVT  2016   66,848  2.4L Inline-4 Gas   \n",
       "\n",
       "    fuel type  number of owners   price  \n",
       "332       Gas               1.0  10,912  \n",
       "346       Gas               1.0  15,793  \n",
       "363       Gas               2.0  15,995  \n",
       "378       Gas               1.0  11,900  \n",
       "393       Gas               2.0  15,995  "
      ]
     },
     "execution_count": 8,
     "metadata": {},
     "output_type": "execute_result"
    }
   ],
   "source": [
    "# Kiểm tra thử dòng 393 xem có đúng là dòng 393 bị lặp không?\n",
    "# --> đúng, ta thấy dòng 393 bị lặp lại dòng 363 trong bảng dưới\n",
    "group_cars.get_group(('Honda', 'Accord', 'EX-L Sedan I4 CVT', 2016))"
   ]
  },
  {
   "cell_type": "code",
   "execution_count": 9,
   "metadata": {
    "id": "U2dgnTlppr1a"
   },
   "outputs": [],
   "source": [
    "# Bỏ đi các dòng bị lặp, gán vào dataframe mới\n",
    "used_car_df = raw_used_car_df.drop_duplicates()"
   ]
  },
  {
   "cell_type": "code",
   "execution_count": 10,
   "metadata": {
    "colab": {
     "base_uri": "https://localhost:8080/"
    },
    "id": "2XB4-xHnpr1a",
    "outputId": "006f6cd5-d0e9-4ed9-ca75-c8aaae21002f"
   },
   "outputs": [
    {
     "data": {
      "text/plain": [
       "(4652, 9)"
      ]
     },
     "execution_count": 10,
     "metadata": {},
     "output_type": "execute_result"
    }
   ],
   "source": [
    "used_car_df.shape"
   ]
  },
  {
   "cell_type": "code",
   "execution_count": 11,
   "metadata": {
    "colab": {
     "base_uri": "https://localhost:8080/"
    },
    "id": "z3WJYj08pr1b",
    "outputId": "6fc6b544-ce50-4a7b-8147-e07b8ca66e72"
   },
   "outputs": [
    {
     "data": {
      "text/plain": [
       "0"
      ]
     },
     "execution_count": 11,
     "metadata": {},
     "output_type": "execute_result"
    }
   ],
   "source": [
    "# Kiểm tra lại dataframe mới có còn dòng nào bị lặp không?\n",
    "num_dup = used_car_df.duplicated().sum()\n",
    "num_dup"
   ]
  },
  {
   "cell_type": "code",
   "execution_count": 12,
   "metadata": {
    "id": "z8vaGp4epr1c"
   },
   "outputs": [],
   "source": [
    "# Test\n",
    "assert num_dup == 0\n",
    "assert used_car_df.shape == (raw_used_car_df.shape[0] - num_row_dup, raw_used_car_df.shape[1])"
   ]
  },
  {
   "cell_type": "markdown",
   "metadata": {
    "id": "I7r5KRv0pr1c"
   },
   "source": [
    "## Mỗi cột có ý nghĩa gì?"
   ]
  },
  {
   "cell_type": "code",
   "execution_count": 13,
   "metadata": {
    "colab": {
     "base_uri": "https://localhost:8080/",
     "height": 0
    },
    "id": "Zn2Uuf3ypr1c",
    "outputId": "31ebe81c-7286-495d-982d-6294812f7eaf"
   },
   "outputs": [
    {
     "data": {
      "text/html": [
       "<div>\n",
       "<style scoped>\n",
       "    .dataframe tbody tr th:only-of-type {\n",
       "        vertical-align: middle;\n",
       "    }\n",
       "\n",
       "    .dataframe tbody tr th {\n",
       "        vertical-align: top;\n",
       "    }\n",
       "\n",
       "    .dataframe thead th {\n",
       "        text-align: right;\n",
       "    }\n",
       "</style>\n",
       "<table border=\"1\" class=\"dataframe\">\n",
       "  <thead>\n",
       "    <tr style=\"text-align: right;\">\n",
       "      <th></th>\n",
       "      <th>make</th>\n",
       "      <th>model</th>\n",
       "      <th>body style</th>\n",
       "      <th>year</th>\n",
       "      <th>mileage</th>\n",
       "      <th>engine</th>\n",
       "      <th>fuel type</th>\n",
       "      <th>number of owners</th>\n",
       "      <th>price</th>\n",
       "    </tr>\n",
       "  </thead>\n",
       "  <tbody>\n",
       "    <tr>\n",
       "      <th>0</th>\n",
       "      <td>Honda</td>\n",
       "      <td>Odyssey</td>\n",
       "      <td>Touring Elite</td>\n",
       "      <td>2013</td>\n",
       "      <td>122,986</td>\n",
       "      <td>3.5L V-6 Gas</td>\n",
       "      <td>Gas</td>\n",
       "      <td>2.0</td>\n",
       "      <td>12,895</td>\n",
       "    </tr>\n",
       "  </tbody>\n",
       "</table>\n",
       "</div>"
      ],
      "text/plain": [
       "    make    model     body style  year  mileage        engine fuel type  \\\n",
       "0  Honda  Odyssey  Touring Elite  2013  122,986  3.5L V-6 Gas       Gas   \n",
       "\n",
       "   number of owners   price  \n",
       "0               2.0  12,895  "
      ]
     },
     "execution_count": 13,
     "metadata": {},
     "output_type": "execute_result"
    }
   ],
   "source": [
    "used_car_df.head(1)"
   ]
  },
  {
   "cell_type": "markdown",
   "metadata": {
    "id": "fZAU38IZpr1d"
   },
   "source": [
    "* <b>Cột \"make\"</b>:             tên hãng xe\n",
    "* <b>Cột \"model\"</b>:            tên dòng xe\n",
    "* <b>Cột \"body style\"</b>:       dáng xe (kết cấu thân xe)\n",
    "* <b>Cột \"year\"</b>:             năm sản xuất chiếc xe\n",
    "* <b>Cột \"mileage\"</b>:          tổng số dặm xe đã đi\n",
    "* <b>Cột \"engine\"</b>:           thông số động cơ xe\n",
    "* <b>Cột \"fuel type\"</b>:        xe đi loại nhiên liệu gì?\n",
    "* <b>Cột \"number of owners\"</b>: xe đã qua tay bao nhiêu đời chủ rồi?\n",
    "* <b>Cột \"price\"</b>:            giá thành xe hiện được bán"
   ]
  },
  {
   "cell_type": "markdown",
   "metadata": {
    "id": "FDicOj7kpr1d"
   },
   "source": [
    "## Mỗi cột hiện đang có kiểu dữ liệu gì? Có cột nào có kiểu dữ liệu chưa phù hợp để xử lý tiếp không?"
   ]
  },
  {
   "cell_type": "code",
   "execution_count": 14,
   "metadata": {
    "colab": {
     "base_uri": "https://localhost:8080/"
    },
    "id": "A4yllmG5pr1e",
    "outputId": "15b6a125-5c45-4412-e567-f68a3996db7d"
   },
   "outputs": [
    {
     "data": {
      "text/plain": [
       "make                 object\n",
       "model                object\n",
       "body style           object\n",
       "year                  int64\n",
       "mileage              object\n",
       "engine               object\n",
       "fuel type            object\n",
       "number of owners    float64\n",
       "price                object\n",
       "dtype: object"
      ]
     },
     "execution_count": 14,
     "metadata": {},
     "output_type": "execute_result"
    }
   ],
   "source": [
    "dtypes = used_car_df.dtypes\n",
    "dtypes"
   ]
  },
  {
   "cell_type": "markdown",
   "metadata": {
    "id": "m9X6aIsVpr1e"
   },
   "source": [
    "Trong Pandas, kiểu dữ liệu \"object\" thường ám chỉ chuỗi. Tuy nhiên, \"object\" có thể ám chỉ một kiểu dữ liệu bất kỳ. \"object\" giống như con trỏ, có thể trỏ tới một đối tượng bất kỳ\n",
    "\n",
    "Để biết chính xác kiểu dữ liệu đang được lưu, tiến hành lấy giá trị từng cột để xem"
   ]
  },
  {
   "cell_type": "code",
   "execution_count": 15,
   "metadata": {
    "colab": {
     "base_uri": "https://localhost:8080/"
    },
    "id": "UiXokHcBpr1e",
    "outputId": "73c0ecaf-5e7e-4b72-96ab-975db2a88d86"
   },
   "outputs": [
    {
     "name": "stdout",
     "output_type": "stream",
     "text": [
      "make: <class 'str'>\n",
      "model: <class 'str'>\n",
      "body style: <class 'str'>\n",
      "mileage: <class 'str'>\n",
      "engine: <class 'str'>\n",
      "fuel type: <class 'str'>\n",
      "price: <class 'str'>\n"
     ]
    }
   ],
   "source": [
    "print('make:', type(used_car_df.loc[0, 'make']))\n",
    "print('model:', type(used_car_df.loc[0, 'model']))\n",
    "print('body style:', type(used_car_df.loc[0, 'body style']))\n",
    "print('mileage:', type(used_car_df.loc[0, 'mileage']))\n",
    "print('engine:', type(used_car_df.loc[0, 'engine']))\n",
    "print('fuel type:', type(used_car_df.loc[0, 'fuel type']))\n",
    "print('price:', type(used_car_df.loc[0, 'price']))"
   ]
  },
  {
   "cell_type": "markdown",
   "metadata": {
    "id": "G26cgUiIpr1f"
   },
   "source": [
    "#### Một vài đánh giá về giá trị cột để tiền xử lý kiểu dữ liệu của cột"
   ]
  },
  {
   "cell_type": "markdown",
   "metadata": {
    "id": "JA1dgFHVpr1f"
   },
   "source": [
    "* <b>Cột \"mileage\"</b>, <b>\"price\"</b>: ta cần dữ liệu dạng số thực, mà ở đây đang ở dạng chuỗi --> tiến hành tiền xử lý để đưa từ kiểu chuỗi sang số thực"
   ]
  },
  {
   "cell_type": "markdown",
   "metadata": {
    "id": "a2HLTS7mpr1g"
   },
   "source": [
    "# Tiền xử lý"
   ]
  },
  {
   "cell_type": "markdown",
   "metadata": {
    "id": "43T7eXxapr1g"
   },
   "source": [
    "## Chuyển kiểu dữ liệu cột \"mileage\", \"price\" sang kiểu số thực"
   ]
  },
  {
   "cell_type": "code",
   "execution_count": 16,
   "metadata": {
    "id": "SHH_Kj7Ipr1g"
   },
   "outputs": [],
   "source": [
    "# bỏ dấu phẩy\n",
    "used_car_df.loc[:, 'mileage'] = used_car_df.loc[:, 'mileage'].str.replace(',', '')\n",
    "used_car_df.loc[:, 'price'] = used_car_df.loc[:, 'price'].str.replace(',', '')"
   ]
  },
  {
   "cell_type": "code",
   "execution_count": 17,
   "metadata": {
    "colab": {
     "base_uri": "https://localhost:8080/",
     "height": 0
    },
    "id": "4jtp2j9Mpr1g",
    "outputId": "62449298-2837-4f14-c910-9603c805c47b"
   },
   "outputs": [
    {
     "data": {
      "text/html": [
       "<div>\n",
       "<style scoped>\n",
       "    .dataframe tbody tr th:only-of-type {\n",
       "        vertical-align: middle;\n",
       "    }\n",
       "\n",
       "    .dataframe tbody tr th {\n",
       "        vertical-align: top;\n",
       "    }\n",
       "\n",
       "    .dataframe thead th {\n",
       "        text-align: right;\n",
       "    }\n",
       "</style>\n",
       "<table border=\"1\" class=\"dataframe\">\n",
       "  <thead>\n",
       "    <tr style=\"text-align: right;\">\n",
       "      <th></th>\n",
       "      <th>make</th>\n",
       "      <th>model</th>\n",
       "      <th>body style</th>\n",
       "      <th>year</th>\n",
       "      <th>mileage</th>\n",
       "      <th>engine</th>\n",
       "      <th>fuel type</th>\n",
       "      <th>number of owners</th>\n",
       "      <th>price</th>\n",
       "    </tr>\n",
       "  </thead>\n",
       "  <tbody>\n",
       "    <tr>\n",
       "      <th>0</th>\n",
       "      <td>Honda</td>\n",
       "      <td>Odyssey</td>\n",
       "      <td>Touring Elite</td>\n",
       "      <td>2013</td>\n",
       "      <td>122986.0</td>\n",
       "      <td>3.5L V-6 Gas</td>\n",
       "      <td>Gas</td>\n",
       "      <td>2.0</td>\n",
       "      <td>12895.0</td>\n",
       "    </tr>\n",
       "    <tr>\n",
       "      <th>1</th>\n",
       "      <td>Honda</td>\n",
       "      <td>Pilot</td>\n",
       "      <td>EX FWD</td>\n",
       "      <td>2013</td>\n",
       "      <td>80532.0</td>\n",
       "      <td>3.5L V-6 Gas</td>\n",
       "      <td>Gas</td>\n",
       "      <td>3.0</td>\n",
       "      <td>11694.0</td>\n",
       "    </tr>\n",
       "    <tr>\n",
       "      <th>2</th>\n",
       "      <td>Honda</td>\n",
       "      <td>CR-V</td>\n",
       "      <td>LX FWD</td>\n",
       "      <td>2013</td>\n",
       "      <td>79796.0</td>\n",
       "      <td>2.4L Inline-4 Gas</td>\n",
       "      <td>Gas</td>\n",
       "      <td>1.0</td>\n",
       "      <td>13590.0</td>\n",
       "    </tr>\n",
       "    <tr>\n",
       "      <th>3</th>\n",
       "      <td>Honda</td>\n",
       "      <td>Civic</td>\n",
       "      <td>LX Sedan Automatic</td>\n",
       "      <td>2013</td>\n",
       "      <td>76882.0</td>\n",
       "      <td>1.8L Inline-4 Gas</td>\n",
       "      <td>Gas</td>\n",
       "      <td>1.0</td>\n",
       "      <td>7986.0</td>\n",
       "    </tr>\n",
       "    <tr>\n",
       "      <th>4</th>\n",
       "      <td>Honda</td>\n",
       "      <td>Civic</td>\n",
       "      <td>LX Sedan Automatic</td>\n",
       "      <td>2013</td>\n",
       "      <td>113673.0</td>\n",
       "      <td>1.8L Inline-4 Gas</td>\n",
       "      <td>Gas</td>\n",
       "      <td>1.0</td>\n",
       "      <td>6990.0</td>\n",
       "    </tr>\n",
       "    <tr>\n",
       "      <th>...</th>\n",
       "      <td>...</td>\n",
       "      <td>...</td>\n",
       "      <td>...</td>\n",
       "      <td>...</td>\n",
       "      <td>...</td>\n",
       "      <td>...</td>\n",
       "      <td>...</td>\n",
       "      <td>...</td>\n",
       "      <td>...</td>\n",
       "    </tr>\n",
       "    <tr>\n",
       "      <th>4795</th>\n",
       "      <td>Mazda</td>\n",
       "      <td>CX-5</td>\n",
       "      <td>Grand Touring FWD</td>\n",
       "      <td>2020</td>\n",
       "      <td>13964.0</td>\n",
       "      <td>2.5L Inline-4 Gas</td>\n",
       "      <td>Gas</td>\n",
       "      <td>1.0</td>\n",
       "      <td>23888.0</td>\n",
       "    </tr>\n",
       "    <tr>\n",
       "      <th>4796</th>\n",
       "      <td>Mazda</td>\n",
       "      <td>CX-5</td>\n",
       "      <td>Sport FWD</td>\n",
       "      <td>2020</td>\n",
       "      <td>3759.0</td>\n",
       "      <td>2.5L Inline-4 Gas</td>\n",
       "      <td>Gas</td>\n",
       "      <td>1.0</td>\n",
       "      <td>22498.0</td>\n",
       "    </tr>\n",
       "    <tr>\n",
       "      <th>4797</th>\n",
       "      <td>Mazda</td>\n",
       "      <td>CX-5</td>\n",
       "      <td>Sport FWD</td>\n",
       "      <td>2020</td>\n",
       "      <td>9916.0</td>\n",
       "      <td>2.5L Inline-4 Gas</td>\n",
       "      <td>Gas</td>\n",
       "      <td>1.0</td>\n",
       "      <td>21990.0</td>\n",
       "    </tr>\n",
       "    <tr>\n",
       "      <th>4798</th>\n",
       "      <td>Mazda</td>\n",
       "      <td>CX-9</td>\n",
       "      <td>Grand Touring AWD</td>\n",
       "      <td>2020</td>\n",
       "      <td>5176.0</td>\n",
       "      <td>2.5L Inline-4 Gas Turbocharged</td>\n",
       "      <td>Gas</td>\n",
       "      <td>1.0</td>\n",
       "      <td>36992.0</td>\n",
       "    </tr>\n",
       "    <tr>\n",
       "      <th>4799</th>\n",
       "      <td>Mazda</td>\n",
       "      <td>CX-5</td>\n",
       "      <td>Touring AWD</td>\n",
       "      <td>2020</td>\n",
       "      <td>4902.0</td>\n",
       "      <td>2.5L Inline-4 Gas</td>\n",
       "      <td>Gas</td>\n",
       "      <td>0.0</td>\n",
       "      <td>25737.0</td>\n",
       "    </tr>\n",
       "  </tbody>\n",
       "</table>\n",
       "<p>4652 rows × 9 columns</p>\n",
       "</div>"
      ],
      "text/plain": [
       "       make    model          body style  year   mileage  \\\n",
       "0     Honda  Odyssey       Touring Elite  2013  122986.0   \n",
       "1     Honda    Pilot              EX FWD  2013   80532.0   \n",
       "2     Honda     CR-V              LX FWD  2013   79796.0   \n",
       "3     Honda    Civic  LX Sedan Automatic  2013   76882.0   \n",
       "4     Honda    Civic  LX Sedan Automatic  2013  113673.0   \n",
       "...     ...      ...                 ...   ...       ...   \n",
       "4795  Mazda     CX-5   Grand Touring FWD  2020   13964.0   \n",
       "4796  Mazda     CX-5           Sport FWD  2020    3759.0   \n",
       "4797  Mazda     CX-5           Sport FWD  2020    9916.0   \n",
       "4798  Mazda     CX-9   Grand Touring AWD  2020    5176.0   \n",
       "4799  Mazda     CX-5         Touring AWD  2020    4902.0   \n",
       "\n",
       "                              engine fuel type  number of owners    price  \n",
       "0                       3.5L V-6 Gas       Gas               2.0  12895.0  \n",
       "1                       3.5L V-6 Gas       Gas               3.0  11694.0  \n",
       "2                  2.4L Inline-4 Gas       Gas               1.0  13590.0  \n",
       "3                  1.8L Inline-4 Gas       Gas               1.0   7986.0  \n",
       "4                  1.8L Inline-4 Gas       Gas               1.0   6990.0  \n",
       "...                              ...       ...               ...      ...  \n",
       "4795               2.5L Inline-4 Gas       Gas               1.0  23888.0  \n",
       "4796               2.5L Inline-4 Gas       Gas               1.0  22498.0  \n",
       "4797               2.5L Inline-4 Gas       Gas               1.0  21990.0  \n",
       "4798  2.5L Inline-4 Gas Turbocharged       Gas               1.0  36992.0  \n",
       "4799               2.5L Inline-4 Gas       Gas               0.0  25737.0  \n",
       "\n",
       "[4652 rows x 9 columns]"
      ]
     },
     "execution_count": 17,
     "metadata": {},
     "output_type": "execute_result"
    }
   ],
   "source": [
    "# chuyển sang kiểu float\n",
    "used_car_df['mileage'] = used_car_df['mileage'].astype(float)\n",
    "used_car_df['price'] = used_car_df['price'].astype(float)\n",
    "used_car_df"
   ]
  },
  {
   "cell_type": "markdown",
   "metadata": {
    "id": "y8yndQ-Vpr1h"
   },
   "source": [
    "# Đặt câu hỏi"
   ]
  },
  {
   "cell_type": "markdown",
   "metadata": {
    "id": "mRgnBysMpr1h"
   },
   "source": [
    "**Câu hỏi:** làm sao để dự đoán giá trị của một chiếc xe cũ, đã qua sử dụng dựa trên các thông số của chiếc xe đó?\n",
    "\n",
    "Câu hỏi này giải quyết được 2 vấn đề trong thực tế:\n",
    "* Cho các người chủ muốn bán xe:\n",
    "    * Họ ước lượng trước được giá trị của chiếc xe mà mình muốn bán dựa trên giá thị trường hiện tại. Để khi đến bất kì nơi bán nào, họ có thể thương lượng giá cả tốt hơn\n",
    "* Cho các đại lý mua bán xe cũ:\n",
    "    * Biết được giá trị thị trường, để có thể thương lượng giá cả với người bán\n",
    "    * Nếu đã sở hữu xe cũ --> có thể đưa ra giá trị chiếc xe để bán đi"
   ]
  },
  {
   "cell_type": "markdown",
   "metadata": {
    "id": "A2dsacv2pr1h"
   },
   "source": [
    "# Khám phá dữ liệu (để biết cách tách các tập)\n",
    "Để biết cách tách các tập thì ta cần khám phá thêm cột output một ít:\n",
    "- Cột này đã mang giá trị số chưa? (do ta đang làm bài toán hồi quy)\n",
    "- Cột này có giá trị thiếu không? Nếu có giá trị thiếu thì ta sẽ xử lý rồi mới tách các tập "
   ]
  },
  {
   "cell_type": "code",
   "execution_count": 18,
   "metadata": {
    "colab": {
     "base_uri": "https://localhost:8080/"
    },
    "id": "PGP3FswDpr1h",
    "outputId": "678b120d-594b-47da-9760-43ccb8ced938"
   },
   "outputs": [
    {
     "data": {
      "text/plain": [
       "dtype('float64')"
      ]
     },
     "execution_count": 18,
     "metadata": {},
     "output_type": "execute_result"
    }
   ],
   "source": [
    "used_car_df['price'].dtype"
   ]
  },
  {
   "cell_type": "code",
   "execution_count": 19,
   "metadata": {
    "colab": {
     "base_uri": "https://localhost:8080/"
    },
    "id": "NM37XvqCpr1i",
    "outputId": "7f6e423b-918a-45f9-8c0f-8e4b17678df7"
   },
   "outputs": [
    {
     "data": {
      "text/plain": [
       "5"
      ]
     },
     "execution_count": 19,
     "metadata": {},
     "output_type": "execute_result"
    }
   ],
   "source": [
    "#Cột output có giá trị thiếu không?\n",
    "used_car_df['price'].isna().sum()"
   ]
  },
  {
   "cell_type": "code",
   "execution_count": 20,
   "metadata": {
    "id": "x-eWYubnpr1i"
   },
   "outputs": [],
   "source": [
    "#Xử lý cột output bằng cách loại bỏ các dòng mà thiếu giá trị price\n",
    "used_car_df = used_car_df[used_car_df['price'].notna()]"
   ]
  },
  {
   "cell_type": "code",
   "execution_count": 21,
   "metadata": {
    "colab": {
     "base_uri": "https://localhost:8080/"
    },
    "id": "g5HdPUhRpr1i",
    "outputId": "9faca2fb-47cb-44e3-c76c-3cc1c2bbe3a4"
   },
   "outputs": [
    {
     "data": {
      "text/plain": [
       "0"
      ]
     },
     "execution_count": 21,
     "metadata": {},
     "output_type": "execute_result"
    }
   ],
   "source": [
    "# test xem cột price đã hết giá trị thiếu chưa\n",
    "used_car_df['price'].isna().sum()"
   ]
  },
  {
   "cell_type": "code",
   "execution_count": 22,
   "metadata": {
    "colab": {
     "base_uri": "https://localhost:8080/"
    },
    "id": "65asoK5-pr1x",
    "outputId": "9f5e7628-e72c-4849-bc1d-da0e62fe03a2"
   },
   "outputs": [
    {
     "data": {
      "text/plain": [
       "(4647, 9)"
      ]
     },
     "execution_count": 22,
     "metadata": {},
     "output_type": "execute_result"
    }
   ],
   "source": [
    "used_car_df.shape"
   ]
  },
  {
   "cell_type": "code",
   "execution_count": 23,
   "metadata": {
    "colab": {
     "base_uri": "https://localhost:8080/"
    },
    "id": "001vjVekpr1x",
    "outputId": "b40423ea-3995-404b-ad1f-d33f2bcbb13e"
   },
   "outputs": [
    {
     "data": {
      "text/plain": [
       "count      4647.000000\n",
       "mean      17377.042608\n",
       "std       10211.005659\n",
       "min        2996.000000\n",
       "25%       10747.500000\n",
       "50%       14590.000000\n",
       "75%       20899.500000\n",
       "max      129982.000000\n",
       "Name: price, dtype: float64"
      ]
     },
     "execution_count": 23,
     "metadata": {},
     "output_type": "execute_result"
    }
   ],
   "source": [
    "#Phân bố cột output như thế nào?\n",
    "used_car_df['price'].describe()"
   ]
  },
  {
   "cell_type": "markdown",
   "metadata": {
    "id": "rLuz0AEspr1x"
   },
   "source": [
    "# Tiền xử lý (tách các tập)"
   ]
  },
  {
   "cell_type": "code",
   "execution_count": 24,
   "metadata": {
    "id": "x4V3WUnxpr1y"
   },
   "outputs": [],
   "source": [
    "# Tách X và y\n",
    "used_car_y_sr = used_car_df[\"price\"]\n",
    "used_car_X_df = used_car_df.drop(columns = ['price'], axis=1)"
   ]
  },
  {
   "cell_type": "code",
   "execution_count": 25,
   "metadata": {
    "id": "8beCCX-7pr1y"
   },
   "outputs": [],
   "source": [
    "# Tách tập train và tập validation, tập test theo tỉ lệ 60%:20%:20%\n",
    "\n",
    "# Đầu tiên tách tập train 60% và tập temp 40%\n",
    "train_X_df, temp_X_df, train_y_sr, temp_y_sr = train_test_split(used_car_X_df, used_car_y_sr, test_size=0.4, random_state=42)\n",
    "\n",
    "#Tách tập temp thành 2 tập bằng nhau 50% (tức là 20%:20% như ban đầu)\n",
    "val_X_df, test_X_df, val_y_sr, test_y_sr = train_test_split(temp_X_df, temp_y_sr, test_size=0.5, random_state=42)"
   ]
  },
  {
   "cell_type": "markdown",
   "metadata": {
    "id": "f-XPY2QZpr1y"
   },
   "source": [
    "## Tập train"
   ]
  },
  {
   "cell_type": "code",
   "execution_count": 26,
   "metadata": {
    "colab": {
     "base_uri": "https://localhost:8080/"
    },
    "id": "itbY4rC0pr1y",
    "outputId": "fb8b975f-8000-4ebb-f813-1475af126586"
   },
   "outputs": [
    {
     "data": {
      "text/plain": [
       "(2788, 8)"
      ]
     },
     "execution_count": 26,
     "metadata": {},
     "output_type": "execute_result"
    }
   ],
   "source": [
    "train_X_df.shape"
   ]
  },
  {
   "cell_type": "code",
   "execution_count": 27,
   "metadata": {
    "colab": {
     "base_uri": "https://localhost:8080/"
    },
    "id": "1BJx_HKvpr1z",
    "outputId": "e481a88c-a787-4b0e-804b-ce9aab74d9dd"
   },
   "outputs": [
    {
     "data": {
      "text/plain": [
       "(2788,)"
      ]
     },
     "execution_count": 27,
     "metadata": {},
     "output_type": "execute_result"
    }
   ],
   "source": [
    "train_y_sr.shape"
   ]
  },
  {
   "cell_type": "markdown",
   "metadata": {
    "id": "-X59c0sLpr1z"
   },
   "source": [
    "## Tập validation"
   ]
  },
  {
   "cell_type": "code",
   "execution_count": 28,
   "metadata": {
    "colab": {
     "base_uri": "https://localhost:8080/"
    },
    "id": "9vti9ZXMpr10",
    "outputId": "571e3c6b-423a-4c48-ab0f-0cba76e9ba1c"
   },
   "outputs": [
    {
     "data": {
      "text/plain": [
       "(929, 8)"
      ]
     },
     "execution_count": 28,
     "metadata": {},
     "output_type": "execute_result"
    }
   ],
   "source": [
    "val_X_df.shape"
   ]
  },
  {
   "cell_type": "code",
   "execution_count": 29,
   "metadata": {
    "colab": {
     "base_uri": "https://localhost:8080/"
    },
    "id": "WTrMQR09pr10",
    "outputId": "dab2c233-b9c1-4297-c62e-d2ba340a1c47"
   },
   "outputs": [
    {
     "data": {
      "text/plain": [
       "(929,)"
      ]
     },
     "execution_count": 29,
     "metadata": {},
     "output_type": "execute_result"
    }
   ],
   "source": [
    "val_y_sr.shape"
   ]
  },
  {
   "cell_type": "markdown",
   "metadata": {
    "id": "efGvzXRNpr11"
   },
   "source": [
    "## Tập test"
   ]
  },
  {
   "cell_type": "code",
   "execution_count": 30,
   "metadata": {
    "colab": {
     "base_uri": "https://localhost:8080/"
    },
    "id": "xQv4CcHqpr12",
    "outputId": "f76caee6-c37a-4a5b-d3e1-51a82d19e549"
   },
   "outputs": [
    {
     "data": {
      "text/plain": [
       "(930, 8)"
      ]
     },
     "execution_count": 30,
     "metadata": {},
     "output_type": "execute_result"
    }
   ],
   "source": [
    "test_X_df.shape"
   ]
  },
  {
   "cell_type": "code",
   "execution_count": 31,
   "metadata": {
    "colab": {
     "base_uri": "https://localhost:8080/"
    },
    "id": "CVuAI0Mlpr14",
    "outputId": "cf3b7d0a-43c2-4eb9-dcf0-ef01492ca21c"
   },
   "outputs": [
    {
     "data": {
      "text/plain": [
       "(930,)"
      ]
     },
     "execution_count": 31,
     "metadata": {},
     "output_type": "execute_result"
    }
   ],
   "source": [
    "test_y_sr.shape"
   ]
  },
  {
   "cell_type": "markdown",
   "metadata": {
    "id": "Jbelbg1rpr14"
   },
   "source": [
    "# Quay lại bước khám phá dữ liệu (Tập huấn luyện)"
   ]
  },
  {
   "cell_type": "markdown",
   "metadata": {
    "id": "W9AARGyupr14"
   },
   "source": [
    "Sau khi đã tách ra các tập thì ta có thể thoải mái khám phá trên tập huấn luyện mà không lo sẽ làm kết quả trên tập validation và tập kiểm tra bị mất đi sự khách quan."
   ]
  },
  {
   "cell_type": "markdown",
   "metadata": {
    "id": "dklyL33mpr15"
   },
   "source": [
    "## Với mỗi cột có dữ liệu dạng số (numeric), các giá trị được phân bố như thế nào?  "
   ]
  },
  {
   "cell_type": "code",
   "execution_count": 32,
   "metadata": {
    "colab": {
     "base_uri": "https://localhost:8080/",
     "height": 0
    },
    "id": "Wo6aCS4xpr16",
    "outputId": "6bb526a7-a6ef-4d21-a5bd-628d38697ee1"
   },
   "outputs": [
    {
     "data": {
      "text/html": [
       "<div>\n",
       "<style scoped>\n",
       "    .dataframe tbody tr th:only-of-type {\n",
       "        vertical-align: middle;\n",
       "    }\n",
       "\n",
       "    .dataframe tbody tr th {\n",
       "        vertical-align: top;\n",
       "    }\n",
       "\n",
       "    .dataframe thead th {\n",
       "        text-align: right;\n",
       "    }\n",
       "</style>\n",
       "<table border=\"1\" class=\"dataframe\">\n",
       "  <thead>\n",
       "    <tr style=\"text-align: right;\">\n",
       "      <th></th>\n",
       "      <th>make</th>\n",
       "      <th>model</th>\n",
       "      <th>body style</th>\n",
       "      <th>year</th>\n",
       "      <th>mileage</th>\n",
       "      <th>engine</th>\n",
       "      <th>fuel type</th>\n",
       "      <th>number of owners</th>\n",
       "    </tr>\n",
       "  </thead>\n",
       "  <tbody>\n",
       "    <tr>\n",
       "      <th>3835</th>\n",
       "      <td>Toyota</td>\n",
       "      <td>Corolla</td>\n",
       "      <td>L CVT</td>\n",
       "      <td>2019</td>\n",
       "      <td>36937.0</td>\n",
       "      <td>1.8L Inline-4 Gas</td>\n",
       "      <td>Gas</td>\n",
       "      <td>2.0</td>\n",
       "    </tr>\n",
       "    <tr>\n",
       "      <th>968</th>\n",
       "      <td>Ford</td>\n",
       "      <td>Fusion</td>\n",
       "      <td>Energi Titanium FWD</td>\n",
       "      <td>2014</td>\n",
       "      <td>54054.0</td>\n",
       "      <td>2.0L Inline-4 Plug-In Hybrid</td>\n",
       "      <td>Plug-In Hybrid</td>\n",
       "      <td>2.0</td>\n",
       "    </tr>\n",
       "    <tr>\n",
       "      <th>1183</th>\n",
       "      <td>Ford</td>\n",
       "      <td>F-150</td>\n",
       "      <td>XL SuperCrew 6.5' Box RWD</td>\n",
       "      <td>2016</td>\n",
       "      <td>75062.0</td>\n",
       "      <td>2.7L V-6 Gas Turbocharged</td>\n",
       "      <td>Gas</td>\n",
       "      <td>1.0</td>\n",
       "    </tr>\n",
       "    <tr>\n",
       "      <th>384</th>\n",
       "      <td>Honda</td>\n",
       "      <td>Fit</td>\n",
       "      <td>LX CVT</td>\n",
       "      <td>2016</td>\n",
       "      <td>24070.0</td>\n",
       "      <td>1.5L Inline-4 Gas</td>\n",
       "      <td>Gas</td>\n",
       "      <td>3.0</td>\n",
       "    </tr>\n",
       "    <tr>\n",
       "      <th>2822</th>\n",
       "      <td>Mercedes-Benz</td>\n",
       "      <td>E-Class</td>\n",
       "      <td>E 300 Luxury 4MATIC Sedan</td>\n",
       "      <td>2017</td>\n",
       "      <td>54635.0</td>\n",
       "      <td>2.0L Inline-4 Gas Turbocharged</td>\n",
       "      <td>Gas</td>\n",
       "      <td>1.0</td>\n",
       "    </tr>\n",
       "  </tbody>\n",
       "</table>\n",
       "</div>"
      ],
      "text/plain": [
       "               make    model                 body style  year  mileage  \\\n",
       "3835         Toyota  Corolla                      L CVT  2019  36937.0   \n",
       "968            Ford   Fusion        Energi Titanium FWD  2014  54054.0   \n",
       "1183           Ford    F-150  XL SuperCrew 6.5' Box RWD  2016  75062.0   \n",
       "384           Honda      Fit                     LX CVT  2016  24070.0   \n",
       "2822  Mercedes-Benz  E-Class  E 300 Luxury 4MATIC Sedan  2017  54635.0   \n",
       "\n",
       "                              engine       fuel type  number of owners  \n",
       "3835               1.8L Inline-4 Gas             Gas               2.0  \n",
       "968     2.0L Inline-4 Plug-In Hybrid  Plug-In Hybrid               2.0  \n",
       "1183       2.7L V-6 Gas Turbocharged             Gas               1.0  \n",
       "384                1.5L Inline-4 Gas             Gas               3.0  \n",
       "2822  2.0L Inline-4 Gas Turbocharged             Gas               1.0  "
      ]
     },
     "execution_count": 32,
     "metadata": {},
     "output_type": "execute_result"
    }
   ],
   "source": [
    "train_X_df.head()"
   ]
  },
  {
   "cell_type": "code",
   "execution_count": 33,
   "metadata": {
    "colab": {
     "base_uri": "https://localhost:8080/"
    },
    "id": "6PtSR7qgpr16",
    "outputId": "1a378041-915d-4a93-93c3-0689d3abaca3"
   },
   "outputs": [
    {
     "data": {
      "text/plain": [
       "year                  int64\n",
       "mileage             float64\n",
       "number of owners    float64\n",
       "dtype: object"
      ]
     },
     "execution_count": 33,
     "metadata": {},
     "output_type": "execute_result"
    }
   ],
   "source": [
    "train_X_df.dtypes[train_X_df.dtypes != object]"
   ]
  },
  {
   "cell_type": "code",
   "execution_count": 34,
   "metadata": {
    "colab": {
     "base_uri": "https://localhost:8080/",
     "height": 0
    },
    "id": "8EKyLvq4pr17",
    "outputId": "6642d5e5-fe8f-4c29-e3e3-1051546345d5"
   },
   "outputs": [
    {
     "data": {
      "text/html": [
       "<div>\n",
       "<style scoped>\n",
       "    .dataframe tbody tr th:only-of-type {\n",
       "        vertical-align: middle;\n",
       "    }\n",
       "\n",
       "    .dataframe tbody tr th {\n",
       "        vertical-align: top;\n",
       "    }\n",
       "\n",
       "    .dataframe thead th {\n",
       "        text-align: right;\n",
       "    }\n",
       "</style>\n",
       "<table border=\"1\" class=\"dataframe\">\n",
       "  <thead>\n",
       "    <tr style=\"text-align: right;\">\n",
       "      <th></th>\n",
       "      <th>year</th>\n",
       "      <th>mileage</th>\n",
       "      <th>number of owners</th>\n",
       "    </tr>\n",
       "  </thead>\n",
       "  <tbody>\n",
       "    <tr>\n",
       "      <th>count</th>\n",
       "      <td>2788.000000</td>\n",
       "      <td>2788.000000</td>\n",
       "      <td>2787.000000</td>\n",
       "    </tr>\n",
       "    <tr>\n",
       "      <th>mean</th>\n",
       "      <td>2016.507532</td>\n",
       "      <td>60744.702654</td>\n",
       "      <td>1.499103</td>\n",
       "    </tr>\n",
       "    <tr>\n",
       "      <th>std</th>\n",
       "      <td>2.284002</td>\n",
       "      <td>40917.086294</td>\n",
       "      <td>0.791816</td>\n",
       "    </tr>\n",
       "    <tr>\n",
       "      <th>min</th>\n",
       "      <td>2013.000000</td>\n",
       "      <td>5.000000</td>\n",
       "      <td>0.000000</td>\n",
       "    </tr>\n",
       "    <tr>\n",
       "      <th>25%</th>\n",
       "      <td>2014.000000</td>\n",
       "      <td>29219.500000</td>\n",
       "      <td>1.000000</td>\n",
       "    </tr>\n",
       "    <tr>\n",
       "      <th>50%</th>\n",
       "      <td>2017.000000</td>\n",
       "      <td>52173.000000</td>\n",
       "      <td>1.000000</td>\n",
       "    </tr>\n",
       "    <tr>\n",
       "      <th>75%</th>\n",
       "      <td>2019.000000</td>\n",
       "      <td>88003.750000</td>\n",
       "      <td>2.000000</td>\n",
       "    </tr>\n",
       "    <tr>\n",
       "      <th>max</th>\n",
       "      <td>2020.000000</td>\n",
       "      <td>257866.000000</td>\n",
       "      <td>6.000000</td>\n",
       "    </tr>\n",
       "  </tbody>\n",
       "</table>\n",
       "</div>"
      ],
      "text/plain": [
       "              year        mileage  number of owners\n",
       "count  2788.000000    2788.000000       2787.000000\n",
       "mean   2016.507532   60744.702654          1.499103\n",
       "std       2.284002   40917.086294          0.791816\n",
       "min    2013.000000       5.000000          0.000000\n",
       "25%    2014.000000   29219.500000          1.000000\n",
       "50%    2017.000000   52173.000000          1.000000\n",
       "75%    2019.000000   88003.750000          2.000000\n",
       "max    2020.000000  257866.000000          6.000000"
      ]
     },
     "execution_count": 34,
     "metadata": {},
     "output_type": "execute_result"
    }
   ],
   "source": [
    "train_X_df.describe()"
   ]
  },
  {
   "cell_type": "markdown",
   "metadata": {
    "id": "2quRg9I_pr17"
   },
   "source": [
    "### Bảng mô tả"
   ]
  },
  {
   "cell_type": "code",
   "execution_count": 35,
   "metadata": {
    "colab": {
     "base_uri": "https://localhost:8080/",
     "height": 0
    },
    "id": "OQ59rb3gpr17",
    "outputId": "904b0f45-a642-4cba-a8aa-f024350dd045"
   },
   "outputs": [
    {
     "data": {
      "text/html": [
       "<div>\n",
       "<style scoped>\n",
       "    .dataframe tbody tr th:only-of-type {\n",
       "        vertical-align: middle;\n",
       "    }\n",
       "\n",
       "    .dataframe tbody tr th {\n",
       "        vertical-align: top;\n",
       "    }\n",
       "\n",
       "    .dataframe thead th {\n",
       "        text-align: right;\n",
       "    }\n",
       "</style>\n",
       "<table border=\"1\" class=\"dataframe\">\n",
       "  <thead>\n",
       "    <tr style=\"text-align: right;\">\n",
       "      <th></th>\n",
       "      <th>year</th>\n",
       "      <th>mileage</th>\n",
       "      <th>number of owners</th>\n",
       "    </tr>\n",
       "  </thead>\n",
       "  <tbody>\n",
       "    <tr>\n",
       "      <th>missing_ratio</th>\n",
       "      <td>0.0</td>\n",
       "      <td>0.00</td>\n",
       "      <td>0.035868</td>\n",
       "    </tr>\n",
       "    <tr>\n",
       "      <th>min</th>\n",
       "      <td>2013.0</td>\n",
       "      <td>5.00</td>\n",
       "      <td>0.000000</td>\n",
       "    </tr>\n",
       "    <tr>\n",
       "      <th>lower_quartile</th>\n",
       "      <td>2014.0</td>\n",
       "      <td>29219.50</td>\n",
       "      <td>1.000000</td>\n",
       "    </tr>\n",
       "    <tr>\n",
       "      <th>median</th>\n",
       "      <td>2017.0</td>\n",
       "      <td>52173.00</td>\n",
       "      <td>1.000000</td>\n",
       "    </tr>\n",
       "    <tr>\n",
       "      <th>upper_quartile</th>\n",
       "      <td>2019.0</td>\n",
       "      <td>88003.75</td>\n",
       "      <td>2.000000</td>\n",
       "    </tr>\n",
       "    <tr>\n",
       "      <th>max</th>\n",
       "      <td>2020.0</td>\n",
       "      <td>257866.00</td>\n",
       "      <td>6.000000</td>\n",
       "    </tr>\n",
       "  </tbody>\n",
       "</table>\n",
       "</div>"
      ],
      "text/plain": [
       "                  year    mileage  number of owners\n",
       "missing_ratio      0.0       0.00          0.035868\n",
       "min             2013.0       5.00          0.000000\n",
       "lower_quartile  2014.0   29219.50          1.000000\n",
       "median          2017.0   52173.00          1.000000\n",
       "upper_quartile  2019.0   88003.75          2.000000\n",
       "max             2020.0  257866.00          6.000000"
      ]
     },
     "execution_count": 35,
     "metadata": {},
     "output_type": "execute_result"
    }
   ],
   "source": [
    "numeric_cols_df = train_X_df.select_dtypes(exclude = 'object')\n",
    "\n",
    "def missing_ratio(col):\n",
    "    return col.isna().mean() * 100\n",
    "\n",
    "def median(col):\n",
    "    return col.quantile(0.5)\n",
    "\n",
    "def lower_quartile(col):\n",
    "    return col.quantile(0.25)\n",
    "\n",
    "def upper_quartile(col):\n",
    "    return col.quantile(0.75)\n",
    "\n",
    "numeric_cols_df.agg([missing_ratio, min, lower_quartile, median, upper_quartile, max])"
   ]
  },
  {
   "cell_type": "markdown",
   "metadata": {
    "id": "KpFv6Ikfpr18"
   },
   "source": [
    "Vẽ Histogram minh họa trực quan cho giá trị của từng cột"
   ]
  },
  {
   "cell_type": "markdown",
   "metadata": {
    "id": "ja2SZZJRpr19"
   },
   "source": [
    "### Biểu đồ histogram biểu thị mối liên hệ giữa: tổng số dặm và số lượng xe"
   ]
  },
  {
   "cell_type": "code",
   "execution_count": 36,
   "metadata": {
    "colab": {
     "base_uri": "https://localhost:8080/",
     "height": 0
    },
    "id": "M5kYaItrpr19",
    "outputId": "0eb8ee1f-304b-453c-892e-d57fba658458"
   },
   "outputs": [
    {
     "data": {
      "text/plain": [
       "Text(0, 0.5, 'Số xe')"
      ]
     },
     "execution_count": 36,
     "metadata": {},
     "output_type": "execute_result"
    },
    {
     "data": {
      "image/png": "[encoded data removed]",
      "text/plain": [
       "<Figure size 432x288 with 1 Axes>"
      ]
     },
     "metadata": {
      "needs_background": "light"
     },
     "output_type": "display_data"
    }
   ],
   "source": [
    "train_X_df['mileage'].plot.hist(bins = range(5, 260000, 5000), edgecolor = 'black')\n",
    "plt.xlabel('Tổng số dặm')\n",
    "plt.ylabel('Số xe')"
   ]
  },
  {
   "cell_type": "markdown",
   "metadata": {
    "id": "xZh2dbyTpr1-"
   },
   "source": [
    "## Với mỗi cột có kiểu dữ liệu không phải dạng số (ở đây chủ yếu ta ám chỉ dạng categorical), các giá trị được phân bố như thế nào? "
   ]
  },
  {
   "cell_type": "code",
   "execution_count": 37,
   "metadata": {
    "colab": {
     "base_uri": "https://localhost:8080/"
    },
    "id": "05fm6MR8pr1-",
    "outputId": "46a2274a-fbed-4cee-868e-e280807b5f9d"
   },
   "outputs": [
    {
     "data": {
      "text/plain": [
       "make          object\n",
       "model         object\n",
       "body style    object\n",
       "engine        object\n",
       "fuel type     object\n",
       "dtype: object"
      ]
     },
     "execution_count": 37,
     "metadata": {},
     "output_type": "execute_result"
    }
   ],
   "source": [
    "train_X_df.dtypes[train_X_df.dtypes == object]"
   ]
  },
  {
   "cell_type": "markdown",
   "metadata": {
    "id": "RS1MeyR8pr1-"
   },
   "source": [
    "### Bảng mô tả"
   ]
  },
  {
   "cell_type": "code",
   "execution_count": 38,
   "metadata": {
    "colab": {
     "base_uri": "https://localhost:8080/",
     "height": 0
    },
    "id": "NovgYRRXpr1-",
    "outputId": "63316003-a87a-4d98-d617-503166a7ebca"
   },
   "outputs": [
    {
     "data": {
      "text/html": [
       "<div>\n",
       "<style scoped>\n",
       "    .dataframe tbody tr th:only-of-type {\n",
       "        vertical-align: middle;\n",
       "    }\n",
       "\n",
       "    .dataframe tbody tr th {\n",
       "        vertical-align: top;\n",
       "    }\n",
       "\n",
       "    .dataframe thead th {\n",
       "        text-align: right;\n",
       "    }\n",
       "</style>\n",
       "<table border=\"1\" class=\"dataframe\">\n",
       "  <thead>\n",
       "    <tr style=\"text-align: right;\">\n",
       "      <th></th>\n",
       "      <th>make</th>\n",
       "      <th>model</th>\n",
       "      <th>body style</th>\n",
       "      <th>engine</th>\n",
       "      <th>fuel type</th>\n",
       "    </tr>\n",
       "  </thead>\n",
       "  <tbody>\n",
       "    <tr>\n",
       "      <th>missing_ratio</th>\n",
       "      <td>0</td>\n",
       "      <td>0</td>\n",
       "      <td>0</td>\n",
       "      <td>0</td>\n",
       "      <td>0</td>\n",
       "    </tr>\n",
       "    <tr>\n",
       "      <th>nunique</th>\n",
       "      <td>6</td>\n",
       "      <td>99</td>\n",
       "      <td>619</td>\n",
       "      <td>53</td>\n",
       "      <td>7</td>\n",
       "    </tr>\n",
       "    <tr>\n",
       "      <th>value_counts</th>\n",
       "      <td>{'Toyota': 487, 'Mazda': 479, 'Hyundai': 478, 'Mercedes-Benz': 470, 'Ford': 448, 'Honda': 426}</td>\n",
       "      <td>{'CX-5': 220, 'Elantra': 193, 'Civic': 152, 'Corolla': 145, 'Mazda3': 134, 'C-Class': 129, 'Camry': 119, 'Sonata': 110, 'Accord': 103, 'F-150': 103, 'CR-V': 73, 'Fusion': 72, 'E-Class': 68, 'Mazda6': 66, 'Tucson': 66, 'Super Duty F-250': 60, 'RAV4': 57, 'GLC': 55, 'Focus': 37, 'Escape': 33, 'Accent': 33, 'Prius': 33, 'GLA': 32, 'GLE': 31, 'Edge': 30, 'Tacoma': 28, 'CX-9': 27, 'Santa Fe': 26, 'Odyssey': 26, 'Pilot': 25, 'Sienna': 25, 'Santa Fe Sport': 24, 'CLA': 24, 'Transit Passenger Wagon': 24, 'HR-V': 22, 'Explorer': 22, 'Super Duty F-350': 19, 'M-Class': 17, 'Fiesta': 16, 'Highlander': 16, 'S-Class': 15, '4Runner': 14, 'GLK': 14, 'Veloster': 13, 'GL': 13, 'Tundra': 12, 'CX-3': 11, 'A-Class': 10, 'Fit': 9, 'GLS': 9, 'Avalon': 8, 'Prius c': 8, 'Mazda5': 8, 'Mustang': 8, 'SL': 8, 'Metris Passenger Van': 7, 'Metris Cargo Van': 7, 'Ridgeline': 7, 'Sprinter Cargo Van': 6, 'GLB': 6, 'MX-5 Miata': 6, 'Mazda2': 5, 'Genesis Coupe': 5, 'C-Max': 5, 'Venza': 5, 'Super Duty F-350 Chassis Cab': 4, 'Yaris': 4, 'Insight': 4, 'SLK': 3, 'Transit Cargo Van': 3, 'Genesis': 3, 'Passport': 3, 'Taurus': 3, 'Prius v': 3, 'Expedition': 3, 'Mirai': 3, 'B-Class': 3, 'G-Class': 3, 'Sprinter Passenger Van': 3, 'Yaris iA': 2, 'Transit Connect Van': 2, 'Econoline Commercial Cutaway': 2, 'Corolla iM': 2, 'Azera': 2, 'Sprinter Chassis Cabs': 2, 'CLS': 2, 'CX-30': 2, 'Kona': 2, 'Prius Prime': 1, 'SLC': 1, 'Transit Cutaway': 1, 'CR-Z': 1, 'Clarity': 1, 'C-HR': 1, '86': 1, 'AMG GT': 1, 'Ranger': 1, 'Sprinter Crew Van': 1, 'Equus': 1}</td>\n",
       "      <td>{'LE CVT': 75, 'SE FWD': 65, 'LX Sedan CVT': 59, 'Touring FWD': 43, 'C 300 Sedan RWD': 40, 'SEL 2.0L IVT': 39, 'Grand Touring FWD': 38, 'Grand Touring AWD': 33, 'SE Sedan Automatic': 33, 'XLT SuperCrew 5.5' Box 4WD': 33, 'SE I4 Automatic': 31, 'C 300 4MATIC Sedan': 28, 'Touring Automatic': 26, 'Touring AWD': 25, 'SE 2.4L': 25, 'GLC 300 SUV RWD': 25, 'GLS Sedan Automatic': 24, 'SE Sedan': 24, 'SE AWD': 24, 'i Sport 4-Door Automatic': 22, 'SEL FWD': 22, 'Sport FWD': 22, 'Limited FWD': 21, 'SEL 2.0L Sedan Automatic': 20, 'EX Sedan CVT': 20, 'E 350 4MATIC Luxury Sedan': 20, 'Two': 19, 'Grand Touring AWD Automatic': 18, 'Sport 1.5T CVT': 18, 'Sport AWD': 17, 'CLA 250 FWD': 17, 'L Automatic': 17, 'GLA 250 4MATIC': 17, 'EX AWD': 17, 'i Touring 4-Door Automatic': 17, 'E 350 Sport Sedan RWD': 17, 'C 250 Sport Sedan RWD': 16, 'EX-L AWD': 16, 'EX-L FWD': 16, 'LX Sedan I4 CVT': 16, 'SE Hatchback': 16, 'C 300 4MATIC Sport Sedan': 15, 'Touring FWD Automatic': 15, 'i Touring Automatic': 15, 'Value Edition 2.0L Sedan Automatic': 14, 'SEL 2.0L Automatic': 14, 'EX-L': 14, 'LE I4 Automatic': 14, 'SE Automatic': 14, 'GLA 250 FWD': 14, 'GLE 350 SUV RWD': 14, 'SE CVT': 14, 'Standard Roof 126\" Wheelbase': 14, 'LX Sedan Automatic': 14, 'Touring AWD Automatic': 13, 'GLC 300 RWD': 13, 'XLE AWD': 13, 'i Touring 5-Door Automatic': 13, 'Titanium AWD': 12, 'SE 2.0L Sedan Automatic': 12, '2014 SE I4 Automatic': 12, 'LX FWD': 12, 'EX-L Sedan I4 CVT': 12, 'Four': 12, 'Grand Touring FWD Automatic': 12, 'EX FWD': 12, 'LE FWD': 12, 'XLE FWD': 11, 'Sport Sedan CVT': 11, 'Touring 4-Door Automatic': 11, 'Base 2.4L FWD': 11, 'LE Automatic': 11, 'Sport Sedan I4 CVT': 11, 'i Grand Touring Automatic': 11, 'C 300 Sedan 4MATIC': 11, 'L CVT': 10, 'EX-L Sedan CVT': 10, 'Sport Automatic': 10, 'Hybrid SE FWD': 10, 'XLE I4 Automatic': 10, 'ML 350 4MATIC': 10, 'Sport 2.4L': 10, 'Hybrid Limited 2.4L': 9, 'XL SuperCrew 5.5' Box 4WD': 9, 'GLS 2.4L Automatic': 9, 'Sport 4-Door Automatic': 9, 'A 220 FWD': 9, 'SE 2.0L Sedan Automatic (alt)': 8, 'Limited AWD': 8, 'GL 450 4MATIC': 8, 'GLK 350 RWD': 8, 'Lariat 4WD Crew Cab 6.75' Box': 8, 'E 350 Sedan RWD': 8, 'SE 2.4L (PZEV)': 8, 'LE Auto Access Seat 7-Passenger FWD': 8, 'Lariat SuperCrew 5.5' Box 4WD': 8, 'SEL AWD': 8, 'Limited 2.4L': 7, 'GT Hatchback Automatic': 7, 'XLT Crew Cab 156\" 4WD': 6, ...}</td>\n",
       "      <td>{'2.5L Inline-4 Gas': 490, '2.0L Inline-4 Gas': 399, '2.0L Inline-4 Gas Turbocharged': 307, '3.5L V-6 Gas': 286, '1.8L Inline-4 Gas': 275, '2.4L Inline-4 Gas': 242, '1.5L Inline-4 Gas Turbocharged': 106, '6.2L V-8 Gas': 75, '1.6L Inline-4 Gas': 59, '1.6L Inline-4 Gas Turbocharged': 46, '3.7L V-6 Gas': 41, '3.5L V-6 Gas Turbocharged': 39, '1.8L Inline-4 Hybrid': 36, '5.0L V-8 Gas': 32, '3.0L V-6 Gas Turbocharged': 29, '1.8L Inline-4 Gas Turbocharged': 27, '2.0L Inline-4 Hybrid': 26, '3.3L V-6 Gas': 22, '2.5L Inline-4 Gas Turbocharged': 22, '1.5L Inline-4 Gas': 20, '2.7L V-6 Gas Turbocharged': 18, '1.5L Inline-4 Hybrid': 18, '4.0L V-6 Gas': 17, '2.5L Inline-4 Hybrid': 15, '4.7L V-8 Gas Turbocharged': 15, '2.7L Inline-4 Gas': 14, '2.4L Inline-4 Hybrid': 12, '3.0L V-6 Diesel Turbocharged': 10, '5.7L V-8 Gas': 9, '4.6L V-8 Gas Turbocharged': 8, '6.7L V-8 Diesel Turbocharged': 8, '2.0L Inline-4 Plug-In Hybrid': 6, '5.5L V-8 Gas Turbocharged': 6, '3.8L V-6 Gas': 6, '4.0L V-8 Gas Turbocharged': 5, 'L - Electric': 5, '5.0L V-8 Gas Turbocharged': 4, '2.3L Inline-4 Gas Turbocharged': 4, 'L - Hydrogen': 3, '4.6L V-8 Gas': 3, '2.1L Inline-4 Diesel Turbocharged': 3, '6.0L V-12 Gas Turbocharged': 3, '5.0L V-8 Gas Twin-Turbo': 3, '5.4L V-8 Gas': 2, '2.0L Inline-4 Hybrid Turbocharged': 2, '1.0L Inline-3 Gas Turbocharged': 2, '1.8L Inline-4 CNG': 2, '5.5L V-8 Gas': 1, '2.0L Flat-4 Gas': 1, '2.2L Inline-4 Diesel Turbocharged': 1, '2.0L V-4 Gas Turbocharged': 1, '1.8L Inline-4 Plug-In Hybrid': 1, '1.5L Inline-4 Plug-In Hybrid': 1}</td>\n",
       "      <td>{'Gas': 2639, 'Hybrid': 109, 'Diesel': 22, 'Plug-In Hybrid': 8, 'Electric': 5, 'Hydrogen': 3, 'CNG': 2}</td>\n",
       "    </tr>\n",
       "  </tbody>\n",
       "</table>\n",
       "</div>"
      ],
      "text/plain": [
       "                                                                                                         make  \\\n",
       "missing_ratio                                                                                               0   \n",
       "nunique                                                                                                     6   \n",
       "value_counts   {'Toyota': 487, 'Mazda': 479, 'Hyundai': 478, 'Mercedes-Benz': 470, 'Ford': 448, 'Honda': 426}   \n",
       "\n",
       "                                                                                                                                                                                                                                                                                                                                                                                                                                                                                                                                                                                                                                                                                                                                                                                                                                                                                                                                                                                                                                                                                                                                                                                                                                                                                                                                                                                                                                                                                                                                                                                               model  \\\n",
       "missing_ratio                                                                                                                                                                                                                                                                                                                                                                                                                                                                                                                                                                                                                                                                                                                                                                                                                                                                                                                                                                                                                                                                                                                                                                                                                                                                                                                                                                                                                                                                                                                                                                                      0   \n",
       "nunique                                                                                                                                                                                                                                                                                                                                                                                                                                                                                                                                                                                                                                                                                                                                                                                                                                                                                                                                                                                                                                                                                                                                                                                                                                                                                                                                                                                                                                                                                                                                                                                           99   \n",
       "value_counts   {'CX-5': 220, 'Elantra': 193, 'Civic': 152, 'Corolla': 145, 'Mazda3': 134, 'C-Class': 129, 'Camry': 119, 'Sonata': 110, 'Accord': 103, 'F-150': 103, 'CR-V': 73, 'Fusion': 72, 'E-Class': 68, 'Mazda6': 66, 'Tucson': 66, 'Super Duty F-250': 60, 'RAV4': 57, 'GLC': 55, 'Focus': 37, 'Escape': 33, 'Accent': 33, 'Prius': 33, 'GLA': 32, 'GLE': 31, 'Edge': 30, 'Tacoma': 28, 'CX-9': 27, 'Santa Fe': 26, 'Odyssey': 26, 'Pilot': 25, 'Sienna': 25, 'Santa Fe Sport': 24, 'CLA': 24, 'Transit Passenger Wagon': 24, 'HR-V': 22, 'Explorer': 22, 'Super Duty F-350': 19, 'M-Class': 17, 'Fiesta': 16, 'Highlander': 16, 'S-Class': 15, '4Runner': 14, 'GLK': 14, 'Veloster': 13, 'GL': 13, 'Tundra': 12, 'CX-3': 11, 'A-Class': 10, 'Fit': 9, 'GLS': 9, 'Avalon': 8, 'Prius c': 8, 'Mazda5': 8, 'Mustang': 8, 'SL': 8, 'Metris Passenger Van': 7, 'Metris Cargo Van': 7, 'Ridgeline': 7, 'Sprinter Cargo Van': 6, 'GLB': 6, 'MX-5 Miata': 6, 'Mazda2': 5, 'Genesis Coupe': 5, 'C-Max': 5, 'Venza': 5, 'Super Duty F-350 Chassis Cab': 4, 'Yaris': 4, 'Insight': 4, 'SLK': 3, 'Transit Cargo Van': 3, 'Genesis': 3, 'Passport': 3, 'Taurus': 3, 'Prius v': 3, 'Expedition': 3, 'Mirai': 3, 'B-Class': 3, 'G-Class': 3, 'Sprinter Passenger Van': 3, 'Yaris iA': 2, 'Transit Connect Van': 2, 'Econoline Commercial Cutaway': 2, 'Corolla iM': 2, 'Azera': 2, 'Sprinter Chassis Cabs': 2, 'CLS': 2, 'CX-30': 2, 'Kona': 2, 'Prius Prime': 1, 'SLC': 1, 'Transit Cutaway': 1, 'CR-Z': 1, 'Clarity': 1, 'C-HR': 1, '86': 1, 'AMG GT': 1, 'Ranger': 1, 'Sprinter Crew Van': 1, 'Equus': 1}   \n",
       "\n",
       "                                                                                                                                                                                                                                                                                                                                                                                                                                                                                                                                                                                                                                                                                                                                                                                                                                                                                                                                                                                                                                                                                                                                                                                                                                                                                                                                                                                                                                                                                                                                                                                                                                                                                                                                                                                                                                                                                                                                                                                                                                                                                                                                                                                                                                                                                                                                                                                                                                body style  \\\n",
       "missing_ratio                                                                                                                                                                                                                                                                                                                                                                                                                                                                                                                                                                                                                                                                                                                                                                                                                                                                                                                                                                                                                                                                                                                                                                                                                                                                                                                                                                                                                                                                                                                                                                                                                                                                                                                                                                                                                                                                                                                                                                                                                                                                                                                                                                                                                                                                                                                                                                                                                            0   \n",
       "nunique                                                                                                                                                                                                                                                                                                                                                                                                                                                                                                                                                                                                                                                                                                                                                                                                                                                                                                                                                                                                                                                                                                                                                                                                                                                                                                                                                                                                                                                                                                                                                                                                                                                                                                                                                                                                                                                                                                                                                                                                                                                                                                                                                                                                                                                                                                                                                                                                                                619   \n",
       "value_counts   {'LE CVT': 75, 'SE FWD': 65, 'LX Sedan CVT': 59, 'Touring FWD': 43, 'C 300 Sedan RWD': 40, 'SEL 2.0L IVT': 39, 'Grand Touring FWD': 38, 'Grand Touring AWD': 33, 'SE Sedan Automatic': 33, 'XLT SuperCrew 5.5' Box 4WD': 33, 'SE I4 Automatic': 31, 'C 300 4MATIC Sedan': 28, 'Touring Automatic': 26, 'Touring AWD': 25, 'SE 2.4L': 25, 'GLC 300 SUV RWD': 25, 'GLS Sedan Automatic': 24, 'SE Sedan': 24, 'SE AWD': 24, 'i Sport 4-Door Automatic': 22, 'SEL FWD': 22, 'Sport FWD': 22, 'Limited FWD': 21, 'SEL 2.0L Sedan Automatic': 20, 'EX Sedan CVT': 20, 'E 350 4MATIC Luxury Sedan': 20, 'Two': 19, 'Grand Touring AWD Automatic': 18, 'Sport 1.5T CVT': 18, 'Sport AWD': 17, 'CLA 250 FWD': 17, 'L Automatic': 17, 'GLA 250 4MATIC': 17, 'EX AWD': 17, 'i Touring 4-Door Automatic': 17, 'E 350 Sport Sedan RWD': 17, 'C 250 Sport Sedan RWD': 16, 'EX-L AWD': 16, 'EX-L FWD': 16, 'LX Sedan I4 CVT': 16, 'SE Hatchback': 16, 'C 300 4MATIC Sport Sedan': 15, 'Touring FWD Automatic': 15, 'i Touring Automatic': 15, 'Value Edition 2.0L Sedan Automatic': 14, 'SEL 2.0L Automatic': 14, 'EX-L': 14, 'LE I4 Automatic': 14, 'SE Automatic': 14, 'GLA 250 FWD': 14, 'GLE 350 SUV RWD': 14, 'SE CVT': 14, 'Standard Roof 126\" Wheelbase': 14, 'LX Sedan Automatic': 14, 'Touring AWD Automatic': 13, 'GLC 300 RWD': 13, 'XLE AWD': 13, 'i Touring 5-Door Automatic': 13, 'Titanium AWD': 12, 'SE 2.0L Sedan Automatic': 12, '2014 SE I4 Automatic': 12, 'LX FWD': 12, 'EX-L Sedan I4 CVT': 12, 'Four': 12, 'Grand Touring FWD Automatic': 12, 'EX FWD': 12, 'LE FWD': 12, 'XLE FWD': 11, 'Sport Sedan CVT': 11, 'Touring 4-Door Automatic': 11, 'Base 2.4L FWD': 11, 'LE Automatic': 11, 'Sport Sedan I4 CVT': 11, 'i Grand Touring Automatic': 11, 'C 300 Sedan 4MATIC': 11, 'L CVT': 10, 'EX-L Sedan CVT': 10, 'Sport Automatic': 10, 'Hybrid SE FWD': 10, 'XLE I4 Automatic': 10, 'ML 350 4MATIC': 10, 'Sport 2.4L': 10, 'Hybrid Limited 2.4L': 9, 'XL SuperCrew 5.5' Box 4WD': 9, 'GLS 2.4L Automatic': 9, 'Sport 4-Door Automatic': 9, 'A 220 FWD': 9, 'SE 2.0L Sedan Automatic (alt)': 8, 'Limited AWD': 8, 'GL 450 4MATIC': 8, 'GLK 350 RWD': 8, 'Lariat 4WD Crew Cab 6.75' Box': 8, 'E 350 Sedan RWD': 8, 'SE 2.4L (PZEV)': 8, 'LE Auto Access Seat 7-Passenger FWD': 8, 'Lariat SuperCrew 5.5' Box 4WD': 8, 'SEL AWD': 8, 'Limited 2.4L': 7, 'GT Hatchback Automatic': 7, 'XLT Crew Cab 156\" 4WD': 6, ...}   \n",
       "\n",
       "                                                                                                                                                                                                                                                                                                                                                                                                                                                                                                                                                                                                                                                                                                                                                                                                                                                                                                                                                                                                                                                                                                                                                                                                                                                                                                                                                                                                                                                                                                                                                                                                         engine  \\\n",
       "missing_ratio                                                                                                                                                                                                                                                                                                                                                                                                                                                                                                                                                                                                                                                                                                                                                                                                                                                                                                                                                                                                                                                                                                                                                                                                                                                                                                                                                                                                                                                                                                                                                                                                 0   \n",
       "nunique                                                                                                                                                                                                                                                                                                                                                                                                                                                                                                                                                                                                                                                                                                                                                                                                                                                                                                                                                                                                                                                                                                                                                                                                                                                                                                                                                                                                                                                                                                                                                                                                      53   \n",
       "value_counts   {'2.5L Inline-4 Gas': 490, '2.0L Inline-4 Gas': 399, '2.0L Inline-4 Gas Turbocharged': 307, '3.5L V-6 Gas': 286, '1.8L Inline-4 Gas': 275, '2.4L Inline-4 Gas': 242, '1.5L Inline-4 Gas Turbocharged': 106, '6.2L V-8 Gas': 75, '1.6L Inline-4 Gas': 59, '1.6L Inline-4 Gas Turbocharged': 46, '3.7L V-6 Gas': 41, '3.5L V-6 Gas Turbocharged': 39, '1.8L Inline-4 Hybrid': 36, '5.0L V-8 Gas': 32, '3.0L V-6 Gas Turbocharged': 29, '1.8L Inline-4 Gas Turbocharged': 27, '2.0L Inline-4 Hybrid': 26, '3.3L V-6 Gas': 22, '2.5L Inline-4 Gas Turbocharged': 22, '1.5L Inline-4 Gas': 20, '2.7L V-6 Gas Turbocharged': 18, '1.5L Inline-4 Hybrid': 18, '4.0L V-6 Gas': 17, '2.5L Inline-4 Hybrid': 15, '4.7L V-8 Gas Turbocharged': 15, '2.7L Inline-4 Gas': 14, '2.4L Inline-4 Hybrid': 12, '3.0L V-6 Diesel Turbocharged': 10, '5.7L V-8 Gas': 9, '4.6L V-8 Gas Turbocharged': 8, '6.7L V-8 Diesel Turbocharged': 8, '2.0L Inline-4 Plug-In Hybrid': 6, '5.5L V-8 Gas Turbocharged': 6, '3.8L V-6 Gas': 6, '4.0L V-8 Gas Turbocharged': 5, 'L - Electric': 5, '5.0L V-8 Gas Turbocharged': 4, '2.3L Inline-4 Gas Turbocharged': 4, 'L - Hydrogen': 3, '4.6L V-8 Gas': 3, '2.1L Inline-4 Diesel Turbocharged': 3, '6.0L V-12 Gas Turbocharged': 3, '5.0L V-8 Gas Twin-Turbo': 3, '5.4L V-8 Gas': 2, '2.0L Inline-4 Hybrid Turbocharged': 2, '1.0L Inline-3 Gas Turbocharged': 2, '1.8L Inline-4 CNG': 2, '5.5L V-8 Gas': 1, '2.0L Flat-4 Gas': 1, '2.2L Inline-4 Diesel Turbocharged': 1, '2.0L V-4 Gas Turbocharged': 1, '1.8L Inline-4 Plug-In Hybrid': 1, '1.5L Inline-4 Plug-In Hybrid': 1}   \n",
       "\n",
       "                                                                                                             fuel type  \n",
       "missing_ratio                                                                                                        0  \n",
       "nunique                                                                                                              7  \n",
       "value_counts   {'Gas': 2639, 'Hybrid': 109, 'Diesel': 22, 'Plug-In Hybrid': 8, 'Electric': 5, 'Hydrogen': 3, 'CNG': 2}  "
      ]
     },
     "execution_count": 38,
     "metadata": {},
     "output_type": "execute_result"
    }
   ],
   "source": [
    "cate_cols_df = train_X_df.select_dtypes(include = 'object')\n",
    "\n",
    "def value_counts(col):\n",
    "    return dict(col.value_counts())\n",
    "\n",
    "# tỉ lệ giá trị thiếu, số lượng giá trị duy nhất, thống kê giá trị duy nhất\n",
    "category_stat = cate_cols_df.agg([missing_ratio, pd.Series.nunique, value_counts])\n",
    "pd.set_option('display.max_colwidth', 10000)\n",
    "category_stat"
   ]
  },
  {
   "cell_type": "markdown",
   "metadata": {
    "id": "_W2BbFy0pr1_"
   },
   "source": [
    "### Biểu đồ bar chart thể hiện số lượng xe của từng hãng"
   ]
  },
  {
   "cell_type": "code",
   "execution_count": 39,
   "metadata": {
    "colab": {
     "base_uri": "https://localhost:8080/",
     "height": 0
    },
    "id": "zCXMIxfQpr1_",
    "outputId": "cf2701e5-7a37-4621-ee84-4d698aee531b"
   },
   "outputs": [
    {
     "data": {
      "text/plain": [
       "Text(0.5, 0, 'Số xe')"
      ]
     },
     "execution_count": 39,
     "metadata": {},
     "output_type": "execute_result"
    },
    {
     "data": {
      "image/png": "[encoded data removed]",
      "text/plain": [
       "<Figure size 432x288 with 1 Axes>"
      ]
     },
     "metadata": {
      "needs_background": "light"
     },
     "output_type": "display_data"
    }
   ],
   "source": [
    "train_X_df['make'].value_counts().plot.barh()\n",
    "plt.xlabel('Số xe')"
   ]
  },
  {
   "cell_type": "markdown",
   "metadata": {
    "id": "60PQ_6fCpr1_"
   },
   "source": [
    "### Biểu đồ bar chart thể hiện mỗi quan hệ giữa: loại nhiên liệu và số lượng xe"
   ]
  },
  {
   "cell_type": "code",
   "execution_count": 40,
   "metadata": {
    "colab": {
     "base_uri": "https://localhost:8080/",
     "height": 0
    },
    "id": "PCNawH46pr2A",
    "outputId": "64d301ee-c115-4278-ec82-802bfb8b001d"
   },
   "outputs": [
    {
     "data": {
      "text/plain": [
       "Text(0.5, 0, 'Số xe')"
      ]
     },
     "execution_count": 40,
     "metadata": {},
     "output_type": "execute_result"
    },
    {
     "data": {
      "image/png": "[encoded data removed]",
      "text/plain": [
       "<Figure size 432x288 with 1 Axes>"
      ]
     },
     "metadata": {
      "needs_background": "light"
     },
     "output_type": "display_data"
    }
   ],
   "source": [
    "train_X_df['fuel type'].value_counts().plot.barh()\n",
    "plt.xlabel('Số xe')"
   ]
  },
  {
   "cell_type": "markdown",
   "metadata": {
    "id": "DZk6mu1Dpr2A"
   },
   "source": [
    "# Tiền xử lý (Tập huấn luyện)"
   ]
  },
  {
   "cell_type": "markdown",
   "metadata": {
    "id": "BwtAOIIRpr2A"
   },
   "source": [
    "Ta sẽ thêm và xóa một số cột như sau:"
   ]
  },
  {
   "cell_type": "markdown",
   "metadata": {
    "id": "tjUFo1Zmpr2A"
   },
   "source": [
    "- Xóa cột \"body style\" vì cột này có quá nhiều giá trị khác nhau, nếu chuyển sang dạng số bằng phương pháp one-hot thì sẽ làm tăng số lượng cột lên rất nhiều\n",
    "- Với cột \"engine\": giảm sự phức tạp của cột engine bằng cách chỉ lấy thông số lít(L) của động cơ, rồi chuyển nó sang dạng số\n",
    "- Với cột \"fuel type\": giữ nguyên n_top_fuel_types có số lượng nhiều nhất (mặc định: n_top_fuel_types = 1) thì giữ nguyên giá trị, còn lại chuyển thành 'Others'\n",
    "- Với cột \"model\": ta sẽ giữ lại n_top_models có chiếm số lượng nhiều nhất (mặc định: n_top_models = 10), còn lại chuyển thành 'Others'"
   ]
  },
  {
   "cell_type": "code",
   "execution_count": 41,
   "metadata": {
    "id": "oB_7IknWpr2B"
   },
   "outputs": [],
   "source": [
    "class ColAdderDropper(BaseEstimator, TransformerMixin):\n",
    "    def __init__(self, n_top_fuels = 1, n_top_models = 10):\n",
    "        self.n_top_fuels = n_top_fuels\n",
    "        self.n_top_models = n_top_models\n",
    "    def fit(self, X_df, y=None):\n",
    "        self.fuel_counts_ = X_df['fuel type'].value_counts()\n",
    "        fuel = list(self.fuel_counts_.index)\n",
    "        self.top_fuels_ = fuel[:max(1, min(self.n_top_fuels, len(fuel)))]\n",
    "        \n",
    "        self.model_counts_ = X_df['model'].value_counts()\n",
    "        model = list(self.model_counts_.index)\n",
    "        self.top_models_ = model[:max(1, min(self.n_top_models, len(model)))]\n",
    "        \n",
    "        return self\n",
    "    def transform(self, X_df, y=None):\n",
    "        new_df = X_df.copy(deep = True)\n",
    "        \n",
    "        # xóa cột \"body style\"\n",
    "        new_df = new_df.drop(columns = ['body style'], axis = 1)\n",
    "        \n",
    "        # chuyển cột \"engine\" sang dạng số\n",
    "        new_df['engine'] = new_df['engine'].str.extract(r'(\\d+.\\d+L)')\n",
    "        new_df['engine'] = new_df['engine'].str.replace('L', '').astype(float)\n",
    "        \n",
    "        # chuyển đổi giá trị cột \"fuel type\"\n",
    "        fuel_col = new_df['fuel type']\n",
    "        fuel_col[~fuel_col.isin(self.top_fuels_)] = 'Others'\n",
    "        \n",
    "        # chuyển đổi giá trị cột \"model\"\n",
    "        model_col = new_df['model']\n",
    "        model_col[~model_col.isin(self.top_models_)] = 'Others'\n",
    "        \n",
    "        return new_df"
   ]
  },
  {
   "cell_type": "code",
   "execution_count": 42,
   "metadata": {},
   "outputs": [
    {
     "name": "stdout",
     "output_type": "stream",
     "text": [
      "['Gas']\n",
      "\n",
      "['CX-5', 'Elantra', 'Civic', 'Corolla', 'Mazda3', 'C-Class', 'Camry', 'Sonata', 'Accord', 'F-150']\n"
     ]
    }
   ],
   "source": [
    "#test fit\n",
    "col_adderdropper = ColAdderDropper(n_top_fuels = 1, n_top_models = 10)\n",
    "col_adderdropper.fit(train_X_df)\n",
    "print(col_adderdropper.top_fuels_)\n",
    "print()\n",
    "print(col_adderdropper.top_models_)"
   ]
  },
  {
   "cell_type": "code",
   "execution_count": 43,
   "metadata": {},
   "outputs": [
    {
     "data": {
      "text/html": [
       "<div>\n",
       "<style scoped>\n",
       "    .dataframe tbody tr th:only-of-type {\n",
       "        vertical-align: middle;\n",
       "    }\n",
       "\n",
       "    .dataframe tbody tr th {\n",
       "        vertical-align: top;\n",
       "    }\n",
       "\n",
       "    .dataframe thead th {\n",
       "        text-align: right;\n",
       "    }\n",
       "</style>\n",
       "<table border=\"1\" class=\"dataframe\">\n",
       "  <thead>\n",
       "    <tr style=\"text-align: right;\">\n",
       "      <th></th>\n",
       "      <th>make</th>\n",
       "      <th>model</th>\n",
       "      <th>year</th>\n",
       "      <th>mileage</th>\n",
       "      <th>engine</th>\n",
       "      <th>fuel type</th>\n",
       "      <th>number of owners</th>\n",
       "    </tr>\n",
       "  </thead>\n",
       "  <tbody>\n",
       "    <tr>\n",
       "      <th>3835</th>\n",
       "      <td>Toyota</td>\n",
       "      <td>Corolla</td>\n",
       "      <td>2019</td>\n",
       "      <td>36937.0</td>\n",
       "      <td>1.8</td>\n",
       "      <td>Gas</td>\n",
       "      <td>2.0</td>\n",
       "    </tr>\n",
       "    <tr>\n",
       "      <th>968</th>\n",
       "      <td>Ford</td>\n",
       "      <td>Others</td>\n",
       "      <td>2014</td>\n",
       "      <td>54054.0</td>\n",
       "      <td>2.0</td>\n",
       "      <td>Others</td>\n",
       "      <td>2.0</td>\n",
       "    </tr>\n",
       "    <tr>\n",
       "      <th>1183</th>\n",
       "      <td>Ford</td>\n",
       "      <td>F-150</td>\n",
       "      <td>2016</td>\n",
       "      <td>75062.0</td>\n",
       "      <td>2.7</td>\n",
       "      <td>Gas</td>\n",
       "      <td>1.0</td>\n",
       "    </tr>\n",
       "    <tr>\n",
       "      <th>384</th>\n",
       "      <td>Honda</td>\n",
       "      <td>Others</td>\n",
       "      <td>2016</td>\n",
       "      <td>24070.0</td>\n",
       "      <td>1.5</td>\n",
       "      <td>Gas</td>\n",
       "      <td>3.0</td>\n",
       "    </tr>\n",
       "    <tr>\n",
       "      <th>2822</th>\n",
       "      <td>Mercedes-Benz</td>\n",
       "      <td>Others</td>\n",
       "      <td>2017</td>\n",
       "      <td>54635.0</td>\n",
       "      <td>2.0</td>\n",
       "      <td>Gas</td>\n",
       "      <td>1.0</td>\n",
       "    </tr>\n",
       "  </tbody>\n",
       "</table>\n",
       "</div>"
      ],
      "text/plain": [
       "               make    model  year  mileage  engine fuel type  \\\n",
       "3835         Toyota  Corolla  2019  36937.0     1.8       Gas   \n",
       "968            Ford   Others  2014  54054.0     2.0    Others   \n",
       "1183           Ford    F-150  2016  75062.0     2.7       Gas   \n",
       "384           Honda   Others  2016  24070.0     1.5       Gas   \n",
       "2822  Mercedes-Benz   Others  2017  54635.0     2.0       Gas   \n",
       "\n",
       "      number of owners  \n",
       "3835               2.0  \n",
       "968                2.0  \n",
       "1183               1.0  \n",
       "384                3.0  \n",
       "2822               1.0  "
      ]
     },
     "execution_count": 43,
     "metadata": {},
     "output_type": "execute_result"
    }
   ],
   "source": [
    "#Test transform\n",
    "fewer_cols_train_X_df = col_adderdropper.transform(train_X_df)\n",
    "fewer_cols_train_X_df.head()"
   ]
  },
  {
   "cell_type": "markdown",
   "metadata": {
    "id": "YxuJK_2jpr2B"
   },
   "source": [
    "Đến đây, các cột dạng số (numerical) gồm: \"year\", \"mileage\", \"engine\", \"number of owners\"; các cột không phải dạng số (categorical) và không có thứ tự gồm: \"make\", \"model\", \"fuel type\". Các bước tiền xử lý tiếp theo như sau:\n",
    "- Với các cột dạng số, ta sẽ điền giá trị thiếu bằng giá trị median của cột, sau đó dùng StandardScaler để chuẩn hóa dữ liệu. **Tất cả** các cột dạng số trong tập huấn luyện, ta đều cần tính median, vì ta không biết được cột nào sẽ bị thiếu giá trị khi dự đoán với các véc-tơ input mới.\n",
    "    - Lưu ý với cột \"number of owners\", xử lý 1 bước trước khi xử lý giá trị thiếu, đó là: nếu giá trị trong cột \"number of owners\" = 0 thì ta chuyển nó = 1. Vì tiêu chí của ta là các xe đã qua sử dụng, mà đã qua sử dụng thì phải có >= 1 người chủ\n",
    "- Với các cột không phải dạng số và không có thứ tự:\n",
    "    - Ta sẽ điền giá trị thiếu bằng giá trị mode (giá trị xuất hiện nhiều nhất) của cột. **Tất cả** các cột không có dạng số và không có thứ tự, ta đều cần tính mode, vì ta không biết được cột nào sẽ bị thiếu giá trị khi dự đoán với các véc-tơ input mới.\n",
    "    - Sau đó, ta sẽ chuyển sang dạng số bằng phương pháp mã hóa one-hot rồi StandardScaler để chuẩn hóa dữ liệu"
   ]
  },
  {
   "cell_type": "code",
   "execution_count": 44,
   "metadata": {
    "id": "XjvBT4Pvpr2C"
   },
   "outputs": [],
   "source": [
    "class Sparse2DenseTransformer(BaseEstimator, TransformerMixin):\n",
    "    def fit(self, X, Y=None):\n",
    "        return self\n",
    "    def transform(self, X):\n",
    "        return X.todense()"
   ]
  },
  {
   "cell_type": "code",
   "execution_count": 45,
   "metadata": {
    "id": "0-oTiOfMvfr-"
   },
   "outputs": [],
   "source": [
    "class FixOwnerVal(BaseEstimator, TransformerMixin):\n",
    "    def fit(self, X, Y=None):\n",
    "        return self\n",
    "    def transform(self, X):\n",
    "        new_X = X.copy(deep = True)\n",
    "        new_X.loc[(new_X['number of owners'] == 0.0), 'number of owners'] = 1.0\n",
    "        return new_X"
   ]
  },
  {
   "cell_type": "code",
   "execution_count": 46,
   "metadata": {
    "colab": {
     "base_uri": "https://localhost:8080/"
    },
    "id": "PuKLlL1epr2D",
    "outputId": "05417c8b-bc9d-493b-ef81-52930743c030"
   },
   "outputs": [],
   "source": [
    "nume_cols = ['year', 'mileage', 'engine', 'number of owners']\n",
    "unorder_cate_cols = ['make', 'model', 'fuel type']\n",
    "\n",
    "nume_transformer = Pipeline([\n",
    "    ('impute1', SimpleImputer(missing_values = np.nan, strategy='median')),\n",
    "    ('scale1', StandardScaler())\n",
    "])\n",
    "\n",
    "unorder_cate_transformer = Pipeline([\n",
    "    ('impute2', SimpleImputer(missing_values = np.nan, strategy='most_frequent')),\n",
    "    ('ohe', OneHotEncoder()),\n",
    "    ('todense', Sparse2DenseTransformer()),\n",
    "    ('scale2', StandardScaler())\n",
    "])\n",
    "\n",
    "preprocessor = ColumnTransformer(transformers = [\n",
    "    ('nume', nume_transformer, nume_cols),\n",
    "    ('unorder_cate', unorder_cate_transformer, unorder_cate_cols),\n",
    "])\n",
    "\n",
    "preprocess_pipeline = Pipeline([\n",
    "    ('add_drop', ColAdderDropper()),\n",
    "    ('fix_owner', FixOwnerVal()),\n",
    "    ('preprocess', preprocessor)\n",
    "])\n",
    "\n",
    "preprocessed_train_X = preprocess_pipeline.fit_transform(train_X_df)\n",
    "#preprocessed_train_X.shape"
   ]
  },
  {
   "cell_type": "code",
   "execution_count": 47,
   "metadata": {
    "colab": {
     "base_uri": "https://localhost:8080/"
    },
    "id": "oR-pprompr2D",
    "outputId": "a011de06-2f19-48a9-bf06-def5a4cc1f3c"
   },
   "outputs": [
    {
     "data": {
      "text/html": [
       "<style>div.sk-top-container {color: black;background-color: white;}div.sk-toggleable {background-color: white;}label.sk-toggleable__label {cursor: pointer;display: block;width: 100%;margin-bottom: 0;padding: 0.2em 0.3em;box-sizing: border-box;text-align: center;}div.sk-toggleable__content {max-height: 0;max-width: 0;overflow: hidden;text-align: left;background-color: #f0f8ff;}div.sk-toggleable__content pre {margin: 0.2em;color: black;border-radius: 0.25em;background-color: #f0f8ff;}input.sk-toggleable__control:checked~div.sk-toggleable__content {max-height: 200px;max-width: 100%;overflow: auto;}div.sk-estimator input.sk-toggleable__control:checked~label.sk-toggleable__label {background-color: #d4ebff;}div.sk-label input.sk-toggleable__control:checked~label.sk-toggleable__label {background-color: #d4ebff;}input.sk-hidden--visually {border: 0;clip: rect(1px 1px 1px 1px);clip: rect(1px, 1px, 1px, 1px);height: 1px;margin: -1px;overflow: hidden;padding: 0;position: absolute;width: 1px;}div.sk-estimator {font-family: monospace;background-color: #f0f8ff;margin: 0.25em 0.25em;border: 1px dotted black;border-radius: 0.25em;box-sizing: border-box;}div.sk-estimator:hover {background-color: #d4ebff;}div.sk-parallel-item::after {content: \"\";width: 100%;border-bottom: 1px solid gray;flex-grow: 1;}div.sk-label:hover label.sk-toggleable__label {background-color: #d4ebff;}div.sk-serial::before {content: \"\";position: absolute;border-left: 1px solid gray;box-sizing: border-box;top: 2em;bottom: 0;left: 50%;}div.sk-serial {display: flex;flex-direction: column;align-items: center;background-color: white;}div.sk-item {z-index: 1;}div.sk-parallel {display: flex;align-items: stretch;justify-content: center;background-color: white;}div.sk-parallel-item {display: flex;flex-direction: column;position: relative;background-color: white;}div.sk-parallel-item:first-child::after {align-self: flex-end;width: 50%;}div.sk-parallel-item:last-child::after {align-self: flex-start;width: 50%;}div.sk-parallel-item:only-child::after {width: 0;}div.sk-dashed-wrapped {border: 1px dashed gray;margin: 0.2em;box-sizing: border-box;padding-bottom: 0.1em;background-color: white;position: relative;}div.sk-label label {font-family: monospace;font-weight: bold;background-color: white;display: inline-block;line-height: 1.2em;}div.sk-label-container {position: relative;z-index: 2;text-align: center;}div.sk-container {display: inline-block;position: relative;}</style><div class=\"sk-top-container\"><div class=\"sk-container\"><div class=\"sk-item sk-dashed-wrapped\"><div class=\"sk-label-container\"><div class=\"sk-label sk-toggleable\"><input class=\"sk-toggleable__control sk-hidden--visually\" id=\"7e68e501-d003-4473-9a69-b3cdb6c6d58f\" type=\"checkbox\" ><label class=\"sk-toggleable__label\" for=\"7e68e501-d003-4473-9a69-b3cdb6c6d58f\">Pipeline</label><div class=\"sk-toggleable__content\"><pre>Pipeline(steps=[('add_drop', ColAdderDropper()), ('fix_owner', FixOwnerVal()),\n",
       "                ('preprocess',\n",
       "                 ColumnTransformer(transformers=[('nume',\n",
       "                                                  Pipeline(steps=[('impute1',\n",
       "                                                                   SimpleImputer(strategy='median')),\n",
       "                                                                  ('scale1',\n",
       "                                                                   StandardScaler())]),\n",
       "                                                  ['year', 'mileage', 'engine',\n",
       "                                                   'number of owners']),\n",
       "                                                 ('unorder_cate',\n",
       "                                                  Pipeline(steps=[('impute2',\n",
       "                                                                   SimpleImputer(strategy='most_frequent')),\n",
       "                                                                  ('ohe',\n",
       "                                                                   OneHotEncoder()),\n",
       "                                                                  ('todense',\n",
       "                                                                   Sparse2DenseTransformer()),\n",
       "                                                                  ('scale2',\n",
       "                                                                   StandardScaler())]),\n",
       "                                                  ['make', 'model',\n",
       "                                                   'fuel type'])]))])</pre></div></div></div><div class=\"sk-serial\"><div class=\"sk-item\"><div class=\"sk-estimator sk-toggleable\"><input class=\"sk-toggleable__control sk-hidden--visually\" id=\"b5876c43-e6e2-4a0f-951f-a422141097a6\" type=\"checkbox\" ><label class=\"sk-toggleable__label\" for=\"b5876c43-e6e2-4a0f-951f-a422141097a6\">ColAdderDropper</label><div class=\"sk-toggleable__content\"><pre>ColAdderDropper()</pre></div></div></div><div class=\"sk-item\"><div class=\"sk-estimator sk-toggleable\"><input class=\"sk-toggleable__control sk-hidden--visually\" id=\"c7581510-206b-4f36-839d-883b722d55c3\" type=\"checkbox\" ><label class=\"sk-toggleable__label\" for=\"c7581510-206b-4f36-839d-883b722d55c3\">FixOwnerVal</label><div class=\"sk-toggleable__content\"><pre>FixOwnerVal()</pre></div></div></div><div class=\"sk-item sk-dashed-wrapped\"><div class=\"sk-label-container\"><div class=\"sk-label sk-toggleable\"><input class=\"sk-toggleable__control sk-hidden--visually\" id=\"525dccb9-d008-40db-bfd1-537602d8e520\" type=\"checkbox\" ><label class=\"sk-toggleable__label\" for=\"525dccb9-d008-40db-bfd1-537602d8e520\">preprocess: ColumnTransformer</label><div class=\"sk-toggleable__content\"><pre>ColumnTransformer(transformers=[('nume',\n",
       "                                 Pipeline(steps=[('impute1',\n",
       "                                                  SimpleImputer(strategy='median')),\n",
       "                                                 ('scale1', StandardScaler())]),\n",
       "                                 ['year', 'mileage', 'engine',\n",
       "                                  'number of owners']),\n",
       "                                ('unorder_cate',\n",
       "                                 Pipeline(steps=[('impute2',\n",
       "                                                  SimpleImputer(strategy='most_frequent')),\n",
       "                                                 ('ohe', OneHotEncoder()),\n",
       "                                                 ('todense',\n",
       "                                                  Sparse2DenseTransformer()),\n",
       "                                                 ('scale2', StandardScaler())]),\n",
       "                                 ['make', 'model', 'fuel type'])])</pre></div></div></div><div class=\"sk-parallel\"><div class=\"sk-parallel-item\"><div class=\"sk-item\"><div class=\"sk-label-container\"><div class=\"sk-label sk-toggleable\"><input class=\"sk-toggleable__control sk-hidden--visually\" id=\"9d02bbf6-f209-4328-893e-1864666504cf\" type=\"checkbox\" ><label class=\"sk-toggleable__label\" for=\"9d02bbf6-f209-4328-893e-1864666504cf\">nume</label><div class=\"sk-toggleable__content\"><pre>['year', 'mileage', 'engine', 'number of owners']</pre></div></div></div><div class=\"sk-serial\"><div class=\"sk-item\"><div class=\"sk-serial\"><div class=\"sk-item\"><div class=\"sk-estimator sk-toggleable\"><input class=\"sk-toggleable__control sk-hidden--visually\" id=\"ac39f45c-df3f-470d-97c4-912efafa2b46\" type=\"checkbox\" ><label class=\"sk-toggleable__label\" for=\"ac39f45c-df3f-470d-97c4-912efafa2b46\">SimpleImputer</label><div class=\"sk-toggleable__content\"><pre>SimpleImputer(strategy='median')</pre></div></div></div><div class=\"sk-item\"><div class=\"sk-estimator sk-toggleable\"><input class=\"sk-toggleable__control sk-hidden--visually\" id=\"182ff9da-9c75-4da7-b9be-254fb7884f54\" type=\"checkbox\" ><label class=\"sk-toggleable__label\" for=\"182ff9da-9c75-4da7-b9be-254fb7884f54\">StandardScaler</label><div class=\"sk-toggleable__content\"><pre>StandardScaler()</pre></div></div></div></div></div></div></div></div><div class=\"sk-parallel-item\"><div class=\"sk-item\"><div class=\"sk-label-container\"><div class=\"sk-label sk-toggleable\"><input class=\"sk-toggleable__control sk-hidden--visually\" id=\"348a34d4-dd28-4c2e-afc3-80c67aa30aec\" type=\"checkbox\" ><label class=\"sk-toggleable__label\" for=\"348a34d4-dd28-4c2e-afc3-80c67aa30aec\">unorder_cate</label><div class=\"sk-toggleable__content\"><pre>['make', 'model', 'fuel type']</pre></div></div></div><div class=\"sk-serial\"><div class=\"sk-item\"><div class=\"sk-serial\"><div class=\"sk-item\"><div class=\"sk-estimator sk-toggleable\"><input class=\"sk-toggleable__control sk-hidden--visually\" id=\"58acd384-b03c-4761-9ebd-51e802666c0b\" type=\"checkbox\" ><label class=\"sk-toggleable__label\" for=\"58acd384-b03c-4761-9ebd-51e802666c0b\">SimpleImputer</label><div class=\"sk-toggleable__content\"><pre>SimpleImputer(strategy='most_frequent')</pre></div></div></div><div class=\"sk-item\"><div class=\"sk-estimator sk-toggleable\"><input class=\"sk-toggleable__control sk-hidden--visually\" id=\"18001007-306b-4be9-9747-91028fb815f6\" type=\"checkbox\" ><label class=\"sk-toggleable__label\" for=\"18001007-306b-4be9-9747-91028fb815f6\">OneHotEncoder</label><div class=\"sk-toggleable__content\"><pre>OneHotEncoder()</pre></div></div></div><div class=\"sk-item\"><div class=\"sk-estimator sk-toggleable\"><input class=\"sk-toggleable__control sk-hidden--visually\" id=\"b64aca7f-8852-476e-a357-190fd142b55b\" type=\"checkbox\" ><label class=\"sk-toggleable__label\" for=\"b64aca7f-8852-476e-a357-190fd142b55b\">Sparse2DenseTransformer</label><div class=\"sk-toggleable__content\"><pre>Sparse2DenseTransformer()</pre></div></div></div><div class=\"sk-item\"><div class=\"sk-estimator sk-toggleable\"><input class=\"sk-toggleable__control sk-hidden--visually\" id=\"8e659f63-a6f7-4995-a823-25023d8d3522\" type=\"checkbox\" ><label class=\"sk-toggleable__label\" for=\"8e659f63-a6f7-4995-a823-25023d8d3522\">StandardScaler</label><div class=\"sk-toggleable__content\"><pre>StandardScaler()</pre></div></div></div></div></div></div></div></div></div></div></div></div></div></div>"
      ],
      "text/plain": [
       "Pipeline(steps=[('add_drop', ColAdderDropper()), ('fix_owner', FixOwnerVal()),\n",
       "                ('preprocess',\n",
       "                 ColumnTransformer(transformers=[('nume',\n",
       "                                                  Pipeline(steps=[('impute1',\n",
       "                                                                   SimpleImputer(strategy='median')),\n",
       "                                                                  ('scale1',\n",
       "                                                                   StandardScaler())]),\n",
       "                                                  ['year', 'mileage', 'engine',\n",
       "                                                   'number of owners']),\n",
       "                                                 ('unorder_cate',\n",
       "                                                  Pipeline(steps=[('impute2',\n",
       "                                                                   SimpleImputer(strategy='most_frequent')),\n",
       "                                                                  ('ohe',\n",
       "                                                                   OneHotEncoder()),\n",
       "                                                                  ('todense',\n",
       "                                                                   Sparse2DenseTransformer()),\n",
       "                                                                  ('scale2',\n",
       "                                                                   StandardScaler())]),\n",
       "                                                  ['make', 'model',\n",
       "                                                   'fuel type'])]))])"
      ]
     },
     "execution_count": 47,
     "metadata": {},
     "output_type": "execute_result"
    }
   ],
   "source": [
    "preprocess_pipeline"
   ]
  },
  {
   "cell_type": "markdown",
   "metadata": {
    "id": "FqFEkJGRpr2E"
   },
   "source": [
    "# Tiền xử lý tập validation"
   ]
  },
  {
   "cell_type": "markdown",
   "metadata": {
    "id": "pqzOIqE5pr2E"
   },
   "source": [
    "Một khi đã có `preprocess_pipeline` với các giá trị (`n_top_fuels_`, `n_top_models_`, median, mode, ...) đã được tính từ tập huấn luyện, ta có thể dễ dàng dùng phương thức `transform` để tiền xử lý cho các véc-tơ input mới trong tập validation và tập kiểm tra. Dưới đây, ta sẽ làm như vậy để tiền xử lý cho `val_X_df` và lưu kết quả vào `preprocessed_val_X`."
   ]
  },
  {
   "cell_type": "code",
   "execution_count": 48,
   "metadata": {
    "id": "l4foSoCHpr2E"
   },
   "outputs": [],
   "source": [
    "preprocessed_val_X = preprocess_pipeline.transform(val_X_df)\n",
    "#preprocessed_val_X"
   ]
  },
  {
   "cell_type": "markdown",
   "metadata": {
    "id": "FZkIDJ6Spr2E"
   },
   "source": [
    "# Tiền xử lý  + mô hình hóa"
   ]
  },
  {
   "cell_type": "markdown",
   "metadata": {},
   "source": [
    "Công thức tính độ đo r^2"
   ]
  },
  {
   "cell_type": "markdown",
   "metadata": {},
   "source": [
    "MLPRegressor có phương thức score để tính độ đo r^2 trên một tập dữ liệu\n",
    "\n",
    "Dùng phương thức này trên tập huấn luyện thì OK, nhưng nếu dùng cho tập test (dữ liệu ngoài tập huấn luyện) thì sẽ ra kết quả sai, vì phương thức này sẽ dùng giá trị dự đoán của mô hình baseline là giá trị y trung bình trên tập test(ta muốn giá trị dự đoán của mô hình baseline vẫn là giá trị y trung bình trên tập huấn luyện)"
   ]
  },
  {
   "cell_type": "code",
   "execution_count": 49,
   "metadata": {},
   "outputs": [],
   "source": [
    "# Tính độ đo r^2\n",
    "\n",
    "# mean squared error\n",
    "def compute_mse(y, preds):\n",
    "    return ((y - preds) ** 2).mean()\n",
    "\n",
    "# tính độ chính xác của các dự đoán\n",
    "def compute_rr(y, preds, baseline_preds):\n",
    "    return 1 - compute_mse(y, preds) / compute_mse(y, baseline_preds)"
   ]
  },
  {
   "cell_type": "markdown",
   "metadata": {},
   "source": [
    "Ta sẽ thử nghiệm với 2 mô hình:\n",
    "- Neural Network (MLPRegressor)\n",
    "- Linear Regression"
   ]
  },
  {
   "cell_type": "markdown",
   "metadata": {},
   "source": [
    "## Thử nghiệm với mô hình Neural Network (MLPRegressor)\n",
    "Ta sẽ thử nghiệm:\n",
    "\n",
    "- Siêu tham số alpha (mức độ L2 regularization hay weight decay) của MLPRegressor với 5 giá trị khác nhau: 0.1, 1, 10, 100, 1000.\n",
    "- Siêu tham số n_top_models của ColAdderDropper (ở bước tiền xử lý) với 3 giá trị khác nhau: 16,18,20\n",
    "\n",
    "Tổng cộng ta sẽ thử nghiệm $5\\times3 = 15$ mô hình khác nhau (thời gian training ~ 5 phút)"
   ]
  },
  {
   "cell_type": "code",
   "execution_count": 50,
   "metadata": {
    "id": "inlLEe7Ypr2F"
   },
   "outputs": [],
   "source": [
    "# Tạo full pipeline\n",
    "nume_cols = ['year', 'mileage', 'engine', 'number of owners']\n",
    "unorder_cate_cols = ['make', 'model', 'fuel type']\n",
    "\n",
    "\n",
    "neural_net = MLPRegressor(hidden_layer_sizes=(20),\n",
    "                           activation='relu', \n",
    "                           solver='adam', \n",
    "                           random_state=0, \n",
    "                           max_iter=2500)\n",
    "full_pipeline = Pipeline([\n",
    "    ('preprocessing', preprocess_pipeline),\n",
    "    ('neural_net', neural_net),\n",
    "])\n",
    "\n",
    "# Thử nghiệm với các giá trị khác nhau của các siêu tham số\n",
    "# và chọn ra các giá trị tốt nhất\n",
    "train_errs = []\n",
    "val_errs = []\n",
    "alphas = [0.1, 1, 10, 100, 1000]\n",
    "n_top_models_s = [16, 18, 20]\n",
    "\n",
    "best_val_err = float('inf')\n",
    "best_alpha = None\n",
    "best_n_top_models = None\n",
    "\n",
    "baseline_preds = train_y_sr.mean()\n",
    "\n",
    "for alpha in alphas:\n",
    "    for n_top_models in n_top_models_s:\n",
    "        full_pipeline.set_params(preprocessing__add_drop__n_top_models=n_top_models,\n",
    "                                 neural_net__alpha=alpha)\n",
    "        \n",
    "        full_pipeline.fit(train_X_df, train_y_sr)\n",
    "        train_error = (1 - full_pipeline.score(train_X_df, train_y_sr)) * 100\n",
    "        train_errs.append(train_error)\n",
    "\n",
    "        val_error = (1 - compute_rr(val_y_sr, full_pipeline.predict(val_X_df), baseline_preds))*100\n",
    "        val_errs.append(val_error)\n",
    "\n",
    "        if (val_error < best_val_err):\n",
    "            best_val_err = val_error\n",
    "            best_alpha = alpha\n",
    "            best_n_top_models = n_top_models"
   ]
  },
  {
   "cell_type": "code",
   "execution_count": 51,
   "metadata": {
    "id": "KnrhOgXrpr2F"
   },
   "outputs": [
    {
     "data": {
      "text/html": [
       "<style>div.sk-top-container {color: black;background-color: white;}div.sk-toggleable {background-color: white;}label.sk-toggleable__label {cursor: pointer;display: block;width: 100%;margin-bottom: 0;padding: 0.2em 0.3em;box-sizing: border-box;text-align: center;}div.sk-toggleable__content {max-height: 0;max-width: 0;overflow: hidden;text-align: left;background-color: #f0f8ff;}div.sk-toggleable__content pre {margin: 0.2em;color: black;border-radius: 0.25em;background-color: #f0f8ff;}input.sk-toggleable__control:checked~div.sk-toggleable__content {max-height: 200px;max-width: 100%;overflow: auto;}div.sk-estimator input.sk-toggleable__control:checked~label.sk-toggleable__label {background-color: #d4ebff;}div.sk-label input.sk-toggleable__control:checked~label.sk-toggleable__label {background-color: #d4ebff;}input.sk-hidden--visually {border: 0;clip: rect(1px 1px 1px 1px);clip: rect(1px, 1px, 1px, 1px);height: 1px;margin: -1px;overflow: hidden;padding: 0;position: absolute;width: 1px;}div.sk-estimator {font-family: monospace;background-color: #f0f8ff;margin: 0.25em 0.25em;border: 1px dotted black;border-radius: 0.25em;box-sizing: border-box;}div.sk-estimator:hover {background-color: #d4ebff;}div.sk-parallel-item::after {content: \"\";width: 100%;border-bottom: 1px solid gray;flex-grow: 1;}div.sk-label:hover label.sk-toggleable__label {background-color: #d4ebff;}div.sk-serial::before {content: \"\";position: absolute;border-left: 1px solid gray;box-sizing: border-box;top: 2em;bottom: 0;left: 50%;}div.sk-serial {display: flex;flex-direction: column;align-items: center;background-color: white;}div.sk-item {z-index: 1;}div.sk-parallel {display: flex;align-items: stretch;justify-content: center;background-color: white;}div.sk-parallel-item {display: flex;flex-direction: column;position: relative;background-color: white;}div.sk-parallel-item:first-child::after {align-self: flex-end;width: 50%;}div.sk-parallel-item:last-child::after {align-self: flex-start;width: 50%;}div.sk-parallel-item:only-child::after {width: 0;}div.sk-dashed-wrapped {border: 1px dashed gray;margin: 0.2em;box-sizing: border-box;padding-bottom: 0.1em;background-color: white;position: relative;}div.sk-label label {font-family: monospace;font-weight: bold;background-color: white;display: inline-block;line-height: 1.2em;}div.sk-label-container {position: relative;z-index: 2;text-align: center;}div.sk-container {display: inline-block;position: relative;}</style><div class=\"sk-top-container\"><div class=\"sk-container\"><div class=\"sk-item sk-dashed-wrapped\"><div class=\"sk-label-container\"><div class=\"sk-label sk-toggleable\"><input class=\"sk-toggleable__control sk-hidden--visually\" id=\"63729bc7-00cb-4769-9d9c-839acaf35bbc\" type=\"checkbox\" ><label class=\"sk-toggleable__label\" for=\"63729bc7-00cb-4769-9d9c-839acaf35bbc\">Pipeline</label><div class=\"sk-toggleable__content\"><pre>Pipeline(steps=[('preprocessing',\n",
       "                 Pipeline(steps=[('add_drop', ColAdderDropper(n_top_models=20)),\n",
       "                                 ('fix_owner', FixOwnerVal()),\n",
       "                                 ('preprocess',\n",
       "                                  ColumnTransformer(transformers=[('nume',\n",
       "                                                                   Pipeline(steps=[('impute1',\n",
       "                                                                                    SimpleImputer(strategy='median')),\n",
       "                                                                                   ('scale1',\n",
       "                                                                                    StandardScaler())]),\n",
       "                                                                   ['year',\n",
       "                                                                    'mileage',\n",
       "                                                                    'engine',\n",
       "                                                                    'number of '\n",
       "                                                                    'owners']),\n",
       "                                                                  ('unorder_cate',\n",
       "                                                                   Pipeline(steps=[('impute2',\n",
       "                                                                                    SimpleImputer(strategy='most_frequent')),\n",
       "                                                                                   ('ohe',\n",
       "                                                                                    OneHotEncoder()),\n",
       "                                                                                   ('todense',\n",
       "                                                                                    Sparse2DenseTransformer()),\n",
       "                                                                                   ('scale2',\n",
       "                                                                                    StandardScaler())]),\n",
       "                                                                   ['make',\n",
       "                                                                    'model',\n",
       "                                                                    'fuel '\n",
       "                                                                    'type'])]))])),\n",
       "                ('neural_net',\n",
       "                 MLPRegressor(alpha=1000, hidden_layer_sizes=20, max_iter=2500,\n",
       "                              random_state=0))])</pre></div></div></div><div class=\"sk-serial\"><div class=\"sk-item\"><div class=\"sk-label-container\"><div class=\"sk-label sk-toggleable\"><input class=\"sk-toggleable__control sk-hidden--visually\" id=\"6675513f-4e75-409c-a5e1-eb20835707a8\" type=\"checkbox\" ><label class=\"sk-toggleable__label\" for=\"6675513f-4e75-409c-a5e1-eb20835707a8\">preprocessing: Pipeline</label><div class=\"sk-toggleable__content\"><pre>Pipeline(steps=[('add_drop', ColAdderDropper(n_top_models=20)),\n",
       "                ('fix_owner', FixOwnerVal()),\n",
       "                ('preprocess',\n",
       "                 ColumnTransformer(transformers=[('nume',\n",
       "                                                  Pipeline(steps=[('impute1',\n",
       "                                                                   SimpleImputer(strategy='median')),\n",
       "                                                                  ('scale1',\n",
       "                                                                   StandardScaler())]),\n",
       "                                                  ['year', 'mileage', 'engine',\n",
       "                                                   'number of owners']),\n",
       "                                                 ('unorder_cate',\n",
       "                                                  Pipeline(steps=[('impute2',\n",
       "                                                                   SimpleImputer(strategy='most_frequent')),\n",
       "                                                                  ('ohe',\n",
       "                                                                   OneHotEncoder()),\n",
       "                                                                  ('todense',\n",
       "                                                                   Sparse2DenseTransformer()),\n",
       "                                                                  ('scale2',\n",
       "                                                                   StandardScaler())]),\n",
       "                                                  ['make', 'model',\n",
       "                                                   'fuel type'])]))])</pre></div></div></div><div class=\"sk-serial\"><div class=\"sk-item\"><div class=\"sk-estimator sk-toggleable\"><input class=\"sk-toggleable__control sk-hidden--visually\" id=\"636bfa66-75fc-4757-8d35-a15010750755\" type=\"checkbox\" ><label class=\"sk-toggleable__label\" for=\"636bfa66-75fc-4757-8d35-a15010750755\">ColAdderDropper</label><div class=\"sk-toggleable__content\"><pre>ColAdderDropper(n_top_models=20)</pre></div></div></div><div class=\"sk-item\"><div class=\"sk-estimator sk-toggleable\"><input class=\"sk-toggleable__control sk-hidden--visually\" id=\"d51658da-5db2-415a-a14c-0696e7f66082\" type=\"checkbox\" ><label class=\"sk-toggleable__label\" for=\"d51658da-5db2-415a-a14c-0696e7f66082\">FixOwnerVal</label><div class=\"sk-toggleable__content\"><pre>FixOwnerVal()</pre></div></div></div><div class=\"sk-item sk-dashed-wrapped\"><div class=\"sk-label-container\"><div class=\"sk-label sk-toggleable\"><input class=\"sk-toggleable__control sk-hidden--visually\" id=\"f35f5554-9f8f-4672-83de-c7579bfe788c\" type=\"checkbox\" ><label class=\"sk-toggleable__label\" for=\"f35f5554-9f8f-4672-83de-c7579bfe788c\">preprocess: ColumnTransformer</label><div class=\"sk-toggleable__content\"><pre>ColumnTransformer(transformers=[('nume',\n",
       "                                 Pipeline(steps=[('impute1',\n",
       "                                                  SimpleImputer(strategy='median')),\n",
       "                                                 ('scale1', StandardScaler())]),\n",
       "                                 ['year', 'mileage', 'engine',\n",
       "                                  'number of owners']),\n",
       "                                ('unorder_cate',\n",
       "                                 Pipeline(steps=[('impute2',\n",
       "                                                  SimpleImputer(strategy='most_frequent')),\n",
       "                                                 ('ohe', OneHotEncoder()),\n",
       "                                                 ('todense',\n",
       "                                                  Sparse2DenseTransformer()),\n",
       "                                                 ('scale2', StandardScaler())]),\n",
       "                                 ['make', 'model', 'fuel type'])])</pre></div></div></div><div class=\"sk-parallel\"><div class=\"sk-parallel-item\"><div class=\"sk-item\"><div class=\"sk-label-container\"><div class=\"sk-label sk-toggleable\"><input class=\"sk-toggleable__control sk-hidden--visually\" id=\"155873d9-429e-471e-b4a8-6a2d80f20868\" type=\"checkbox\" ><label class=\"sk-toggleable__label\" for=\"155873d9-429e-471e-b4a8-6a2d80f20868\">nume</label><div class=\"sk-toggleable__content\"><pre>['year', 'mileage', 'engine', 'number of owners']</pre></div></div></div><div class=\"sk-serial\"><div class=\"sk-item\"><div class=\"sk-serial\"><div class=\"sk-item\"><div class=\"sk-estimator sk-toggleable\"><input class=\"sk-toggleable__control sk-hidden--visually\" id=\"a957d5e1-9c6a-4ceb-b08f-6493f25f1d54\" type=\"checkbox\" ><label class=\"sk-toggleable__label\" for=\"a957d5e1-9c6a-4ceb-b08f-6493f25f1d54\">SimpleImputer</label><div class=\"sk-toggleable__content\"><pre>SimpleImputer(strategy='median')</pre></div></div></div><div class=\"sk-item\"><div class=\"sk-estimator sk-toggleable\"><input class=\"sk-toggleable__control sk-hidden--visually\" id=\"3bb4ed00-5ea4-43e1-90b5-936ad60c8ff3\" type=\"checkbox\" ><label class=\"sk-toggleable__label\" for=\"3bb4ed00-5ea4-43e1-90b5-936ad60c8ff3\">StandardScaler</label><div class=\"sk-toggleable__content\"><pre>StandardScaler()</pre></div></div></div></div></div></div></div></div><div class=\"sk-parallel-item\"><div class=\"sk-item\"><div class=\"sk-label-container\"><div class=\"sk-label sk-toggleable\"><input class=\"sk-toggleable__control sk-hidden--visually\" id=\"d3d92ccb-eb0d-46a3-a38e-279249108329\" type=\"checkbox\" ><label class=\"sk-toggleable__label\" for=\"d3d92ccb-eb0d-46a3-a38e-279249108329\">unorder_cate</label><div class=\"sk-toggleable__content\"><pre>['make', 'model', 'fuel type']</pre></div></div></div><div class=\"sk-serial\"><div class=\"sk-item\"><div class=\"sk-serial\"><div class=\"sk-item\"><div class=\"sk-estimator sk-toggleable\"><input class=\"sk-toggleable__control sk-hidden--visually\" id=\"14501a84-353a-42bf-ac63-d0cdbc92ff8b\" type=\"checkbox\" ><label class=\"sk-toggleable__label\" for=\"14501a84-353a-42bf-ac63-d0cdbc92ff8b\">SimpleImputer</label><div class=\"sk-toggleable__content\"><pre>SimpleImputer(strategy='most_frequent')</pre></div></div></div><div class=\"sk-item\"><div class=\"sk-estimator sk-toggleable\"><input class=\"sk-toggleable__control sk-hidden--visually\" id=\"d83ce7db-6b00-460c-a038-32be912ca113\" type=\"checkbox\" ><label class=\"sk-toggleable__label\" for=\"d83ce7db-6b00-460c-a038-32be912ca113\">OneHotEncoder</label><div class=\"sk-toggleable__content\"><pre>OneHotEncoder()</pre></div></div></div><div class=\"sk-item\"><div class=\"sk-estimator sk-toggleable\"><input class=\"sk-toggleable__control sk-hidden--visually\" id=\"43ac15d2-4059-4fa8-8173-824712c06069\" type=\"checkbox\" ><label class=\"sk-toggleable__label\" for=\"43ac15d2-4059-4fa8-8173-824712c06069\">Sparse2DenseTransformer</label><div class=\"sk-toggleable__content\"><pre>Sparse2DenseTransformer()</pre></div></div></div><div class=\"sk-item\"><div class=\"sk-estimator sk-toggleable\"><input class=\"sk-toggleable__control sk-hidden--visually\" id=\"039f6c26-04f8-49be-a04b-dfc4cf270d53\" type=\"checkbox\" ><label class=\"sk-toggleable__label\" for=\"039f6c26-04f8-49be-a04b-dfc4cf270d53\">StandardScaler</label><div class=\"sk-toggleable__content\"><pre>StandardScaler()</pre></div></div></div></div></div></div></div></div></div></div></div></div><div class=\"sk-item\"><div class=\"sk-estimator sk-toggleable\"><input class=\"sk-toggleable__control sk-hidden--visually\" id=\"ed683c94-5669-4f04-b186-ee05e5052f3b\" type=\"checkbox\" ><label class=\"sk-toggleable__label\" for=\"ed683c94-5669-4f04-b186-ee05e5052f3b\">MLPRegressor</label><div class=\"sk-toggleable__content\"><pre>MLPRegressor(alpha=1000, hidden_layer_sizes=20, max_iter=2500, random_state=0)</pre></div></div></div></div></div></div></div>"
      ],
      "text/plain": [
       "Pipeline(steps=[('preprocessing',\n",
       "                 Pipeline(steps=[('add_drop', ColAdderDropper(n_top_models=20)),\n",
       "                                 ('fix_owner', FixOwnerVal()),\n",
       "                                 ('preprocess',\n",
       "                                  ColumnTransformer(transformers=[('nume',\n",
       "                                                                   Pipeline(steps=[('impute1',\n",
       "                                                                                    SimpleImputer(strategy='median')),\n",
       "                                                                                   ('scale1',\n",
       "                                                                                    StandardScaler())]),\n",
       "                                                                   ['year',\n",
       "                                                                    'mileage',\n",
       "                                                                    'engine',\n",
       "                                                                    'number of '\n",
       "                                                                    'owners']),\n",
       "                                                                  ('unorder_cate',\n",
       "                                                                   Pipeline(steps=[('impute2',\n",
       "                                                                                    SimpleImputer(strategy='most_frequent')),\n",
       "                                                                                   ('ohe',\n",
       "                                                                                    OneHotEncoder()),\n",
       "                                                                                   ('todense',\n",
       "                                                                                    Sparse2DenseTransformer()),\n",
       "                                                                                   ('scale2',\n",
       "                                                                                    StandardScaler())]),\n",
       "                                                                   ['make',\n",
       "                                                                    'model',\n",
       "                                                                    'fuel '\n",
       "                                                                    'type'])]))])),\n",
       "                ('neural_net',\n",
       "                 MLPRegressor(alpha=1000, hidden_layer_sizes=20, max_iter=2500,\n",
       "                              random_state=0))])"
      ]
     },
     "execution_count": 51,
     "metadata": {},
     "output_type": "execute_result"
    }
   ],
   "source": [
    "#Test\n",
    "full_pipeline"
   ]
  },
  {
   "cell_type": "code",
   "execution_count": 52,
   "metadata": {
    "id": "9hYN0Z3zpr2F"
   },
   "outputs": [
    {
     "name": "stdout",
     "output_type": "stream",
     "text": [
      "Best val error: 17.318830936230324\n",
      "Best alpha: 100\n",
      "Best n_top_models: 18\n"
     ]
    }
   ],
   "source": [
    "print('Best val error:', best_val_err)\n",
    "print('Best alpha:', best_alpha)\n",
    "print('Best n_top_models:', best_n_top_models)"
   ]
  },
  {
   "cell_type": "code",
   "execution_count": 53,
   "metadata": {},
   "outputs": [
    {
     "data": {
      "image/png": "[encoded data removed]",
      "text/plain": [
       "<Figure size 720x360 with 2 Axes>"
      ]
     },
     "metadata": {
      "needs_background": "light"
     },
     "output_type": "display_data"
    }
   ],
   "source": [
    "# Trực quan hóa kết quả\n",
    "train_errs_df = pd.DataFrame(data=np.array(train_errs).reshape(len(alphas), -1),\n",
    "                             index=alphas, columns=n_top_models_s)\n",
    "val_errs_df = pd.DataFrame(data=np.array(val_errs).reshape(len(alphas), -1), \n",
    "                           index=alphas, columns=n_top_models_s)\n",
    "min_err = min(min(train_errs), min(val_errs))\n",
    "max_err = max(max(train_errs), max(val_errs))\n",
    "plt.figure(figsize=(10, 5))\n",
    "plt.subplot(1, 2, 1)\n",
    "sns.heatmap(train_errs_df, vmin=min_err, vmax=max_err, square=True, annot=True, \n",
    "            cbar=False, fmt='.1f', cmap='Reds')\n",
    "plt.title('train errors'); plt.xlabel('n_top_models_s'); plt.ylabel('alpha')\n",
    "plt.subplot(1, 2, 2)\n",
    "sns.heatmap(val_errs_df, vmin=min_err, vmax=max_err, square=True, annot=True, \n",
    "            cbar=False, fmt='.1f', cmap='Reds')\n",
    "plt.title('validation errors'); plt.xlabel('n_top_models_s'); plt.ylabel('alpha');"
   ]
  },
  {
   "cell_type": "markdown",
   "metadata": {
    "id": "FekIoix3pr2F"
   },
   "source": [
    "### Tạo mô hình tốt nhất dựa trên các tham số tìm được"
   ]
  },
  {
   "cell_type": "markdown",
   "metadata": {},
   "source": [
    "Cuối cùng, ta sẽ huấn luyện lại full_pipeline trên X_df và y_sr (tập huấn luyện + tập validation) với best_alpha và best_n_top_models tìm được ở trên để ra được mô hình cụ thể cuối cùng."
   ]
  },
  {
   "cell_type": "code",
   "execution_count": 54,
   "metadata": {
    "id": "82Qbdophpr2G"
   },
   "outputs": [
    {
     "data": {
      "text/html": [
       "<style>div.sk-top-container {color: black;background-color: white;}div.sk-toggleable {background-color: white;}label.sk-toggleable__label {cursor: pointer;display: block;width: 100%;margin-bottom: 0;padding: 0.2em 0.3em;box-sizing: border-box;text-align: center;}div.sk-toggleable__content {max-height: 0;max-width: 0;overflow: hidden;text-align: left;background-color: #f0f8ff;}div.sk-toggleable__content pre {margin: 0.2em;color: black;border-radius: 0.25em;background-color: #f0f8ff;}input.sk-toggleable__control:checked~div.sk-toggleable__content {max-height: 200px;max-width: 100%;overflow: auto;}div.sk-estimator input.sk-toggleable__control:checked~label.sk-toggleable__label {background-color: #d4ebff;}div.sk-label input.sk-toggleable__control:checked~label.sk-toggleable__label {background-color: #d4ebff;}input.sk-hidden--visually {border: 0;clip: rect(1px 1px 1px 1px);clip: rect(1px, 1px, 1px, 1px);height: 1px;margin: -1px;overflow: hidden;padding: 0;position: absolute;width: 1px;}div.sk-estimator {font-family: monospace;background-color: #f0f8ff;margin: 0.25em 0.25em;border: 1px dotted black;border-radius: 0.25em;box-sizing: border-box;}div.sk-estimator:hover {background-color: #d4ebff;}div.sk-parallel-item::after {content: \"\";width: 100%;border-bottom: 1px solid gray;flex-grow: 1;}div.sk-label:hover label.sk-toggleable__label {background-color: #d4ebff;}div.sk-serial::before {content: \"\";position: absolute;border-left: 1px solid gray;box-sizing: border-box;top: 2em;bottom: 0;left: 50%;}div.sk-serial {display: flex;flex-direction: column;align-items: center;background-color: white;}div.sk-item {z-index: 1;}div.sk-parallel {display: flex;align-items: stretch;justify-content: center;background-color: white;}div.sk-parallel-item {display: flex;flex-direction: column;position: relative;background-color: white;}div.sk-parallel-item:first-child::after {align-self: flex-end;width: 50%;}div.sk-parallel-item:last-child::after {align-self: flex-start;width: 50%;}div.sk-parallel-item:only-child::after {width: 0;}div.sk-dashed-wrapped {border: 1px dashed gray;margin: 0.2em;box-sizing: border-box;padding-bottom: 0.1em;background-color: white;position: relative;}div.sk-label label {font-family: monospace;font-weight: bold;background-color: white;display: inline-block;line-height: 1.2em;}div.sk-label-container {position: relative;z-index: 2;text-align: center;}div.sk-container {display: inline-block;position: relative;}</style><div class=\"sk-top-container\"><div class=\"sk-container\"><div class=\"sk-item sk-dashed-wrapped\"><div class=\"sk-label-container\"><div class=\"sk-label sk-toggleable\"><input class=\"sk-toggleable__control sk-hidden--visually\" id=\"c3e13694-f73f-460a-aee3-f564008293cf\" type=\"checkbox\" ><label class=\"sk-toggleable__label\" for=\"c3e13694-f73f-460a-aee3-f564008293cf\">Pipeline</label><div class=\"sk-toggleable__content\"><pre>Pipeline(steps=[('preprocessing',\n",
       "                 Pipeline(steps=[('add_drop', ColAdderDropper(n_top_models=18)),\n",
       "                                 ('fix_owner', FixOwnerVal()),\n",
       "                                 ('preprocess',\n",
       "                                  ColumnTransformer(transformers=[('nume',\n",
       "                                                                   Pipeline(steps=[('impute1',\n",
       "                                                                                    SimpleImputer(strategy='median')),\n",
       "                                                                                   ('scale1',\n",
       "                                                                                    StandardScaler())]),\n",
       "                                                                   ['year',\n",
       "                                                                    'mileage',\n",
       "                                                                    'engine',\n",
       "                                                                    'number of '\n",
       "                                                                    'owners']),\n",
       "                                                                  ('unorder_cate',\n",
       "                                                                   Pipeline(steps=[('impute2',\n",
       "                                                                                    SimpleImputer(strategy='most_frequent')),\n",
       "                                                                                   ('ohe',\n",
       "                                                                                    OneHotEncoder()),\n",
       "                                                                                   ('todense',\n",
       "                                                                                    Sparse2DenseTransformer()),\n",
       "                                                                                   ('scale2',\n",
       "                                                                                    StandardScaler())]),\n",
       "                                                                   ['make',\n",
       "                                                                    'model',\n",
       "                                                                    'fuel '\n",
       "                                                                    'type'])]))])),\n",
       "                ('neural_net',\n",
       "                 MLPRegressor(alpha=100, hidden_layer_sizes=20, max_iter=2500,\n",
       "                              random_state=0))])</pre></div></div></div><div class=\"sk-serial\"><div class=\"sk-item\"><div class=\"sk-label-container\"><div class=\"sk-label sk-toggleable\"><input class=\"sk-toggleable__control sk-hidden--visually\" id=\"1fa68535-8702-4794-9ede-e2d6ef3f07ee\" type=\"checkbox\" ><label class=\"sk-toggleable__label\" for=\"1fa68535-8702-4794-9ede-e2d6ef3f07ee\">preprocessing: Pipeline</label><div class=\"sk-toggleable__content\"><pre>Pipeline(steps=[('add_drop', ColAdderDropper(n_top_models=18)),\n",
       "                ('fix_owner', FixOwnerVal()),\n",
       "                ('preprocess',\n",
       "                 ColumnTransformer(transformers=[('nume',\n",
       "                                                  Pipeline(steps=[('impute1',\n",
       "                                                                   SimpleImputer(strategy='median')),\n",
       "                                                                  ('scale1',\n",
       "                                                                   StandardScaler())]),\n",
       "                                                  ['year', 'mileage', 'engine',\n",
       "                                                   'number of owners']),\n",
       "                                                 ('unorder_cate',\n",
       "                                                  Pipeline(steps=[('impute2',\n",
       "                                                                   SimpleImputer(strategy='most_frequent')),\n",
       "                                                                  ('ohe',\n",
       "                                                                   OneHotEncoder()),\n",
       "                                                                  ('todense',\n",
       "                                                                   Sparse2DenseTransformer()),\n",
       "                                                                  ('scale2',\n",
       "                                                                   StandardScaler())]),\n",
       "                                                  ['make', 'model',\n",
       "                                                   'fuel type'])]))])</pre></div></div></div><div class=\"sk-serial\"><div class=\"sk-item\"><div class=\"sk-estimator sk-toggleable\"><input class=\"sk-toggleable__control sk-hidden--visually\" id=\"8c9d805f-5a8f-4127-ba78-733bdb3ada8b\" type=\"checkbox\" ><label class=\"sk-toggleable__label\" for=\"8c9d805f-5a8f-4127-ba78-733bdb3ada8b\">ColAdderDropper</label><div class=\"sk-toggleable__content\"><pre>ColAdderDropper(n_top_models=18)</pre></div></div></div><div class=\"sk-item\"><div class=\"sk-estimator sk-toggleable\"><input class=\"sk-toggleable__control sk-hidden--visually\" id=\"0e13f4bb-3072-4152-884a-af770abbbc84\" type=\"checkbox\" ><label class=\"sk-toggleable__label\" for=\"0e13f4bb-3072-4152-884a-af770abbbc84\">FixOwnerVal</label><div class=\"sk-toggleable__content\"><pre>FixOwnerVal()</pre></div></div></div><div class=\"sk-item sk-dashed-wrapped\"><div class=\"sk-label-container\"><div class=\"sk-label sk-toggleable\"><input class=\"sk-toggleable__control sk-hidden--visually\" id=\"fae4c62b-7619-4b43-b1f1-f6004709cb7f\" type=\"checkbox\" ><label class=\"sk-toggleable__label\" for=\"fae4c62b-7619-4b43-b1f1-f6004709cb7f\">preprocess: ColumnTransformer</label><div class=\"sk-toggleable__content\"><pre>ColumnTransformer(transformers=[('nume',\n",
       "                                 Pipeline(steps=[('impute1',\n",
       "                                                  SimpleImputer(strategy='median')),\n",
       "                                                 ('scale1', StandardScaler())]),\n",
       "                                 ['year', 'mileage', 'engine',\n",
       "                                  'number of owners']),\n",
       "                                ('unorder_cate',\n",
       "                                 Pipeline(steps=[('impute2',\n",
       "                                                  SimpleImputer(strategy='most_frequent')),\n",
       "                                                 ('ohe', OneHotEncoder()),\n",
       "                                                 ('todense',\n",
       "                                                  Sparse2DenseTransformer()),\n",
       "                                                 ('scale2', StandardScaler())]),\n",
       "                                 ['make', 'model', 'fuel type'])])</pre></div></div></div><div class=\"sk-parallel\"><div class=\"sk-parallel-item\"><div class=\"sk-item\"><div class=\"sk-label-container\"><div class=\"sk-label sk-toggleable\"><input class=\"sk-toggleable__control sk-hidden--visually\" id=\"31e0b2af-75c9-4fa6-82de-b42cde45e279\" type=\"checkbox\" ><label class=\"sk-toggleable__label\" for=\"31e0b2af-75c9-4fa6-82de-b42cde45e279\">nume</label><div class=\"sk-toggleable__content\"><pre>['year', 'mileage', 'engine', 'number of owners']</pre></div></div></div><div class=\"sk-serial\"><div class=\"sk-item\"><div class=\"sk-serial\"><div class=\"sk-item\"><div class=\"sk-estimator sk-toggleable\"><input class=\"sk-toggleable__control sk-hidden--visually\" id=\"ea6dace6-4abd-412a-92b1-e7904d6b7ebd\" type=\"checkbox\" ><label class=\"sk-toggleable__label\" for=\"ea6dace6-4abd-412a-92b1-e7904d6b7ebd\">SimpleImputer</label><div class=\"sk-toggleable__content\"><pre>SimpleImputer(strategy='median')</pre></div></div></div><div class=\"sk-item\"><div class=\"sk-estimator sk-toggleable\"><input class=\"sk-toggleable__control sk-hidden--visually\" id=\"238c841c-d5a6-4dab-ad59-4153bd92cafc\" type=\"checkbox\" ><label class=\"sk-toggleable__label\" for=\"238c841c-d5a6-4dab-ad59-4153bd92cafc\">StandardScaler</label><div class=\"sk-toggleable__content\"><pre>StandardScaler()</pre></div></div></div></div></div></div></div></div><div class=\"sk-parallel-item\"><div class=\"sk-item\"><div class=\"sk-label-container\"><div class=\"sk-label sk-toggleable\"><input class=\"sk-toggleable__control sk-hidden--visually\" id=\"ca09b98b-a3c3-4390-9b47-6f440c0c7554\" type=\"checkbox\" ><label class=\"sk-toggleable__label\" for=\"ca09b98b-a3c3-4390-9b47-6f440c0c7554\">unorder_cate</label><div class=\"sk-toggleable__content\"><pre>['make', 'model', 'fuel type']</pre></div></div></div><div class=\"sk-serial\"><div class=\"sk-item\"><div class=\"sk-serial\"><div class=\"sk-item\"><div class=\"sk-estimator sk-toggleable\"><input class=\"sk-toggleable__control sk-hidden--visually\" id=\"8a42acb7-4f15-4a37-aab5-5d87bb718dc7\" type=\"checkbox\" ><label class=\"sk-toggleable__label\" for=\"8a42acb7-4f15-4a37-aab5-5d87bb718dc7\">SimpleImputer</label><div class=\"sk-toggleable__content\"><pre>SimpleImputer(strategy='most_frequent')</pre></div></div></div><div class=\"sk-item\"><div class=\"sk-estimator sk-toggleable\"><input class=\"sk-toggleable__control sk-hidden--visually\" id=\"0c96f00d-711d-4376-a833-9ef735623be7\" type=\"checkbox\" ><label class=\"sk-toggleable__label\" for=\"0c96f00d-711d-4376-a833-9ef735623be7\">OneHotEncoder</label><div class=\"sk-toggleable__content\"><pre>OneHotEncoder()</pre></div></div></div><div class=\"sk-item\"><div class=\"sk-estimator sk-toggleable\"><input class=\"sk-toggleable__control sk-hidden--visually\" id=\"797e1b1a-35f5-498a-bbcd-577348fbd8f2\" type=\"checkbox\" ><label class=\"sk-toggleable__label\" for=\"797e1b1a-35f5-498a-bbcd-577348fbd8f2\">Sparse2DenseTransformer</label><div class=\"sk-toggleable__content\"><pre>Sparse2DenseTransformer()</pre></div></div></div><div class=\"sk-item\"><div class=\"sk-estimator sk-toggleable\"><input class=\"sk-toggleable__control sk-hidden--visually\" id=\"d7098154-9603-4d6e-8a00-8f92bbf2766b\" type=\"checkbox\" ><label class=\"sk-toggleable__label\" for=\"d7098154-9603-4d6e-8a00-8f92bbf2766b\">StandardScaler</label><div class=\"sk-toggleable__content\"><pre>StandardScaler()</pre></div></div></div></div></div></div></div></div></div></div></div></div><div class=\"sk-item\"><div class=\"sk-estimator sk-toggleable\"><input class=\"sk-toggleable__control sk-hidden--visually\" id=\"21f12032-4fa1-4aa0-8cbf-a468c35e8ab1\" type=\"checkbox\" ><label class=\"sk-toggleable__label\" for=\"21f12032-4fa1-4aa0-8cbf-a468c35e8ab1\">MLPRegressor</label><div class=\"sk-toggleable__content\"><pre>MLPRegressor(alpha=100, hidden_layer_sizes=20, max_iter=2500, random_state=0)</pre></div></div></div></div></div></div></div>"
      ],
      "text/plain": [
       "Pipeline(steps=[('preprocessing',\n",
       "                 Pipeline(steps=[('add_drop', ColAdderDropper(n_top_models=18)),\n",
       "                                 ('fix_owner', FixOwnerVal()),\n",
       "                                 ('preprocess',\n",
       "                                  ColumnTransformer(transformers=[('nume',\n",
       "                                                                   Pipeline(steps=[('impute1',\n",
       "                                                                                    SimpleImputer(strategy='median')),\n",
       "                                                                                   ('scale1',\n",
       "                                                                                    StandardScaler())]),\n",
       "                                                                   ['year',\n",
       "                                                                    'mileage',\n",
       "                                                                    'engine',\n",
       "                                                                    'number of '\n",
       "                                                                    'owners']),\n",
       "                                                                  ('unorder_cate',\n",
       "                                                                   Pipeline(steps=[('impute2',\n",
       "                                                                                    SimpleImputer(strategy='most_frequent')),\n",
       "                                                                                   ('ohe',\n",
       "                                                                                    OneHotEncoder()),\n",
       "                                                                                   ('todense',\n",
       "                                                                                    Sparse2DenseTransformer()),\n",
       "                                                                                   ('scale2',\n",
       "                                                                                    StandardScaler())]),\n",
       "                                                                   ['make',\n",
       "                                                                    'model',\n",
       "                                                                    'fuel '\n",
       "                                                                    'type'])]))])),\n",
       "                ('neural_net',\n",
       "                 MLPRegressor(alpha=100, hidden_layer_sizes=20, max_iter=2500,\n",
       "                              random_state=0))])"
      ]
     },
     "execution_count": 54,
     "metadata": {},
     "output_type": "execute_result"
    }
   ],
   "source": [
    "full_pipeline.set_params(preprocessing__add_drop__n_top_models=best_n_top_models,\n",
    "                         neural_net__alpha=best_alpha)\n",
    "X_df = pd.concat([train_X_df,val_X_df])\n",
    "y_sr = pd.concat([train_y_sr,val_y_sr])\n",
    "full_pipeline.fit(X_df, y_sr)"
   ]
  },
  {
   "cell_type": "markdown",
   "metadata": {
    "id": "JpY5fEfZpr2G"
   },
   "source": [
    "### Đánh giá mô hình tìm được"
   ]
  },
  {
   "cell_type": "code",
   "execution_count": 55,
   "metadata": {},
   "outputs": [
    {
     "data": {
      "text/plain": [
       "85.28598446263757"
      ]
     },
     "execution_count": 55,
     "metadata": {},
     "output_type": "execute_result"
    }
   ],
   "source": [
    "# Tính độ đo r^2 trên tập test\n",
    "baseline_preds = y_sr.mean() \n",
    "(compute_rr(test_y_sr, full_pipeline.predict(test_X_df), baseline_preds))*100"
   ]
  },
  {
   "cell_type": "markdown",
   "metadata": {},
   "source": [
    "Độ chính xác khoảng 85%"
   ]
  },
  {
   "cell_type": "markdown",
   "metadata": {},
   "source": [
    "## Thử nghiệm mô hình LinearRegression"
   ]
  },
  {
   "cell_type": "code",
   "execution_count": 56,
   "metadata": {},
   "outputs": [],
   "source": [
    "from sklearn.linear_model import LinearRegression"
   ]
  },
  {
   "cell_type": "code",
   "execution_count": 57,
   "metadata": {},
   "outputs": [
    {
     "data": {
      "text/plain": [
       "73.6606743344332"
      ]
     },
     "execution_count": 57,
     "metadata": {},
     "output_type": "execute_result"
    }
   ],
   "source": [
    "# Tạo full pipeline\n",
    "nume_cols = ['year', 'mileage', 'engine', 'number of owners']\n",
    "unorder_cate_cols = ['make', 'model', 'fuel type']\n",
    "linear_reg_model = LinearRegression()\n",
    "full_pipeline_1 = Pipeline([\n",
    "    ('preprocessing', preprocess_pipeline),\n",
    "    ('linear_reg_model', linear_reg_model),\n",
    "])\n",
    "X_df = pd.concat([train_X_df,val_X_df])\n",
    "y_sr = pd.concat([train_y_sr,val_y_sr])\n",
    "full_pipeline_1.fit(X_df, y_sr)\n",
    "full_pipeline_1.score(X_df, y_sr)*100"
   ]
  },
  {
   "cell_type": "markdown",
   "metadata": {},
   "source": [
    "### Đánh giá mô hình"
   ]
  },
  {
   "cell_type": "code",
   "execution_count": 58,
   "metadata": {},
   "outputs": [
    {
     "data": {
      "text/plain": [
       "79.08150107175769"
      ]
     },
     "execution_count": 58,
     "metadata": {},
     "output_type": "execute_result"
    }
   ],
   "source": [
    "baseline_preds = y_sr.mean()\n",
    "(compute_rr(test_y_sr, full_pipeline_1.predict(test_X_df), baseline_preds))*100"
   ]
  },
  {
   "cell_type": "markdown",
   "metadata": {},
   "source": [
    "Độ chính xác khoảng 79%"
   ]
  },
  {
   "cell_type": "markdown",
   "metadata": {},
   "source": [
    "## Nhận xét giữa 2 mô hình:\n",
    "\n",
    "- Mô hình Neural Network (MLPRegressor):\n",
    "   + Độ chính xác trên tập test khoảng 85%\n",
    "   + Về mặt thời gian thì mô hình Neural Network train khá lâu, do ta phải tìm ra siêu tham số tốt nhất cho mô hình\n",
    "   \n",
    "   \n",
    "- Mô hình Linear Regression:\n",
    "   + Tuy đây là mô hình khá đơn giản nhưng độ chính xác cũng không quá tệ (khoảng 79%)\n",
    "   + Về mặt thời gian thì rõ ràng nhanh hơn rất nhiều so với mô hình Neural Network"
   ]
  },
  {
   "cell_type": "markdown",
   "metadata": {},
   "source": [
    "# Nhìn lại quá trình làm đồ án:"
   ]
  },
  {
   "cell_type": "markdown",
   "metadata": {},
   "source": [
    "## Những khó khăn đã gặp"
   ]
  },
  {
   "cell_type": "markdown",
   "metadata": {},
   "source": [
    "- Về quá trình thu thập dữ liệu: tốn khá nhiều thời gian, và cấu trúc của các chi tiết của mỗi ô tô cũng không giống nhau nên ban đầu, parse HTML xảy ra nhiều lỗi\n",
    "- Ở bước tiền xử lý dữ liệu: do đây là lần đầu tiên áp dụng kỹ thuật pipeline nên đã xảy ra rất nhiều lỗi kỹ thuật khó khăn trong suốt quá trình làm preprocessing_pipeline"
   ]
  },
  {
   "cell_type": "markdown",
   "metadata": {},
   "source": [
    "## Những kiến thức học được"
   ]
  },
  {
   "cell_type": "markdown",
   "metadata": {},
   "source": [
    "- Học được quy trình Khoa học dữ liệu cơ bản\n",
    "- Học được kỹ thuật dùng pipeline để đơn giản hóa code, và tránh các lỗi sai không mong muốn\n",
    "- Học được kỹ thuật dùng thông tin tập train để biến đổi cho tập valid và tập test, chứ không phải tính trên từng tập, hay tính trên toàn tập rồi mới chia nhỏ như trước đây hay làm --> Nhận ra lỗi sai ngay đây\n",
    "- Được áp dụng quy trình Khoa học dữ liệu để làm một bài toán thực tế, được trải nghiệm quá trình làm luôn\n",
    "- Học được cách sử dụng git/github để quản lý project của nhóm, ngoài ra còn rèn luyện khả năng làm việc nhóm"
   ]
  },
  {
   "cell_type": "markdown",
   "metadata": {},
   "source": [
    "## Nếu còn thời gian, sẽ làm những gì nữa?"
   ]
  },
  {
   "cell_type": "markdown",
   "metadata": {},
   "source": [
    "Nếu có thời gian, nhóm sẽ thu thập và dự đoán đa dạng các hãng xe hơn nữa, ngoài ra sẽ tìm hiểu nhiều kỹ thuật để có thể tạo ra một mô hình dự đoán giá xe cũ tốt nhất có thể"
   ]
  },
  {
   "cell_type": "markdown",
   "metadata": {},
   "source": [
    "# Tài liệu tham khảo:"
   ]
  },
  {
   "cell_type": "markdown",
   "metadata": {},
   "source": [
    "* Bài tập 03\n",
    "* Các slide bài giảng\n",
    "* Các code demo\n",
    "* Document về các hàm của sklearn"
   ]
  }
 ],
 "metadata": {
  "accelerator": "GPU",
  "colab": {
   "collapsed_sections": [
    "I7r5KRv0pr1c",
    "FDicOj7kpr1d",
    "G26cgUiIpr1f",
    "43T7eXxapr1g",
    "A2dsacv2pr1h",
    "rLuz0AEspr1x",
    "f-XPY2QZpr1y",
    "-X59c0sLpr1z",
    "efGvzXRNpr11",
    "dklyL33mpr15",
    "2quRg9I_pr17",
    "ja2SZZJRpr19",
    "xZh2dbyTpr1-",
    "RS1MeyR8pr1-",
    "_W2BbFy0pr1_",
    "60PQ_6fCpr1_",
    "JpY5fEfZpr2G"
   ],
   "name": "KHDL.ipynb",
   "provenance": [],
   "toc_visible": true
  },
  "kernelspec": {
   "display_name": "Python 3",
   "language": "python",
   "name": "python3"
  },
  "language_info": {
   "codemirror_mode": {
    "name": "ipython",
    "version": 3
   },
   "file_extension": ".py",
   "mimetype": "text/x-python",
   "name": "python",
   "nbconvert_exporter": "python",
   "pygments_lexer": "ipython3",
   "version": "3.8.3"
  },
  "toc": {
   "base_numbering": 1,
   "nav_menu": {},
   "number_sections": true,
   "sideBar": true,
   "skip_h1_title": false,
   "title_cell": "Table of Contents",
   "title_sidebar": "Contents",
   "toc_cell": false,
   "toc_position": {
    "height": "calc(100% - 180px)",
    "left": "10px",
    "top": "150px",
    "width": "214.533px"
   },
   "toc_section_display": true,
   "toc_window_display": true
  }
 },
 "nbformat": 4,
 "nbformat_minor": 1
}
