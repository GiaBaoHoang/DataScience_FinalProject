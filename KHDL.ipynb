{
 "cells": [
  {
   "cell_type": "markdown",
   "metadata": {},
   "source": [
    "# Khám phá dữ liệu"
   ]
  },
  {
   "cell_type": "code",
   "execution_count": 1,
   "metadata": {},
   "outputs": [],
   "source": [
    "import pandas as pd\n",
    "import matplotlib.pyplot as plt\n",
    "import numpy as np\n",
    "import re\n",
    "import seaborn as sns # seaborn là thư viện được xây trên matplotlib, giúp việc visualization đỡ khổ hơn\n",
    "from sklearn.model_selection import train_test_split\n",
    "from sklearn.preprocessing import OneHotEncoder, StandardScaler\n",
    "from sklearn.impute import SimpleImputer\n",
    "from sklearn.base import BaseEstimator, TransformerMixin\n",
    "from sklearn.pipeline import Pipeline, make_pipeline\n",
    "from sklearn.compose import ColumnTransformer, make_column_transformer\n",
    "from sklearn.neural_network import MLPClassifier\n",
    "from sklearn import set_config\n",
    "set_config(display='diagram') # Để trực quan hóa pipeline\n",
    "\n",
    "import warnings\n",
    "warnings.filterwarnings('ignore')\n",
    "\n",
    "%matplotlib inline"
   ]
  },
  {
   "cell_type": "code",
   "execution_count": 2,
   "metadata": {},
   "outputs": [
    {
     "data": {
      "text/html": [
       "<div>\n",
       "<style scoped>\n",
       "    .dataframe tbody tr th:only-of-type {\n",
       "        vertical-align: middle;\n",
       "    }\n",
       "\n",
       "    .dataframe tbody tr th {\n",
       "        vertical-align: top;\n",
       "    }\n",
       "\n",
       "    .dataframe thead th {\n",
       "        text-align: right;\n",
       "    }\n",
       "</style>\n",
       "<table border=\"1\" class=\"dataframe\">\n",
       "  <thead>\n",
       "    <tr style=\"text-align: right;\">\n",
       "      <th></th>\n",
       "      <th>make</th>\n",
       "      <th>model</th>\n",
       "      <th>body style</th>\n",
       "      <th>year</th>\n",
       "      <th>mileage</th>\n",
       "      <th>engine</th>\n",
       "      <th>fuel type</th>\n",
       "      <th>number of owners</th>\n",
       "      <th>price</th>\n",
       "    </tr>\n",
       "  </thead>\n",
       "  <tbody>\n",
       "    <tr>\n",
       "      <th>0</th>\n",
       "      <td>Honda</td>\n",
       "      <td>Odyssey</td>\n",
       "      <td>Touring Elite</td>\n",
       "      <td>2013</td>\n",
       "      <td>122,986</td>\n",
       "      <td>3.5L V-6 Gas</td>\n",
       "      <td>Gas</td>\n",
       "      <td>2.0</td>\n",
       "      <td>12,895</td>\n",
       "    </tr>\n",
       "    <tr>\n",
       "      <th>1</th>\n",
       "      <td>Honda</td>\n",
       "      <td>Pilot</td>\n",
       "      <td>EX FWD</td>\n",
       "      <td>2013</td>\n",
       "      <td>80,532</td>\n",
       "      <td>3.5L V-6 Gas</td>\n",
       "      <td>Gas</td>\n",
       "      <td>3.0</td>\n",
       "      <td>11,694</td>\n",
       "    </tr>\n",
       "    <tr>\n",
       "      <th>2</th>\n",
       "      <td>Honda</td>\n",
       "      <td>CR-V</td>\n",
       "      <td>LX FWD</td>\n",
       "      <td>2013</td>\n",
       "      <td>79,796</td>\n",
       "      <td>2.4L Inline-4 Gas</td>\n",
       "      <td>Gas</td>\n",
       "      <td>1.0</td>\n",
       "      <td>13,590</td>\n",
       "    </tr>\n",
       "    <tr>\n",
       "      <th>3</th>\n",
       "      <td>Honda</td>\n",
       "      <td>Civic</td>\n",
       "      <td>LX Sedan Automatic</td>\n",
       "      <td>2013</td>\n",
       "      <td>76,882</td>\n",
       "      <td>1.8L Inline-4 Gas</td>\n",
       "      <td>Gas</td>\n",
       "      <td>1.0</td>\n",
       "      <td>7,986</td>\n",
       "    </tr>\n",
       "    <tr>\n",
       "      <th>4</th>\n",
       "      <td>Honda</td>\n",
       "      <td>Civic</td>\n",
       "      <td>LX Sedan Automatic</td>\n",
       "      <td>2013</td>\n",
       "      <td>113,673</td>\n",
       "      <td>1.8L Inline-4 Gas</td>\n",
       "      <td>Gas</td>\n",
       "      <td>1.0</td>\n",
       "      <td>6,990</td>\n",
       "    </tr>\n",
       "  </tbody>\n",
       "</table>\n",
       "</div>"
      ],
      "text/plain": [
       "    make    model          body style  year  mileage             engine  \\\n",
       "0  Honda  Odyssey       Touring Elite  2013  122,986       3.5L V-6 Gas   \n",
       "1  Honda    Pilot              EX FWD  2013   80,532       3.5L V-6 Gas   \n",
       "2  Honda     CR-V              LX FWD  2013   79,796  2.4L Inline-4 Gas   \n",
       "3  Honda    Civic  LX Sedan Automatic  2013   76,882  1.8L Inline-4 Gas   \n",
       "4  Honda    Civic  LX Sedan Automatic  2013  113,673  1.8L Inline-4 Gas   \n",
       "\n",
       "  fuel type  number of owners   price  \n",
       "0       Gas               2.0  12,895  \n",
       "1       Gas               3.0  11,694  \n",
       "2       Gas               1.0  13,590  \n",
       "3       Gas               1.0   7,986  \n",
       "4       Gas               1.0   6,990  "
      ]
     },
     "execution_count": 2,
     "metadata": {},
     "output_type": "execute_result"
    }
   ],
   "source": [
    "raw_used_car_df = pd.read_csv('raw_data.csv', sep = '\\t')\n",
    "raw_used_car_df.head()"
   ]
  },
  {
   "cell_type": "markdown",
   "metadata": {},
   "source": [
    "## Dữ liệu có bao nhiêu dòng, bao nhiêu cột?"
   ]
  },
  {
   "cell_type": "code",
   "execution_count": 3,
   "metadata": {},
   "outputs": [
    {
     "data": {
      "text/plain": [
       "(4800, 9)"
      ]
     },
     "execution_count": 3,
     "metadata": {},
     "output_type": "execute_result"
    }
   ],
   "source": [
    "raw_used_car_df.shape"
   ]
  },
  {
   "cell_type": "markdown",
   "metadata": {},
   "source": [
    "## Mỗi dòng có ý nghĩa gì? Có vấn đề các dòng ý nghĩa khác nhau không?"
   ]
  },
  {
   "cell_type": "markdown",
   "metadata": {},
   "source": [
    "Mỗi dòng cho biết thông tin cơ bản về 1 chiếc xe\n",
    "\n",
    "Các dòng có ý nghĩa là giống nhau"
   ]
  },
  {
   "cell_type": "markdown",
   "metadata": {},
   "source": [
    "### Dữ liệu có các dòng bị lặp không?"
   ]
  },
  {
   "cell_type": "code",
   "execution_count": 4,
   "metadata": {},
   "outputs": [
    {
     "data": {
      "text/plain": [
       "0       False\n",
       "1       False\n",
       "2       False\n",
       "3       False\n",
       "4       False\n",
       "        ...  \n",
       "4795    False\n",
       "4796    False\n",
       "4797    False\n",
       "4798    False\n",
       "4799    False\n",
       "Length: 4800, dtype: bool"
      ]
     },
     "execution_count": 4,
     "metadata": {},
     "output_type": "execute_result"
    }
   ],
   "source": [
    "raw_used_car_df.duplicated()"
   ]
  },
  {
   "cell_type": "code",
   "execution_count": 5,
   "metadata": {},
   "outputs": [
    {
     "data": {
      "text/plain": [
       "148"
      ]
     },
     "execution_count": 5,
     "metadata": {},
     "output_type": "execute_result"
    }
   ],
   "source": [
    "# Bao nhiêu dòng bị lặp?\n",
    "num_row_dup = raw_used_car_df.duplicated().sum()\n",
    "num_row_dup"
   ]
  },
  {
   "cell_type": "code",
   "execution_count": 6,
   "metadata": {},
   "outputs": [
    {
     "data": {
      "text/html": [
       "<div>\n",
       "<style scoped>\n",
       "    .dataframe tbody tr th:only-of-type {\n",
       "        vertical-align: middle;\n",
       "    }\n",
       "\n",
       "    .dataframe tbody tr th {\n",
       "        vertical-align: top;\n",
       "    }\n",
       "\n",
       "    .dataframe thead th {\n",
       "        text-align: right;\n",
       "    }\n",
       "</style>\n",
       "<table border=\"1\" class=\"dataframe\">\n",
       "  <thead>\n",
       "    <tr style=\"text-align: right;\">\n",
       "      <th></th>\n",
       "      <th>make</th>\n",
       "      <th>model</th>\n",
       "      <th>body style</th>\n",
       "      <th>year</th>\n",
       "      <th>mileage</th>\n",
       "      <th>engine</th>\n",
       "      <th>fuel type</th>\n",
       "      <th>number of owners</th>\n",
       "      <th>price</th>\n",
       "    </tr>\n",
       "  </thead>\n",
       "  <tbody>\n",
       "    <tr>\n",
       "      <th>393</th>\n",
       "      <td>Honda</td>\n",
       "      <td>Accord</td>\n",
       "      <td>EX-L Sedan I4 CVT</td>\n",
       "      <td>2016</td>\n",
       "      <td>66,848</td>\n",
       "      <td>2.4L Inline-4 Gas</td>\n",
       "      <td>Gas</td>\n",
       "      <td>2.0</td>\n",
       "      <td>15,995</td>\n",
       "    </tr>\n",
       "    <tr>\n",
       "      <th>394</th>\n",
       "      <td>Honda</td>\n",
       "      <td>Pilot</td>\n",
       "      <td>EX-L AWD</td>\n",
       "      <td>2016</td>\n",
       "      <td>124,363</td>\n",
       "      <td>3.5L V-6 Gas</td>\n",
       "      <td>Gas</td>\n",
       "      <td>1.0</td>\n",
       "      <td>17,792</td>\n",
       "    </tr>\n",
       "    <tr>\n",
       "      <th>395</th>\n",
       "      <td>Honda</td>\n",
       "      <td>Civic</td>\n",
       "      <td>EX Sedan CVT</td>\n",
       "      <td>2016</td>\n",
       "      <td>79,118</td>\n",
       "      <td>2.0L Inline-4 Gas</td>\n",
       "      <td>Gas</td>\n",
       "      <td>2.0</td>\n",
       "      <td>13,000</td>\n",
       "    </tr>\n",
       "    <tr>\n",
       "      <th>396</th>\n",
       "      <td>Honda</td>\n",
       "      <td>Civic</td>\n",
       "      <td>LX Sedan CVT</td>\n",
       "      <td>2016</td>\n",
       "      <td>53,433</td>\n",
       "      <td>2.0L Inline-4 Gas</td>\n",
       "      <td>Gas</td>\n",
       "      <td>1.0</td>\n",
       "      <td>10,970</td>\n",
       "    </tr>\n",
       "    <tr>\n",
       "      <th>397</th>\n",
       "      <td>Honda</td>\n",
       "      <td>Accord</td>\n",
       "      <td>EX-L V6 Sedan Automatic</td>\n",
       "      <td>2016</td>\n",
       "      <td>98,855</td>\n",
       "      <td>3.5L V-6 Gas</td>\n",
       "      <td>Gas</td>\n",
       "      <td>1.0</td>\n",
       "      <td>12,995</td>\n",
       "    </tr>\n",
       "    <tr>\n",
       "      <th>...</th>\n",
       "      <td>...</td>\n",
       "      <td>...</td>\n",
       "      <td>...</td>\n",
       "      <td>...</td>\n",
       "      <td>...</td>\n",
       "      <td>...</td>\n",
       "      <td>...</td>\n",
       "      <td>...</td>\n",
       "      <td>...</td>\n",
       "    </tr>\n",
       "    <tr>\n",
       "      <th>4233</th>\n",
       "      <td>Mazda</td>\n",
       "      <td>Mazda3</td>\n",
       "      <td>i Touring 4-Door Automatic</td>\n",
       "      <td>2015</td>\n",
       "      <td>161,366</td>\n",
       "      <td>2.0L Inline-4 Gas</td>\n",
       "      <td>Gas</td>\n",
       "      <td>1.0</td>\n",
       "      <td>6,990</td>\n",
       "    </tr>\n",
       "    <tr>\n",
       "      <th>4234</th>\n",
       "      <td>Mazda</td>\n",
       "      <td>CX-5</td>\n",
       "      <td>Grand Touring AWD Automatic</td>\n",
       "      <td>2015</td>\n",
       "      <td>81,477</td>\n",
       "      <td>2.5L Inline-4 Gas</td>\n",
       "      <td>Gas</td>\n",
       "      <td>1.0</td>\n",
       "      <td>14,995</td>\n",
       "    </tr>\n",
       "    <tr>\n",
       "      <th>4288</th>\n",
       "      <td>Mazda</td>\n",
       "      <td>CX-5</td>\n",
       "      <td>Grand Touring AWD Automatic</td>\n",
       "      <td>2015</td>\n",
       "      <td>95,609</td>\n",
       "      <td>2.5L Inline-4 Gas</td>\n",
       "      <td>Gas</td>\n",
       "      <td>1.0</td>\n",
       "      <td>12,955</td>\n",
       "    </tr>\n",
       "    <tr>\n",
       "      <th>4658</th>\n",
       "      <td>Mazda</td>\n",
       "      <td>Mazda6</td>\n",
       "      <td>Touring Automatic</td>\n",
       "      <td>2019</td>\n",
       "      <td>29,144</td>\n",
       "      <td>2.5L Inline-4 Gas</td>\n",
       "      <td>Gas</td>\n",
       "      <td>1.0</td>\n",
       "      <td>19,200</td>\n",
       "    </tr>\n",
       "    <tr>\n",
       "      <th>4737</th>\n",
       "      <td>Mazda</td>\n",
       "      <td>CX-5</td>\n",
       "      <td>Touring FWD</td>\n",
       "      <td>2020</td>\n",
       "      <td>14</td>\n",
       "      <td>2.5L Inline-4 Gas</td>\n",
       "      <td>Gas</td>\n",
       "      <td>1.0</td>\n",
       "      <td>25,077</td>\n",
       "    </tr>\n",
       "  </tbody>\n",
       "</table>\n",
       "<p>148 rows × 9 columns</p>\n",
       "</div>"
      ],
      "text/plain": [
       "       make   model                   body style  year  mileage  \\\n",
       "393   Honda  Accord            EX-L Sedan I4 CVT  2016   66,848   \n",
       "394   Honda   Pilot                     EX-L AWD  2016  124,363   \n",
       "395   Honda   Civic                 EX Sedan CVT  2016   79,118   \n",
       "396   Honda   Civic                 LX Sedan CVT  2016   53,433   \n",
       "397   Honda  Accord      EX-L V6 Sedan Automatic  2016   98,855   \n",
       "...     ...     ...                          ...   ...      ...   \n",
       "4233  Mazda  Mazda3   i Touring 4-Door Automatic  2015  161,366   \n",
       "4234  Mazda    CX-5  Grand Touring AWD Automatic  2015   81,477   \n",
       "4288  Mazda    CX-5  Grand Touring AWD Automatic  2015   95,609   \n",
       "4658  Mazda  Mazda6            Touring Automatic  2019   29,144   \n",
       "4737  Mazda    CX-5                  Touring FWD  2020       14   \n",
       "\n",
       "                 engine fuel type  number of owners   price  \n",
       "393   2.4L Inline-4 Gas       Gas               2.0  15,995  \n",
       "394        3.5L V-6 Gas       Gas               1.0  17,792  \n",
       "395   2.0L Inline-4 Gas       Gas               2.0  13,000  \n",
       "396   2.0L Inline-4 Gas       Gas               1.0  10,970  \n",
       "397        3.5L V-6 Gas       Gas               1.0  12,995  \n",
       "...                 ...       ...               ...     ...  \n",
       "4233  2.0L Inline-4 Gas       Gas               1.0   6,990  \n",
       "4234  2.5L Inline-4 Gas       Gas               1.0  14,995  \n",
       "4288  2.5L Inline-4 Gas       Gas               1.0  12,955  \n",
       "4658  2.5L Inline-4 Gas       Gas               1.0  19,200  \n",
       "4737  2.5L Inline-4 Gas       Gas               1.0  25,077  \n",
       "\n",
       "[148 rows x 9 columns]"
      ]
     },
     "execution_count": 6,
     "metadata": {},
     "output_type": "execute_result"
    }
   ],
   "source": [
    "# Dòng nào bị lặp?\n",
    "duplicated_rows = raw_used_car_df[raw_used_car_df.duplicated()]\n",
    "duplicated_rows"
   ]
  },
  {
   "cell_type": "code",
   "execution_count": 7,
   "metadata": {},
   "outputs": [],
   "source": [
    "group_cars = raw_used_car_df.groupby(['make', 'model', 'body style', 'year'])"
   ]
  },
  {
   "cell_type": "code",
   "execution_count": 8,
   "metadata": {},
   "outputs": [
    {
     "data": {
      "text/html": [
       "<div>\n",
       "<style scoped>\n",
       "    .dataframe tbody tr th:only-of-type {\n",
       "        vertical-align: middle;\n",
       "    }\n",
       "\n",
       "    .dataframe tbody tr th {\n",
       "        vertical-align: top;\n",
       "    }\n",
       "\n",
       "    .dataframe thead th {\n",
       "        text-align: right;\n",
       "    }\n",
       "</style>\n",
       "<table border=\"1\" class=\"dataframe\">\n",
       "  <thead>\n",
       "    <tr style=\"text-align: right;\">\n",
       "      <th></th>\n",
       "      <th>make</th>\n",
       "      <th>model</th>\n",
       "      <th>body style</th>\n",
       "      <th>year</th>\n",
       "      <th>mileage</th>\n",
       "      <th>engine</th>\n",
       "      <th>fuel type</th>\n",
       "      <th>number of owners</th>\n",
       "      <th>price</th>\n",
       "    </tr>\n",
       "  </thead>\n",
       "  <tbody>\n",
       "    <tr>\n",
       "      <th>332</th>\n",
       "      <td>Honda</td>\n",
       "      <td>Accord</td>\n",
       "      <td>EX-L Sedan I4 CVT</td>\n",
       "      <td>2016</td>\n",
       "      <td>195,707</td>\n",
       "      <td>2.4L Inline-4 Gas</td>\n",
       "      <td>Gas</td>\n",
       "      <td>1.0</td>\n",
       "      <td>10,912</td>\n",
       "    </tr>\n",
       "    <tr>\n",
       "      <th>346</th>\n",
       "      <td>Honda</td>\n",
       "      <td>Accord</td>\n",
       "      <td>EX-L Sedan I4 CVT</td>\n",
       "      <td>2016</td>\n",
       "      <td>35,471</td>\n",
       "      <td>2.4L Inline-4 Gas</td>\n",
       "      <td>Gas</td>\n",
       "      <td>1.0</td>\n",
       "      <td>15,793</td>\n",
       "    </tr>\n",
       "    <tr>\n",
       "      <th>363</th>\n",
       "      <td>Honda</td>\n",
       "      <td>Accord</td>\n",
       "      <td>EX-L Sedan I4 CVT</td>\n",
       "      <td>2016</td>\n",
       "      <td>66,848</td>\n",
       "      <td>2.4L Inline-4 Gas</td>\n",
       "      <td>Gas</td>\n",
       "      <td>2.0</td>\n",
       "      <td>15,995</td>\n",
       "    </tr>\n",
       "    <tr>\n",
       "      <th>378</th>\n",
       "      <td>Honda</td>\n",
       "      <td>Accord</td>\n",
       "      <td>EX-L Sedan I4 CVT</td>\n",
       "      <td>2016</td>\n",
       "      <td>94,394</td>\n",
       "      <td>2.4L Inline-4 Gas</td>\n",
       "      <td>Gas</td>\n",
       "      <td>1.0</td>\n",
       "      <td>11,900</td>\n",
       "    </tr>\n",
       "    <tr>\n",
       "      <th>393</th>\n",
       "      <td>Honda</td>\n",
       "      <td>Accord</td>\n",
       "      <td>EX-L Sedan I4 CVT</td>\n",
       "      <td>2016</td>\n",
       "      <td>66,848</td>\n",
       "      <td>2.4L Inline-4 Gas</td>\n",
       "      <td>Gas</td>\n",
       "      <td>2.0</td>\n",
       "      <td>15,995</td>\n",
       "    </tr>\n",
       "  </tbody>\n",
       "</table>\n",
       "</div>"
      ],
      "text/plain": [
       "      make   model         body style  year  mileage             engine  \\\n",
       "332  Honda  Accord  EX-L Sedan I4 CVT  2016  195,707  2.4L Inline-4 Gas   \n",
       "346  Honda  Accord  EX-L Sedan I4 CVT  2016   35,471  2.4L Inline-4 Gas   \n",
       "363  Honda  Accord  EX-L Sedan I4 CVT  2016   66,848  2.4L Inline-4 Gas   \n",
       "378  Honda  Accord  EX-L Sedan I4 CVT  2016   94,394  2.4L Inline-4 Gas   \n",
       "393  Honda  Accord  EX-L Sedan I4 CVT  2016   66,848  2.4L Inline-4 Gas   \n",
       "\n",
       "    fuel type  number of owners   price  \n",
       "332       Gas               1.0  10,912  \n",
       "346       Gas               1.0  15,793  \n",
       "363       Gas               2.0  15,995  \n",
       "378       Gas               1.0  11,900  \n",
       "393       Gas               2.0  15,995  "
      ]
     },
     "execution_count": 8,
     "metadata": {},
     "output_type": "execute_result"
    }
   ],
   "source": [
    "# Kiểm tra thử dòng 393 xem có đúng là dòng 393 bị lặp không?\n",
    "# --> đúng, ta thấy dòng 393 bị lặp lại dòng 363 trong bảng dưới\n",
    "group_cars.get_group(('Honda', 'Accord', 'EX-L Sedan I4 CVT', 2016))"
   ]
  },
  {
   "cell_type": "code",
   "execution_count": 9,
   "metadata": {},
   "outputs": [],
   "source": [
    "# Bỏ đi các dòng bị lặp, gán vào dataframe mới\n",
    "used_car_df = raw_used_car_df.drop_duplicates()"
   ]
  },
  {
   "cell_type": "code",
   "execution_count": 10,
   "metadata": {},
   "outputs": [
    {
     "data": {
      "text/plain": [
       "(4652, 9)"
      ]
     },
     "execution_count": 10,
     "metadata": {},
     "output_type": "execute_result"
    }
   ],
   "source": [
    "used_car_df.shape"
   ]
  },
  {
   "cell_type": "code",
   "execution_count": 11,
   "metadata": {},
   "outputs": [
    {
     "data": {
      "text/plain": [
       "0"
      ]
     },
     "execution_count": 11,
     "metadata": {},
     "output_type": "execute_result"
    }
   ],
   "source": [
    "# Kiểm tra lại dataframe mới có còn dòng nào bị lặp không?\n",
    "num_dup = used_car_df.duplicated().sum()\n",
    "num_dup"
   ]
  },
  {
   "cell_type": "code",
   "execution_count": 12,
   "metadata": {},
   "outputs": [],
   "source": [
    "# Test\n",
    "assert num_dup == 0\n",
    "assert used_car_df.shape == (raw_used_car_df.shape[0] - num_row_dup, raw_used_car_df.shape[1])"
   ]
  },
  {
   "cell_type": "markdown",
   "metadata": {},
   "source": [
    "### Mỗi cột có ý nghĩa gì?"
   ]
  },
  {
   "cell_type": "code",
   "execution_count": 13,
   "metadata": {},
   "outputs": [
    {
     "data": {
      "text/html": [
       "<div>\n",
       "<style scoped>\n",
       "    .dataframe tbody tr th:only-of-type {\n",
       "        vertical-align: middle;\n",
       "    }\n",
       "\n",
       "    .dataframe tbody tr th {\n",
       "        vertical-align: top;\n",
       "    }\n",
       "\n",
       "    .dataframe thead th {\n",
       "        text-align: right;\n",
       "    }\n",
       "</style>\n",
       "<table border=\"1\" class=\"dataframe\">\n",
       "  <thead>\n",
       "    <tr style=\"text-align: right;\">\n",
       "      <th></th>\n",
       "      <th>make</th>\n",
       "      <th>model</th>\n",
       "      <th>body style</th>\n",
       "      <th>year</th>\n",
       "      <th>mileage</th>\n",
       "      <th>engine</th>\n",
       "      <th>fuel type</th>\n",
       "      <th>number of owners</th>\n",
       "      <th>price</th>\n",
       "    </tr>\n",
       "  </thead>\n",
       "  <tbody>\n",
       "    <tr>\n",
       "      <th>0</th>\n",
       "      <td>Honda</td>\n",
       "      <td>Odyssey</td>\n",
       "      <td>Touring Elite</td>\n",
       "      <td>2013</td>\n",
       "      <td>122,986</td>\n",
       "      <td>3.5L V-6 Gas</td>\n",
       "      <td>Gas</td>\n",
       "      <td>2.0</td>\n",
       "      <td>12,895</td>\n",
       "    </tr>\n",
       "  </tbody>\n",
       "</table>\n",
       "</div>"
      ],
      "text/plain": [
       "    make    model     body style  year  mileage        engine fuel type  \\\n",
       "0  Honda  Odyssey  Touring Elite  2013  122,986  3.5L V-6 Gas       Gas   \n",
       "\n",
       "   number of owners   price  \n",
       "0               2.0  12,895  "
      ]
     },
     "execution_count": 13,
     "metadata": {},
     "output_type": "execute_result"
    }
   ],
   "source": [
    "used_car_df.head(1)"
   ]
  },
  {
   "cell_type": "markdown",
   "metadata": {},
   "source": [
    "* <b>Cột \"make\"</b>:             tên hãng xe\n",
    "* <b>Cột \"model\"</b>:            tên dòng xe\n",
    "* <b>Cột \"body style\"</b>:       dáng xe (kết cấu thân xe)\n",
    "* <b>Cột \"year\"</b>:             năm sản xuất chiếc xe\n",
    "* <b>Cột \"mileage\"</b>:          tổng số dặm xe đã đi\n",
    "* <b>Cột \"engine\"</b>:           thông số động cơ xe\n",
    "* <b>Cột \"fuel type\"</b>:        xe đi loại nhiên liệu gì?\n",
    "* <b>Cột \"number of owners\"</b>: xe đã qua tay bao nhiêu đời chủ rồi?\n",
    "* <b>Cột \"price\"</b>:            giá thành xe hiện được bán"
   ]
  },
  {
   "cell_type": "markdown",
   "metadata": {},
   "source": [
    "# Đặt câu hỏi"
   ]
  },
  {
   "cell_type": "markdown",
   "metadata": {},
   "source": [
    "**Câu hỏi:** làm sao để dự đoán giá trị của một chiếc xe cũ, đã qua sử dụng dựa trên các thông số của chiếc xe đó?\n",
    "\n",
    "Câu hỏi này giải quyết được 2 vấn đề trong thực tế:\n",
    "* Cho các người chủ muốn bán xe:\n",
    "    * Họ ước lượng trước được giá trị của chiếc xe mà mình muốn bán dựa trên giá thị trường hiện tại. Để khi đến bất kì nơi bán nào, họ có thể thương lượng giá cả tốt hơn\n",
    "* Cho các đại lý mua bán xe cũ:\n",
    "    * Biết được giá trị thị trường, để có thể thương lượng giá cả với người bán\n",
    "    * Nếu đã sở hữu xe cũ --> có thể đưa ra giá trị chiếc xe để bán đi"
   ]
  },
  {
   "cell_type": "markdown",
   "metadata": {},
   "source": [
    "### Mỗi cột hiện đang có kiểu dữ liệu gì? Có cột nào có kiểu dữ liệu chưa phù hợp để xử lý tiếp không?"
   ]
  },
  {
   "cell_type": "code",
   "execution_count": 14,
   "metadata": {},
   "outputs": [
    {
     "data": {
      "text/plain": [
       "make                 object\n",
       "model                object\n",
       "body style           object\n",
       "year                  int64\n",
       "mileage              object\n",
       "engine               object\n",
       "fuel type            object\n",
       "number of owners    float64\n",
       "price                object\n",
       "dtype: object"
      ]
     },
     "execution_count": 14,
     "metadata": {},
     "output_type": "execute_result"
    }
   ],
   "source": [
    "dtypes = used_car_df.dtypes\n",
    "dtypes"
   ]
  },
  {
   "cell_type": "markdown",
   "metadata": {},
   "source": [
    "Trong Pandas, kiểu dữ liệu \"object\" thường ám chỉ chuỗi. Tuy nhiên, \"object\" có thể ám chỉ một kiểu dữ liệu bất kỳ. \"object\" giống như con trỏ, có thể trỏ tới một đối tượng bất kỳ\n",
    "\n",
    "Để biết chính xác kiểu dữ liệu đang được lưu, tiến hành lấy giá trị từng cột để xem"
   ]
  },
  {
   "cell_type": "code",
   "execution_count": 15,
   "metadata": {},
   "outputs": [
    {
     "name": "stdout",
     "output_type": "stream",
     "text": [
      "make: <class 'str'>\n",
      "model: <class 'str'>\n",
      "body style: <class 'str'>\n",
      "mileage: <class 'str'>\n",
      "engine: <class 'str'>\n",
      "fuel type: <class 'str'>\n",
      "price: <class 'str'>\n"
     ]
    }
   ],
   "source": [
    "print('make:', type(used_car_df.loc[0, 'make']))\n",
    "print('model:', type(used_car_df.loc[0, 'model']))\n",
    "print('body style:', type(used_car_df.loc[0, 'body style']))\n",
    "print('mileage:', type(used_car_df.loc[0, 'mileage']))\n",
    "print('engine:', type(used_car_df.loc[0, 'engine']))\n",
    "print('fuel type:', type(used_car_df.loc[0, 'fuel type']))\n",
    "print('price:', type(used_car_df.loc[0, 'price']))"
   ]
  },
  {
   "cell_type": "markdown",
   "metadata": {},
   "source": [
    "#### Một vài đánh giá về giá trị cột để tiền xử lý kiểu dữ liệu của cột"
   ]
  },
  {
   "cell_type": "markdown",
   "metadata": {},
   "source": [
    "* <b>Cột \"mileage\"</b>, <b>\"price\"</b>: ta cần dữ liệu dạng số thực, mà ở đây đang ở dạng chuỗi --> tiến hành tiền xử lý để đưa từ kiểu chuỗi sang số thực"
   ]
  },
  {
   "cell_type": "markdown",
   "metadata": {},
   "source": [
    "# Tiền xử lý"
   ]
  },
  {
   "cell_type": "markdown",
   "metadata": {},
   "source": [
    "## Chuyển kiểu dữ liệu cột \"mileage\", \"price\" sang kiểu số thực"
   ]
  },
  {
   "cell_type": "code",
   "execution_count": 16,
   "metadata": {},
   "outputs": [],
   "source": [
    "# bỏ dấu phẩy\n",
    "used_car_df.loc[:, 'mileage'] = used_car_df.loc[:, 'mileage'].str.replace(',', '')\n",
    "used_car_df.loc[:, 'price'] = used_car_df.loc[:, 'price'].str.replace(',', '')"
   ]
  },
  {
   "cell_type": "code",
   "execution_count": 17,
   "metadata": {},
   "outputs": [
    {
     "data": {
      "text/html": [
       "<div>\n",
       "<style scoped>\n",
       "    .dataframe tbody tr th:only-of-type {\n",
       "        vertical-align: middle;\n",
       "    }\n",
       "\n",
       "    .dataframe tbody tr th {\n",
       "        vertical-align: top;\n",
       "    }\n",
       "\n",
       "    .dataframe thead th {\n",
       "        text-align: right;\n",
       "    }\n",
       "</style>\n",
       "<table border=\"1\" class=\"dataframe\">\n",
       "  <thead>\n",
       "    <tr style=\"text-align: right;\">\n",
       "      <th></th>\n",
       "      <th>make</th>\n",
       "      <th>model</th>\n",
       "      <th>body style</th>\n",
       "      <th>year</th>\n",
       "      <th>mileage</th>\n",
       "      <th>engine</th>\n",
       "      <th>fuel type</th>\n",
       "      <th>number of owners</th>\n",
       "      <th>price</th>\n",
       "    </tr>\n",
       "  </thead>\n",
       "  <tbody>\n",
       "    <tr>\n",
       "      <th>0</th>\n",
       "      <td>Honda</td>\n",
       "      <td>Odyssey</td>\n",
       "      <td>Touring Elite</td>\n",
       "      <td>2013</td>\n",
       "      <td>122986.0</td>\n",
       "      <td>3.5L V-6 Gas</td>\n",
       "      <td>Gas</td>\n",
       "      <td>2.0</td>\n",
       "      <td>12895.0</td>\n",
       "    </tr>\n",
       "    <tr>\n",
       "      <th>1</th>\n",
       "      <td>Honda</td>\n",
       "      <td>Pilot</td>\n",
       "      <td>EX FWD</td>\n",
       "      <td>2013</td>\n",
       "      <td>80532.0</td>\n",
       "      <td>3.5L V-6 Gas</td>\n",
       "      <td>Gas</td>\n",
       "      <td>3.0</td>\n",
       "      <td>11694.0</td>\n",
       "    </tr>\n",
       "    <tr>\n",
       "      <th>2</th>\n",
       "      <td>Honda</td>\n",
       "      <td>CR-V</td>\n",
       "      <td>LX FWD</td>\n",
       "      <td>2013</td>\n",
       "      <td>79796.0</td>\n",
       "      <td>2.4L Inline-4 Gas</td>\n",
       "      <td>Gas</td>\n",
       "      <td>1.0</td>\n",
       "      <td>13590.0</td>\n",
       "    </tr>\n",
       "    <tr>\n",
       "      <th>3</th>\n",
       "      <td>Honda</td>\n",
       "      <td>Civic</td>\n",
       "      <td>LX Sedan Automatic</td>\n",
       "      <td>2013</td>\n",
       "      <td>76882.0</td>\n",
       "      <td>1.8L Inline-4 Gas</td>\n",
       "      <td>Gas</td>\n",
       "      <td>1.0</td>\n",
       "      <td>7986.0</td>\n",
       "    </tr>\n",
       "    <tr>\n",
       "      <th>4</th>\n",
       "      <td>Honda</td>\n",
       "      <td>Civic</td>\n",
       "      <td>LX Sedan Automatic</td>\n",
       "      <td>2013</td>\n",
       "      <td>113673.0</td>\n",
       "      <td>1.8L Inline-4 Gas</td>\n",
       "      <td>Gas</td>\n",
       "      <td>1.0</td>\n",
       "      <td>6990.0</td>\n",
       "    </tr>\n",
       "    <tr>\n",
       "      <th>...</th>\n",
       "      <td>...</td>\n",
       "      <td>...</td>\n",
       "      <td>...</td>\n",
       "      <td>...</td>\n",
       "      <td>...</td>\n",
       "      <td>...</td>\n",
       "      <td>...</td>\n",
       "      <td>...</td>\n",
       "      <td>...</td>\n",
       "    </tr>\n",
       "    <tr>\n",
       "      <th>4795</th>\n",
       "      <td>Mazda</td>\n",
       "      <td>CX-5</td>\n",
       "      <td>Grand Touring FWD</td>\n",
       "      <td>2020</td>\n",
       "      <td>13964.0</td>\n",
       "      <td>2.5L Inline-4 Gas</td>\n",
       "      <td>Gas</td>\n",
       "      <td>1.0</td>\n",
       "      <td>23888.0</td>\n",
       "    </tr>\n",
       "    <tr>\n",
       "      <th>4796</th>\n",
       "      <td>Mazda</td>\n",
       "      <td>CX-5</td>\n",
       "      <td>Sport FWD</td>\n",
       "      <td>2020</td>\n",
       "      <td>3759.0</td>\n",
       "      <td>2.5L Inline-4 Gas</td>\n",
       "      <td>Gas</td>\n",
       "      <td>1.0</td>\n",
       "      <td>22498.0</td>\n",
       "    </tr>\n",
       "    <tr>\n",
       "      <th>4797</th>\n",
       "      <td>Mazda</td>\n",
       "      <td>CX-5</td>\n",
       "      <td>Sport FWD</td>\n",
       "      <td>2020</td>\n",
       "      <td>9916.0</td>\n",
       "      <td>2.5L Inline-4 Gas</td>\n",
       "      <td>Gas</td>\n",
       "      <td>1.0</td>\n",
       "      <td>21990.0</td>\n",
       "    </tr>\n",
       "    <tr>\n",
       "      <th>4798</th>\n",
       "      <td>Mazda</td>\n",
       "      <td>CX-9</td>\n",
       "      <td>Grand Touring AWD</td>\n",
       "      <td>2020</td>\n",
       "      <td>5176.0</td>\n",
       "      <td>2.5L Inline-4 Gas Turbocharged</td>\n",
       "      <td>Gas</td>\n",
       "      <td>1.0</td>\n",
       "      <td>36992.0</td>\n",
       "    </tr>\n",
       "    <tr>\n",
       "      <th>4799</th>\n",
       "      <td>Mazda</td>\n",
       "      <td>CX-5</td>\n",
       "      <td>Touring AWD</td>\n",
       "      <td>2020</td>\n",
       "      <td>4902.0</td>\n",
       "      <td>2.5L Inline-4 Gas</td>\n",
       "      <td>Gas</td>\n",
       "      <td>0.0</td>\n",
       "      <td>25737.0</td>\n",
       "    </tr>\n",
       "  </tbody>\n",
       "</table>\n",
       "<p>4652 rows × 9 columns</p>\n",
       "</div>"
      ],
      "text/plain": [
       "       make    model          body style  year   mileage  \\\n",
       "0     Honda  Odyssey       Touring Elite  2013  122986.0   \n",
       "1     Honda    Pilot              EX FWD  2013   80532.0   \n",
       "2     Honda     CR-V              LX FWD  2013   79796.0   \n",
       "3     Honda    Civic  LX Sedan Automatic  2013   76882.0   \n",
       "4     Honda    Civic  LX Sedan Automatic  2013  113673.0   \n",
       "...     ...      ...                 ...   ...       ...   \n",
       "4795  Mazda     CX-5   Grand Touring FWD  2020   13964.0   \n",
       "4796  Mazda     CX-5           Sport FWD  2020    3759.0   \n",
       "4797  Mazda     CX-5           Sport FWD  2020    9916.0   \n",
       "4798  Mazda     CX-9   Grand Touring AWD  2020    5176.0   \n",
       "4799  Mazda     CX-5         Touring AWD  2020    4902.0   \n",
       "\n",
       "                              engine fuel type  number of owners    price  \n",
       "0                       3.5L V-6 Gas       Gas               2.0  12895.0  \n",
       "1                       3.5L V-6 Gas       Gas               3.0  11694.0  \n",
       "2                  2.4L Inline-4 Gas       Gas               1.0  13590.0  \n",
       "3                  1.8L Inline-4 Gas       Gas               1.0   7986.0  \n",
       "4                  1.8L Inline-4 Gas       Gas               1.0   6990.0  \n",
       "...                              ...       ...               ...      ...  \n",
       "4795               2.5L Inline-4 Gas       Gas               1.0  23888.0  \n",
       "4796               2.5L Inline-4 Gas       Gas               1.0  22498.0  \n",
       "4797               2.5L Inline-4 Gas       Gas               1.0  21990.0  \n",
       "4798  2.5L Inline-4 Gas Turbocharged       Gas               1.0  36992.0  \n",
       "4799               2.5L Inline-4 Gas       Gas               0.0  25737.0  \n",
       "\n",
       "[4652 rows x 9 columns]"
      ]
     },
     "execution_count": 17,
     "metadata": {},
     "output_type": "execute_result"
    }
   ],
   "source": [
    "# chuyển sang kiểu float\n",
    "used_car_df['mileage'] = used_car_df['mileage'].astype(float)\n",
    "used_car_df['price'] = used_car_df['price'].astype(float)\n",
    "used_car_df"
   ]
  },
  {
   "cell_type": "markdown",
   "metadata": {},
   "source": [
    "## Khám phá dữ liệu (để biết cách tách các tập)\n",
    "Để biết cách tách các tập thì ta cần khám phá thêm cột output một ít:\n",
    "- Cột này có giá trị thiếu không? Nếu có giá trị thiếu thì ta sẽ xử lý rồi mới tách các tập "
   ]
  },
  {
   "cell_type": "code",
   "execution_count": 18,
   "metadata": {},
   "outputs": [
    {
     "data": {
      "text/plain": [
       "5"
      ]
     },
     "execution_count": 18,
     "metadata": {},
     "output_type": "execute_result"
    }
   ],
   "source": [
    "#Cột output có giá trị thiếu không?\n",
    "used_car_df['price'].isna().sum()"
   ]
  },
  {
   "cell_type": "code",
   "execution_count": 19,
   "metadata": {},
   "outputs": [],
   "source": [
    "#Xử lý cột output bằng cách loại bỏ các dòng mà thiếu giá trị price\n",
    "used_car_df = used_car_df[used_car_df['price'].notna()]"
   ]
  },
  {
   "cell_type": "code",
   "execution_count": 20,
   "metadata": {},
   "outputs": [
    {
     "data": {
      "text/plain": [
       "0"
      ]
     },
     "execution_count": 20,
     "metadata": {},
     "output_type": "execute_result"
    }
   ],
   "source": [
    "# test xem cột price đã hết giá trị thiếu chưa\n",
    "used_car_df['price'].isna().sum()"
   ]
  },
  {
   "cell_type": "code",
   "execution_count": 21,
   "metadata": {},
   "outputs": [
    {
     "data": {
      "text/plain": [
       "(4647, 9)"
      ]
     },
     "execution_count": 21,
     "metadata": {},
     "output_type": "execute_result"
    }
   ],
   "source": [
    "used_car_df.shape"
   ]
  },
  {
   "cell_type": "code",
   "execution_count": 22,
   "metadata": {},
   "outputs": [
    {
     "data": {
      "text/plain": [
       "count      4647.000000\n",
       "mean      17377.042608\n",
       "std       10211.005659\n",
       "min        2996.000000\n",
       "25%       10747.500000\n",
       "50%       14590.000000\n",
       "75%       20899.500000\n",
       "max      129982.000000\n",
       "Name: price, dtype: float64"
      ]
     },
     "execution_count": 22,
     "metadata": {},
     "output_type": "execute_result"
    }
   ],
   "source": [
    "#Phân bố cột output như thế nào?\n",
    "used_car_df['price'].describe()"
   ]
  },
  {
   "cell_type": "markdown",
   "metadata": {},
   "source": [
    "## Tiền xử lý (tách các tập)"
   ]
  },
  {
   "cell_type": "markdown",
   "metadata": {},
   "source": [
    "Bây giờ ta sẽ thực hiện bước tiền xử lý là tách tập validation và tập kiểm tra ra"
   ]
  },
  {
   "cell_type": "code",
   "execution_count": 23,
   "metadata": {},
   "outputs": [],
   "source": [
    "# Tách X và y\n",
    "used_car_y_sr = used_car_df[\"price\"]\n",
    "used_car_X_df = used_car_df.drop(columns = ['price'], axis=1)"
   ]
  },
  {
   "cell_type": "code",
   "execution_count": 24,
   "metadata": {},
   "outputs": [],
   "source": [
    "# Tách tập train và tập validation, tập test theo tỉ lệ 60%:20%:20%\n",
    "\n",
    "# Đầu tiên tách tập train 60% và tập temp 40%\n",
    "train_X_df, temp_X_df, train_y_sr, temp_y_sr = train_test_split(used_car_X_df, used_car_y_sr, test_size=0.4, random_state=42)\n",
    "\n",
    "#Tách tập temp thành 2 tập bằng nhau 50% (tức là 20%:20% như ban đầu)\n",
    "val_X_df, test_X_df, val_y_sr, test_y_sr = train_test_split(temp_X_df, temp_y_sr, test_size=0.5, random_state=42)"
   ]
  },
  {
   "cell_type": "markdown",
   "metadata": {},
   "source": [
    "Tập train"
   ]
  },
  {
   "cell_type": "code",
   "execution_count": 25,
   "metadata": {},
   "outputs": [
    {
     "data": {
      "text/plain": [
       "(2788, 8)"
      ]
     },
     "execution_count": 25,
     "metadata": {},
     "output_type": "execute_result"
    }
   ],
   "source": [
    "train_X_df.shape"
   ]
  },
  {
   "cell_type": "code",
   "execution_count": 26,
   "metadata": {},
   "outputs": [
    {
     "data": {
      "text/plain": [
       "(2788,)"
      ]
     },
     "execution_count": 26,
     "metadata": {},
     "output_type": "execute_result"
    }
   ],
   "source": [
    "train_y_sr.shape"
   ]
  },
  {
   "cell_type": "markdown",
   "metadata": {},
   "source": [
    "Tập validation"
   ]
  },
  {
   "cell_type": "code",
   "execution_count": 27,
   "metadata": {},
   "outputs": [
    {
     "data": {
      "text/plain": [
       "(929, 8)"
      ]
     },
     "execution_count": 27,
     "metadata": {},
     "output_type": "execute_result"
    }
   ],
   "source": [
    "val_X_df.shape"
   ]
  },
  {
   "cell_type": "code",
   "execution_count": 28,
   "metadata": {},
   "outputs": [
    {
     "data": {
      "text/plain": [
       "(929,)"
      ]
     },
     "execution_count": 28,
     "metadata": {},
     "output_type": "execute_result"
    }
   ],
   "source": [
    "val_y_sr.shape"
   ]
  },
  {
   "cell_type": "markdown",
   "metadata": {},
   "source": [
    "Tập test"
   ]
  },
  {
   "cell_type": "code",
   "execution_count": 29,
   "metadata": {},
   "outputs": [
    {
     "data": {
      "text/plain": [
       "(930, 8)"
      ]
     },
     "execution_count": 29,
     "metadata": {},
     "output_type": "execute_result"
    }
   ],
   "source": [
    "test_X_df.shape"
   ]
  },
  {
   "cell_type": "code",
   "execution_count": 30,
   "metadata": {},
   "outputs": [
    {
     "data": {
      "text/plain": [
       "(930,)"
      ]
     },
     "execution_count": 30,
     "metadata": {},
     "output_type": "execute_result"
    }
   ],
   "source": [
    "test_y_sr.shape"
   ]
  },
  {
   "cell_type": "markdown",
   "metadata": {},
   "source": [
    "# Quay lại bước khám phá dữ liệu (Tập huấn luyện)"
   ]
  },
  {
   "cell_type": "markdown",
   "metadata": {},
   "source": [
    "## Với mỗi cột có dữ liệu dạng số (numeric), các giá trị được phân bố như thế nào?  "
   ]
  },
  {
   "cell_type": "code",
   "execution_count": 31,
   "metadata": {},
   "outputs": [
    {
     "data": {
      "text/html": [
       "<div>\n",
       "<style scoped>\n",
       "    .dataframe tbody tr th:only-of-type {\n",
       "        vertical-align: middle;\n",
       "    }\n",
       "\n",
       "    .dataframe tbody tr th {\n",
       "        vertical-align: top;\n",
       "    }\n",
       "\n",
       "    .dataframe thead th {\n",
       "        text-align: right;\n",
       "    }\n",
       "</style>\n",
       "<table border=\"1\" class=\"dataframe\">\n",
       "  <thead>\n",
       "    <tr style=\"text-align: right;\">\n",
       "      <th></th>\n",
       "      <th>make</th>\n",
       "      <th>model</th>\n",
       "      <th>body style</th>\n",
       "      <th>year</th>\n",
       "      <th>mileage</th>\n",
       "      <th>engine</th>\n",
       "      <th>fuel type</th>\n",
       "      <th>number of owners</th>\n",
       "    </tr>\n",
       "  </thead>\n",
       "  <tbody>\n",
       "    <tr>\n",
       "      <th>3835</th>\n",
       "      <td>Toyota</td>\n",
       "      <td>Corolla</td>\n",
       "      <td>L CVT</td>\n",
       "      <td>2019</td>\n",
       "      <td>36937.0</td>\n",
       "      <td>1.8L Inline-4 Gas</td>\n",
       "      <td>Gas</td>\n",
       "      <td>2.0</td>\n",
       "    </tr>\n",
       "    <tr>\n",
       "      <th>968</th>\n",
       "      <td>Ford</td>\n",
       "      <td>Fusion</td>\n",
       "      <td>Energi Titanium FWD</td>\n",
       "      <td>2014</td>\n",
       "      <td>54054.0</td>\n",
       "      <td>2.0L Inline-4 Plug-In Hybrid</td>\n",
       "      <td>Plug-In Hybrid</td>\n",
       "      <td>2.0</td>\n",
       "    </tr>\n",
       "    <tr>\n",
       "      <th>1183</th>\n",
       "      <td>Ford</td>\n",
       "      <td>F-150</td>\n",
       "      <td>XL SuperCrew 6.5' Box RWD</td>\n",
       "      <td>2016</td>\n",
       "      <td>75062.0</td>\n",
       "      <td>2.7L V-6 Gas Turbocharged</td>\n",
       "      <td>Gas</td>\n",
       "      <td>1.0</td>\n",
       "    </tr>\n",
       "    <tr>\n",
       "      <th>384</th>\n",
       "      <td>Honda</td>\n",
       "      <td>Fit</td>\n",
       "      <td>LX CVT</td>\n",
       "      <td>2016</td>\n",
       "      <td>24070.0</td>\n",
       "      <td>1.5L Inline-4 Gas</td>\n",
       "      <td>Gas</td>\n",
       "      <td>3.0</td>\n",
       "    </tr>\n",
       "    <tr>\n",
       "      <th>2822</th>\n",
       "      <td>Mercedes-Benz</td>\n",
       "      <td>E-Class</td>\n",
       "      <td>E 300 Luxury 4MATIC Sedan</td>\n",
       "      <td>2017</td>\n",
       "      <td>54635.0</td>\n",
       "      <td>2.0L Inline-4 Gas Turbocharged</td>\n",
       "      <td>Gas</td>\n",
       "      <td>1.0</td>\n",
       "    </tr>\n",
       "  </tbody>\n",
       "</table>\n",
       "</div>"
      ],
      "text/plain": [
       "               make    model                 body style  year  mileage  \\\n",
       "3835         Toyota  Corolla                      L CVT  2019  36937.0   \n",
       "968            Ford   Fusion        Energi Titanium FWD  2014  54054.0   \n",
       "1183           Ford    F-150  XL SuperCrew 6.5' Box RWD  2016  75062.0   \n",
       "384           Honda      Fit                     LX CVT  2016  24070.0   \n",
       "2822  Mercedes-Benz  E-Class  E 300 Luxury 4MATIC Sedan  2017  54635.0   \n",
       "\n",
       "                              engine       fuel type  number of owners  \n",
       "3835               1.8L Inline-4 Gas             Gas               2.0  \n",
       "968     2.0L Inline-4 Plug-In Hybrid  Plug-In Hybrid               2.0  \n",
       "1183       2.7L V-6 Gas Turbocharged             Gas               1.0  \n",
       "384                1.5L Inline-4 Gas             Gas               3.0  \n",
       "2822  2.0L Inline-4 Gas Turbocharged             Gas               1.0  "
      ]
     },
     "execution_count": 31,
     "metadata": {},
     "output_type": "execute_result"
    }
   ],
   "source": [
    "train_X_df.head()"
   ]
  },
  {
   "cell_type": "code",
   "execution_count": 32,
   "metadata": {},
   "outputs": [
    {
     "data": {
      "text/html": [
       "<div>\n",
       "<style scoped>\n",
       "    .dataframe tbody tr th:only-of-type {\n",
       "        vertical-align: middle;\n",
       "    }\n",
       "\n",
       "    .dataframe tbody tr th {\n",
       "        vertical-align: top;\n",
       "    }\n",
       "\n",
       "    .dataframe thead th {\n",
       "        text-align: right;\n",
       "    }\n",
       "</style>\n",
       "<table border=\"1\" class=\"dataframe\">\n",
       "  <thead>\n",
       "    <tr style=\"text-align: right;\">\n",
       "      <th></th>\n",
       "      <th>year</th>\n",
       "      <th>mileage</th>\n",
       "      <th>number of owners</th>\n",
       "    </tr>\n",
       "  </thead>\n",
       "  <tbody>\n",
       "    <tr>\n",
       "      <th>count</th>\n",
       "      <td>2788.000000</td>\n",
       "      <td>2788.000000</td>\n",
       "      <td>2787.000000</td>\n",
       "    </tr>\n",
       "    <tr>\n",
       "      <th>mean</th>\n",
       "      <td>2016.507532</td>\n",
       "      <td>60744.702654</td>\n",
       "      <td>1.499103</td>\n",
       "    </tr>\n",
       "    <tr>\n",
       "      <th>std</th>\n",
       "      <td>2.284002</td>\n",
       "      <td>40917.086294</td>\n",
       "      <td>0.791816</td>\n",
       "    </tr>\n",
       "    <tr>\n",
       "      <th>min</th>\n",
       "      <td>2013.000000</td>\n",
       "      <td>5.000000</td>\n",
       "      <td>0.000000</td>\n",
       "    </tr>\n",
       "    <tr>\n",
       "      <th>25%</th>\n",
       "      <td>2014.000000</td>\n",
       "      <td>29219.500000</td>\n",
       "      <td>1.000000</td>\n",
       "    </tr>\n",
       "    <tr>\n",
       "      <th>50%</th>\n",
       "      <td>2017.000000</td>\n",
       "      <td>52173.000000</td>\n",
       "      <td>1.000000</td>\n",
       "    </tr>\n",
       "    <tr>\n",
       "      <th>75%</th>\n",
       "      <td>2019.000000</td>\n",
       "      <td>88003.750000</td>\n",
       "      <td>2.000000</td>\n",
       "    </tr>\n",
       "    <tr>\n",
       "      <th>max</th>\n",
       "      <td>2020.000000</td>\n",
       "      <td>257866.000000</td>\n",
       "      <td>6.000000</td>\n",
       "    </tr>\n",
       "  </tbody>\n",
       "</table>\n",
       "</div>"
      ],
      "text/plain": [
       "              year        mileage  number of owners\n",
       "count  2788.000000    2788.000000       2787.000000\n",
       "mean   2016.507532   60744.702654          1.499103\n",
       "std       2.284002   40917.086294          0.791816\n",
       "min    2013.000000       5.000000          0.000000\n",
       "25%    2014.000000   29219.500000          1.000000\n",
       "50%    2017.000000   52173.000000          1.000000\n",
       "75%    2019.000000   88003.750000          2.000000\n",
       "max    2020.000000  257866.000000          6.000000"
      ]
     },
     "execution_count": 32,
     "metadata": {},
     "output_type": "execute_result"
    }
   ],
   "source": [
    "train_X_df.describe()"
   ]
  },
  {
   "cell_type": "code",
   "execution_count": 33,
   "metadata": {},
   "outputs": [
    {
     "data": {
      "text/plain": [
       "make                 object\n",
       "model                object\n",
       "body style           object\n",
       "year                  int64\n",
       "mileage             float64\n",
       "engine               object\n",
       "fuel type            object\n",
       "number of owners    float64\n",
       "dtype: object"
      ]
     },
     "execution_count": 33,
     "metadata": {},
     "output_type": "execute_result"
    }
   ],
   "source": [
    "train_X_df.dtypes"
   ]
  },
  {
   "cell_type": "markdown",
   "metadata": {},
   "source": [
    "### Bảng mô tả"
   ]
  },
  {
   "cell_type": "code",
   "execution_count": 34,
   "metadata": {},
   "outputs": [
    {
     "data": {
      "text/html": [
       "<div>\n",
       "<style scoped>\n",
       "    .dataframe tbody tr th:only-of-type {\n",
       "        vertical-align: middle;\n",
       "    }\n",
       "\n",
       "    .dataframe tbody tr th {\n",
       "        vertical-align: top;\n",
       "    }\n",
       "\n",
       "    .dataframe thead th {\n",
       "        text-align: right;\n",
       "    }\n",
       "</style>\n",
       "<table border=\"1\" class=\"dataframe\">\n",
       "  <thead>\n",
       "    <tr style=\"text-align: right;\">\n",
       "      <th></th>\n",
       "      <th>year</th>\n",
       "      <th>mileage</th>\n",
       "      <th>number of owners</th>\n",
       "    </tr>\n",
       "  </thead>\n",
       "  <tbody>\n",
       "    <tr>\n",
       "      <th>missing_ratio</th>\n",
       "      <td>0.0</td>\n",
       "      <td>0.00</td>\n",
       "      <td>0.035868</td>\n",
       "    </tr>\n",
       "    <tr>\n",
       "      <th>min</th>\n",
       "      <td>2013.0</td>\n",
       "      <td>5.00</td>\n",
       "      <td>0.000000</td>\n",
       "    </tr>\n",
       "    <tr>\n",
       "      <th>lower_quartile</th>\n",
       "      <td>2014.0</td>\n",
       "      <td>29219.50</td>\n",
       "      <td>1.000000</td>\n",
       "    </tr>\n",
       "    <tr>\n",
       "      <th>median</th>\n",
       "      <td>2017.0</td>\n",
       "      <td>52173.00</td>\n",
       "      <td>1.000000</td>\n",
       "    </tr>\n",
       "    <tr>\n",
       "      <th>upper_quartile</th>\n",
       "      <td>2019.0</td>\n",
       "      <td>88003.75</td>\n",
       "      <td>2.000000</td>\n",
       "    </tr>\n",
       "    <tr>\n",
       "      <th>max</th>\n",
       "      <td>2020.0</td>\n",
       "      <td>257866.00</td>\n",
       "      <td>6.000000</td>\n",
       "    </tr>\n",
       "  </tbody>\n",
       "</table>\n",
       "</div>"
      ],
      "text/plain": [
       "                  year    mileage  number of owners\n",
       "missing_ratio      0.0       0.00          0.035868\n",
       "min             2013.0       5.00          0.000000\n",
       "lower_quartile  2014.0   29219.50          1.000000\n",
       "median          2017.0   52173.00          1.000000\n",
       "upper_quartile  2019.0   88003.75          2.000000\n",
       "max             2020.0  257866.00          6.000000"
      ]
     },
     "execution_count": 34,
     "metadata": {},
     "output_type": "execute_result"
    }
   ],
   "source": [
    "numeric_cols_df = train_X_df.select_dtypes(exclude = 'object')\n",
    "\n",
    "def missing_ratio(col):\n",
    "    return col.isna().mean() * 100\n",
    "\n",
    "def median(col):\n",
    "    return col.quantile(0.5)\n",
    "\n",
    "def lower_quartile(col):\n",
    "    return col.quantile(0.25)\n",
    "\n",
    "def upper_quartile(col):\n",
    "    return col.quantile(0.75)\n",
    "\n",
    "numeric_cols_df.agg([missing_ratio, min, lower_quartile, median, upper_quartile, max])"
   ]
  },
  {
   "cell_type": "markdown",
   "metadata": {},
   "source": [
    "Vẽ Histogram minh họa trực quan cho giá trị của từng cột"
   ]
  },
  {
   "cell_type": "markdown",
   "metadata": {},
   "source": [
    "### Biểu đồ histogram biểu thị mối liên hệ giữa: tổng số dặm và số lượng xe"
   ]
  },
  {
   "cell_type": "code",
   "execution_count": 35,
   "metadata": {},
   "outputs": [
    {
     "data": {
      "text/plain": [
       "Text(0, 0.5, 'Số xe')"
      ]
     },
     "execution_count": 35,
     "metadata": {},
     "output_type": "execute_result"
    },
    {
     "data": {
      "image/png": "[encoded data removed]",
      "text/plain": [
       "<Figure size 432x288 with 1 Axes>"
      ]
     },
     "metadata": {
      "needs_background": "light"
     },
     "output_type": "display_data"
    }
   ],
   "source": [
    "train_X_df['mileage'].plot.hist(bins = range(5, 260000, 5000), edgecolor = 'black')\n",
    "plt.xlabel('Tổng số dặm')\n",
    "plt.ylabel('Số xe')"
   ]
  },
  {
   "cell_type": "markdown",
   "metadata": {},
   "source": [
    "## Với mỗi cột có kiểu dữ liệu không phải dạng số (ở đây chủ yếu ta ám chỉ dạng categorical), các giá trị được phân bố như thế nào? "
   ]
  },
  {
   "cell_type": "markdown",
   "metadata": {},
   "source": [
    "### Bảng mô tả"
   ]
  },
  {
   "cell_type": "code",
   "execution_count": 36,
   "metadata": {},
   "outputs": [
    {
     "data": {
      "text/html": [
       "<div>\n",
       "<style scoped>\n",
       "    .dataframe tbody tr th:only-of-type {\n",
       "        vertical-align: middle;\n",
       "    }\n",
       "\n",
       "    .dataframe tbody tr th {\n",
       "        vertical-align: top;\n",
       "    }\n",
       "\n",
       "    .dataframe thead th {\n",
       "        text-align: right;\n",
       "    }\n",
       "</style>\n",
       "<table border=\"1\" class=\"dataframe\">\n",
       "  <thead>\n",
       "    <tr style=\"text-align: right;\">\n",
       "      <th></th>\n",
       "      <th>make</th>\n",
       "      <th>model</th>\n",
       "      <th>body style</th>\n",
       "      <th>engine</th>\n",
       "      <th>fuel type</th>\n",
       "    </tr>\n",
       "  </thead>\n",
       "  <tbody>\n",
       "    <tr>\n",
       "      <th>missing_ratio</th>\n",
       "      <td>0</td>\n",
       "      <td>0</td>\n",
       "      <td>0</td>\n",
       "      <td>0</td>\n",
       "      <td>0</td>\n",
       "    </tr>\n",
       "    <tr>\n",
       "      <th>nunique</th>\n",
       "      <td>6</td>\n",
       "      <td>99</td>\n",
       "      <td>619</td>\n",
       "      <td>53</td>\n",
       "      <td>7</td>\n",
       "    </tr>\n",
       "    <tr>\n",
       "      <th>value_counts</th>\n",
       "      <td>{'Toyota': 487, 'Mazda': 479, 'Hyundai': 478, 'Mercedes-Benz': 470, 'Ford': 448, 'Honda': 426}</td>\n",
       "      <td>{'CX-5': 220, 'Elantra': 193, 'Civic': 152, 'Corolla': 145, 'Mazda3': 134, 'C-Class': 129, 'Camry': 119, 'Sonata': 110, 'F-150': 103, 'Accord': 103, 'CR-V': 73, 'Fusion': 72, 'E-Class': 68, 'Tucson': 66, 'Mazda6': 66, 'Super Duty F-250': 60, 'RAV4': 57, 'GLC': 55, 'Focus': 37, 'Prius': 33, 'Escape': 33, 'Accent': 33, 'GLA': 32, 'GLE': 31, 'Edge': 30, 'Tacoma': 28, 'CX-9': 27, 'Odyssey': 26, 'Santa Fe': 26, 'Pilot': 25, 'Sienna': 25, 'Transit Passenger Wagon': 24, 'Santa Fe Sport': 24, 'CLA': 24, 'Explorer': 22, 'HR-V': 22, 'Super Duty F-350': 19, 'M-Class': 17, 'Fiesta': 16, 'Highlander': 16, 'S-Class': 15, '4Runner': 14, 'GLK': 14, 'Veloster': 13, 'GL': 13, 'Tundra': 12, 'CX-3': 11, 'A-Class': 10, 'Fit': 9, 'GLS': 9, 'Mazda5': 8, 'Avalon': 8, 'Mustang': 8, 'SL': 8, 'Prius c': 8, 'Metris Passenger Van': 7, 'Metris Cargo Van': 7, 'Ridgeline': 7, 'Sprinter Cargo Van': 6, 'GLB': 6, 'MX-5 Miata': 6, 'C-Max': 5, 'Mazda2': 5, 'Genesis Coupe': 5, 'Venza': 5, 'Insight': 4, 'Super Duty F-350 Chassis Cab': 4, 'Yaris': 4, 'B-Class': 3, 'SLK': 3, 'Passport': 3, 'G-Class': 3, 'Mirai': 3, 'Transit Cargo Van': 3, 'Expedition': 3, 'Taurus': 3, 'Sprinter Passenger Van': 3, 'Genesis': 3, 'Prius v': 3, 'CX-30': 2, 'Azera': 2, 'Kona': 2, 'CLS': 2, 'Transit Connect Van': 2, 'Econoline Commercial Cutaway': 2, 'Corolla iM': 2, 'Sprinter Chassis Cabs': 2, 'Yaris iA': 2, '86': 1, 'Equus': 1, 'Sprinter Crew Van': 1, 'C-HR': 1, 'CR-Z': 1, 'Prius Prime': 1, 'AMG GT': 1, 'SLC': 1, 'Ranger': 1, 'Clarity': 1, 'Transit Cutaway': 1}</td>\n",
       "      <td>{'LE CVT': 75, 'SE FWD': 65, 'LX Sedan CVT': 59, 'Touring FWD': 43, 'C 300 Sedan RWD': 40, 'SEL 2.0L IVT': 39, 'Grand Touring FWD': 38, 'XLT SuperCrew 5.5' Box 4WD': 33, 'Grand Touring AWD': 33, 'SE Sedan Automatic': 33, 'SE I4 Automatic': 31, 'C 300 4MATIC Sedan': 28, 'Touring Automatic': 26, 'Touring AWD': 25, 'SE 2.4L': 25, 'GLC 300 SUV RWD': 25, 'SE Sedan': 24, 'GLS Sedan Automatic': 24, 'SE AWD': 24, 'i Sport 4-Door Automatic': 22, 'SEL FWD': 22, 'Sport FWD': 22, 'Limited FWD': 21, 'SEL 2.0L Sedan Automatic': 20, 'E 350 4MATIC Luxury Sedan': 20, 'EX Sedan CVT': 20, 'Two': 19, 'Grand Touring AWD Automatic': 18, 'Sport 1.5T CVT': 18, 'L Automatic': 17, 'CLA 250 FWD': 17, 'EX AWD': 17, 'GLA 250 4MATIC': 17, 'E 350 Sport Sedan RWD': 17, 'Sport AWD': 17, 'i Touring 4-Door Automatic': 17, 'EX-L FWD': 16, 'LX Sedan I4 CVT': 16, 'C 250 Sport Sedan RWD': 16, 'EX-L AWD': 16, 'SE Hatchback': 16, 'Touring FWD Automatic': 15, 'C 300 4MATIC Sport Sedan': 15, 'i Touring Automatic': 15, 'LE I4 Automatic': 14, 'LX Sedan Automatic': 14, 'SE Automatic': 14, 'SEL 2.0L Automatic': 14, 'Standard Roof 126\" Wheelbase': 14, 'SE CVT': 14, 'Value Edition 2.0L Sedan Automatic': 14, 'GLE 350 SUV RWD': 14, 'EX-L': 14, 'GLA 250 FWD': 14, 'Touring AWD Automatic': 13, 'i Touring 5-Door Automatic': 13, 'GLC 300 RWD': 13, 'XLE AWD': 13, 'SE 2.0L Sedan Automatic': 12, 'EX-L Sedan I4 CVT': 12, 'Grand Touring FWD Automatic': 12, 'Titanium AWD': 12, 'LE FWD': 12, 'LX FWD': 12, '2014 SE I4 Automatic': 12, 'Four': 12, 'EX FWD': 12, 'Base 2.4L FWD': 11, 'i Grand Touring Automatic': 11, 'LE Automatic': 11, 'C 300 Sedan 4MATIC': 11, 'Touring 4-Door Automatic': 11, 'Sport Sedan CVT': 11, 'XLE FWD': 11, 'Sport Sedan I4 CVT': 11, 'EX-L Sedan CVT': 10, 'L CVT': 10, 'ML 350 4MATIC': 10, 'Sport Automatic': 10, 'Hybrid SE FWD': 10, 'XLE I4 Automatic': 10, 'Sport 2.4L': 10, 'Hybrid Limited 2.4L': 9, 'A 220 FWD': 9, 'GLS 2.4L Automatic': 9, 'Sport 4-Door Automatic': 9, 'XL SuperCrew 5.5' Box 4WD': 9, 'E 350 Sedan RWD': 8, 'SEL AWD': 8, 'Limited AWD': 8, 'Lariat SuperCrew 5.5' Box 4WD': 8, 'SE 2.0L Sedan Automatic (alt)': 8, 'Lariat 4WD Crew Cab 6.75' Box': 8, 'GLK 350 RWD': 8, 'GL 450 4MATIC': 8, 'SE 2.4L (PZEV)': 8, 'LE Auto Access Seat 7-Passenger FWD': 8, 'Limited 2.4L': 7, 'GT Hatchback Automatic': 7, 'S CVT': 6, ...}</td>\n",
       "      <td>{'2.5L Inline-4 Gas': 490, '2.0L Inline-4 Gas': 399, '2.0L Inline-4 Gas Turbocharged': 307, '3.5L V-6 Gas': 286, '1.8L Inline-4 Gas': 275, '2.4L Inline-4 Gas': 242, '1.5L Inline-4 Gas Turbocharged': 106, '6.2L V-8 Gas': 75, '1.6L Inline-4 Gas': 59, '1.6L Inline-4 Gas Turbocharged': 46, '3.7L V-6 Gas': 41, '3.5L V-6 Gas Turbocharged': 39, '1.8L Inline-4 Hybrid': 36, '5.0L V-8 Gas': 32, '3.0L V-6 Gas Turbocharged': 29, '1.8L Inline-4 Gas Turbocharged': 27, '2.0L Inline-4 Hybrid': 26, '3.3L V-6 Gas': 22, '2.5L Inline-4 Gas Turbocharged': 22, '1.5L Inline-4 Gas': 20, '2.7L V-6 Gas Turbocharged': 18, '1.5L Inline-4 Hybrid': 18, '4.0L V-6 Gas': 17, '2.5L Inline-4 Hybrid': 15, '4.7L V-8 Gas Turbocharged': 15, '2.7L Inline-4 Gas': 14, '2.4L Inline-4 Hybrid': 12, '3.0L V-6 Diesel Turbocharged': 10, '5.7L V-8 Gas': 9, '4.6L V-8 Gas Turbocharged': 8, '6.7L V-8 Diesel Turbocharged': 8, '5.5L V-8 Gas Turbocharged': 6, '2.0L Inline-4 Plug-In Hybrid': 6, '3.8L V-6 Gas': 6, '4.0L V-8 Gas Turbocharged': 5, 'L - Electric': 5, '2.3L Inline-4 Gas Turbocharged': 4, '5.0L V-8 Gas Turbocharged': 4, '6.0L V-12 Gas Turbocharged': 3, '5.0L V-8 Gas Twin-Turbo': 3, 'L - Hydrogen': 3, '2.1L Inline-4 Diesel Turbocharged': 3, '4.6L V-8 Gas': 3, '5.4L V-8 Gas': 2, '2.0L Inline-4 Hybrid Turbocharged': 2, '1.8L Inline-4 CNG': 2, '1.0L Inline-3 Gas Turbocharged': 2, '1.8L Inline-4 Plug-In Hybrid': 1, '2.0L V-4 Gas Turbocharged': 1, '2.0L Flat-4 Gas': 1, '2.2L Inline-4 Diesel Turbocharged': 1, '1.5L Inline-4 Plug-In Hybrid': 1, '5.5L V-8 Gas': 1}</td>\n",
       "      <td>{'Gas': 2639, 'Hybrid': 109, 'Diesel': 22, 'Plug-In Hybrid': 8, 'Electric': 5, 'Hydrogen': 3, 'CNG': 2}</td>\n",
       "    </tr>\n",
       "  </tbody>\n",
       "</table>\n",
       "</div>"
      ],
      "text/plain": [
       "                                                                                                         make  \\\n",
       "missing_ratio                                                                                               0   \n",
       "nunique                                                                                                     6   \n",
       "value_counts   {'Toyota': 487, 'Mazda': 479, 'Hyundai': 478, 'Mercedes-Benz': 470, 'Ford': 448, 'Honda': 426}   \n",
       "\n",
       "                                                                                                                                                                                                                                                                                                                                                                                                                                                                                                                                                                                                                                                                                                                                                                                                                                                                                                                                                                                                                                                                                                                                                                                                                                                                                                                                                                                                                                                                                                                                                                                               model  \\\n",
       "missing_ratio                                                                                                                                                                                                                                                                                                                                                                                                                                                                                                                                                                                                                                                                                                                                                                                                                                                                                                                                                                                                                                                                                                                                                                                                                                                                                                                                                                                                                                                                                                                                                                                      0   \n",
       "nunique                                                                                                                                                                                                                                                                                                                                                                                                                                                                                                                                                                                                                                                                                                                                                                                                                                                                                                                                                                                                                                                                                                                                                                                                                                                                                                                                                                                                                                                                                                                                                                                           99   \n",
       "value_counts   {'CX-5': 220, 'Elantra': 193, 'Civic': 152, 'Corolla': 145, 'Mazda3': 134, 'C-Class': 129, 'Camry': 119, 'Sonata': 110, 'F-150': 103, 'Accord': 103, 'CR-V': 73, 'Fusion': 72, 'E-Class': 68, 'Tucson': 66, 'Mazda6': 66, 'Super Duty F-250': 60, 'RAV4': 57, 'GLC': 55, 'Focus': 37, 'Prius': 33, 'Escape': 33, 'Accent': 33, 'GLA': 32, 'GLE': 31, 'Edge': 30, 'Tacoma': 28, 'CX-9': 27, 'Odyssey': 26, 'Santa Fe': 26, 'Pilot': 25, 'Sienna': 25, 'Transit Passenger Wagon': 24, 'Santa Fe Sport': 24, 'CLA': 24, 'Explorer': 22, 'HR-V': 22, 'Super Duty F-350': 19, 'M-Class': 17, 'Fiesta': 16, 'Highlander': 16, 'S-Class': 15, '4Runner': 14, 'GLK': 14, 'Veloster': 13, 'GL': 13, 'Tundra': 12, 'CX-3': 11, 'A-Class': 10, 'Fit': 9, 'GLS': 9, 'Mazda5': 8, 'Avalon': 8, 'Mustang': 8, 'SL': 8, 'Prius c': 8, 'Metris Passenger Van': 7, 'Metris Cargo Van': 7, 'Ridgeline': 7, 'Sprinter Cargo Van': 6, 'GLB': 6, 'MX-5 Miata': 6, 'C-Max': 5, 'Mazda2': 5, 'Genesis Coupe': 5, 'Venza': 5, 'Insight': 4, 'Super Duty F-350 Chassis Cab': 4, 'Yaris': 4, 'B-Class': 3, 'SLK': 3, 'Passport': 3, 'G-Class': 3, 'Mirai': 3, 'Transit Cargo Van': 3, 'Expedition': 3, 'Taurus': 3, 'Sprinter Passenger Van': 3, 'Genesis': 3, 'Prius v': 3, 'CX-30': 2, 'Azera': 2, 'Kona': 2, 'CLS': 2, 'Transit Connect Van': 2, 'Econoline Commercial Cutaway': 2, 'Corolla iM': 2, 'Sprinter Chassis Cabs': 2, 'Yaris iA': 2, '86': 1, 'Equus': 1, 'Sprinter Crew Van': 1, 'C-HR': 1, 'CR-Z': 1, 'Prius Prime': 1, 'AMG GT': 1, 'SLC': 1, 'Ranger': 1, 'Clarity': 1, 'Transit Cutaway': 1}   \n",
       "\n",
       "                                                                                                                                                                                                                                                                                                                                                                                                                                                                                                                                                                                                                                                                                                                                                                                                                                                                                                                                                                                                                                                                                                                                                                                                                                                                                                                                                                                                                                                                                                                                                                                                                                                                                                                                                                                                                                                                                                                                                                                                                                                                                                                                                                                                                                                                                                                                                                                                                body style  \\\n",
       "missing_ratio                                                                                                                                                                                                                                                                                                                                                                                                                                                                                                                                                                                                                                                                                                                                                                                                                                                                                                                                                                                                                                                                                                                                                                                                                                                                                                                                                                                                                                                                                                                                                                                                                                                                                                                                                                                                                                                                                                                                                                                                                                                                                                                                                                                                                                                                                                                                                                                                            0   \n",
       "nunique                                                                                                                                                                                                                                                                                                                                                                                                                                                                                                                                                                                                                                                                                                                                                                                                                                                                                                                                                                                                                                                                                                                                                                                                                                                                                                                                                                                                                                                                                                                                                                                                                                                                                                                                                                                                                                                                                                                                                                                                                                                                                                                                                                                                                                                                                                                                                                                                                619   \n",
       "value_counts   {'LE CVT': 75, 'SE FWD': 65, 'LX Sedan CVT': 59, 'Touring FWD': 43, 'C 300 Sedan RWD': 40, 'SEL 2.0L IVT': 39, 'Grand Touring FWD': 38, 'XLT SuperCrew 5.5' Box 4WD': 33, 'Grand Touring AWD': 33, 'SE Sedan Automatic': 33, 'SE I4 Automatic': 31, 'C 300 4MATIC Sedan': 28, 'Touring Automatic': 26, 'Touring AWD': 25, 'SE 2.4L': 25, 'GLC 300 SUV RWD': 25, 'SE Sedan': 24, 'GLS Sedan Automatic': 24, 'SE AWD': 24, 'i Sport 4-Door Automatic': 22, 'SEL FWD': 22, 'Sport FWD': 22, 'Limited FWD': 21, 'SEL 2.0L Sedan Automatic': 20, 'E 350 4MATIC Luxury Sedan': 20, 'EX Sedan CVT': 20, 'Two': 19, 'Grand Touring AWD Automatic': 18, 'Sport 1.5T CVT': 18, 'L Automatic': 17, 'CLA 250 FWD': 17, 'EX AWD': 17, 'GLA 250 4MATIC': 17, 'E 350 Sport Sedan RWD': 17, 'Sport AWD': 17, 'i Touring 4-Door Automatic': 17, 'EX-L FWD': 16, 'LX Sedan I4 CVT': 16, 'C 250 Sport Sedan RWD': 16, 'EX-L AWD': 16, 'SE Hatchback': 16, 'Touring FWD Automatic': 15, 'C 300 4MATIC Sport Sedan': 15, 'i Touring Automatic': 15, 'LE I4 Automatic': 14, 'LX Sedan Automatic': 14, 'SE Automatic': 14, 'SEL 2.0L Automatic': 14, 'Standard Roof 126\" Wheelbase': 14, 'SE CVT': 14, 'Value Edition 2.0L Sedan Automatic': 14, 'GLE 350 SUV RWD': 14, 'EX-L': 14, 'GLA 250 FWD': 14, 'Touring AWD Automatic': 13, 'i Touring 5-Door Automatic': 13, 'GLC 300 RWD': 13, 'XLE AWD': 13, 'SE 2.0L Sedan Automatic': 12, 'EX-L Sedan I4 CVT': 12, 'Grand Touring FWD Automatic': 12, 'Titanium AWD': 12, 'LE FWD': 12, 'LX FWD': 12, '2014 SE I4 Automatic': 12, 'Four': 12, 'EX FWD': 12, 'Base 2.4L FWD': 11, 'i Grand Touring Automatic': 11, 'LE Automatic': 11, 'C 300 Sedan 4MATIC': 11, 'Touring 4-Door Automatic': 11, 'Sport Sedan CVT': 11, 'XLE FWD': 11, 'Sport Sedan I4 CVT': 11, 'EX-L Sedan CVT': 10, 'L CVT': 10, 'ML 350 4MATIC': 10, 'Sport Automatic': 10, 'Hybrid SE FWD': 10, 'XLE I4 Automatic': 10, 'Sport 2.4L': 10, 'Hybrid Limited 2.4L': 9, 'A 220 FWD': 9, 'GLS 2.4L Automatic': 9, 'Sport 4-Door Automatic': 9, 'XL SuperCrew 5.5' Box 4WD': 9, 'E 350 Sedan RWD': 8, 'SEL AWD': 8, 'Limited AWD': 8, 'Lariat SuperCrew 5.5' Box 4WD': 8, 'SE 2.0L Sedan Automatic (alt)': 8, 'Lariat 4WD Crew Cab 6.75' Box': 8, 'GLK 350 RWD': 8, 'GL 450 4MATIC': 8, 'SE 2.4L (PZEV)': 8, 'LE Auto Access Seat 7-Passenger FWD': 8, 'Limited 2.4L': 7, 'GT Hatchback Automatic': 7, 'S CVT': 6, ...}   \n",
       "\n",
       "                                                                                                                                                                                                                                                                                                                                                                                                                                                                                                                                                                                                                                                                                                                                                                                                                                                                                                                                                                                                                                                                                                                                                                                                                                                                                                                                                                                                                                                                                                                                                                                                         engine  \\\n",
       "missing_ratio                                                                                                                                                                                                                                                                                                                                                                                                                                                                                                                                                                                                                                                                                                                                                                                                                                                                                                                                                                                                                                                                                                                                                                                                                                                                                                                                                                                                                                                                                                                                                                                                 0   \n",
       "nunique                                                                                                                                                                                                                                                                                                                                                                                                                                                                                                                                                                                                                                                                                                                                                                                                                                                                                                                                                                                                                                                                                                                                                                                                                                                                                                                                                                                                                                                                                                                                                                                                      53   \n",
       "value_counts   {'2.5L Inline-4 Gas': 490, '2.0L Inline-4 Gas': 399, '2.0L Inline-4 Gas Turbocharged': 307, '3.5L V-6 Gas': 286, '1.8L Inline-4 Gas': 275, '2.4L Inline-4 Gas': 242, '1.5L Inline-4 Gas Turbocharged': 106, '6.2L V-8 Gas': 75, '1.6L Inline-4 Gas': 59, '1.6L Inline-4 Gas Turbocharged': 46, '3.7L V-6 Gas': 41, '3.5L V-6 Gas Turbocharged': 39, '1.8L Inline-4 Hybrid': 36, '5.0L V-8 Gas': 32, '3.0L V-6 Gas Turbocharged': 29, '1.8L Inline-4 Gas Turbocharged': 27, '2.0L Inline-4 Hybrid': 26, '3.3L V-6 Gas': 22, '2.5L Inline-4 Gas Turbocharged': 22, '1.5L Inline-4 Gas': 20, '2.7L V-6 Gas Turbocharged': 18, '1.5L Inline-4 Hybrid': 18, '4.0L V-6 Gas': 17, '2.5L Inline-4 Hybrid': 15, '4.7L V-8 Gas Turbocharged': 15, '2.7L Inline-4 Gas': 14, '2.4L Inline-4 Hybrid': 12, '3.0L V-6 Diesel Turbocharged': 10, '5.7L V-8 Gas': 9, '4.6L V-8 Gas Turbocharged': 8, '6.7L V-8 Diesel Turbocharged': 8, '5.5L V-8 Gas Turbocharged': 6, '2.0L Inline-4 Plug-In Hybrid': 6, '3.8L V-6 Gas': 6, '4.0L V-8 Gas Turbocharged': 5, 'L - Electric': 5, '2.3L Inline-4 Gas Turbocharged': 4, '5.0L V-8 Gas Turbocharged': 4, '6.0L V-12 Gas Turbocharged': 3, '5.0L V-8 Gas Twin-Turbo': 3, 'L - Hydrogen': 3, '2.1L Inline-4 Diesel Turbocharged': 3, '4.6L V-8 Gas': 3, '5.4L V-8 Gas': 2, '2.0L Inline-4 Hybrid Turbocharged': 2, '1.8L Inline-4 CNG': 2, '1.0L Inline-3 Gas Turbocharged': 2, '1.8L Inline-4 Plug-In Hybrid': 1, '2.0L V-4 Gas Turbocharged': 1, '2.0L Flat-4 Gas': 1, '2.2L Inline-4 Diesel Turbocharged': 1, '1.5L Inline-4 Plug-In Hybrid': 1, '5.5L V-8 Gas': 1}   \n",
       "\n",
       "                                                                                                             fuel type  \n",
       "missing_ratio                                                                                                        0  \n",
       "nunique                                                                                                              7  \n",
       "value_counts   {'Gas': 2639, 'Hybrid': 109, 'Diesel': 22, 'Plug-In Hybrid': 8, 'Electric': 5, 'Hydrogen': 3, 'CNG': 2}  "
      ]
     },
     "execution_count": 36,
     "metadata": {},
     "output_type": "execute_result"
    }
   ],
   "source": [
    "cate_cols_df = train_X_df.select_dtypes(include = 'object')\n",
    "\n",
    "def value_counts(col):\n",
    "    return dict(col.value_counts())\n",
    "\n",
    "# tỉ lệ giá trị thiếu, số lượng giá trị duy nhất, thống kê giá trị duy nhất\n",
    "category_stat = cate_cols_df.agg([missing_ratio, pd.Series.nunique, value_counts])\n",
    "pd.set_option('display.max_colwidth', 10000)\n",
    "category_stat"
   ]
  },
  {
   "cell_type": "markdown",
   "metadata": {},
   "source": [
    "### Biểu đồ bar chart thể hiện số lượng xe của từng hãng"
   ]
  },
  {
   "cell_type": "code",
   "execution_count": 37,
   "metadata": {},
   "outputs": [
    {
     "data": {
      "text/plain": [
       "Text(0.5, 0, 'Số xe')"
      ]
     },
     "execution_count": 37,
     "metadata": {},
     "output_type": "execute_result"
    },
    {
     "data": {
      "image/png": "[encoded data removed]",
      "text/plain": [
       "<Figure size 432x288 with 1 Axes>"
      ]
     },
     "metadata": {
      "needs_background": "light"
     },
     "output_type": "display_data"
    }
   ],
   "source": [
    "train_X_df['make'].value_counts().plot.barh()\n",
    "plt.xlabel('Số xe')"
   ]
  },
  {
   "cell_type": "markdown",
   "metadata": {},
   "source": [
    "### Biểu đồ bar chart thể hiện mỗi quan hệ giữa: loại nhiên liệu và số lượng xe"
   ]
  },
  {
   "cell_type": "code",
   "execution_count": 38,
   "metadata": {},
   "outputs": [
    {
     "data": {
      "text/plain": [
       "Text(0.5, 0, 'Số xe')"
      ]
     },
     "execution_count": 38,
     "metadata": {},
     "output_type": "execute_result"
    },
    {
     "data": {
      "image/png": "[encoded data removed]",
      "text/plain": [
       "<Figure size 432x288 with 1 Axes>"
      ]
     },
     "metadata": {
      "needs_background": "light"
     },
     "output_type": "display_data"
    }
   ],
   "source": [
    "train_X_df['fuel type'].value_counts().plot.barh()\n",
    "plt.xlabel('Số xe')"
   ]
  },
  {
   "cell_type": "markdown",
   "metadata": {},
   "source": [
    "# Tiền xử lý (Tập huấn luyện)"
   ]
  },
  {
   "cell_type": "markdown",
   "metadata": {},
   "source": [
    "- Xóa cột \"body style\"\n",
    "- Giảm sự phức tạp của cột engine bằng cách chỉ lấy thông số lít(L) của động cơ\n",
    "- Xử lý giá trị thiếu ở các cột\n",
    "- Cột Xử lý cột \"number of owners\"\n",
    "- Cột \"number of owners\" có giá trị min = 0 - nghĩa là xe cũ nhưng vẫn chưa có chủ sở hữu --> không phù hợp với tiêu chí thực hiện của. Chúng ta đang dự đoán giá xe mà đã qua sử dụng\n",
    "--> Giá trị trong cột \"number of owners\" mà bằng 0 thì ta sẽ gán cho nó = 1"
   ]
  },
  {
   "cell_type": "markdown",
   "metadata": {},
   "source": [
    "Ta thấy cột **\"body style\"** có quá nhiều giá trị có thể xảy ra nên có thể dẫn đến phức tạp cho mô hình dự đoán, ta phải xử lý nó bằng cách:\n",
    "* Xóa cột đó khỏi dataframe, ta không dự đoán giá trị chiếc xe trên thuộc tính **\"body style\"** nữa"
   ]
  },
  {
   "cell_type": "code",
   "execution_count": 39,
   "metadata": {},
   "outputs": [
    {
     "data": {
      "text/html": [
       "<div>\n",
       "<style scoped>\n",
       "    .dataframe tbody tr th:only-of-type {\n",
       "        vertical-align: middle;\n",
       "    }\n",
       "\n",
       "    .dataframe tbody tr th {\n",
       "        vertical-align: top;\n",
       "    }\n",
       "\n",
       "    .dataframe thead th {\n",
       "        text-align: right;\n",
       "    }\n",
       "</style>\n",
       "<table border=\"1\" class=\"dataframe\">\n",
       "  <thead>\n",
       "    <tr style=\"text-align: right;\">\n",
       "      <th></th>\n",
       "      <th>make</th>\n",
       "      <th>model</th>\n",
       "      <th>year</th>\n",
       "      <th>mileage</th>\n",
       "      <th>engine</th>\n",
       "      <th>fuel type</th>\n",
       "      <th>number of owners</th>\n",
       "    </tr>\n",
       "  </thead>\n",
       "  <tbody>\n",
       "    <tr>\n",
       "      <th>3835</th>\n",
       "      <td>Toyota</td>\n",
       "      <td>Corolla</td>\n",
       "      <td>2019</td>\n",
       "      <td>36937.0</td>\n",
       "      <td>1.8L Inline-4 Gas</td>\n",
       "      <td>Gas</td>\n",
       "      <td>2.0</td>\n",
       "    </tr>\n",
       "    <tr>\n",
       "      <th>968</th>\n",
       "      <td>Ford</td>\n",
       "      <td>Fusion</td>\n",
       "      <td>2014</td>\n",
       "      <td>54054.0</td>\n",
       "      <td>2.0L Inline-4 Plug-In Hybrid</td>\n",
       "      <td>Plug-In Hybrid</td>\n",
       "      <td>2.0</td>\n",
       "    </tr>\n",
       "    <tr>\n",
       "      <th>1183</th>\n",
       "      <td>Ford</td>\n",
       "      <td>F-150</td>\n",
       "      <td>2016</td>\n",
       "      <td>75062.0</td>\n",
       "      <td>2.7L V-6 Gas Turbocharged</td>\n",
       "      <td>Gas</td>\n",
       "      <td>1.0</td>\n",
       "    </tr>\n",
       "    <tr>\n",
       "      <th>384</th>\n",
       "      <td>Honda</td>\n",
       "      <td>Fit</td>\n",
       "      <td>2016</td>\n",
       "      <td>24070.0</td>\n",
       "      <td>1.5L Inline-4 Gas</td>\n",
       "      <td>Gas</td>\n",
       "      <td>3.0</td>\n",
       "    </tr>\n",
       "    <tr>\n",
       "      <th>2822</th>\n",
       "      <td>Mercedes-Benz</td>\n",
       "      <td>E-Class</td>\n",
       "      <td>2017</td>\n",
       "      <td>54635.0</td>\n",
       "      <td>2.0L Inline-4 Gas Turbocharged</td>\n",
       "      <td>Gas</td>\n",
       "      <td>1.0</td>\n",
       "    </tr>\n",
       "    <tr>\n",
       "      <th>...</th>\n",
       "      <td>...</td>\n",
       "      <td>...</td>\n",
       "      <td>...</td>\n",
       "      <td>...</td>\n",
       "      <td>...</td>\n",
       "      <td>...</td>\n",
       "      <td>...</td>\n",
       "    </tr>\n",
       "    <tr>\n",
       "      <th>4577</th>\n",
       "      <td>Mazda</td>\n",
       "      <td>Mazda3</td>\n",
       "      <td>2018</td>\n",
       "      <td>44759.0</td>\n",
       "      <td>2.0L Inline-4 Gas</td>\n",
       "      <td>Gas</td>\n",
       "      <td>1.0</td>\n",
       "    </tr>\n",
       "    <tr>\n",
       "      <th>508</th>\n",
       "      <td>Honda</td>\n",
       "      <td>Civic</td>\n",
       "      <td>2018</td>\n",
       "      <td>37587.0</td>\n",
       "      <td>2.0L Inline-4 Gas</td>\n",
       "      <td>Gas</td>\n",
       "      <td>1.0</td>\n",
       "    </tr>\n",
       "    <tr>\n",
       "      <th>3234</th>\n",
       "      <td>Toyota</td>\n",
       "      <td>Avalon</td>\n",
       "      <td>2013</td>\n",
       "      <td>132751.0</td>\n",
       "      <td>3.5L V-6 Gas</td>\n",
       "      <td>Gas</td>\n",
       "      <td>1.0</td>\n",
       "    </tr>\n",
       "    <tr>\n",
       "      <th>3916</th>\n",
       "      <td>Toyota</td>\n",
       "      <td>Camry</td>\n",
       "      <td>2020</td>\n",
       "      <td>27133.0</td>\n",
       "      <td>2.5L Inline-4 Gas</td>\n",
       "      <td>Gas</td>\n",
       "      <td>1.0</td>\n",
       "    </tr>\n",
       "    <tr>\n",
       "      <th>944</th>\n",
       "      <td>Ford</td>\n",
       "      <td>Focus</td>\n",
       "      <td>2014</td>\n",
       "      <td>131315.0</td>\n",
       "      <td>2.0L Inline-4 Gas</td>\n",
       "      <td>Gas</td>\n",
       "      <td>2.0</td>\n",
       "    </tr>\n",
       "  </tbody>\n",
       "</table>\n",
       "<p>2788 rows × 7 columns</p>\n",
       "</div>"
      ],
      "text/plain": [
       "               make    model  year   mileage                          engine  \\\n",
       "3835         Toyota  Corolla  2019   36937.0               1.8L Inline-4 Gas   \n",
       "968            Ford   Fusion  2014   54054.0    2.0L Inline-4 Plug-In Hybrid   \n",
       "1183           Ford    F-150  2016   75062.0       2.7L V-6 Gas Turbocharged   \n",
       "384           Honda      Fit  2016   24070.0               1.5L Inline-4 Gas   \n",
       "2822  Mercedes-Benz  E-Class  2017   54635.0  2.0L Inline-4 Gas Turbocharged   \n",
       "...             ...      ...   ...       ...                             ...   \n",
       "4577          Mazda   Mazda3  2018   44759.0               2.0L Inline-4 Gas   \n",
       "508           Honda    Civic  2018   37587.0               2.0L Inline-4 Gas   \n",
       "3234         Toyota   Avalon  2013  132751.0                    3.5L V-6 Gas   \n",
       "3916         Toyota    Camry  2020   27133.0               2.5L Inline-4 Gas   \n",
       "944            Ford    Focus  2014  131315.0               2.0L Inline-4 Gas   \n",
       "\n",
       "           fuel type  number of owners  \n",
       "3835             Gas               2.0  \n",
       "968   Plug-In Hybrid               2.0  \n",
       "1183             Gas               1.0  \n",
       "384              Gas               3.0  \n",
       "2822             Gas               1.0  \n",
       "...              ...               ...  \n",
       "4577             Gas               1.0  \n",
       "508              Gas               1.0  \n",
       "3234             Gas               1.0  \n",
       "3916             Gas               1.0  \n",
       "944              Gas               2.0  \n",
       "\n",
       "[2788 rows x 7 columns]"
      ]
     },
     "execution_count": 39,
     "metadata": {},
     "output_type": "execute_result"
    }
   ],
   "source": [
    "# bỏ cột \"body style\"\n",
    "train_X_df = train_X_df.drop(columns = ['body style'], axis = 1)\n",
    "train_X_df"
   ]
  },
  {
   "cell_type": "code",
   "execution_count": 40,
   "metadata": {},
   "outputs": [
    {
     "data": {
      "text/html": [
       "<div>\n",
       "<style scoped>\n",
       "    .dataframe tbody tr th:only-of-type {\n",
       "        vertical-align: middle;\n",
       "    }\n",
       "\n",
       "    .dataframe tbody tr th {\n",
       "        vertical-align: top;\n",
       "    }\n",
       "\n",
       "    .dataframe thead th {\n",
       "        text-align: right;\n",
       "    }\n",
       "</style>\n",
       "<table border=\"1\" class=\"dataframe\">\n",
       "  <thead>\n",
       "    <tr style=\"text-align: right;\">\n",
       "      <th></th>\n",
       "      <th>make</th>\n",
       "      <th>model</th>\n",
       "      <th>year</th>\n",
       "      <th>mileage</th>\n",
       "      <th>engine</th>\n",
       "      <th>fuel type</th>\n",
       "      <th>number of owners</th>\n",
       "    </tr>\n",
       "  </thead>\n",
       "  <tbody>\n",
       "    <tr>\n",
       "      <th>3835</th>\n",
       "      <td>Toyota</td>\n",
       "      <td>Corolla</td>\n",
       "      <td>2019</td>\n",
       "      <td>36937.0</td>\n",
       "      <td>1.8</td>\n",
       "      <td>Gas</td>\n",
       "      <td>2.0</td>\n",
       "    </tr>\n",
       "    <tr>\n",
       "      <th>968</th>\n",
       "      <td>Ford</td>\n",
       "      <td>Fusion</td>\n",
       "      <td>2014</td>\n",
       "      <td>54054.0</td>\n",
       "      <td>2.0</td>\n",
       "      <td>Plug-In Hybrid</td>\n",
       "      <td>2.0</td>\n",
       "    </tr>\n",
       "    <tr>\n",
       "      <th>1183</th>\n",
       "      <td>Ford</td>\n",
       "      <td>F-150</td>\n",
       "      <td>2016</td>\n",
       "      <td>75062.0</td>\n",
       "      <td>2.7</td>\n",
       "      <td>Gas</td>\n",
       "      <td>1.0</td>\n",
       "    </tr>\n",
       "    <tr>\n",
       "      <th>384</th>\n",
       "      <td>Honda</td>\n",
       "      <td>Fit</td>\n",
       "      <td>2016</td>\n",
       "      <td>24070.0</td>\n",
       "      <td>1.5</td>\n",
       "      <td>Gas</td>\n",
       "      <td>3.0</td>\n",
       "    </tr>\n",
       "    <tr>\n",
       "      <th>2822</th>\n",
       "      <td>Mercedes-Benz</td>\n",
       "      <td>E-Class</td>\n",
       "      <td>2017</td>\n",
       "      <td>54635.0</td>\n",
       "      <td>2.0</td>\n",
       "      <td>Gas</td>\n",
       "      <td>1.0</td>\n",
       "    </tr>\n",
       "    <tr>\n",
       "      <th>...</th>\n",
       "      <td>...</td>\n",
       "      <td>...</td>\n",
       "      <td>...</td>\n",
       "      <td>...</td>\n",
       "      <td>...</td>\n",
       "      <td>...</td>\n",
       "      <td>...</td>\n",
       "    </tr>\n",
       "    <tr>\n",
       "      <th>4577</th>\n",
       "      <td>Mazda</td>\n",
       "      <td>Mazda3</td>\n",
       "      <td>2018</td>\n",
       "      <td>44759.0</td>\n",
       "      <td>2.0</td>\n",
       "      <td>Gas</td>\n",
       "      <td>1.0</td>\n",
       "    </tr>\n",
       "    <tr>\n",
       "      <th>508</th>\n",
       "      <td>Honda</td>\n",
       "      <td>Civic</td>\n",
       "      <td>2018</td>\n",
       "      <td>37587.0</td>\n",
       "      <td>2.0</td>\n",
       "      <td>Gas</td>\n",
       "      <td>1.0</td>\n",
       "    </tr>\n",
       "    <tr>\n",
       "      <th>3234</th>\n",
       "      <td>Toyota</td>\n",
       "      <td>Avalon</td>\n",
       "      <td>2013</td>\n",
       "      <td>132751.0</td>\n",
       "      <td>3.5</td>\n",
       "      <td>Gas</td>\n",
       "      <td>1.0</td>\n",
       "    </tr>\n",
       "    <tr>\n",
       "      <th>3916</th>\n",
       "      <td>Toyota</td>\n",
       "      <td>Camry</td>\n",
       "      <td>2020</td>\n",
       "      <td>27133.0</td>\n",
       "      <td>2.5</td>\n",
       "      <td>Gas</td>\n",
       "      <td>1.0</td>\n",
       "    </tr>\n",
       "    <tr>\n",
       "      <th>944</th>\n",
       "      <td>Ford</td>\n",
       "      <td>Focus</td>\n",
       "      <td>2014</td>\n",
       "      <td>131315.0</td>\n",
       "      <td>2.0</td>\n",
       "      <td>Gas</td>\n",
       "      <td>2.0</td>\n",
       "    </tr>\n",
       "  </tbody>\n",
       "</table>\n",
       "<p>2788 rows × 7 columns</p>\n",
       "</div>"
      ],
      "text/plain": [
       "               make    model  year   mileage  engine       fuel type  \\\n",
       "3835         Toyota  Corolla  2019   36937.0     1.8             Gas   \n",
       "968            Ford   Fusion  2014   54054.0     2.0  Plug-In Hybrid   \n",
       "1183           Ford    F-150  2016   75062.0     2.7             Gas   \n",
       "384           Honda      Fit  2016   24070.0     1.5             Gas   \n",
       "2822  Mercedes-Benz  E-Class  2017   54635.0     2.0             Gas   \n",
       "...             ...      ...   ...       ...     ...             ...   \n",
       "4577          Mazda   Mazda3  2018   44759.0     2.0             Gas   \n",
       "508           Honda    Civic  2018   37587.0     2.0             Gas   \n",
       "3234         Toyota   Avalon  2013  132751.0     3.5             Gas   \n",
       "3916         Toyota    Camry  2020   27133.0     2.5             Gas   \n",
       "944            Ford    Focus  2014  131315.0     2.0             Gas   \n",
       "\n",
       "      number of owners  \n",
       "3835               2.0  \n",
       "968                2.0  \n",
       "1183               1.0  \n",
       "384                3.0  \n",
       "2822               1.0  \n",
       "...                ...  \n",
       "4577               1.0  \n",
       "508                1.0  \n",
       "3234               1.0  \n",
       "3916               1.0  \n",
       "944                2.0  \n",
       "\n",
       "[2788 rows x 7 columns]"
      ]
     },
     "execution_count": 40,
     "metadata": {},
     "output_type": "execute_result"
    }
   ],
   "source": [
    "# lấy thông số lít và chuyển nó sang kiểu số thực\n",
    "train_X_df['engine'] = train_X_df['engine'].str.extract(r'(\\d+.\\d+L)')\n",
    "train_X_df['engine'] = train_X_df['engine'].str.replace('L', '').astype(float)\n",
    "train_X_df"
   ]
  },
  {
   "cell_type": "code",
   "execution_count": 42,
   "metadata": {},
   "outputs": [
    {
     "data": {
      "text/plain": [
       "make                 object\n",
       "model                object\n",
       "year                  int64\n",
       "mileage             float64\n",
       "engine              float64\n",
       "fuel type            object\n",
       "number of owners    float64\n",
       "dtype: object"
      ]
     },
     "execution_count": 42,
     "metadata": {},
     "output_type": "execute_result"
    }
   ],
   "source": [
    "train_X_df.dtypes"
   ]
  },
  {
   "cell_type": "code",
   "execution_count": 41,
   "metadata": {},
   "outputs": [],
   "source": [
    "# Đưa vào class ColAdderDropper"
   ]
  }
 ],
 "metadata": {
  "kernelspec": {
   "display_name": "Python 3",
   "language": "python",
   "name": "python3"
  },
  "language_info": {
   "codemirror_mode": {
    "name": "ipython",
    "version": 3
   },
   "file_extension": ".py",
   "mimetype": "text/x-python",
   "name": "python",
   "nbconvert_exporter": "python",
   "pygments_lexer": "ipython3",
   "version": "3.8.3"
  },
  "toc": {
   "base_numbering": 1,
   "nav_menu": {},
   "number_sections": true,
   "sideBar": true,
   "skip_h1_title": false,
   "title_cell": "Table of Contents",
   "title_sidebar": "Contents",
   "toc_cell": false,
   "toc_position": {
    "height": "calc(100% - 180px)",
    "left": "10px",
    "top": "150px",
    "width": "231.533px"
   },
   "toc_section_display": true,
   "toc_window_display": true
  }
 },
 "nbformat": 4,
 "nbformat_minor": 4
}
